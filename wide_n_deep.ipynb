{
 "cells": [
  {
   "cell_type": "code",
   "execution_count": 1,
   "metadata": {
    "id": "r8wvAizjhRQt"
   },
   "outputs": [
    {
     "name": "stderr",
     "output_type": "stream",
     "text": [
      "C:\\Users\\inump\\anaconda3\\lib\\site-packages\\tensorflow\\python\\framework\\dtypes.py:516: FutureWarning: Passing (type, 1) or '1type' as a synonym of type is deprecated; in a future version of numpy, it will be understood as (type, (1,)) / '(1,)type'.\n",
      "  _np_qint8 = np.dtype([(\"qint8\", np.int8, 1)])\n",
      "C:\\Users\\inump\\anaconda3\\lib\\site-packages\\tensorflow\\python\\framework\\dtypes.py:517: FutureWarning: Passing (type, 1) or '1type' as a synonym of type is deprecated; in a future version of numpy, it will be understood as (type, (1,)) / '(1,)type'.\n",
      "  _np_quint8 = np.dtype([(\"quint8\", np.uint8, 1)])\n",
      "C:\\Users\\inump\\anaconda3\\lib\\site-packages\\tensorflow\\python\\framework\\dtypes.py:518: FutureWarning: Passing (type, 1) or '1type' as a synonym of type is deprecated; in a future version of numpy, it will be understood as (type, (1,)) / '(1,)type'.\n",
      "  _np_qint16 = np.dtype([(\"qint16\", np.int16, 1)])\n",
      "C:\\Users\\inump\\anaconda3\\lib\\site-packages\\tensorflow\\python\\framework\\dtypes.py:519: FutureWarning: Passing (type, 1) or '1type' as a synonym of type is deprecated; in a future version of numpy, it will be understood as (type, (1,)) / '(1,)type'.\n",
      "  _np_quint16 = np.dtype([(\"quint16\", np.uint16, 1)])\n",
      "C:\\Users\\inump\\anaconda3\\lib\\site-packages\\tensorflow\\python\\framework\\dtypes.py:520: FutureWarning: Passing (type, 1) or '1type' as a synonym of type is deprecated; in a future version of numpy, it will be understood as (type, (1,)) / '(1,)type'.\n",
      "  _np_qint32 = np.dtype([(\"qint32\", np.int32, 1)])\n",
      "C:\\Users\\inump\\anaconda3\\lib\\site-packages\\tensorflow\\python\\framework\\dtypes.py:525: FutureWarning: Passing (type, 1) or '1type' as a synonym of type is deprecated; in a future version of numpy, it will be understood as (type, (1,)) / '(1,)type'.\n",
      "  np_resource = np.dtype([(\"resource\", np.ubyte, 1)])\n",
      "C:\\Users\\inump\\anaconda3\\lib\\site-packages\\tensorboard\\compat\\tensorflow_stub\\dtypes.py:541: FutureWarning: Passing (type, 1) or '1type' as a synonym of type is deprecated; in a future version of numpy, it will be understood as (type, (1,)) / '(1,)type'.\n",
      "  _np_qint8 = np.dtype([(\"qint8\", np.int8, 1)])\n",
      "C:\\Users\\inump\\anaconda3\\lib\\site-packages\\tensorboard\\compat\\tensorflow_stub\\dtypes.py:542: FutureWarning: Passing (type, 1) or '1type' as a synonym of type is deprecated; in a future version of numpy, it will be understood as (type, (1,)) / '(1,)type'.\n",
      "  _np_quint8 = np.dtype([(\"quint8\", np.uint8, 1)])\n",
      "C:\\Users\\inump\\anaconda3\\lib\\site-packages\\tensorboard\\compat\\tensorflow_stub\\dtypes.py:543: FutureWarning: Passing (type, 1) or '1type' as a synonym of type is deprecated; in a future version of numpy, it will be understood as (type, (1,)) / '(1,)type'.\n",
      "  _np_qint16 = np.dtype([(\"qint16\", np.int16, 1)])\n",
      "C:\\Users\\inump\\anaconda3\\lib\\site-packages\\tensorboard\\compat\\tensorflow_stub\\dtypes.py:544: FutureWarning: Passing (type, 1) or '1type' as a synonym of type is deprecated; in a future version of numpy, it will be understood as (type, (1,)) / '(1,)type'.\n",
      "  _np_quint16 = np.dtype([(\"quint16\", np.uint16, 1)])\n",
      "C:\\Users\\inump\\anaconda3\\lib\\site-packages\\tensorboard\\compat\\tensorflow_stub\\dtypes.py:545: FutureWarning: Passing (type, 1) or '1type' as a synonym of type is deprecated; in a future version of numpy, it will be understood as (type, (1,)) / '(1,)type'.\n",
      "  _np_qint32 = np.dtype([(\"qint32\", np.int32, 1)])\n",
      "C:\\Users\\inump\\anaconda3\\lib\\site-packages\\tensorboard\\compat\\tensorflow_stub\\dtypes.py:550: FutureWarning: Passing (type, 1) or '1type' as a synonym of type is deprecated; in a future version of numpy, it will be understood as (type, (1,)) / '(1,)type'.\n",
      "  np_resource = np.dtype([(\"resource\", np.ubyte, 1)])\n"
     ]
    }
   ],
   "source": [
    "import numpy as np\n",
    "import pandas as pd\n",
    "import tensorflow as tf\n",
    "from math import sqrt\n",
    "import holidays\n",
    "from sklearn.preprocessing import LabelEncoder, MinMaxScaler\n",
    "from sklearn.model_selection import train_test_split\n",
    "from sklearn.metrics import mean_squared_error,r2_score\n",
    "from sklearn.metrics import mean_absolute_error\n",
    "from tensorflow.python.keras.models import Model\n",
    "from tensorflow.python.keras.layers import Dense\n",
    "from deepctr.models import WDL\n",
    "from deepctr.feature_column import SparseFeat, DenseFeat,get_feature_names\n",
    "from sklearn.model_selection import RandomizedSearchCV\n",
    "from scipy.sparse import csr_matrix\n",
    "from scipy.sparse import coo_matrix\n",
    "import implicit"
   ]
  },
  {
   "cell_type": "code",
   "execution_count": 3,
   "metadata": {
    "id": "kzqBSIBvg2sf"
   },
   "outputs": [],
   "source": [
    "train_df = pd.read_csv('./dataset/train.csv', sep=',', nrows=100000)"
   ]
  },
  {
   "cell_type": "code",
   "execution_count": 4,
   "metadata": {
    "colab": {
     "base_uri": "https://localhost:8080/",
     "height": 473
    },
    "id": "b28KrUXGg2sg",
    "outputId": "bc9fd2f0-8507-4d02-a5f5-1888c48706fa"
   },
   "outputs": [
    {
     "data": {
      "text/html": [
       "<div>\n",
       "<style scoped>\n",
       "    .dataframe tbody tr th:only-of-type {\n",
       "        vertical-align: middle;\n",
       "    }\n",
       "\n",
       "    .dataframe tbody tr th {\n",
       "        vertical-align: top;\n",
       "    }\n",
       "\n",
       "    .dataframe thead th {\n",
       "        text-align: right;\n",
       "    }\n",
       "</style>\n",
       "<table border=\"1\" class=\"dataframe\">\n",
       "  <thead>\n",
       "    <tr style=\"text-align: right;\">\n",
       "      <th></th>\n",
       "      <th>date_time</th>\n",
       "      <th>site_name</th>\n",
       "      <th>posa_continent</th>\n",
       "      <th>user_location_country</th>\n",
       "      <th>user_location_region</th>\n",
       "      <th>user_location_city</th>\n",
       "      <th>orig_destination_distance</th>\n",
       "      <th>user_id</th>\n",
       "      <th>is_mobile</th>\n",
       "      <th>is_package</th>\n",
       "      <th>...</th>\n",
       "      <th>srch_children_cnt</th>\n",
       "      <th>srch_rm_cnt</th>\n",
       "      <th>srch_destination_id</th>\n",
       "      <th>srch_destination_type_id</th>\n",
       "      <th>is_booking</th>\n",
       "      <th>cnt</th>\n",
       "      <th>hotel_continent</th>\n",
       "      <th>hotel_country</th>\n",
       "      <th>hotel_market</th>\n",
       "      <th>hotel_cluster</th>\n",
       "    </tr>\n",
       "  </thead>\n",
       "  <tbody>\n",
       "    <tr>\n",
       "      <th>0</th>\n",
       "      <td>2014-08-11 07:46:59</td>\n",
       "      <td>2</td>\n",
       "      <td>3</td>\n",
       "      <td>66</td>\n",
       "      <td>348</td>\n",
       "      <td>48862</td>\n",
       "      <td>2234.2641</td>\n",
       "      <td>12</td>\n",
       "      <td>0</td>\n",
       "      <td>1</td>\n",
       "      <td>...</td>\n",
       "      <td>0</td>\n",
       "      <td>1</td>\n",
       "      <td>8250</td>\n",
       "      <td>1</td>\n",
       "      <td>0</td>\n",
       "      <td>3</td>\n",
       "      <td>2</td>\n",
       "      <td>50</td>\n",
       "      <td>628</td>\n",
       "      <td>1</td>\n",
       "    </tr>\n",
       "    <tr>\n",
       "      <th>1</th>\n",
       "      <td>2014-08-11 08:22:12</td>\n",
       "      <td>2</td>\n",
       "      <td>3</td>\n",
       "      <td>66</td>\n",
       "      <td>348</td>\n",
       "      <td>48862</td>\n",
       "      <td>2234.2641</td>\n",
       "      <td>12</td>\n",
       "      <td>0</td>\n",
       "      <td>1</td>\n",
       "      <td>...</td>\n",
       "      <td>0</td>\n",
       "      <td>1</td>\n",
       "      <td>8250</td>\n",
       "      <td>1</td>\n",
       "      <td>1</td>\n",
       "      <td>1</td>\n",
       "      <td>2</td>\n",
       "      <td>50</td>\n",
       "      <td>628</td>\n",
       "      <td>1</td>\n",
       "    </tr>\n",
       "    <tr>\n",
       "      <th>2</th>\n",
       "      <td>2014-08-11 08:24:33</td>\n",
       "      <td>2</td>\n",
       "      <td>3</td>\n",
       "      <td>66</td>\n",
       "      <td>348</td>\n",
       "      <td>48862</td>\n",
       "      <td>2234.2641</td>\n",
       "      <td>12</td>\n",
       "      <td>0</td>\n",
       "      <td>0</td>\n",
       "      <td>...</td>\n",
       "      <td>0</td>\n",
       "      <td>1</td>\n",
       "      <td>8250</td>\n",
       "      <td>1</td>\n",
       "      <td>0</td>\n",
       "      <td>1</td>\n",
       "      <td>2</td>\n",
       "      <td>50</td>\n",
       "      <td>628</td>\n",
       "      <td>1</td>\n",
       "    </tr>\n",
       "    <tr>\n",
       "      <th>3</th>\n",
       "      <td>2014-08-09 18:05:16</td>\n",
       "      <td>2</td>\n",
       "      <td>3</td>\n",
       "      <td>66</td>\n",
       "      <td>442</td>\n",
       "      <td>35390</td>\n",
       "      <td>913.1932</td>\n",
       "      <td>93</td>\n",
       "      <td>0</td>\n",
       "      <td>0</td>\n",
       "      <td>...</td>\n",
       "      <td>0</td>\n",
       "      <td>1</td>\n",
       "      <td>14984</td>\n",
       "      <td>1</td>\n",
       "      <td>0</td>\n",
       "      <td>1</td>\n",
       "      <td>2</td>\n",
       "      <td>50</td>\n",
       "      <td>1457</td>\n",
       "      <td>80</td>\n",
       "    </tr>\n",
       "    <tr>\n",
       "      <th>4</th>\n",
       "      <td>2014-08-09 18:08:18</td>\n",
       "      <td>2</td>\n",
       "      <td>3</td>\n",
       "      <td>66</td>\n",
       "      <td>442</td>\n",
       "      <td>35390</td>\n",
       "      <td>913.6259</td>\n",
       "      <td>93</td>\n",
       "      <td>0</td>\n",
       "      <td>0</td>\n",
       "      <td>...</td>\n",
       "      <td>0</td>\n",
       "      <td>1</td>\n",
       "      <td>14984</td>\n",
       "      <td>1</td>\n",
       "      <td>0</td>\n",
       "      <td>1</td>\n",
       "      <td>2</td>\n",
       "      <td>50</td>\n",
       "      <td>1457</td>\n",
       "      <td>21</td>\n",
       "    </tr>\n",
       "  </tbody>\n",
       "</table>\n",
       "<p>5 rows × 24 columns</p>\n",
       "</div>"
      ],
      "text/plain": [
       "             date_time  site_name  posa_continent  user_location_country  \\\n",
       "0  2014-08-11 07:46:59          2               3                     66   \n",
       "1  2014-08-11 08:22:12          2               3                     66   \n",
       "2  2014-08-11 08:24:33          2               3                     66   \n",
       "3  2014-08-09 18:05:16          2               3                     66   \n",
       "4  2014-08-09 18:08:18          2               3                     66   \n",
       "\n",
       "   user_location_region  user_location_city  orig_destination_distance  \\\n",
       "0                   348               48862                  2234.2641   \n",
       "1                   348               48862                  2234.2641   \n",
       "2                   348               48862                  2234.2641   \n",
       "3                   442               35390                   913.1932   \n",
       "4                   442               35390                   913.6259   \n",
       "\n",
       "   user_id  is_mobile  is_package  ...  srch_children_cnt srch_rm_cnt  \\\n",
       "0       12          0           1  ...                  0           1   \n",
       "1       12          0           1  ...                  0           1   \n",
       "2       12          0           0  ...                  0           1   \n",
       "3       93          0           0  ...                  0           1   \n",
       "4       93          0           0  ...                  0           1   \n",
       "\n",
       "  srch_destination_id  srch_destination_type_id  is_booking  cnt  \\\n",
       "0                8250                         1           0    3   \n",
       "1                8250                         1           1    1   \n",
       "2                8250                         1           0    1   \n",
       "3               14984                         1           0    1   \n",
       "4               14984                         1           0    1   \n",
       "\n",
       "   hotel_continent  hotel_country  hotel_market  hotel_cluster  \n",
       "0                2             50           628              1  \n",
       "1                2             50           628              1  \n",
       "2                2             50           628              1  \n",
       "3                2             50          1457             80  \n",
       "4                2             50          1457             21  \n",
       "\n",
       "[5 rows x 24 columns]"
      ]
     },
     "execution_count": 4,
     "metadata": {},
     "output_type": "execute_result"
    }
   ],
   "source": [
    "train_df.head()"
   ]
  },
  {
   "cell_type": "markdown",
   "metadata": {
    "id": "yYy48Tpxg2si"
   },
   "source": [
    "#### renaming the columns hotel_cluster and is_booking to hotel_id and rating"
   ]
  },
  {
   "cell_type": "code",
   "execution_count": 5,
   "metadata": {
    "id": "jOgHSrDEg2sk"
   },
   "outputs": [],
   "source": [
    "train_df = train_df.rename(columns={'hotel_cluster': 'item_id', 'is_booking': 'rating'})"
   ]
  },
  {
   "cell_type": "code",
   "execution_count": 6,
   "metadata": {
    "id": "rLupYEmug2sm"
   },
   "outputs": [],
   "source": [
    "train_df = train_df.drop(['orig_destination_distance'],axis=1)\n",
    "train_df = train_df.dropna()"
   ]
  },
  {
   "cell_type": "code",
   "execution_count": 7,
   "metadata": {
    "colab": {
     "base_uri": "https://localhost:8080/",
     "height": 473
    },
    "id": "RIS36055g2sn",
    "outputId": "ef5d4045-bbd0-4046-af8b-cf8190b6a1e5"
   },
   "outputs": [
    {
     "data": {
      "text/html": [
       "<div>\n",
       "<style scoped>\n",
       "    .dataframe tbody tr th:only-of-type {\n",
       "        vertical-align: middle;\n",
       "    }\n",
       "\n",
       "    .dataframe tbody tr th {\n",
       "        vertical-align: top;\n",
       "    }\n",
       "\n",
       "    .dataframe thead th {\n",
       "        text-align: right;\n",
       "    }\n",
       "</style>\n",
       "<table border=\"1\" class=\"dataframe\">\n",
       "  <thead>\n",
       "    <tr style=\"text-align: right;\">\n",
       "      <th></th>\n",
       "      <th>date_time</th>\n",
       "      <th>site_name</th>\n",
       "      <th>posa_continent</th>\n",
       "      <th>user_location_country</th>\n",
       "      <th>user_location_region</th>\n",
       "      <th>user_location_city</th>\n",
       "      <th>user_id</th>\n",
       "      <th>is_mobile</th>\n",
       "      <th>is_package</th>\n",
       "      <th>channel</th>\n",
       "      <th>...</th>\n",
       "      <th>srch_children_cnt</th>\n",
       "      <th>srch_rm_cnt</th>\n",
       "      <th>srch_destination_id</th>\n",
       "      <th>srch_destination_type_id</th>\n",
       "      <th>rating</th>\n",
       "      <th>cnt</th>\n",
       "      <th>hotel_continent</th>\n",
       "      <th>hotel_country</th>\n",
       "      <th>hotel_market</th>\n",
       "      <th>item_id</th>\n",
       "    </tr>\n",
       "  </thead>\n",
       "  <tbody>\n",
       "    <tr>\n",
       "      <th>0</th>\n",
       "      <td>2014-08-11 07:46:59</td>\n",
       "      <td>2</td>\n",
       "      <td>3</td>\n",
       "      <td>66</td>\n",
       "      <td>348</td>\n",
       "      <td>48862</td>\n",
       "      <td>12</td>\n",
       "      <td>0</td>\n",
       "      <td>1</td>\n",
       "      <td>9</td>\n",
       "      <td>...</td>\n",
       "      <td>0</td>\n",
       "      <td>1</td>\n",
       "      <td>8250</td>\n",
       "      <td>1</td>\n",
       "      <td>0</td>\n",
       "      <td>3</td>\n",
       "      <td>2</td>\n",
       "      <td>50</td>\n",
       "      <td>628</td>\n",
       "      <td>1</td>\n",
       "    </tr>\n",
       "    <tr>\n",
       "      <th>1</th>\n",
       "      <td>2014-08-11 08:22:12</td>\n",
       "      <td>2</td>\n",
       "      <td>3</td>\n",
       "      <td>66</td>\n",
       "      <td>348</td>\n",
       "      <td>48862</td>\n",
       "      <td>12</td>\n",
       "      <td>0</td>\n",
       "      <td>1</td>\n",
       "      <td>9</td>\n",
       "      <td>...</td>\n",
       "      <td>0</td>\n",
       "      <td>1</td>\n",
       "      <td>8250</td>\n",
       "      <td>1</td>\n",
       "      <td>1</td>\n",
       "      <td>1</td>\n",
       "      <td>2</td>\n",
       "      <td>50</td>\n",
       "      <td>628</td>\n",
       "      <td>1</td>\n",
       "    </tr>\n",
       "    <tr>\n",
       "      <th>2</th>\n",
       "      <td>2014-08-11 08:24:33</td>\n",
       "      <td>2</td>\n",
       "      <td>3</td>\n",
       "      <td>66</td>\n",
       "      <td>348</td>\n",
       "      <td>48862</td>\n",
       "      <td>12</td>\n",
       "      <td>0</td>\n",
       "      <td>0</td>\n",
       "      <td>9</td>\n",
       "      <td>...</td>\n",
       "      <td>0</td>\n",
       "      <td>1</td>\n",
       "      <td>8250</td>\n",
       "      <td>1</td>\n",
       "      <td>0</td>\n",
       "      <td>1</td>\n",
       "      <td>2</td>\n",
       "      <td>50</td>\n",
       "      <td>628</td>\n",
       "      <td>1</td>\n",
       "    </tr>\n",
       "    <tr>\n",
       "      <th>3</th>\n",
       "      <td>2014-08-09 18:05:16</td>\n",
       "      <td>2</td>\n",
       "      <td>3</td>\n",
       "      <td>66</td>\n",
       "      <td>442</td>\n",
       "      <td>35390</td>\n",
       "      <td>93</td>\n",
       "      <td>0</td>\n",
       "      <td>0</td>\n",
       "      <td>3</td>\n",
       "      <td>...</td>\n",
       "      <td>0</td>\n",
       "      <td>1</td>\n",
       "      <td>14984</td>\n",
       "      <td>1</td>\n",
       "      <td>0</td>\n",
       "      <td>1</td>\n",
       "      <td>2</td>\n",
       "      <td>50</td>\n",
       "      <td>1457</td>\n",
       "      <td>80</td>\n",
       "    </tr>\n",
       "    <tr>\n",
       "      <th>4</th>\n",
       "      <td>2014-08-09 18:08:18</td>\n",
       "      <td>2</td>\n",
       "      <td>3</td>\n",
       "      <td>66</td>\n",
       "      <td>442</td>\n",
       "      <td>35390</td>\n",
       "      <td>93</td>\n",
       "      <td>0</td>\n",
       "      <td>0</td>\n",
       "      <td>3</td>\n",
       "      <td>...</td>\n",
       "      <td>0</td>\n",
       "      <td>1</td>\n",
       "      <td>14984</td>\n",
       "      <td>1</td>\n",
       "      <td>0</td>\n",
       "      <td>1</td>\n",
       "      <td>2</td>\n",
       "      <td>50</td>\n",
       "      <td>1457</td>\n",
       "      <td>21</td>\n",
       "    </tr>\n",
       "  </tbody>\n",
       "</table>\n",
       "<p>5 rows × 23 columns</p>\n",
       "</div>"
      ],
      "text/plain": [
       "             date_time  site_name  posa_continent  user_location_country  \\\n",
       "0  2014-08-11 07:46:59          2               3                     66   \n",
       "1  2014-08-11 08:22:12          2               3                     66   \n",
       "2  2014-08-11 08:24:33          2               3                     66   \n",
       "3  2014-08-09 18:05:16          2               3                     66   \n",
       "4  2014-08-09 18:08:18          2               3                     66   \n",
       "\n",
       "   user_location_region  user_location_city  user_id  is_mobile  is_package  \\\n",
       "0                   348               48862       12          0           1   \n",
       "1                   348               48862       12          0           1   \n",
       "2                   348               48862       12          0           0   \n",
       "3                   442               35390       93          0           0   \n",
       "4                   442               35390       93          0           0   \n",
       "\n",
       "   channel  ... srch_children_cnt srch_rm_cnt  srch_destination_id  \\\n",
       "0        9  ...                 0           1                 8250   \n",
       "1        9  ...                 0           1                 8250   \n",
       "2        9  ...                 0           1                 8250   \n",
       "3        3  ...                 0           1                14984   \n",
       "4        3  ...                 0           1                14984   \n",
       "\n",
       "   srch_destination_type_id  rating  cnt  hotel_continent  hotel_country  \\\n",
       "0                         1       0    3                2             50   \n",
       "1                         1       1    1                2             50   \n",
       "2                         1       0    1                2             50   \n",
       "3                         1       0    1                2             50   \n",
       "4                         1       0    1                2             50   \n",
       "\n",
       "   hotel_market  item_id  \n",
       "0           628        1  \n",
       "1           628        1  \n",
       "2           628        1  \n",
       "3          1457       80  \n",
       "4          1457       21  \n",
       "\n",
       "[5 rows x 23 columns]"
      ]
     },
     "execution_count": 7,
     "metadata": {},
     "output_type": "execute_result"
    }
   ],
   "source": [
    "train_df.head()"
   ]
  },
  {
   "cell_type": "markdown",
   "metadata": {
    "id": "ld8qrAyig2so"
   },
   "source": [
    "#### we are listing out a new columns for america and europe to see if customers are checking in holidays"
   ]
  },
  {
   "cell_type": "code",
   "execution_count": 8,
   "metadata": {
    "id": "ORfM5w4xg2sp"
   },
   "outputs": [],
   "source": [
    "# Initially, we define hoilday dates for america\n",
    "holidays_america = holidays.UnitedStates()\n",
    "holidays_canada = holidays.Canada()"
   ]
  },
  {
   "cell_type": "markdown",
   "metadata": {
    "id": "x9jNJ-jlg2sq"
   },
   "source": [
    "#### Setting up new columns in the train_df dataframe. 1 indicates that customers have checked on holidays and 0 indicate that customers have not checked on holidays"
   ]
  },
  {
   "cell_type": "code",
   "execution_count": 9,
   "metadata": {
    "id": "-CHKP3qWg2sr"
   },
   "outputs": [],
   "source": [
    "train_df['america_checkin'] = train_df['srch_ci'].apply(lambda holiday : 1 if holiday in (holidays_canada or holidays_america) else 0)\n",
    "train_df['america_checkout'] = train_df['srch_co'].apply(lambda holiday : 1 if holiday in (holidays_canada or holidays_america) else 0)"
   ]
  },
  {
   "cell_type": "code",
   "execution_count": 10,
   "metadata": {
    "id": "v3QF-KjYg2sr"
   },
   "outputs": [],
   "source": [
    "# Now, we define hoilday dates for europe\n",
    "holidays_uk = holidays.UnitedKingdom()\n",
    "holidays_germany = holidays.Germany()"
   ]
  },
  {
   "cell_type": "code",
   "execution_count": 11,
   "metadata": {
    "id": "fyWKQiv7g2ss"
   },
   "outputs": [],
   "source": [
    "train_df['europe_checkin'] = train_df['srch_ci'].apply(lambda holiday : 1 if holiday in (holidays_uk or holidays_germany) else 0)\n",
    "train_df['europe_checkout'] = train_df['srch_co'].apply(lambda holiday : 1 if holiday in (holidays_uk or holidays_germany) else 0)"
   ]
  },
  {
   "cell_type": "code",
   "execution_count": 12,
   "metadata": {
    "colab": {
     "base_uri": "https://localhost:8080/",
     "height": 473
    },
    "id": "Q_Tcki4Ng2st",
    "outputId": "c82c5ee4-90b9-4f9c-e258-d8e8e272bc46"
   },
   "outputs": [
    {
     "data": {
      "text/html": [
       "<div>\n",
       "<style scoped>\n",
       "    .dataframe tbody tr th:only-of-type {\n",
       "        vertical-align: middle;\n",
       "    }\n",
       "\n",
       "    .dataframe tbody tr th {\n",
       "        vertical-align: top;\n",
       "    }\n",
       "\n",
       "    .dataframe thead th {\n",
       "        text-align: right;\n",
       "    }\n",
       "</style>\n",
       "<table border=\"1\" class=\"dataframe\">\n",
       "  <thead>\n",
       "    <tr style=\"text-align: right;\">\n",
       "      <th></th>\n",
       "      <th>date_time</th>\n",
       "      <th>site_name</th>\n",
       "      <th>posa_continent</th>\n",
       "      <th>user_location_country</th>\n",
       "      <th>user_location_region</th>\n",
       "      <th>user_location_city</th>\n",
       "      <th>user_id</th>\n",
       "      <th>is_mobile</th>\n",
       "      <th>is_package</th>\n",
       "      <th>channel</th>\n",
       "      <th>...</th>\n",
       "      <th>rating</th>\n",
       "      <th>cnt</th>\n",
       "      <th>hotel_continent</th>\n",
       "      <th>hotel_country</th>\n",
       "      <th>hotel_market</th>\n",
       "      <th>item_id</th>\n",
       "      <th>america_checkin</th>\n",
       "      <th>america_checkout</th>\n",
       "      <th>europe_checkin</th>\n",
       "      <th>europe_checkout</th>\n",
       "    </tr>\n",
       "  </thead>\n",
       "  <tbody>\n",
       "    <tr>\n",
       "      <th>0</th>\n",
       "      <td>2014-08-11 07:46:59</td>\n",
       "      <td>2</td>\n",
       "      <td>3</td>\n",
       "      <td>66</td>\n",
       "      <td>348</td>\n",
       "      <td>48862</td>\n",
       "      <td>12</td>\n",
       "      <td>0</td>\n",
       "      <td>1</td>\n",
       "      <td>9</td>\n",
       "      <td>...</td>\n",
       "      <td>0</td>\n",
       "      <td>3</td>\n",
       "      <td>2</td>\n",
       "      <td>50</td>\n",
       "      <td>628</td>\n",
       "      <td>1</td>\n",
       "      <td>0</td>\n",
       "      <td>0</td>\n",
       "      <td>0</td>\n",
       "      <td>0</td>\n",
       "    </tr>\n",
       "    <tr>\n",
       "      <th>1</th>\n",
       "      <td>2014-08-11 08:22:12</td>\n",
       "      <td>2</td>\n",
       "      <td>3</td>\n",
       "      <td>66</td>\n",
       "      <td>348</td>\n",
       "      <td>48862</td>\n",
       "      <td>12</td>\n",
       "      <td>0</td>\n",
       "      <td>1</td>\n",
       "      <td>9</td>\n",
       "      <td>...</td>\n",
       "      <td>1</td>\n",
       "      <td>1</td>\n",
       "      <td>2</td>\n",
       "      <td>50</td>\n",
       "      <td>628</td>\n",
       "      <td>1</td>\n",
       "      <td>0</td>\n",
       "      <td>0</td>\n",
       "      <td>0</td>\n",
       "      <td>0</td>\n",
       "    </tr>\n",
       "    <tr>\n",
       "      <th>2</th>\n",
       "      <td>2014-08-11 08:24:33</td>\n",
       "      <td>2</td>\n",
       "      <td>3</td>\n",
       "      <td>66</td>\n",
       "      <td>348</td>\n",
       "      <td>48862</td>\n",
       "      <td>12</td>\n",
       "      <td>0</td>\n",
       "      <td>0</td>\n",
       "      <td>9</td>\n",
       "      <td>...</td>\n",
       "      <td>0</td>\n",
       "      <td>1</td>\n",
       "      <td>2</td>\n",
       "      <td>50</td>\n",
       "      <td>628</td>\n",
       "      <td>1</td>\n",
       "      <td>0</td>\n",
       "      <td>0</td>\n",
       "      <td>0</td>\n",
       "      <td>0</td>\n",
       "    </tr>\n",
       "    <tr>\n",
       "      <th>3</th>\n",
       "      <td>2014-08-09 18:05:16</td>\n",
       "      <td>2</td>\n",
       "      <td>3</td>\n",
       "      <td>66</td>\n",
       "      <td>442</td>\n",
       "      <td>35390</td>\n",
       "      <td>93</td>\n",
       "      <td>0</td>\n",
       "      <td>0</td>\n",
       "      <td>3</td>\n",
       "      <td>...</td>\n",
       "      <td>0</td>\n",
       "      <td>1</td>\n",
       "      <td>2</td>\n",
       "      <td>50</td>\n",
       "      <td>1457</td>\n",
       "      <td>80</td>\n",
       "      <td>0</td>\n",
       "      <td>0</td>\n",
       "      <td>0</td>\n",
       "      <td>0</td>\n",
       "    </tr>\n",
       "    <tr>\n",
       "      <th>4</th>\n",
       "      <td>2014-08-09 18:08:18</td>\n",
       "      <td>2</td>\n",
       "      <td>3</td>\n",
       "      <td>66</td>\n",
       "      <td>442</td>\n",
       "      <td>35390</td>\n",
       "      <td>93</td>\n",
       "      <td>0</td>\n",
       "      <td>0</td>\n",
       "      <td>3</td>\n",
       "      <td>...</td>\n",
       "      <td>0</td>\n",
       "      <td>1</td>\n",
       "      <td>2</td>\n",
       "      <td>50</td>\n",
       "      <td>1457</td>\n",
       "      <td>21</td>\n",
       "      <td>0</td>\n",
       "      <td>0</td>\n",
       "      <td>0</td>\n",
       "      <td>0</td>\n",
       "    </tr>\n",
       "  </tbody>\n",
       "</table>\n",
       "<p>5 rows × 27 columns</p>\n",
       "</div>"
      ],
      "text/plain": [
       "             date_time  site_name  posa_continent  user_location_country  \\\n",
       "0  2014-08-11 07:46:59          2               3                     66   \n",
       "1  2014-08-11 08:22:12          2               3                     66   \n",
       "2  2014-08-11 08:24:33          2               3                     66   \n",
       "3  2014-08-09 18:05:16          2               3                     66   \n",
       "4  2014-08-09 18:08:18          2               3                     66   \n",
       "\n",
       "   user_location_region  user_location_city  user_id  is_mobile  is_package  \\\n",
       "0                   348               48862       12          0           1   \n",
       "1                   348               48862       12          0           1   \n",
       "2                   348               48862       12          0           0   \n",
       "3                   442               35390       93          0           0   \n",
       "4                   442               35390       93          0           0   \n",
       "\n",
       "   channel  ... rating cnt  hotel_continent  hotel_country  hotel_market  \\\n",
       "0        9  ...      0   3                2             50           628   \n",
       "1        9  ...      1   1                2             50           628   \n",
       "2        9  ...      0   1                2             50           628   \n",
       "3        3  ...      0   1                2             50          1457   \n",
       "4        3  ...      0   1                2             50          1457   \n",
       "\n",
       "   item_id  america_checkin  america_checkout  europe_checkin  europe_checkout  \n",
       "0        1                0                 0               0                0  \n",
       "1        1                0                 0               0                0  \n",
       "2        1                0                 0               0                0  \n",
       "3       80                0                 0               0                0  \n",
       "4       21                0                 0               0                0  \n",
       "\n",
       "[5 rows x 27 columns]"
      ]
     },
     "execution_count": 12,
     "metadata": {},
     "output_type": "execute_result"
    }
   ],
   "source": [
    "train_df.head()"
   ]
  },
  {
   "cell_type": "markdown",
   "metadata": {
    "id": "Ev_irNiZg2st"
   },
   "source": [
    "#### As we do not get meaningful insights from datetime fields, we extract month from it and drop them"
   ]
  },
  {
   "cell_type": "code",
   "execution_count": 13,
   "metadata": {
    "id": "9RunP8nug2su"
   },
   "outputs": [],
   "source": [
    "train_df['month_ci'] = pd.DatetimeIndex(train_df['srch_ci'])\n",
    "train_df['month_co'] = pd.DatetimeIndex(train_df['srch_co'])\n",
    "train_df['month_click'] = pd.DatetimeIndex(train_df['date_time'])"
   ]
  },
  {
   "cell_type": "code",
   "execution_count": 14,
   "metadata": {
    "id": "89HKaeLXg2su"
   },
   "outputs": [],
   "source": [
    "train_df = train_df.drop(['srch_ci', 'srch_co', 'date_time'], axis = 1)"
   ]
  },
  {
   "cell_type": "code",
   "execution_count": 15,
   "metadata": {
    "colab": {
     "base_uri": "https://localhost:8080/"
    },
    "id": "fL2y5yVig2sv",
    "outputId": "249bb1c1-19ff-4b0e-f433-48a7b6ee1a68"
   },
   "outputs": [
    {
     "data": {
      "text/plain": [
       "(99929, 27)"
      ]
     },
     "execution_count": 15,
     "metadata": {},
     "output_type": "execute_result"
    }
   ],
   "source": [
    "train_df.shape"
   ]
  },
  {
   "cell_type": "markdown",
   "metadata": {
    "id": "_BJf1YN1g2sv"
   },
   "source": [
    "### Feature engineering is done where the inputs (both categorical and continuous) are fed to wide and deep neural networks"
   ]
  },
  {
   "cell_type": "code",
   "execution_count": 16,
   "metadata": {
    "id": "-VA2HRFVg2sv"
   },
   "outputs": [],
   "source": [
    "# All categorical attributes are put in sparse features\n",
    "categotical_cols = []\n",
    "for col in train_df.columns:\n",
    "    if col not in ['hotel_market', 'rating']:\n",
    "        categotical_cols.append(col)\n",
    "sparse_features = categotical_cols"
   ]
  },
  {
   "cell_type": "code",
   "execution_count": 17,
   "metadata": {
    "id": "Lit0GhNig2sw"
   },
   "outputs": [],
   "source": [
    "dense_features = ['hotel_market']\n",
    "target = ['rating']"
   ]
  },
  {
   "cell_type": "markdown",
   "metadata": {
    "id": "dbBBQKxHg2sx"
   },
   "source": [
    "#### In the preprocessing step, we encode the sparse categorical features for embedding using Label Encoding"
   ]
  },
  {
   "cell_type": "code",
   "execution_count": 18,
   "metadata": {
    "id": "G3CcHG5Hg2sx"
   },
   "outputs": [],
   "source": [
    "for feature in sparse_features:\n",
    "    label = LabelEncoder()\n",
    "    train_df[feature] = label.fit_transform(train_df[feature])"
   ]
  },
  {
   "cell_type": "markdown",
   "metadata": {
    "id": "eZjb2_TLg2sy"
   },
   "source": [
    "#### We use normalization like MinMaxScaler methods for dense featues as they are discretized to buckets"
   ]
  },
  {
   "cell_type": "code",
   "execution_count": 19,
   "metadata": {
    "id": "W12XKBBjg2sy"
   },
   "outputs": [],
   "source": [
    "mms = MinMaxScaler(feature_range=(0,1))\n",
    "train_df[dense_features] = mms.fit_transform(train_df[dense_features])"
   ]
  },
  {
   "cell_type": "markdown",
   "metadata": {
    "id": "n1kxRFiXg2sz"
   },
   "source": [
    "#### We use embedding techniques to turn sparse features into dense vectors. We concatenate dense features to the fully connected layer's input tensors."
   ]
  },
  {
   "cell_type": "code",
   "execution_count": 20,
   "metadata": {
    "id": "VWtB_b-Vg2sz"
   },
   "outputs": [
    {
     "name": "stdout",
     "output_type": "stream",
     "text": [
      "WARNING:tensorflow:From C:\\Users\\inump\\anaconda3\\lib\\site-packages\\tensorflow\\python\\keras\\initializers.py:143: calling RandomNormal.__init__ (from tensorflow.python.ops.init_ops) with dtype is deprecated and will be removed in a future version.\n",
      "Instructions for updating:\n",
      "Call initializer instance with the dtype argument instead of passing it to the constructor\n"
     ]
    }
   ],
   "source": [
    "fixlen_feature_columns = [SparseFeat(feat, train_df[feat].nunique(), embedding_dim = 4)\n",
    "                          for feat in sparse_features]\n",
    "linear_feature_columns = fixlen_feature_columns\n",
    "dnn_feature_columns = fixlen_feature_columns\n",
    "feature_names = get_feature_names(linear_feature_columns + dnn_feature_columns)"
   ]
  },
  {
   "cell_type": "code",
   "execution_count": 21,
   "metadata": {
    "colab": {
     "base_uri": "https://localhost:8080/"
    },
    "id": "nZ6rQbX5g2sz",
    "outputId": "687c6b07-2318-4372-a538-973ef05a525b"
   },
   "outputs": [
    {
     "data": {
      "text/plain": [
       "((69950, 27), (29979, 27))"
      ]
     },
     "execution_count": 21,
     "metadata": {},
     "output_type": "execute_result"
    }
   ],
   "source": [
    "train_data, test_data = train_test_split(train_df, test_size = 0.3)\n",
    "train_data.shape, test_data.shape"
   ]
  },
  {
   "cell_type": "code",
   "execution_count": 22,
   "metadata": {
    "id": "AzLeUVXug2s0"
   },
   "outputs": [],
   "source": [
    "train_data_input = {name : train_data[name].values for name in feature_names}\n",
    "test_data_input = {name : test_data[name].values for name in feature_names}"
   ]
  },
  {
   "cell_type": "markdown",
   "metadata": {
    "id": "kUszk1F5g2s0"
   },
   "source": [
    "#### Now, we apply tensorflow's WDL library and compile the model"
   ]
  },
  {
   "cell_type": "code",
   "execution_count": 23,
   "metadata": {
    "colab": {
     "base_uri": "https://localhost:8080/"
    },
    "id": "bZEOtEe1g2s1",
    "outputId": "3c94d330-3cf6-46cc-fbf8-abfadd8b9534"
   },
   "outputs": [
    {
     "name": "stdout",
     "output_type": "stream",
     "text": [
      "WARNING:tensorflow:Entity <bound method NoMask.call of <deepctr.layers.utils.NoMask object at 0x0000029D80107948>> could not be transformed and will be executed as-is. Please report this to the AutgoGraph team. When filing the bug, set the verbosity to 10 (on Linux, `export AUTOGRAPH_VERBOSITY=10`) and attach the full output. Cause: converting <bound method NoMask.call of <deepctr.layers.utils.NoMask object at 0x0000029D80107948>>: AssertionError: Bad argument number for Name: 3, expecting 4\n",
      "WARNING: Entity <bound method NoMask.call of <deepctr.layers.utils.NoMask object at 0x0000029D80107948>> could not be transformed and will be executed as-is. Please report this to the AutgoGraph team. When filing the bug, set the verbosity to 10 (on Linux, `export AUTOGRAPH_VERBOSITY=10`) and attach the full output. Cause: converting <bound method NoMask.call of <deepctr.layers.utils.NoMask object at 0x0000029D80107948>>: AssertionError: Bad argument number for Name: 3, expecting 4\n",
      "WARNING:tensorflow:Entity <bound method NoMask.call of <deepctr.layers.utils.NoMask object at 0x0000029D80107948>> could not be transformed and will be executed as-is. Please report this to the AutgoGraph team. When filing the bug, set the verbosity to 10 (on Linux, `export AUTOGRAPH_VERBOSITY=10`) and attach the full output. Cause: converting <bound method NoMask.call of <deepctr.layers.utils.NoMask object at 0x0000029D80107948>>: AssertionError: Bad argument number for Name: 3, expecting 4\n",
      "WARNING: Entity <bound method NoMask.call of <deepctr.layers.utils.NoMask object at 0x0000029D80107948>> could not be transformed and will be executed as-is. Please report this to the AutgoGraph team. When filing the bug, set the verbosity to 10 (on Linux, `export AUTOGRAPH_VERBOSITY=10`) and attach the full output. Cause: converting <bound method NoMask.call of <deepctr.layers.utils.NoMask object at 0x0000029D80107948>>: AssertionError: Bad argument number for Name: 3, expecting 4\n",
      "WARNING:tensorflow:Entity <bound method NoMask.call of <deepctr.layers.utils.NoMask object at 0x0000029D80107948>> could not be transformed and will be executed as-is. Please report this to the AutgoGraph team. When filing the bug, set the verbosity to 10 (on Linux, `export AUTOGRAPH_VERBOSITY=10`) and attach the full output. Cause: converting <bound method NoMask.call of <deepctr.layers.utils.NoMask object at 0x0000029D80107948>>: AssertionError: Bad argument number for Name: 3, expecting 4\n",
      "WARNING: Entity <bound method NoMask.call of <deepctr.layers.utils.NoMask object at 0x0000029D80107948>> could not be transformed and will be executed as-is. Please report this to the AutgoGraph team. When filing the bug, set the verbosity to 10 (on Linux, `export AUTOGRAPH_VERBOSITY=10`) and attach the full output. Cause: converting <bound method NoMask.call of <deepctr.layers.utils.NoMask object at 0x0000029D80107948>>: AssertionError: Bad argument number for Name: 3, expecting 4\n",
      "WARNING:tensorflow:Entity <bound method NoMask.call of <deepctr.layers.utils.NoMask object at 0x0000029D80107948>> could not be transformed and will be executed as-is. Please report this to the AutgoGraph team. When filing the bug, set the verbosity to 10 (on Linux, `export AUTOGRAPH_VERBOSITY=10`) and attach the full output. Cause: converting <bound method NoMask.call of <deepctr.layers.utils.NoMask object at 0x0000029D80107948>>: AssertionError: Bad argument number for Name: 3, expecting 4\n",
      "WARNING: Entity <bound method NoMask.call of <deepctr.layers.utils.NoMask object at 0x0000029D80107948>> could not be transformed and will be executed as-is. Please report this to the AutgoGraph team. When filing the bug, set the verbosity to 10 (on Linux, `export AUTOGRAPH_VERBOSITY=10`) and attach the full output. Cause: converting <bound method NoMask.call of <deepctr.layers.utils.NoMask object at 0x0000029D80107948>>: AssertionError: Bad argument number for Name: 3, expecting 4\n",
      "WARNING:tensorflow:Entity <bound method NoMask.call of <deepctr.layers.utils.NoMask object at 0x0000029D80107948>> could not be transformed and will be executed as-is. Please report this to the AutgoGraph team. When filing the bug, set the verbosity to 10 (on Linux, `export AUTOGRAPH_VERBOSITY=10`) and attach the full output. Cause: converting <bound method NoMask.call of <deepctr.layers.utils.NoMask object at 0x0000029D80107948>>: AssertionError: Bad argument number for Name: 3, expecting 4\n",
      "WARNING: Entity <bound method NoMask.call of <deepctr.layers.utils.NoMask object at 0x0000029D80107948>> could not be transformed and will be executed as-is. Please report this to the AutgoGraph team. When filing the bug, set the verbosity to 10 (on Linux, `export AUTOGRAPH_VERBOSITY=10`) and attach the full output. Cause: converting <bound method NoMask.call of <deepctr.layers.utils.NoMask object at 0x0000029D80107948>>: AssertionError: Bad argument number for Name: 3, expecting 4\n",
      "WARNING:tensorflow:Entity <bound method NoMask.call of <deepctr.layers.utils.NoMask object at 0x0000029D80107948>> could not be transformed and will be executed as-is. Please report this to the AutgoGraph team. When filing the bug, set the verbosity to 10 (on Linux, `export AUTOGRAPH_VERBOSITY=10`) and attach the full output. Cause: converting <bound method NoMask.call of <deepctr.layers.utils.NoMask object at 0x0000029D80107948>>: AssertionError: Bad argument number for Name: 3, expecting 4\n",
      "WARNING: Entity <bound method NoMask.call of <deepctr.layers.utils.NoMask object at 0x0000029D80107948>> could not be transformed and will be executed as-is. Please report this to the AutgoGraph team. When filing the bug, set the verbosity to 10 (on Linux, `export AUTOGRAPH_VERBOSITY=10`) and attach the full output. Cause: converting <bound method NoMask.call of <deepctr.layers.utils.NoMask object at 0x0000029D80107948>>: AssertionError: Bad argument number for Name: 3, expecting 4\n",
      "WARNING:tensorflow:Entity <bound method NoMask.call of <deepctr.layers.utils.NoMask object at 0x0000029D80107948>> could not be transformed and will be executed as-is. Please report this to the AutgoGraph team. When filing the bug, set the verbosity to 10 (on Linux, `export AUTOGRAPH_VERBOSITY=10`) and attach the full output. Cause: converting <bound method NoMask.call of <deepctr.layers.utils.NoMask object at 0x0000029D80107948>>: AssertionError: Bad argument number for Name: 3, expecting 4\n",
      "WARNING: Entity <bound method NoMask.call of <deepctr.layers.utils.NoMask object at 0x0000029D80107948>> could not be transformed and will be executed as-is. Please report this to the AutgoGraph team. When filing the bug, set the verbosity to 10 (on Linux, `export AUTOGRAPH_VERBOSITY=10`) and attach the full output. Cause: converting <bound method NoMask.call of <deepctr.layers.utils.NoMask object at 0x0000029D80107948>>: AssertionError: Bad argument number for Name: 3, expecting 4\n",
      "WARNING:tensorflow:Entity <bound method NoMask.call of <deepctr.layers.utils.NoMask object at 0x0000029D80107948>> could not be transformed and will be executed as-is. Please report this to the AutgoGraph team. When filing the bug, set the verbosity to 10 (on Linux, `export AUTOGRAPH_VERBOSITY=10`) and attach the full output. Cause: converting <bound method NoMask.call of <deepctr.layers.utils.NoMask object at 0x0000029D80107948>>: AssertionError: Bad argument number for Name: 3, expecting 4\n",
      "WARNING: Entity <bound method NoMask.call of <deepctr.layers.utils.NoMask object at 0x0000029D80107948>> could not be transformed and will be executed as-is. Please report this to the AutgoGraph team. When filing the bug, set the verbosity to 10 (on Linux, `export AUTOGRAPH_VERBOSITY=10`) and attach the full output. Cause: converting <bound method NoMask.call of <deepctr.layers.utils.NoMask object at 0x0000029D80107948>>: AssertionError: Bad argument number for Name: 3, expecting 4\n",
      "WARNING:tensorflow:Entity <bound method NoMask.call of <deepctr.layers.utils.NoMask object at 0x0000029D80107948>> could not be transformed and will be executed as-is. Please report this to the AutgoGraph team. When filing the bug, set the verbosity to 10 (on Linux, `export AUTOGRAPH_VERBOSITY=10`) and attach the full output. Cause: converting <bound method NoMask.call of <deepctr.layers.utils.NoMask object at 0x0000029D80107948>>: AssertionError: Bad argument number for Name: 3, expecting 4\n"
     ]
    },
    {
     "name": "stdout",
     "output_type": "stream",
     "text": [
      "WARNING: Entity <bound method NoMask.call of <deepctr.layers.utils.NoMask object at 0x0000029D80107948>> could not be transformed and will be executed as-is. Please report this to the AutgoGraph team. When filing the bug, set the verbosity to 10 (on Linux, `export AUTOGRAPH_VERBOSITY=10`) and attach the full output. Cause: converting <bound method NoMask.call of <deepctr.layers.utils.NoMask object at 0x0000029D80107948>>: AssertionError: Bad argument number for Name: 3, expecting 4\n",
      "WARNING:tensorflow:Entity <bound method NoMask.call of <deepctr.layers.utils.NoMask object at 0x0000029D80107948>> could not be transformed and will be executed as-is. Please report this to the AutgoGraph team. When filing the bug, set the verbosity to 10 (on Linux, `export AUTOGRAPH_VERBOSITY=10`) and attach the full output. Cause: converting <bound method NoMask.call of <deepctr.layers.utils.NoMask object at 0x0000029D80107948>>: AssertionError: Bad argument number for Name: 3, expecting 4\n",
      "WARNING: Entity <bound method NoMask.call of <deepctr.layers.utils.NoMask object at 0x0000029D80107948>> could not be transformed and will be executed as-is. Please report this to the AutgoGraph team. When filing the bug, set the verbosity to 10 (on Linux, `export AUTOGRAPH_VERBOSITY=10`) and attach the full output. Cause: converting <bound method NoMask.call of <deepctr.layers.utils.NoMask object at 0x0000029D80107948>>: AssertionError: Bad argument number for Name: 3, expecting 4\n",
      "WARNING:tensorflow:Entity <bound method NoMask.call of <deepctr.layers.utils.NoMask object at 0x0000029D80107948>> could not be transformed and will be executed as-is. Please report this to the AutgoGraph team. When filing the bug, set the verbosity to 10 (on Linux, `export AUTOGRAPH_VERBOSITY=10`) and attach the full output. Cause: converting <bound method NoMask.call of <deepctr.layers.utils.NoMask object at 0x0000029D80107948>>: AssertionError: Bad argument number for Name: 3, expecting 4\n",
      "WARNING: Entity <bound method NoMask.call of <deepctr.layers.utils.NoMask object at 0x0000029D80107948>> could not be transformed and will be executed as-is. Please report this to the AutgoGraph team. When filing the bug, set the verbosity to 10 (on Linux, `export AUTOGRAPH_VERBOSITY=10`) and attach the full output. Cause: converting <bound method NoMask.call of <deepctr.layers.utils.NoMask object at 0x0000029D80107948>>: AssertionError: Bad argument number for Name: 3, expecting 4\n",
      "WARNING:tensorflow:Entity <bound method NoMask.call of <deepctr.layers.utils.NoMask object at 0x0000029D80107948>> could not be transformed and will be executed as-is. Please report this to the AutgoGraph team. When filing the bug, set the verbosity to 10 (on Linux, `export AUTOGRAPH_VERBOSITY=10`) and attach the full output. Cause: converting <bound method NoMask.call of <deepctr.layers.utils.NoMask object at 0x0000029D80107948>>: AssertionError: Bad argument number for Name: 3, expecting 4\n",
      "WARNING: Entity <bound method NoMask.call of <deepctr.layers.utils.NoMask object at 0x0000029D80107948>> could not be transformed and will be executed as-is. Please report this to the AutgoGraph team. When filing the bug, set the verbosity to 10 (on Linux, `export AUTOGRAPH_VERBOSITY=10`) and attach the full output. Cause: converting <bound method NoMask.call of <deepctr.layers.utils.NoMask object at 0x0000029D80107948>>: AssertionError: Bad argument number for Name: 3, expecting 4\n",
      "WARNING:tensorflow:Entity <bound method NoMask.call of <deepctr.layers.utils.NoMask object at 0x0000029D80107948>> could not be transformed and will be executed as-is. Please report this to the AutgoGraph team. When filing the bug, set the verbosity to 10 (on Linux, `export AUTOGRAPH_VERBOSITY=10`) and attach the full output. Cause: converting <bound method NoMask.call of <deepctr.layers.utils.NoMask object at 0x0000029D80107948>>: AssertionError: Bad argument number for Name: 3, expecting 4\n",
      "WARNING: Entity <bound method NoMask.call of <deepctr.layers.utils.NoMask object at 0x0000029D80107948>> could not be transformed and will be executed as-is. Please report this to the AutgoGraph team. When filing the bug, set the verbosity to 10 (on Linux, `export AUTOGRAPH_VERBOSITY=10`) and attach the full output. Cause: converting <bound method NoMask.call of <deepctr.layers.utils.NoMask object at 0x0000029D80107948>>: AssertionError: Bad argument number for Name: 3, expecting 4\n",
      "WARNING:tensorflow:Entity <bound method NoMask.call of <deepctr.layers.utils.NoMask object at 0x0000029D80107948>> could not be transformed and will be executed as-is. Please report this to the AutgoGraph team. When filing the bug, set the verbosity to 10 (on Linux, `export AUTOGRAPH_VERBOSITY=10`) and attach the full output. Cause: converting <bound method NoMask.call of <deepctr.layers.utils.NoMask object at 0x0000029D80107948>>: AssertionError: Bad argument number for Name: 3, expecting 4\n",
      "WARNING: Entity <bound method NoMask.call of <deepctr.layers.utils.NoMask object at 0x0000029D80107948>> could not be transformed and will be executed as-is. Please report this to the AutgoGraph team. When filing the bug, set the verbosity to 10 (on Linux, `export AUTOGRAPH_VERBOSITY=10`) and attach the full output. Cause: converting <bound method NoMask.call of <deepctr.layers.utils.NoMask object at 0x0000029D80107948>>: AssertionError: Bad argument number for Name: 3, expecting 4\n",
      "WARNING:tensorflow:Entity <bound method NoMask.call of <deepctr.layers.utils.NoMask object at 0x0000029D80107948>> could not be transformed and will be executed as-is. Please report this to the AutgoGraph team. When filing the bug, set the verbosity to 10 (on Linux, `export AUTOGRAPH_VERBOSITY=10`) and attach the full output. Cause: converting <bound method NoMask.call of <deepctr.layers.utils.NoMask object at 0x0000029D80107948>>: AssertionError: Bad argument number for Name: 3, expecting 4\n",
      "WARNING: Entity <bound method NoMask.call of <deepctr.layers.utils.NoMask object at 0x0000029D80107948>> could not be transformed and will be executed as-is. Please report this to the AutgoGraph team. When filing the bug, set the verbosity to 10 (on Linux, `export AUTOGRAPH_VERBOSITY=10`) and attach the full output. Cause: converting <bound method NoMask.call of <deepctr.layers.utils.NoMask object at 0x0000029D80107948>>: AssertionError: Bad argument number for Name: 3, expecting 4\n",
      "WARNING:tensorflow:Entity <bound method NoMask.call of <deepctr.layers.utils.NoMask object at 0x0000029D80107948>> could not be transformed and will be executed as-is. Please report this to the AutgoGraph team. When filing the bug, set the verbosity to 10 (on Linux, `export AUTOGRAPH_VERBOSITY=10`) and attach the full output. Cause: converting <bound method NoMask.call of <deepctr.layers.utils.NoMask object at 0x0000029D80107948>>: AssertionError: Bad argument number for Name: 3, expecting 4\n",
      "WARNING: Entity <bound method NoMask.call of <deepctr.layers.utils.NoMask object at 0x0000029D80107948>> could not be transformed and will be executed as-is. Please report this to the AutgoGraph team. When filing the bug, set the verbosity to 10 (on Linux, `export AUTOGRAPH_VERBOSITY=10`) and attach the full output. Cause: converting <bound method NoMask.call of <deepctr.layers.utils.NoMask object at 0x0000029D80107948>>: AssertionError: Bad argument number for Name: 3, expecting 4\n",
      "WARNING:tensorflow:Entity <bound method NoMask.call of <deepctr.layers.utils.NoMask object at 0x0000029D80107948>> could not be transformed and will be executed as-is. Please report this to the AutgoGraph team. When filing the bug, set the verbosity to 10 (on Linux, `export AUTOGRAPH_VERBOSITY=10`) and attach the full output. Cause: converting <bound method NoMask.call of <deepctr.layers.utils.NoMask object at 0x0000029D80107948>>: AssertionError: Bad argument number for Name: 3, expecting 4\n",
      "WARNING: Entity <bound method NoMask.call of <deepctr.layers.utils.NoMask object at 0x0000029D80107948>> could not be transformed and will be executed as-is. Please report this to the AutgoGraph team. When filing the bug, set the verbosity to 10 (on Linux, `export AUTOGRAPH_VERBOSITY=10`) and attach the full output. Cause: converting <bound method NoMask.call of <deepctr.layers.utils.NoMask object at 0x0000029D80107948>>: AssertionError: Bad argument number for Name: 3, expecting 4\n",
      "WARNING:tensorflow:Entity <bound method NoMask.call of <deepctr.layers.utils.NoMask object at 0x0000029D80107948>> could not be transformed and will be executed as-is. Please report this to the AutgoGraph team. When filing the bug, set the verbosity to 10 (on Linux, `export AUTOGRAPH_VERBOSITY=10`) and attach the full output. Cause: converting <bound method NoMask.call of <deepctr.layers.utils.NoMask object at 0x0000029D80107948>>: AssertionError: Bad argument number for Name: 3, expecting 4\n"
     ]
    },
    {
     "name": "stdout",
     "output_type": "stream",
     "text": [
      "WARNING: Entity <bound method NoMask.call of <deepctr.layers.utils.NoMask object at 0x0000029D80107948>> could not be transformed and will be executed as-is. Please report this to the AutgoGraph team. When filing the bug, set the verbosity to 10 (on Linux, `export AUTOGRAPH_VERBOSITY=10`) and attach the full output. Cause: converting <bound method NoMask.call of <deepctr.layers.utils.NoMask object at 0x0000029D80107948>>: AssertionError: Bad argument number for Name: 3, expecting 4\n",
      "WARNING:tensorflow:Entity <bound method NoMask.call of <deepctr.layers.utils.NoMask object at 0x0000029D80107948>> could not be transformed and will be executed as-is. Please report this to the AutgoGraph team. When filing the bug, set the verbosity to 10 (on Linux, `export AUTOGRAPH_VERBOSITY=10`) and attach the full output. Cause: converting <bound method NoMask.call of <deepctr.layers.utils.NoMask object at 0x0000029D80107948>>: AssertionError: Bad argument number for Name: 3, expecting 4\n",
      "WARNING: Entity <bound method NoMask.call of <deepctr.layers.utils.NoMask object at 0x0000029D80107948>> could not be transformed and will be executed as-is. Please report this to the AutgoGraph team. When filing the bug, set the verbosity to 10 (on Linux, `export AUTOGRAPH_VERBOSITY=10`) and attach the full output. Cause: converting <bound method NoMask.call of <deepctr.layers.utils.NoMask object at 0x0000029D80107948>>: AssertionError: Bad argument number for Name: 3, expecting 4\n",
      "WARNING:tensorflow:Entity <bound method NoMask.call of <deepctr.layers.utils.NoMask object at 0x0000029D80107948>> could not be transformed and will be executed as-is. Please report this to the AutgoGraph team. When filing the bug, set the verbosity to 10 (on Linux, `export AUTOGRAPH_VERBOSITY=10`) and attach the full output. Cause: converting <bound method NoMask.call of <deepctr.layers.utils.NoMask object at 0x0000029D80107948>>: AssertionError: Bad argument number for Name: 3, expecting 4\n",
      "WARNING: Entity <bound method NoMask.call of <deepctr.layers.utils.NoMask object at 0x0000029D80107948>> could not be transformed and will be executed as-is. Please report this to the AutgoGraph team. When filing the bug, set the verbosity to 10 (on Linux, `export AUTOGRAPH_VERBOSITY=10`) and attach the full output. Cause: converting <bound method NoMask.call of <deepctr.layers.utils.NoMask object at 0x0000029D80107948>>: AssertionError: Bad argument number for Name: 3, expecting 4\n",
      "WARNING:tensorflow:Entity <bound method NoMask.call of <deepctr.layers.utils.NoMask object at 0x0000029D80107948>> could not be transformed and will be executed as-is. Please report this to the AutgoGraph team. When filing the bug, set the verbosity to 10 (on Linux, `export AUTOGRAPH_VERBOSITY=10`) and attach the full output. Cause: converting <bound method NoMask.call of <deepctr.layers.utils.NoMask object at 0x0000029D80107948>>: AssertionError: Bad argument number for Name: 3, expecting 4\n",
      "WARNING: Entity <bound method NoMask.call of <deepctr.layers.utils.NoMask object at 0x0000029D80107948>> could not be transformed and will be executed as-is. Please report this to the AutgoGraph team. When filing the bug, set the verbosity to 10 (on Linux, `export AUTOGRAPH_VERBOSITY=10`) and attach the full output. Cause: converting <bound method NoMask.call of <deepctr.layers.utils.NoMask object at 0x0000029D80107948>>: AssertionError: Bad argument number for Name: 3, expecting 4\n",
      "WARNING:tensorflow:Entity <bound method NoMask.call of <deepctr.layers.utils.NoMask object at 0x0000029D80107948>> could not be transformed and will be executed as-is. Please report this to the AutgoGraph team. When filing the bug, set the verbosity to 10 (on Linux, `export AUTOGRAPH_VERBOSITY=10`) and attach the full output. Cause: converting <bound method NoMask.call of <deepctr.layers.utils.NoMask object at 0x0000029D80107948>>: AssertionError: Bad argument number for Name: 3, expecting 4\n",
      "WARNING: Entity <bound method NoMask.call of <deepctr.layers.utils.NoMask object at 0x0000029D80107948>> could not be transformed and will be executed as-is. Please report this to the AutgoGraph team. When filing the bug, set the verbosity to 10 (on Linux, `export AUTOGRAPH_VERBOSITY=10`) and attach the full output. Cause: converting <bound method NoMask.call of <deepctr.layers.utils.NoMask object at 0x0000029D80107948>>: AssertionError: Bad argument number for Name: 3, expecting 4\n",
      "WARNING:tensorflow:Entity <bound method NoMask.call of <deepctr.layers.utils.NoMask object at 0x0000029D80107948>> could not be transformed and will be executed as-is. Please report this to the AutgoGraph team. When filing the bug, set the verbosity to 10 (on Linux, `export AUTOGRAPH_VERBOSITY=10`) and attach the full output. Cause: converting <bound method NoMask.call of <deepctr.layers.utils.NoMask object at 0x0000029D80107948>>: AssertionError: Bad argument number for Name: 3, expecting 4\n",
      "WARNING: Entity <bound method NoMask.call of <deepctr.layers.utils.NoMask object at 0x0000029D80107948>> could not be transformed and will be executed as-is. Please report this to the AutgoGraph team. When filing the bug, set the verbosity to 10 (on Linux, `export AUTOGRAPH_VERBOSITY=10`) and attach the full output. Cause: converting <bound method NoMask.call of <deepctr.layers.utils.NoMask object at 0x0000029D80107948>>: AssertionError: Bad argument number for Name: 3, expecting 4\n",
      "WARNING:tensorflow:Entity <bound method NoMask.call of <deepctr.layers.utils.NoMask object at 0x0000029D80107948>> could not be transformed and will be executed as-is. Please report this to the AutgoGraph team. When filing the bug, set the verbosity to 10 (on Linux, `export AUTOGRAPH_VERBOSITY=10`) and attach the full output. Cause: converting <bound method NoMask.call of <deepctr.layers.utils.NoMask object at 0x0000029D80107948>>: AssertionError: Bad argument number for Name: 3, expecting 4\n",
      "WARNING: Entity <bound method NoMask.call of <deepctr.layers.utils.NoMask object at 0x0000029D80107948>> could not be transformed and will be executed as-is. Please report this to the AutgoGraph team. When filing the bug, set the verbosity to 10 (on Linux, `export AUTOGRAPH_VERBOSITY=10`) and attach the full output. Cause: converting <bound method NoMask.call of <deepctr.layers.utils.NoMask object at 0x0000029D80107948>>: AssertionError: Bad argument number for Name: 3, expecting 4\n",
      "WARNING:tensorflow:Entity <bound method NoMask.call of <deepctr.layers.utils.NoMask object at 0x0000029D80107948>> could not be transformed and will be executed as-is. Please report this to the AutgoGraph team. When filing the bug, set the verbosity to 10 (on Linux, `export AUTOGRAPH_VERBOSITY=10`) and attach the full output. Cause: converting <bound method NoMask.call of <deepctr.layers.utils.NoMask object at 0x0000029D80107948>>: AssertionError: Bad argument number for Name: 3, expecting 4\n",
      "WARNING: Entity <bound method NoMask.call of <deepctr.layers.utils.NoMask object at 0x0000029D80107948>> could not be transformed and will be executed as-is. Please report this to the AutgoGraph team. When filing the bug, set the verbosity to 10 (on Linux, `export AUTOGRAPH_VERBOSITY=10`) and attach the full output. Cause: converting <bound method NoMask.call of <deepctr.layers.utils.NoMask object at 0x0000029D80107948>>: AssertionError: Bad argument number for Name: 3, expecting 4\n",
      "WARNING:tensorflow:Entity <bound method Linear.call of <deepctr.layers.utils.Linear object at 0x0000029D82E1EE88>> could not be transformed and will be executed as-is. Please report this to the AutgoGraph team. When filing the bug, set the verbosity to 10 (on Linux, `export AUTOGRAPH_VERBOSITY=10`) and attach the full output. Cause: converting <bound method Linear.call of <deepctr.layers.utils.Linear object at 0x0000029D82E1EE88>>: AssertionError: Bad argument number for Name: 3, expecting 4\n",
      "WARNING: Entity <bound method Linear.call of <deepctr.layers.utils.Linear object at 0x0000029D82E1EE88>> could not be transformed and will be executed as-is. Please report this to the AutgoGraph team. When filing the bug, set the verbosity to 10 (on Linux, `export AUTOGRAPH_VERBOSITY=10`) and attach the full output. Cause: converting <bound method Linear.call of <deepctr.layers.utils.Linear object at 0x0000029D82E1EE88>>: AssertionError: Bad argument number for Name: 3, expecting 4\n",
      "WARNING:tensorflow:From C:\\Users\\inump\\anaconda3\\lib\\site-packages\\deepctr\\layers\\utils.py:218: calling reduce_sum_v1 (from tensorflow.python.ops.math_ops) with keep_dims is deprecated and will be removed in a future version.\n",
      "Instructions for updating:\n",
      "keep_dims is deprecated, use keepdims instead\n"
     ]
    },
    {
     "name": "stdout",
     "output_type": "stream",
     "text": [
      "WARNING:tensorflow:Entity <bound method NoMask.call of <deepctr.layers.utils.NoMask object at 0x0000029D82E10988>> could not be transformed and will be executed as-is. Please report this to the AutgoGraph team. When filing the bug, set the verbosity to 10 (on Linux, `export AUTOGRAPH_VERBOSITY=10`) and attach the full output. Cause: converting <bound method NoMask.call of <deepctr.layers.utils.NoMask object at 0x0000029D82E10988>>: AssertionError: Bad argument number for Name: 3, expecting 4\n",
      "WARNING: Entity <bound method NoMask.call of <deepctr.layers.utils.NoMask object at 0x0000029D82E10988>> could not be transformed and will be executed as-is. Please report this to the AutgoGraph team. When filing the bug, set the verbosity to 10 (on Linux, `export AUTOGRAPH_VERBOSITY=10`) and attach the full output. Cause: converting <bound method NoMask.call of <deepctr.layers.utils.NoMask object at 0x0000029D82E10988>>: AssertionError: Bad argument number for Name: 3, expecting 4\n",
      "WARNING:tensorflow:Entity <bound method NoMask.call of <deepctr.layers.utils.NoMask object at 0x0000029D82FCC548>> could not be transformed and will be executed as-is. Please report this to the AutgoGraph team. When filing the bug, set the verbosity to 10 (on Linux, `export AUTOGRAPH_VERBOSITY=10`) and attach the full output. Cause: converting <bound method NoMask.call of <deepctr.layers.utils.NoMask object at 0x0000029D82FCC548>>: AssertionError: Bad argument number for Name: 3, expecting 4\n",
      "WARNING: Entity <bound method NoMask.call of <deepctr.layers.utils.NoMask object at 0x0000029D82FCC548>> could not be transformed and will be executed as-is. Please report this to the AutgoGraph team. When filing the bug, set the verbosity to 10 (on Linux, `export AUTOGRAPH_VERBOSITY=10`) and attach the full output. Cause: converting <bound method NoMask.call of <deepctr.layers.utils.NoMask object at 0x0000029D82FCC548>>: AssertionError: Bad argument number for Name: 3, expecting 4\n",
      "WARNING:tensorflow:Entity <bound method NoMask.call of <deepctr.layers.utils.NoMask object at 0x0000029D82FCC548>> could not be transformed and will be executed as-is. Please report this to the AutgoGraph team. When filing the bug, set the verbosity to 10 (on Linux, `export AUTOGRAPH_VERBOSITY=10`) and attach the full output. Cause: converting <bound method NoMask.call of <deepctr.layers.utils.NoMask object at 0x0000029D82FCC548>>: AssertionError: Bad argument number for Name: 3, expecting 4\n",
      "WARNING: Entity <bound method NoMask.call of <deepctr.layers.utils.NoMask object at 0x0000029D82FCC548>> could not be transformed and will be executed as-is. Please report this to the AutgoGraph team. When filing the bug, set the verbosity to 10 (on Linux, `export AUTOGRAPH_VERBOSITY=10`) and attach the full output. Cause: converting <bound method NoMask.call of <deepctr.layers.utils.NoMask object at 0x0000029D82FCC548>>: AssertionError: Bad argument number for Name: 3, expecting 4\n",
      "WARNING:tensorflow:Entity <bound method NoMask.call of <deepctr.layers.utils.NoMask object at 0x0000029D82FCC548>> could not be transformed and will be executed as-is. Please report this to the AutgoGraph team. When filing the bug, set the verbosity to 10 (on Linux, `export AUTOGRAPH_VERBOSITY=10`) and attach the full output. Cause: converting <bound method NoMask.call of <deepctr.layers.utils.NoMask object at 0x0000029D82FCC548>>: AssertionError: Bad argument number for Name: 3, expecting 4\n",
      "WARNING: Entity <bound method NoMask.call of <deepctr.layers.utils.NoMask object at 0x0000029D82FCC548>> could not be transformed and will be executed as-is. Please report this to the AutgoGraph team. When filing the bug, set the verbosity to 10 (on Linux, `export AUTOGRAPH_VERBOSITY=10`) and attach the full output. Cause: converting <bound method NoMask.call of <deepctr.layers.utils.NoMask object at 0x0000029D82FCC548>>: AssertionError: Bad argument number for Name: 3, expecting 4\n",
      "WARNING:tensorflow:Entity <bound method NoMask.call of <deepctr.layers.utils.NoMask object at 0x0000029D82FCC548>> could not be transformed and will be executed as-is. Please report this to the AutgoGraph team. When filing the bug, set the verbosity to 10 (on Linux, `export AUTOGRAPH_VERBOSITY=10`) and attach the full output. Cause: converting <bound method NoMask.call of <deepctr.layers.utils.NoMask object at 0x0000029D82FCC548>>: AssertionError: Bad argument number for Name: 3, expecting 4\n",
      "WARNING: Entity <bound method NoMask.call of <deepctr.layers.utils.NoMask object at 0x0000029D82FCC548>> could not be transformed and will be executed as-is. Please report this to the AutgoGraph team. When filing the bug, set the verbosity to 10 (on Linux, `export AUTOGRAPH_VERBOSITY=10`) and attach the full output. Cause: converting <bound method NoMask.call of <deepctr.layers.utils.NoMask object at 0x0000029D82FCC548>>: AssertionError: Bad argument number for Name: 3, expecting 4\n",
      "WARNING:tensorflow:Entity <bound method NoMask.call of <deepctr.layers.utils.NoMask object at 0x0000029D82FCC548>> could not be transformed and will be executed as-is. Please report this to the AutgoGraph team. When filing the bug, set the verbosity to 10 (on Linux, `export AUTOGRAPH_VERBOSITY=10`) and attach the full output. Cause: converting <bound method NoMask.call of <deepctr.layers.utils.NoMask object at 0x0000029D82FCC548>>: AssertionError: Bad argument number for Name: 3, expecting 4\n",
      "WARNING: Entity <bound method NoMask.call of <deepctr.layers.utils.NoMask object at 0x0000029D82FCC548>> could not be transformed and will be executed as-is. Please report this to the AutgoGraph team. When filing the bug, set the verbosity to 10 (on Linux, `export AUTOGRAPH_VERBOSITY=10`) and attach the full output. Cause: converting <bound method NoMask.call of <deepctr.layers.utils.NoMask object at 0x0000029D82FCC548>>: AssertionError: Bad argument number for Name: 3, expecting 4\n",
      "WARNING:tensorflow:Entity <bound method NoMask.call of <deepctr.layers.utils.NoMask object at 0x0000029D82FCC548>> could not be transformed and will be executed as-is. Please report this to the AutgoGraph team. When filing the bug, set the verbosity to 10 (on Linux, `export AUTOGRAPH_VERBOSITY=10`) and attach the full output. Cause: converting <bound method NoMask.call of <deepctr.layers.utils.NoMask object at 0x0000029D82FCC548>>: AssertionError: Bad argument number for Name: 3, expecting 4\n",
      "WARNING: Entity <bound method NoMask.call of <deepctr.layers.utils.NoMask object at 0x0000029D82FCC548>> could not be transformed and will be executed as-is. Please report this to the AutgoGraph team. When filing the bug, set the verbosity to 10 (on Linux, `export AUTOGRAPH_VERBOSITY=10`) and attach the full output. Cause: converting <bound method NoMask.call of <deepctr.layers.utils.NoMask object at 0x0000029D82FCC548>>: AssertionError: Bad argument number for Name: 3, expecting 4\n",
      "WARNING:tensorflow:Entity <bound method NoMask.call of <deepctr.layers.utils.NoMask object at 0x0000029D82FCC548>> could not be transformed and will be executed as-is. Please report this to the AutgoGraph team. When filing the bug, set the verbosity to 10 (on Linux, `export AUTOGRAPH_VERBOSITY=10`) and attach the full output. Cause: converting <bound method NoMask.call of <deepctr.layers.utils.NoMask object at 0x0000029D82FCC548>>: AssertionError: Bad argument number for Name: 3, expecting 4\n",
      "WARNING: Entity <bound method NoMask.call of <deepctr.layers.utils.NoMask object at 0x0000029D82FCC548>> could not be transformed and will be executed as-is. Please report this to the AutgoGraph team. When filing the bug, set the verbosity to 10 (on Linux, `export AUTOGRAPH_VERBOSITY=10`) and attach the full output. Cause: converting <bound method NoMask.call of <deepctr.layers.utils.NoMask object at 0x0000029D82FCC548>>: AssertionError: Bad argument number for Name: 3, expecting 4\n",
      "WARNING:tensorflow:Entity <bound method NoMask.call of <deepctr.layers.utils.NoMask object at 0x0000029D82FCC548>> could not be transformed and will be executed as-is. Please report this to the AutgoGraph team. When filing the bug, set the verbosity to 10 (on Linux, `export AUTOGRAPH_VERBOSITY=10`) and attach the full output. Cause: converting <bound method NoMask.call of <deepctr.layers.utils.NoMask object at 0x0000029D82FCC548>>: AssertionError: Bad argument number for Name: 3, expecting 4\n"
     ]
    },
    {
     "name": "stdout",
     "output_type": "stream",
     "text": [
      "WARNING: Entity <bound method NoMask.call of <deepctr.layers.utils.NoMask object at 0x0000029D82FCC548>> could not be transformed and will be executed as-is. Please report this to the AutgoGraph team. When filing the bug, set the verbosity to 10 (on Linux, `export AUTOGRAPH_VERBOSITY=10`) and attach the full output. Cause: converting <bound method NoMask.call of <deepctr.layers.utils.NoMask object at 0x0000029D82FCC548>>: AssertionError: Bad argument number for Name: 3, expecting 4\n",
      "WARNING:tensorflow:Entity <bound method NoMask.call of <deepctr.layers.utils.NoMask object at 0x0000029D82FCC548>> could not be transformed and will be executed as-is. Please report this to the AutgoGraph team. When filing the bug, set the verbosity to 10 (on Linux, `export AUTOGRAPH_VERBOSITY=10`) and attach the full output. Cause: converting <bound method NoMask.call of <deepctr.layers.utils.NoMask object at 0x0000029D82FCC548>>: AssertionError: Bad argument number for Name: 3, expecting 4\n",
      "WARNING: Entity <bound method NoMask.call of <deepctr.layers.utils.NoMask object at 0x0000029D82FCC548>> could not be transformed and will be executed as-is. Please report this to the AutgoGraph team. When filing the bug, set the verbosity to 10 (on Linux, `export AUTOGRAPH_VERBOSITY=10`) and attach the full output. Cause: converting <bound method NoMask.call of <deepctr.layers.utils.NoMask object at 0x0000029D82FCC548>>: AssertionError: Bad argument number for Name: 3, expecting 4\n",
      "WARNING:tensorflow:Entity <bound method NoMask.call of <deepctr.layers.utils.NoMask object at 0x0000029D82FCC548>> could not be transformed and will be executed as-is. Please report this to the AutgoGraph team. When filing the bug, set the verbosity to 10 (on Linux, `export AUTOGRAPH_VERBOSITY=10`) and attach the full output. Cause: converting <bound method NoMask.call of <deepctr.layers.utils.NoMask object at 0x0000029D82FCC548>>: AssertionError: Bad argument number for Name: 3, expecting 4\n",
      "WARNING: Entity <bound method NoMask.call of <deepctr.layers.utils.NoMask object at 0x0000029D82FCC548>> could not be transformed and will be executed as-is. Please report this to the AutgoGraph team. When filing the bug, set the verbosity to 10 (on Linux, `export AUTOGRAPH_VERBOSITY=10`) and attach the full output. Cause: converting <bound method NoMask.call of <deepctr.layers.utils.NoMask object at 0x0000029D82FCC548>>: AssertionError: Bad argument number for Name: 3, expecting 4\n",
      "WARNING:tensorflow:Entity <bound method NoMask.call of <deepctr.layers.utils.NoMask object at 0x0000029D82FCC548>> could not be transformed and will be executed as-is. Please report this to the AutgoGraph team. When filing the bug, set the verbosity to 10 (on Linux, `export AUTOGRAPH_VERBOSITY=10`) and attach the full output. Cause: converting <bound method NoMask.call of <deepctr.layers.utils.NoMask object at 0x0000029D82FCC548>>: AssertionError: Bad argument number for Name: 3, expecting 4\n",
      "WARNING: Entity <bound method NoMask.call of <deepctr.layers.utils.NoMask object at 0x0000029D82FCC548>> could not be transformed and will be executed as-is. Please report this to the AutgoGraph team. When filing the bug, set the verbosity to 10 (on Linux, `export AUTOGRAPH_VERBOSITY=10`) and attach the full output. Cause: converting <bound method NoMask.call of <deepctr.layers.utils.NoMask object at 0x0000029D82FCC548>>: AssertionError: Bad argument number for Name: 3, expecting 4\n",
      "WARNING:tensorflow:Entity <bound method NoMask.call of <deepctr.layers.utils.NoMask object at 0x0000029D82FCC548>> could not be transformed and will be executed as-is. Please report this to the AutgoGraph team. When filing the bug, set the verbosity to 10 (on Linux, `export AUTOGRAPH_VERBOSITY=10`) and attach the full output. Cause: converting <bound method NoMask.call of <deepctr.layers.utils.NoMask object at 0x0000029D82FCC548>>: AssertionError: Bad argument number for Name: 3, expecting 4\n",
      "WARNING: Entity <bound method NoMask.call of <deepctr.layers.utils.NoMask object at 0x0000029D82FCC548>> could not be transformed and will be executed as-is. Please report this to the AutgoGraph team. When filing the bug, set the verbosity to 10 (on Linux, `export AUTOGRAPH_VERBOSITY=10`) and attach the full output. Cause: converting <bound method NoMask.call of <deepctr.layers.utils.NoMask object at 0x0000029D82FCC548>>: AssertionError: Bad argument number for Name: 3, expecting 4\n",
      "WARNING:tensorflow:Entity <bound method NoMask.call of <deepctr.layers.utils.NoMask object at 0x0000029D82FCC548>> could not be transformed and will be executed as-is. Please report this to the AutgoGraph team. When filing the bug, set the verbosity to 10 (on Linux, `export AUTOGRAPH_VERBOSITY=10`) and attach the full output. Cause: converting <bound method NoMask.call of <deepctr.layers.utils.NoMask object at 0x0000029D82FCC548>>: AssertionError: Bad argument number for Name: 3, expecting 4\n",
      "WARNING: Entity <bound method NoMask.call of <deepctr.layers.utils.NoMask object at 0x0000029D82FCC548>> could not be transformed and will be executed as-is. Please report this to the AutgoGraph team. When filing the bug, set the verbosity to 10 (on Linux, `export AUTOGRAPH_VERBOSITY=10`) and attach the full output. Cause: converting <bound method NoMask.call of <deepctr.layers.utils.NoMask object at 0x0000029D82FCC548>>: AssertionError: Bad argument number for Name: 3, expecting 4\n",
      "WARNING:tensorflow:Entity <bound method NoMask.call of <deepctr.layers.utils.NoMask object at 0x0000029D82FCC548>> could not be transformed and will be executed as-is. Please report this to the AutgoGraph team. When filing the bug, set the verbosity to 10 (on Linux, `export AUTOGRAPH_VERBOSITY=10`) and attach the full output. Cause: converting <bound method NoMask.call of <deepctr.layers.utils.NoMask object at 0x0000029D82FCC548>>: AssertionError: Bad argument number for Name: 3, expecting 4\n",
      "WARNING: Entity <bound method NoMask.call of <deepctr.layers.utils.NoMask object at 0x0000029D82FCC548>> could not be transformed and will be executed as-is. Please report this to the AutgoGraph team. When filing the bug, set the verbosity to 10 (on Linux, `export AUTOGRAPH_VERBOSITY=10`) and attach the full output. Cause: converting <bound method NoMask.call of <deepctr.layers.utils.NoMask object at 0x0000029D82FCC548>>: AssertionError: Bad argument number for Name: 3, expecting 4\n",
      "WARNING:tensorflow:Entity <bound method NoMask.call of <deepctr.layers.utils.NoMask object at 0x0000029D82FCC548>> could not be transformed and will be executed as-is. Please report this to the AutgoGraph team. When filing the bug, set the verbosity to 10 (on Linux, `export AUTOGRAPH_VERBOSITY=10`) and attach the full output. Cause: converting <bound method NoMask.call of <deepctr.layers.utils.NoMask object at 0x0000029D82FCC548>>: AssertionError: Bad argument number for Name: 3, expecting 4\n",
      "WARNING: Entity <bound method NoMask.call of <deepctr.layers.utils.NoMask object at 0x0000029D82FCC548>> could not be transformed and will be executed as-is. Please report this to the AutgoGraph team. When filing the bug, set the verbosity to 10 (on Linux, `export AUTOGRAPH_VERBOSITY=10`) and attach the full output. Cause: converting <bound method NoMask.call of <deepctr.layers.utils.NoMask object at 0x0000029D82FCC548>>: AssertionError: Bad argument number for Name: 3, expecting 4\n",
      "WARNING:tensorflow:Entity <bound method NoMask.call of <deepctr.layers.utils.NoMask object at 0x0000029D82FCC548>> could not be transformed and will be executed as-is. Please report this to the AutgoGraph team. When filing the bug, set the verbosity to 10 (on Linux, `export AUTOGRAPH_VERBOSITY=10`) and attach the full output. Cause: converting <bound method NoMask.call of <deepctr.layers.utils.NoMask object at 0x0000029D82FCC548>>: AssertionError: Bad argument number for Name: 3, expecting 4\n",
      "WARNING: Entity <bound method NoMask.call of <deepctr.layers.utils.NoMask object at 0x0000029D82FCC548>> could not be transformed and will be executed as-is. Please report this to the AutgoGraph team. When filing the bug, set the verbosity to 10 (on Linux, `export AUTOGRAPH_VERBOSITY=10`) and attach the full output. Cause: converting <bound method NoMask.call of <deepctr.layers.utils.NoMask object at 0x0000029D82FCC548>>: AssertionError: Bad argument number for Name: 3, expecting 4\n",
      "WARNING:tensorflow:Entity <bound method NoMask.call of <deepctr.layers.utils.NoMask object at 0x0000029D82FCC548>> could not be transformed and will be executed as-is. Please report this to the AutgoGraph team. When filing the bug, set the verbosity to 10 (on Linux, `export AUTOGRAPH_VERBOSITY=10`) and attach the full output. Cause: converting <bound method NoMask.call of <deepctr.layers.utils.NoMask object at 0x0000029D82FCC548>>: AssertionError: Bad argument number for Name: 3, expecting 4\n"
     ]
    },
    {
     "name": "stdout",
     "output_type": "stream",
     "text": [
      "WARNING: Entity <bound method NoMask.call of <deepctr.layers.utils.NoMask object at 0x0000029D82FCC548>> could not be transformed and will be executed as-is. Please report this to the AutgoGraph team. When filing the bug, set the verbosity to 10 (on Linux, `export AUTOGRAPH_VERBOSITY=10`) and attach the full output. Cause: converting <bound method NoMask.call of <deepctr.layers.utils.NoMask object at 0x0000029D82FCC548>>: AssertionError: Bad argument number for Name: 3, expecting 4\n",
      "WARNING:tensorflow:Entity <bound method NoMask.call of <deepctr.layers.utils.NoMask object at 0x0000029D82FCC548>> could not be transformed and will be executed as-is. Please report this to the AutgoGraph team. When filing the bug, set the verbosity to 10 (on Linux, `export AUTOGRAPH_VERBOSITY=10`) and attach the full output. Cause: converting <bound method NoMask.call of <deepctr.layers.utils.NoMask object at 0x0000029D82FCC548>>: AssertionError: Bad argument number for Name: 3, expecting 4\n",
      "WARNING: Entity <bound method NoMask.call of <deepctr.layers.utils.NoMask object at 0x0000029D82FCC548>> could not be transformed and will be executed as-is. Please report this to the AutgoGraph team. When filing the bug, set the verbosity to 10 (on Linux, `export AUTOGRAPH_VERBOSITY=10`) and attach the full output. Cause: converting <bound method NoMask.call of <deepctr.layers.utils.NoMask object at 0x0000029D82FCC548>>: AssertionError: Bad argument number for Name: 3, expecting 4\n",
      "WARNING:tensorflow:Entity <bound method NoMask.call of <deepctr.layers.utils.NoMask object at 0x0000029D82FCC548>> could not be transformed and will be executed as-is. Please report this to the AutgoGraph team. When filing the bug, set the verbosity to 10 (on Linux, `export AUTOGRAPH_VERBOSITY=10`) and attach the full output. Cause: converting <bound method NoMask.call of <deepctr.layers.utils.NoMask object at 0x0000029D82FCC548>>: AssertionError: Bad argument number for Name: 3, expecting 4\n",
      "WARNING: Entity <bound method NoMask.call of <deepctr.layers.utils.NoMask object at 0x0000029D82FCC548>> could not be transformed and will be executed as-is. Please report this to the AutgoGraph team. When filing the bug, set the verbosity to 10 (on Linux, `export AUTOGRAPH_VERBOSITY=10`) and attach the full output. Cause: converting <bound method NoMask.call of <deepctr.layers.utils.NoMask object at 0x0000029D82FCC548>>: AssertionError: Bad argument number for Name: 3, expecting 4\n",
      "WARNING:tensorflow:Entity <bound method NoMask.call of <deepctr.layers.utils.NoMask object at 0x0000029D82FCC548>> could not be transformed and will be executed as-is. Please report this to the AutgoGraph team. When filing the bug, set the verbosity to 10 (on Linux, `export AUTOGRAPH_VERBOSITY=10`) and attach the full output. Cause: converting <bound method NoMask.call of <deepctr.layers.utils.NoMask object at 0x0000029D82FCC548>>: AssertionError: Bad argument number for Name: 3, expecting 4\n",
      "WARNING: Entity <bound method NoMask.call of <deepctr.layers.utils.NoMask object at 0x0000029D82FCC548>> could not be transformed and will be executed as-is. Please report this to the AutgoGraph team. When filing the bug, set the verbosity to 10 (on Linux, `export AUTOGRAPH_VERBOSITY=10`) and attach the full output. Cause: converting <bound method NoMask.call of <deepctr.layers.utils.NoMask object at 0x0000029D82FCC548>>: AssertionError: Bad argument number for Name: 3, expecting 4\n",
      "WARNING:tensorflow:Entity <bound method NoMask.call of <deepctr.layers.utils.NoMask object at 0x0000029D82FCC548>> could not be transformed and will be executed as-is. Please report this to the AutgoGraph team. When filing the bug, set the verbosity to 10 (on Linux, `export AUTOGRAPH_VERBOSITY=10`) and attach the full output. Cause: converting <bound method NoMask.call of <deepctr.layers.utils.NoMask object at 0x0000029D82FCC548>>: AssertionError: Bad argument number for Name: 3, expecting 4\n",
      "WARNING: Entity <bound method NoMask.call of <deepctr.layers.utils.NoMask object at 0x0000029D82FCC548>> could not be transformed and will be executed as-is. Please report this to the AutgoGraph team. When filing the bug, set the verbosity to 10 (on Linux, `export AUTOGRAPH_VERBOSITY=10`) and attach the full output. Cause: converting <bound method NoMask.call of <deepctr.layers.utils.NoMask object at 0x0000029D82FCC548>>: AssertionError: Bad argument number for Name: 3, expecting 4\n",
      "WARNING:tensorflow:Entity <bound method NoMask.call of <deepctr.layers.utils.NoMask object at 0x0000029D82FCC548>> could not be transformed and will be executed as-is. Please report this to the AutgoGraph team. When filing the bug, set the verbosity to 10 (on Linux, `export AUTOGRAPH_VERBOSITY=10`) and attach the full output. Cause: converting <bound method NoMask.call of <deepctr.layers.utils.NoMask object at 0x0000029D82FCC548>>: AssertionError: Bad argument number for Name: 3, expecting 4\n",
      "WARNING: Entity <bound method NoMask.call of <deepctr.layers.utils.NoMask object at 0x0000029D82FCC548>> could not be transformed and will be executed as-is. Please report this to the AutgoGraph team. When filing the bug, set the verbosity to 10 (on Linux, `export AUTOGRAPH_VERBOSITY=10`) and attach the full output. Cause: converting <bound method NoMask.call of <deepctr.layers.utils.NoMask object at 0x0000029D82FCC548>>: AssertionError: Bad argument number for Name: 3, expecting 4\n",
      "WARNING:tensorflow:Entity <bound method NoMask.call of <deepctr.layers.utils.NoMask object at 0x0000029D82FCC548>> could not be transformed and will be executed as-is. Please report this to the AutgoGraph team. When filing the bug, set the verbosity to 10 (on Linux, `export AUTOGRAPH_VERBOSITY=10`) and attach the full output. Cause: converting <bound method NoMask.call of <deepctr.layers.utils.NoMask object at 0x0000029D82FCC548>>: AssertionError: Bad argument number for Name: 3, expecting 4\n",
      "WARNING: Entity <bound method NoMask.call of <deepctr.layers.utils.NoMask object at 0x0000029D82FCC548>> could not be transformed and will be executed as-is. Please report this to the AutgoGraph team. When filing the bug, set the verbosity to 10 (on Linux, `export AUTOGRAPH_VERBOSITY=10`) and attach the full output. Cause: converting <bound method NoMask.call of <deepctr.layers.utils.NoMask object at 0x0000029D82FCC548>>: AssertionError: Bad argument number for Name: 3, expecting 4\n",
      "WARNING:tensorflow:Entity <bound method NoMask.call of <deepctr.layers.utils.NoMask object at 0x0000029D82FCC548>> could not be transformed and will be executed as-is. Please report this to the AutgoGraph team. When filing the bug, set the verbosity to 10 (on Linux, `export AUTOGRAPH_VERBOSITY=10`) and attach the full output. Cause: converting <bound method NoMask.call of <deepctr.layers.utils.NoMask object at 0x0000029D82FCC548>>: AssertionError: Bad argument number for Name: 3, expecting 4\n",
      "WARNING: Entity <bound method NoMask.call of <deepctr.layers.utils.NoMask object at 0x0000029D82FCC548>> could not be transformed and will be executed as-is. Please report this to the AutgoGraph team. When filing the bug, set the verbosity to 10 (on Linux, `export AUTOGRAPH_VERBOSITY=10`) and attach the full output. Cause: converting <bound method NoMask.call of <deepctr.layers.utils.NoMask object at 0x0000029D82FCC548>>: AssertionError: Bad argument number for Name: 3, expecting 4\n",
      "WARNING:tensorflow:Entity <bound method NoMask.call of <deepctr.layers.utils.NoMask object at 0x0000029D82FCC548>> could not be transformed and will be executed as-is. Please report this to the AutgoGraph team. When filing the bug, set the verbosity to 10 (on Linux, `export AUTOGRAPH_VERBOSITY=10`) and attach the full output. Cause: converting <bound method NoMask.call of <deepctr.layers.utils.NoMask object at 0x0000029D82FCC548>>: AssertionError: Bad argument number for Name: 3, expecting 4\n",
      "WARNING: Entity <bound method NoMask.call of <deepctr.layers.utils.NoMask object at 0x0000029D82FCC548>> could not be transformed and will be executed as-is. Please report this to the AutgoGraph team. When filing the bug, set the verbosity to 10 (on Linux, `export AUTOGRAPH_VERBOSITY=10`) and attach the full output. Cause: converting <bound method NoMask.call of <deepctr.layers.utils.NoMask object at 0x0000029D82FCC548>>: AssertionError: Bad argument number for Name: 3, expecting 4\n"
     ]
    },
    {
     "name": "stdout",
     "output_type": "stream",
     "text": [
      "WARNING:tensorflow:From C:\\Users\\inump\\anaconda3\\lib\\site-packages\\tensorflow\\python\\ops\\init_ops.py:1288: calling VarianceScaling.__init__ (from tensorflow.python.ops.init_ops) with dtype is deprecated and will be removed in a future version.\n",
      "Instructions for updating:\n",
      "Call initializer instance with the dtype argument instead of passing it to the constructor\n",
      "WARNING:tensorflow:Entity <bound method DNN.call of <deepctr.layers.core.DNN object at 0x0000029D831ACA88>> could not be transformed and will be executed as-is. Please report this to the AutgoGraph team. When filing the bug, set the verbosity to 10 (on Linux, `export AUTOGRAPH_VERBOSITY=10`) and attach the full output. Cause: converting <bound method DNN.call of <deepctr.layers.core.DNN object at 0x0000029D831ACA88>>: AttributeError: module 'gast' has no attribute 'Index'\n",
      "WARNING: Entity <bound method DNN.call of <deepctr.layers.core.DNN object at 0x0000029D831ACA88>> could not be transformed and will be executed as-is. Please report this to the AutgoGraph team. When filing the bug, set the verbosity to 10 (on Linux, `export AUTOGRAPH_VERBOSITY=10`) and attach the full output. Cause: converting <bound method DNN.call of <deepctr.layers.core.DNN object at 0x0000029D831ACA88>>: AttributeError: module 'gast' has no attribute 'Index'\n",
      "make sure the activation function use training flag properly call() got an unexpected keyword argument 'training'\n",
      "make sure the activation function use training flag properly call() got an unexpected keyword argument 'training'\n",
      "WARNING:tensorflow:Entity <bound method Add.call of <deepctr.layers.utils.Add object at 0x0000029D83200448>> could not be transformed and will be executed as-is. Please report this to the AutgoGraph team. When filing the bug, set the verbosity to 10 (on Linux, `export AUTOGRAPH_VERBOSITY=10`) and attach the full output. Cause: converting <bound method Add.call of <deepctr.layers.utils.Add object at 0x0000029D83200448>>: AttributeError: module 'gast' has no attribute 'Index'\n",
      "WARNING: Entity <bound method Add.call of <deepctr.layers.utils.Add object at 0x0000029D83200448>> could not be transformed and will be executed as-is. Please report this to the AutgoGraph team. When filing the bug, set the verbosity to 10 (on Linux, `export AUTOGRAPH_VERBOSITY=10`) and attach the full output. Cause: converting <bound method Add.call of <deepctr.layers.utils.Add object at 0x0000029D83200448>>: AttributeError: module 'gast' has no attribute 'Index'\n",
      "WARNING:tensorflow:Entity <bound method PredictionLayer.call of <deepctr.layers.core.PredictionLayer object at 0x0000029D8332DDC8>> could not be transformed and will be executed as-is. Please report this to the AutgoGraph team. When filing the bug, set the verbosity to 10 (on Linux, `export AUTOGRAPH_VERBOSITY=10`) and attach the full output. Cause: converting <bound method PredictionLayer.call of <deepctr.layers.core.PredictionLayer object at 0x0000029D8332DDC8>>: AssertionError: Bad argument number for Name: 3, expecting 4\n",
      "WARNING: Entity <bound method PredictionLayer.call of <deepctr.layers.core.PredictionLayer object at 0x0000029D8332DDC8>> could not be transformed and will be executed as-is. Please report this to the AutgoGraph team. When filing the bug, set the verbosity to 10 (on Linux, `export AUTOGRAPH_VERBOSITY=10`) and attach the full output. Cause: converting <bound method PredictionLayer.call of <deepctr.layers.core.PredictionLayer object at 0x0000029D8332DDC8>>: AssertionError: Bad argument number for Name: 3, expecting 4\n"
     ]
    }
   ],
   "source": [
    "model = WDL(linear_feature_columns, dnn_feature_columns, dnn_hidden_units=(128, 128), l2_reg_embedding=1e-5,\n",
    "            l2_reg_dnn = 0, l2_reg_linear = 1e-5, seed = 1024, dnn_dropout = 0, dnn_activation = 'relu', task = 'binary')\n",
    "\n",
    "\n",
    "model.compile(\"adam\", \"mse\", metrics=['mse'])"
   ]
  },
  {
   "cell_type": "code",
   "execution_count": 24,
   "metadata": {
    "colab": {
     "base_uri": "https://localhost:8080/"
    },
    "id": "SePNSTyWg2s1",
    "outputId": "9cd4303a-c5da-48c6-e119-af55d4834a7c"
   },
   "outputs": [
    {
     "name": "stdout",
     "output_type": "stream",
     "text": [
      "Train on 55960 samples, validate on 13990 samples\n",
      "Epoch 1/10\n",
      "55960/55960 - 27s - loss: 0.0826 - mean_squared_error: 0.0825 - val_loss: 0.0704 - val_mean_squared_error: 0.0700\n",
      "Epoch 2/10\n",
      "55960/55960 - 18s - loss: 0.0634 - mean_squared_error: 0.0627 - val_loss: 0.0719 - val_mean_squared_error: 0.0708\n",
      "Epoch 3/10\n",
      "55960/55960 - 19s - loss: 0.0058 - mean_squared_error: 0.0046 - val_loss: 0.0736 - val_mean_squared_error: 0.0724\n",
      "Epoch 4/10\n",
      "55960/55960 - 19s - loss: 0.0013 - mean_squared_error: 2.0388e-04 - val_loss: 0.0754 - val_mean_squared_error: 0.0745\n",
      "Epoch 5/10\n",
      "55960/55960 - 22s - loss: 9.5905e-04 - mean_squared_error: 1.4401e-04 - val_loss: 0.0800 - val_mean_squared_error: 0.0793\n",
      "Epoch 6/10\n",
      "55960/55960 - 23s - loss: 7.4344e-04 - mean_squared_error: 9.3229e-05 - val_loss: 0.0774 - val_mean_squared_error: 0.0768\n",
      "Epoch 7/10\n",
      "55960/55960 - 18s - loss: 6.4246e-04 - mean_squared_error: 1.1025e-04 - val_loss: 0.0758 - val_mean_squared_error: 0.0753\n",
      "Epoch 8/10\n",
      "55960/55960 - 17s - loss: 5.7308e-04 - mean_squared_error: 1.2712e-04 - val_loss: 0.0775 - val_mean_squared_error: 0.0771\n",
      "Epoch 9/10\n",
      "55960/55960 - 20s - loss: 4.7301e-04 - mean_squared_error: 9.4477e-05 - val_loss: 0.0791 - val_mean_squared_error: 0.0787\n",
      "Epoch 10/10\n",
      "55960/55960 - 18s - loss: 4.1308e-04 - mean_squared_error: 8.5051e-05 - val_loss: 0.0806 - val_mean_squared_error: 0.0803\n"
     ]
    }
   ],
   "source": [
    "history = model.fit(train_data_input, train_data[target].values, batch_size = 256, epochs = 10, verbose = 2, validation_split = 0.2)"
   ]
  },
  {
   "cell_type": "code",
   "execution_count": 25,
   "metadata": {
    "id": "-P1Jdwjfg2s2"
   },
   "outputs": [],
   "source": [
    "pred = model.predict(test_data_input, batch_size=256)"
   ]
  },
  {
   "cell_type": "code",
   "execution_count": 26,
   "metadata": {
    "id": "u05F0_ZKg2s2"
   },
   "outputs": [],
   "source": [
    "def rmse_score(pred):\n",
    "    return sqrt(mean_squared_error(test_data[target].values, pred))"
   ]
  },
  {
   "cell_type": "code",
   "execution_count": 27,
   "metadata": {
    "colab": {
     "base_uri": "https://localhost:8080/"
    },
    "id": "hwe3yOfog2s2",
    "outputId": "4f2cabdd-7bd7-4ef6-8d09-cb07d6ea24e5"
   },
   "outputs": [
    {
     "name": "stdout",
     "output_type": "stream",
     "text": [
      "RMSE =  0.2836654646965371\n"
     ]
    }
   ],
   "source": [
    "rmse_val = rmse_score(pred)\n",
    "print(\"RMSE = \", rmse_val)"
   ]
  },
  {
   "cell_type": "markdown",
   "metadata": {
    "id": "cy5X4_Tig2s3"
   },
   "source": [
    "#### We perfome hyper parameter tuning using Random Search CV "
   ]
  },
  {
   "cell_type": "code",
   "execution_count": null,
   "metadata": {
    "id": "gZcroL7ag2s3"
   },
   "outputs": [],
   "source": [
    "rand_parameters = {'dnn_hidden_units' : [(1,1),(2,2),(4,4),(8,8),(29,29),(128,128),(256,256)],\n",
    "                   'l2_reg_linear':[1e-5, 1e-3, 1e-1, 1, 10],\n",
    "                   'l2_reg_embedding':[1e-7, 1e-5, 1e-3, 1e-1, 1],\n",
    "                   'dnn_dropout': np.arange(0, 1, 0.2),\n",
    "                   'l2_reg_dnn':[0, 0.2, 2, 4]\n",
    "                  }"
   ]
  },
  {
   "cell_type": "code",
   "execution_count": null,
   "metadata": {
    "colab": {
     "base_uri": "https://localhost:8080/"
    },
    "id": "F5_-QWJPg2s3",
    "outputId": "520dd161-a700-4cf0-ce5a-0ded8fb93c3e"
   },
   "outputs": [
    {
     "name": "stdout",
     "output_type": "stream",
     "text": [
      "Train on 55960 samples, validate on 13990 samples\n",
      "Epoch 1/10\n",
      "55960/55960 - 5s - loss: 0.1045 - mean_squared_error: 0.1044 - val_loss: 0.0755 - val_mean_squared_error: 0.0754\n",
      "Epoch 2/10\n",
      "55960/55960 - 3s - loss: 0.0754 - mean_squared_error: 0.0752 - val_loss: 0.0736 - val_mean_squared_error: 0.0734\n",
      "Epoch 3/10\n",
      "55960/55960 - 3s - loss: 0.0738 - mean_squared_error: 0.0735 - val_loss: 0.0729 - val_mean_squared_error: 0.0725\n",
      "Epoch 4/10\n",
      "55960/55960 - 3s - loss: 0.0725 - mean_squared_error: 0.0721 - val_loss: 0.0723 - val_mean_squared_error: 0.0718\n",
      "Epoch 5/10\n",
      "55960/55960 - 3s - loss: 0.0711 - mean_squared_error: 0.0705 - val_loss: 0.0719 - val_mean_squared_error: 0.0712\n",
      "Epoch 6/10\n",
      "55960/55960 - 3s - loss: 0.0698 - mean_squared_error: 0.0690 - val_loss: 0.0717 - val_mean_squared_error: 0.0708\n",
      "Epoch 7/10\n",
      "55960/55960 - 3s - loss: 0.0687 - mean_squared_error: 0.0677 - val_loss: 0.0716 - val_mean_squared_error: 0.0705\n",
      "Epoch 8/10\n",
      "55960/55960 - 3s - loss: 0.0677 - mean_squared_error: 0.0665 - val_loss: 0.0715 - val_mean_squared_error: 0.0701\n",
      "Epoch 9/10\n",
      "55960/55960 - 3s - loss: 0.0669 - mean_squared_error: 0.0654 - val_loss: 0.0717 - val_mean_squared_error: 0.0701\n",
      "Epoch 10/10\n",
      "55960/55960 - 3s - loss: 0.0662 - mean_squared_error: 0.0645 - val_loss: 0.0718 - val_mean_squared_error: 0.0700\n",
      "Train on 55960 samples, validate on 13990 samples\n",
      "Epoch 1/10\n",
      "55960/55960 - 5s - loss: 0.1033 - mean_squared_error: 0.1032 - val_loss: 0.0752 - val_mean_squared_error: 0.0751\n",
      "Epoch 2/10\n",
      "55960/55960 - 3s - loss: 0.0753 - mean_squared_error: 0.0751 - val_loss: 0.0735 - val_mean_squared_error: 0.0733\n",
      "Epoch 3/10\n",
      "55960/55960 - 3s - loss: 0.0738 - mean_squared_error: 0.0735 - val_loss: 0.0728 - val_mean_squared_error: 0.0725\n",
      "Epoch 4/10\n",
      "55960/55960 - 3s - loss: 0.0724 - mean_squared_error: 0.0720 - val_loss: 0.0723 - val_mean_squared_error: 0.0719\n",
      "Epoch 5/10\n",
      "55960/55960 - 3s - loss: 0.0710 - mean_squared_error: 0.0705 - val_loss: 0.0719 - val_mean_squared_error: 0.0712\n",
      "Epoch 6/10\n",
      "55960/55960 - 3s - loss: 0.0697 - mean_squared_error: 0.0690 - val_loss: 0.0717 - val_mean_squared_error: 0.0708\n",
      "Epoch 7/10\n",
      "55960/55960 - 3s - loss: 0.0686 - mean_squared_error: 0.0676 - val_loss: 0.0715 - val_mean_squared_error: 0.0704\n",
      "Epoch 8/10\n",
      "55960/55960 - 3s - loss: 0.0677 - mean_squared_error: 0.0664 - val_loss: 0.0716 - val_mean_squared_error: 0.0703\n",
      "Epoch 9/10\n",
      "55960/55960 - 3s - loss: 0.0668 - mean_squared_error: 0.0653 - val_loss: 0.0717 - val_mean_squared_error: 0.0700\n",
      "Epoch 10/10\n",
      "55960/55960 - 3s - loss: 0.0662 - mean_squared_error: 0.0644 - val_loss: 0.0719 - val_mean_squared_error: 0.0700\n",
      "Train on 55960 samples, validate on 13990 samples\n",
      "Epoch 1/10\n",
      "55960/55960 - 6s - loss: 0.0937 - mean_squared_error: 0.0935 - val_loss: 0.0732 - val_mean_squared_error: 0.0729\n",
      "Epoch 2/10\n",
      "55960/55960 - 3s - loss: 0.0715 - mean_squared_error: 0.0710 - val_loss: 0.0698 - val_mean_squared_error: 0.0688\n",
      "Epoch 3/10\n",
      "55960/55960 - 3s - loss: 0.0621 - mean_squared_error: 0.0606 - val_loss: 0.0732 - val_mean_squared_error: 0.0713\n",
      "Epoch 4/10\n",
      "55960/55960 - 3s - loss: 0.0366 - mean_squared_error: 0.0341 - val_loss: 0.0811 - val_mean_squared_error: 0.0779\n",
      "Epoch 5/10\n",
      "55960/55960 - 3s - loss: 0.0087 - mean_squared_error: 0.0055 - val_loss: 0.0808 - val_mean_squared_error: 0.0775\n",
      "Epoch 6/10\n",
      "55960/55960 - 3s - loss: 0.0045 - mean_squared_error: 0.0015 - val_loss: 0.0782 - val_mean_squared_error: 0.0755\n",
      "Epoch 7/10\n",
      "55960/55960 - 3s - loss: 0.0034 - mean_squared_error: 8.8739e-04 - val_loss: 0.0763 - val_mean_squared_error: 0.0740\n",
      "Epoch 8/10\n",
      "55960/55960 - 3s - loss: 0.0027 - mean_squared_error: 5.3883e-04 - val_loss: 0.0748 - val_mean_squared_error: 0.0728\n",
      "Epoch 9/10\n",
      "55960/55960 - 3s - loss: 0.0022 - mean_squared_error: 3.7100e-04 - val_loss: 0.0743 - val_mean_squared_error: 0.0725\n",
      "Epoch 10/10\n",
      "55960/55960 - 3s - loss: 0.0019 - mean_squared_error: 2.6591e-04 - val_loss: 0.0742 - val_mean_squared_error: 0.0727\n",
      "Train on 55960 samples, validate on 13990 samples\n",
      "Epoch 1/10\n",
      "55960/55960 - 6s - loss: 0.0947 - mean_squared_error: 0.0946 - val_loss: 0.0731 - val_mean_squared_error: 0.0728\n",
      "Epoch 2/10\n",
      "55960/55960 - 3s - loss: 0.0703 - mean_squared_error: 0.0696 - val_loss: 0.0700 - val_mean_squared_error: 0.0689\n",
      "Epoch 3/10\n",
      "55960/55960 - 3s - loss: 0.0571 - mean_squared_error: 0.0554 - val_loss: 0.0767 - val_mean_squared_error: 0.0746\n",
      "Epoch 4/10\n",
      "55960/55960 - 3s - loss: 0.0161 - mean_squared_error: 0.0134 - val_loss: 0.0745 - val_mean_squared_error: 0.0716\n",
      "Epoch 5/10\n",
      "55960/55960 - 3s - loss: 0.0040 - mean_squared_error: 0.0014 - val_loss: 0.0744 - val_mean_squared_error: 0.0720\n",
      "Epoch 6/10\n",
      "55960/55960 - 3s - loss: 0.0031 - mean_squared_error: 0.0010 - val_loss: 0.0735 - val_mean_squared_error: 0.0716\n",
      "Epoch 7/10\n",
      "55960/55960 - 3s - loss: 0.0025 - mean_squared_error: 7.3743e-04 - val_loss: 0.0731 - val_mean_squared_error: 0.0715\n",
      "Epoch 8/10\n",
      "55960/55960 - 3s - loss: 0.0021 - mean_squared_error: 5.8305e-04 - val_loss: 0.0732 - val_mean_squared_error: 0.0718\n",
      "Epoch 9/10\n",
      "55960/55960 - 3s - loss: 0.0016 - mean_squared_error: 3.0516e-04 - val_loss: 0.0734 - val_mean_squared_error: 0.0722\n",
      "Epoch 10/10\n",
      "55960/55960 - 3s - loss: 0.0013 - mean_squared_error: 1.7102e-04 - val_loss: 0.0737 - val_mean_squared_error: 0.0726\n",
      "Train on 55960 samples, validate on 13990 samples\n",
      "Epoch 1/10\n",
      "55960/55960 - 7s - loss: 0.0897 - mean_squared_error: 0.0896 - val_loss: 0.0698 - val_mean_squared_error: 0.0694\n",
      "Epoch 2/10\n",
      "55960/55960 - 3s - loss: 0.0653 - mean_squared_error: 0.0645 - val_loss: 0.0711 - val_mean_squared_error: 0.0699\n",
      "Epoch 3/10\n",
      "55960/55960 - 3s - loss: 0.0153 - mean_squared_error: 0.0137 - val_loss: 0.0715 - val_mean_squared_error: 0.0696\n",
      "Epoch 4/10\n",
      "55960/55960 - 3s - loss: 0.0025 - mean_squared_error: 7.5692e-04 - val_loss: 0.0737 - val_mean_squared_error: 0.0722\n",
      "Epoch 5/10\n",
      "55960/55960 - 3s - loss: 0.0016 - mean_squared_error: 2.1304e-04 - val_loss: 0.0711 - val_mean_squared_error: 0.0699\n",
      "Epoch 6/10\n",
      "55960/55960 - 3s - loss: 0.0011 - mean_squared_error: 7.3526e-05 - val_loss: 0.0721 - val_mean_squared_error: 0.0711\n",
      "Epoch 7/10\n",
      "55960/55960 - 3s - loss: 9.1544e-04 - mean_squared_error: 4.6480e-05 - val_loss: 0.0729 - val_mean_squared_error: 0.0721\n",
      "Epoch 8/10\n",
      "55960/55960 - 4s - loss: 7.7432e-04 - mean_squared_error: 4.4027e-05 - val_loss: 0.0748 - val_mean_squared_error: 0.0741\n",
      "Epoch 9/10\n",
      "55960/55960 - 3s - loss: 6.6376e-04 - mean_squared_error: 4.0814e-05 - val_loss: 0.0737 - val_mean_squared_error: 0.0731\n",
      "Epoch 10/10\n",
      "55960/55960 - 3s - loss: 5.7571e-04 - mean_squared_error: 3.5084e-05 - val_loss: 0.0749 - val_mean_squared_error: 0.0744\n",
      "Train on 55960 samples, validate on 13990 samples\n",
      "Epoch 1/10\n",
      "55960/55960 - 8s - loss: 0.0836 - mean_squared_error: 0.0834 - val_loss: 0.0686 - val_mean_squared_error: 0.0682\n",
      "Epoch 2/10\n",
      "55960/55960 - 6s - loss: 0.0591 - mean_squared_error: 0.0583 - val_loss: 0.0703 - val_mean_squared_error: 0.0692\n",
      "Epoch 3/10\n",
      "55960/55960 - 4s - loss: 0.0027 - mean_squared_error: 0.0016 - val_loss: 0.0708 - val_mean_squared_error: 0.0697\n",
      "Epoch 4/10\n",
      "55960/55960 - 4s - loss: 0.0015 - mean_squared_error: 5.4664e-04 - val_loss: 0.0705 - val_mean_squared_error: 0.0696\n",
      "Epoch 5/10\n",
      "55960/55960 - 4s - loss: 9.4222e-04 - mean_squared_error: 1.5108e-04 - val_loss: 0.0714 - val_mean_squared_error: 0.0707\n",
      "Epoch 6/10\n",
      "55960/55960 - 4s - loss: 7.3365e-04 - mean_squared_error: 9.6362e-05 - val_loss: 0.0736 - val_mean_squared_error: 0.0731\n",
      "Epoch 7/10\n",
      "55960/55960 - 4s - loss: 6.3242e-04 - mean_squared_error: 1.0295e-04 - val_loss: 0.0737 - val_mean_squared_error: 0.0733\n",
      "Epoch 8/10\n",
      "55960/55960 - 4s - loss: 5.2975e-04 - mean_squared_error: 8.1852e-05 - val_loss: 0.0745 - val_mean_squared_error: 0.0740\n",
      "Epoch 9/10\n",
      "55960/55960 - 4s - loss: 4.5413e-04 - mean_squared_error: 7.1902e-05 - val_loss: 0.0757 - val_mean_squared_error: 0.0753\n",
      "Epoch 10/10\n",
      "55960/55960 - 4s - loss: 3.9748e-04 - mean_squared_error: 6.3263e-05 - val_loss: 0.0765 - val_mean_squared_error: 0.0762\n",
      "Train on 55960 samples, validate on 13990 samples\n",
      "Epoch 1/10\n",
      "55960/55960 - 9s - loss: 0.0820 - mean_squared_error: 0.0818 - val_loss: 0.0684 - val_mean_squared_error: 0.0680\n",
      "Epoch 2/10\n",
      "55960/55960 - 5s - loss: 0.0394 - mean_squared_error: 0.0387 - val_loss: 0.0713 - val_mean_squared_error: 0.0702\n",
      "Epoch 3/10\n",
      "55960/55960 - 5s - loss: 0.0020 - mean_squared_error: 9.5731e-04 - val_loss: 0.0724 - val_mean_squared_error: 0.0714\n",
      "Epoch 4/10\n",
      "55960/55960 - 5s - loss: 0.0017 - mean_squared_error: 8.5530e-04 - val_loss: 0.0749 - val_mean_squared_error: 0.0742\n",
      "Epoch 5/10\n",
      "55960/55960 - 4s - loss: 0.0014 - mean_squared_error: 7.5505e-04 - val_loss: 0.0759 - val_mean_squared_error: 0.0753\n",
      "Epoch 6/10\n",
      "55960/55960 - 4s - loss: 0.0013 - mean_squared_error: 7.3322e-04 - val_loss: 0.0774 - val_mean_squared_error: 0.0769\n",
      "Epoch 7/10\n",
      "55960/55960 - 5s - loss: 0.0011 - mean_squared_error: 6.7258e-04 - val_loss: 0.0767 - val_mean_squared_error: 0.0762\n",
      "Epoch 8/10\n",
      "55960/55960 - 4s - loss: 0.0010 - mean_squared_error: 6.1910e-04 - val_loss: 0.0772 - val_mean_squared_error: 0.0768\n",
      "Epoch 9/10\n",
      "55960/55960 - 4s - loss: 6.9879e-04 - mean_squared_error: 3.0436e-04 - val_loss: 0.0746 - val_mean_squared_error: 0.0742\n",
      "Epoch 10/10\n",
      "55960/55960 - 4s - loss: 5.6943e-04 - mean_squared_error: 1.6780e-04 - val_loss: 0.0762 - val_mean_squared_error: 0.0758\n"
     ]
    },
    {
     "data": {
      "text/plain": [
       "{(1, 1): {'RMSE': 0.27},\n",
       " (2, 2): {'RMSE': 0.27},\n",
       " (4, 4): {'RMSE': 0.27},\n",
       " (8, 8): {'RMSE': 0.27},\n",
       " (29, 29): {'RMSE': 0.27},\n",
       " (128, 128): {'RMSE': 0.28},\n",
       " (256, 256): {'RMSE': 0.28}}"
      ]
     },
     "execution_count": 33,
     "metadata": {},
     "output_type": "execute_result"
    }
   ],
   "source": [
    "dnn_hidden_units_rmse = {}\n",
    "for k in rand_parameters['dnn_hidden_units']:\n",
    "    model = WDL(linear_feature_columns, dnn_feature_columns, dnn_hidden_units = k, seed = 1024, task ='binary')\n",
    "    model.compile(\"adam\", \"mse\", metrics=['mse'])\n",
    "    history = model.fit(train_data_input, train_data[target].values, batch_size=256, validation_split=0.2, epochs=10, verbose=2)\n",
    "    pred = model.predict(test_data_input, batch_size=256)\n",
    "    dnn_hidden_units_rmse[k]={\"RMSE\": np.round(sqrt(mean_squared_error(test_data[target].values, pred)),2)}\n",
    "dnn_hidden_units_rmse"
   ]
  },
  {
   "cell_type": "code",
   "execution_count": null,
   "metadata": {
    "colab": {
     "base_uri": "https://localhost:8080/"
    },
    "id": "XYmweX2Yg2s4",
    "outputId": "9482c140-6697-401c-b452-172cdf276cf8"
   },
   "outputs": [
    {
     "name": "stdout",
     "output_type": "stream",
     "text": [
      "Train on 55960 samples, validate on 13990 samples\n",
      "Epoch 1/10\n",
      "55960/55960 - 8s - loss: 0.1068 - mean_squared_error: 0.1044 - val_loss: 0.0788 - val_mean_squared_error: 0.0761\n",
      "Epoch 2/10\n",
      "55960/55960 - 4s - loss: 0.0787 - mean_squared_error: 0.0766 - val_loss: 0.0759 - val_mean_squared_error: 0.0742\n",
      "Epoch 3/10\n",
      "55960/55960 - 4s - loss: 0.0773 - mean_squared_error: 0.0757 - val_loss: 0.0751 - val_mean_squared_error: 0.0737\n",
      "Epoch 4/10\n",
      "55960/55960 - 4s - loss: 0.0766 - mean_squared_error: 0.0753 - val_loss: 0.0747 - val_mean_squared_error: 0.0733\n",
      "Epoch 5/10\n",
      "55960/55960 - 4s - loss: 0.0762 - mean_squared_error: 0.0749 - val_loss: 0.0744 - val_mean_squared_error: 0.0730\n",
      "Epoch 6/10\n",
      "55960/55960 - 4s - loss: 0.0759 - mean_squared_error: 0.0746 - val_loss: 0.0741 - val_mean_squared_error: 0.0727\n",
      "Epoch 7/10\n",
      "55960/55960 - 4s - loss: 0.0757 - mean_squared_error: 0.0743 - val_loss: 0.0739 - val_mean_squared_error: 0.0725\n",
      "Epoch 8/10\n",
      "55960/55960 - 4s - loss: 0.0756 - mean_squared_error: 0.0740 - val_loss: 0.0738 - val_mean_squared_error: 0.0723\n",
      "Epoch 9/10\n",
      "55960/55960 - 4s - loss: 0.0754 - mean_squared_error: 0.0739 - val_loss: 0.0738 - val_mean_squared_error: 0.0722\n",
      "Epoch 10/10\n",
      "55960/55960 - 4s - loss: 0.0753 - mean_squared_error: 0.0737 - val_loss: 0.0737 - val_mean_squared_error: 0.0720\n",
      "Train on 55960 samples, validate on 13990 samples\n",
      "Epoch 1/10\n",
      "55960/55960 - 8s - loss: 0.1071 - mean_squared_error: 0.1047 - val_loss: 0.0788 - val_mean_squared_error: 0.0761\n",
      "Epoch 2/10\n",
      "55960/55960 - 4s - loss: 0.0787 - mean_squared_error: 0.0766 - val_loss: 0.0759 - val_mean_squared_error: 0.0742\n",
      "Epoch 3/10\n",
      "55960/55960 - 4s - loss: 0.0773 - mean_squared_error: 0.0757 - val_loss: 0.0751 - val_mean_squared_error: 0.0737\n",
      "Epoch 4/10\n",
      "55960/55960 - 6s - loss: 0.0766 - mean_squared_error: 0.0753 - val_loss: 0.0747 - val_mean_squared_error: 0.0733\n",
      "Epoch 5/10\n",
      "55960/55960 - 4s - loss: 0.0762 - mean_squared_error: 0.0749 - val_loss: 0.0744 - val_mean_squared_error: 0.0730\n",
      "Epoch 6/10\n",
      "55960/55960 - 4s - loss: 0.0760 - mean_squared_error: 0.0746 - val_loss: 0.0742 - val_mean_squared_error: 0.0728\n",
      "Epoch 7/10\n",
      "55960/55960 - 4s - loss: 0.0757 - mean_squared_error: 0.0743 - val_loss: 0.0740 - val_mean_squared_error: 0.0725\n",
      "Epoch 8/10\n",
      "55960/55960 - 4s - loss: 0.0756 - mean_squared_error: 0.0741 - val_loss: 0.0739 - val_mean_squared_error: 0.0724\n",
      "Epoch 9/10\n",
      "55960/55960 - 4s - loss: 0.0754 - mean_squared_error: 0.0739 - val_loss: 0.0738 - val_mean_squared_error: 0.0722\n",
      "Epoch 10/10\n",
      "55960/55960 - 7s - loss: 0.0753 - mean_squared_error: 0.0737 - val_loss: 0.0737 - val_mean_squared_error: 0.0721\n",
      "Train on 55960 samples, validate on 13990 samples\n",
      "Epoch 1/10\n",
      "55960/55960 - 9s - loss: 0.1067 - mean_squared_error: 0.1044 - val_loss: 0.0787 - val_mean_squared_error: 0.0761\n",
      "Epoch 2/10\n",
      "55960/55960 - 5s - loss: 0.0787 - mean_squared_error: 0.0766 - val_loss: 0.0759 - val_mean_squared_error: 0.0742\n",
      "Epoch 3/10\n",
      "55960/55960 - 4s - loss: 0.0773 - mean_squared_error: 0.0757 - val_loss: 0.0751 - val_mean_squared_error: 0.0737\n",
      "Epoch 4/10\n",
      "55960/55960 - 5s - loss: 0.0766 - mean_squared_error: 0.0753 - val_loss: 0.0746 - val_mean_squared_error: 0.0733\n",
      "Epoch 5/10\n",
      "55960/55960 - 5s - loss: 0.0762 - mean_squared_error: 0.0749 - val_loss: 0.0744 - val_mean_squared_error: 0.0730\n",
      "Epoch 6/10\n",
      "55960/55960 - 4s - loss: 0.0760 - mean_squared_error: 0.0746 - val_loss: 0.0741 - val_mean_squared_error: 0.0727\n",
      "Epoch 7/10\n",
      "55960/55960 - 4s - loss: 0.0757 - mean_squared_error: 0.0743 - val_loss: 0.0739 - val_mean_squared_error: 0.0725\n",
      "Epoch 8/10\n",
      "55960/55960 - 4s - loss: 0.0755 - mean_squared_error: 0.0741 - val_loss: 0.0739 - val_mean_squared_error: 0.0723\n",
      "Epoch 9/10\n",
      "55960/55960 - 4s - loss: 0.0754 - mean_squared_error: 0.0739 - val_loss: 0.0738 - val_mean_squared_error: 0.0722\n",
      "Epoch 10/10\n",
      "55960/55960 - 4s - loss: 0.0753 - mean_squared_error: 0.0737 - val_loss: 0.0737 - val_mean_squared_error: 0.0721\n",
      "Train on 55960 samples, validate on 13990 samples\n",
      "Epoch 1/10\n",
      "55960/55960 - 9s - loss: 0.1068 - mean_squared_error: 0.1040 - val_loss: 0.0778 - val_mean_squared_error: 0.0752\n",
      "Epoch 2/10\n",
      "55960/55960 - 4s - loss: 0.0780 - mean_squared_error: 0.0761 - val_loss: 0.0754 - val_mean_squared_error: 0.0739\n",
      "Epoch 3/10\n",
      "55960/55960 - 4s - loss: 0.0768 - mean_squared_error: 0.0755 - val_loss: 0.0747 - val_mean_squared_error: 0.0734\n",
      "Epoch 4/10\n",
      "55960/55960 - 4s - loss: 0.0763 - mean_squared_error: 0.0749 - val_loss: 0.0745 - val_mean_squared_error: 0.0729\n",
      "Epoch 5/10\n",
      "55960/55960 - 4s - loss: 0.0759 - mean_squared_error: 0.0744 - val_loss: 0.0740 - val_mean_squared_error: 0.0724\n",
      "Epoch 6/10\n",
      "55960/55960 - 4s - loss: 0.0756 - mean_squared_error: 0.0738 - val_loss: 0.0737 - val_mean_squared_error: 0.0720\n",
      "Epoch 7/10\n",
      "55960/55960 - 5s - loss: 0.0755 - mean_squared_error: 0.0734 - val_loss: 0.0739 - val_mean_squared_error: 0.0720\n",
      "Epoch 8/10\n",
      "55960/55960 - 4s - loss: 0.0754 - mean_squared_error: 0.0732 - val_loss: 0.0738 - val_mean_squared_error: 0.0715\n",
      "Epoch 9/10\n",
      "55960/55960 - 4s - loss: 0.0754 - mean_squared_error: 0.0729 - val_loss: 0.0738 - val_mean_squared_error: 0.0714\n",
      "Epoch 10/10\n",
      "55960/55960 - 4s - loss: 0.0754 - mean_squared_error: 0.0728 - val_loss: 0.0741 - val_mean_squared_error: 0.0712\n",
      "Train on 55960 samples, validate on 13990 samples\n",
      "Epoch 1/10\n",
      "55960/55960 - 9s - loss: 0.1136 - mean_squared_error: 0.1045 - val_loss: 0.0788 - val_mean_squared_error: 0.0761\n",
      "Epoch 2/10\n",
      "55960/55960 - 4s - loss: 0.0787 - mean_squared_error: 0.0766 - val_loss: 0.0759 - val_mean_squared_error: 0.0742\n",
      "Epoch 3/10\n",
      "55960/55960 - 4s - loss: 0.0773 - mean_squared_error: 0.0757 - val_loss: 0.0751 - val_mean_squared_error: 0.0737\n",
      "Epoch 4/10\n",
      "55960/55960 - 4s - loss: 0.0766 - mean_squared_error: 0.0753 - val_loss: 0.0747 - val_mean_squared_error: 0.0733\n",
      "Epoch 5/10\n",
      "55960/55960 - 4s - loss: 0.0763 - mean_squared_error: 0.0749 - val_loss: 0.0744 - val_mean_squared_error: 0.0730\n",
      "Epoch 6/10\n",
      "55960/55960 - 4s - loss: 0.0760 - mean_squared_error: 0.0746 - val_loss: 0.0742 - val_mean_squared_error: 0.0727\n",
      "Epoch 7/10\n",
      "55960/55960 - 4s - loss: 0.0758 - mean_squared_error: 0.0743 - val_loss: 0.0740 - val_mean_squared_error: 0.0725\n",
      "Epoch 8/10\n",
      "55960/55960 - 4s - loss: 0.0757 - mean_squared_error: 0.0741 - val_loss: 0.0743 - val_mean_squared_error: 0.0724\n",
      "Epoch 9/10\n",
      "55960/55960 - 4s - loss: 0.0763 - mean_squared_error: 0.0738 - val_loss: 0.0752 - val_mean_squared_error: 0.0722\n",
      "Epoch 10/10\n",
      "55960/55960 - 4s - loss: 0.0760 - mean_squared_error: 0.0737 - val_loss: 0.0737 - val_mean_squared_error: 0.0721\n"
     ]
    },
    {
     "data": {
      "text/plain": [
       "{1e-07: {'RMSE': 0.27},\n",
       " 1e-05: {'RMSE': 0.2701},\n",
       " 0.001: {'RMSE': 0.2701},\n",
       " 0.1: {'RMSE': 0.2686},\n",
       " 1: {'RMSE': 0.2701}}"
      ]
     },
     "execution_count": 34,
     "metadata": {},
     "output_type": "execute_result"
    }
   ],
   "source": [
    "l2_reg_embedding_rmse = {}\n",
    "for k in rand_parameters['l2_reg_embedding']:\n",
    "    model = WDL(linear_feature_columns, dnn_feature_columns, dnn_hidden_units = (2,2), l2_reg_embedding = k, l2_reg_linear = 0.001, seed = 1024, task ='binary')\n",
    "    model.compile(\"adam\", \"mse\", metrics=['mse'])\n",
    "    history = model.fit(train_data_input, train_data[target].values, batch_size=256, validation_split=0.2, epochs=10, verbose=2)\n",
    "    pred = model.predict(test_data_input, batch_size=256)\n",
    "    l2_reg_embedding_rmse[k]={\"RMSE\": np.round(sqrt(mean_squared_error(test_data[target].values, pred)),4)}\n",
    "l2_reg_embedding_rmse"
   ]
  },
  {
   "cell_type": "code",
   "execution_count": null,
   "metadata": {
    "colab": {
     "base_uri": "https://localhost:8080/"
    },
    "id": "YK5OMlrQg2s4",
    "outputId": "b73c5d95-192b-40de-b974-2af6c33e5f05"
   },
   "outputs": [
    {
     "name": "stdout",
     "output_type": "stream",
     "text": [
      "Train on 55960 samples, validate on 13990 samples\n",
      "Epoch 1/10\n",
      "55960/55960 - 13s - loss: 0.1034 - mean_squared_error: 0.1028 - val_loss: 0.0748 - val_mean_squared_error: 0.0746\n",
      "Epoch 2/10\n",
      "55960/55960 - 5s - loss: 0.0753 - mean_squared_error: 0.0750 - val_loss: 0.0736 - val_mean_squared_error: 0.0733\n",
      "Epoch 3/10\n",
      "55960/55960 - 4s - loss: 0.0739 - mean_squared_error: 0.0735 - val_loss: 0.0729 - val_mean_squared_error: 0.0725\n",
      "Epoch 4/10\n",
      "55960/55960 - 5s - loss: 0.0725 - mean_squared_error: 0.0720 - val_loss: 0.0723 - val_mean_squared_error: 0.0717\n",
      "Epoch 5/10\n",
      "55960/55960 - 5s - loss: 0.0711 - mean_squared_error: 0.0703 - val_loss: 0.0720 - val_mean_squared_error: 0.0710\n",
      "Epoch 6/10\n",
      "55960/55960 - 4s - loss: 0.0699 - mean_squared_error: 0.0687 - val_loss: 0.0718 - val_mean_squared_error: 0.0705\n",
      "Epoch 7/10\n",
      "55960/55960 - 4s - loss: 0.0687 - mean_squared_error: 0.0673 - val_loss: 0.0716 - val_mean_squared_error: 0.0701\n",
      "Epoch 8/10\n",
      "55960/55960 - 4s - loss: 0.0679 - mean_squared_error: 0.0660 - val_loss: 0.0718 - val_mean_squared_error: 0.0698\n",
      "Epoch 9/10\n",
      "55960/55960 - 6s - loss: 0.0670 - mean_squared_error: 0.0650 - val_loss: 0.0717 - val_mean_squared_error: 0.0695\n",
      "Epoch 10/10\n",
      "55960/55960 - 7s - loss: 0.0663 - mean_squared_error: 0.0640 - val_loss: 0.0720 - val_mean_squared_error: 0.0695\n",
      "Train on 55960 samples, validate on 13990 samples\n",
      "Epoch 1/10\n",
      "55960/55960 - 10s - loss: 0.1061 - mean_squared_error: 0.1033 - val_loss: 0.0778 - val_mean_squared_error: 0.0753\n",
      "Epoch 2/10\n",
      "55960/55960 - 4s - loss: 0.0780 - mean_squared_error: 0.0761 - val_loss: 0.0754 - val_mean_squared_error: 0.0739\n",
      "Epoch 3/10\n",
      "55960/55960 - 4s - loss: 0.0768 - mean_squared_error: 0.0755 - val_loss: 0.0747 - val_mean_squared_error: 0.0734\n",
      "Epoch 4/10\n",
      "55960/55960 - 5s - loss: 0.0763 - mean_squared_error: 0.0750 - val_loss: 0.0743 - val_mean_squared_error: 0.0729\n",
      "Epoch 5/10\n",
      "55960/55960 - 5s - loss: 0.0759 - mean_squared_error: 0.0744 - val_loss: 0.0740 - val_mean_squared_error: 0.0725\n",
      "Epoch 6/10\n",
      "55960/55960 - 7s - loss: 0.0756 - mean_squared_error: 0.0739 - val_loss: 0.0739 - val_mean_squared_error: 0.0720\n",
      "Epoch 7/10\n",
      "55960/55960 - 4s - loss: 0.0754 - mean_squared_error: 0.0734 - val_loss: 0.0738 - val_mean_squared_error: 0.0718\n",
      "Epoch 8/10\n",
      "55960/55960 - 8s - loss: 0.0754 - mean_squared_error: 0.0732 - val_loss: 0.0737 - val_mean_squared_error: 0.0715\n",
      "Epoch 9/10\n",
      "55960/55960 - 6s - loss: 0.0753 - mean_squared_error: 0.0729 - val_loss: 0.0743 - val_mean_squared_error: 0.0716\n",
      "Epoch 10/10\n",
      "55960/55960 - 4s - loss: 0.0753 - mean_squared_error: 0.0729 - val_loss: 0.0739 - val_mean_squared_error: 0.0713\n",
      "Train on 55960 samples, validate on 13990 samples\n",
      "Epoch 1/10\n",
      "55960/55960 - 15s - loss: 0.1252 - mean_squared_error: 0.1122 - val_loss: 0.0937 - val_mean_squared_error: 0.0792\n",
      "Epoch 2/10\n",
      "55960/55960 - 5s - loss: 0.0879 - mean_squared_error: 0.0785 - val_loss: 0.0804 - val_mean_squared_error: 0.0751\n",
      "Epoch 3/10\n",
      "55960/55960 - 5s - loss: 0.0797 - mean_squared_error: 0.0764 - val_loss: 0.0761 - val_mean_squared_error: 0.0741\n",
      "Epoch 4/10\n",
      "55960/55960 - 6s - loss: 0.0773 - mean_squared_error: 0.0756 - val_loss: 0.0751 - val_mean_squared_error: 0.0735\n",
      "Epoch 5/10\n",
      "55960/55960 - 6s - loss: 0.0766 - mean_squared_error: 0.0748 - val_loss: 0.0744 - val_mean_squared_error: 0.0731\n",
      "Epoch 6/10\n",
      "55960/55960 - 6s - loss: 0.0764 - mean_squared_error: 0.0744 - val_loss: 0.0749 - val_mean_squared_error: 0.0723\n",
      "Epoch 7/10\n",
      "55960/55960 - 8s - loss: 0.0765 - mean_squared_error: 0.0741 - val_loss: 0.0758 - val_mean_squared_error: 0.0724\n",
      "Epoch 8/10\n",
      "55960/55960 - 8s - loss: 0.0767 - mean_squared_error: 0.0739 - val_loss: 0.0758 - val_mean_squared_error: 0.0723\n",
      "Epoch 9/10\n",
      "55960/55960 - 7s - loss: 0.0767 - mean_squared_error: 0.0737 - val_loss: 0.0758 - val_mean_squared_error: 0.0717\n",
      "Epoch 10/10\n",
      "55960/55960 - 5s - loss: 0.0769 - mean_squared_error: 0.0734 - val_loss: 0.0755 - val_mean_squared_error: 0.0715\n",
      "Train on 55960 samples, validate on 13990 samples\n",
      "Epoch 1/10\n",
      "55960/55960 - 12s - loss: 0.1579 - mean_squared_error: 0.1323 - val_loss: 0.1042 - val_mean_squared_error: 0.0860\n",
      "Epoch 2/10\n",
      "55960/55960 - 5s - loss: 0.0885 - mean_squared_error: 0.0809 - val_loss: 0.0799 - val_mean_squared_error: 0.0763\n",
      "Epoch 3/10\n",
      "55960/55960 - 5s - loss: 0.0797 - mean_squared_error: 0.0771 - val_loss: 0.0766 - val_mean_squared_error: 0.0745\n",
      "Epoch 4/10\n",
      "55960/55960 - 4s - loss: 0.0779 - mean_squared_error: 0.0763 - val_loss: 0.0759 - val_mean_squared_error: 0.0744\n",
      "Epoch 5/10\n",
      "55960/55960 - 5s - loss: 0.0773 - mean_squared_error: 0.0760 - val_loss: 0.0753 - val_mean_squared_error: 0.0737\n",
      "Epoch 6/10\n",
      "55960/55960 - 5s - loss: 0.0770 - mean_squared_error: 0.0757 - val_loss: 0.0753 - val_mean_squared_error: 0.0734\n",
      "Epoch 7/10\n",
      "55960/55960 - 4s - loss: 0.0770 - mean_squared_error: 0.0754 - val_loss: 0.0752 - val_mean_squared_error: 0.0736\n",
      "Epoch 8/10\n",
      "55960/55960 - 5s - loss: 0.0770 - mean_squared_error: 0.0751 - val_loss: 0.0752 - val_mean_squared_error: 0.0730\n",
      "Epoch 9/10\n",
      "55960/55960 - 5s - loss: 0.0769 - mean_squared_error: 0.0747 - val_loss: 0.0754 - val_mean_squared_error: 0.0727\n",
      "Epoch 10/10\n",
      "55960/55960 - 4s - loss: 0.0770 - mean_squared_error: 0.0744 - val_loss: 0.0758 - val_mean_squared_error: 0.0724\n",
      "Train on 55960 samples, validate on 13990 samples\n",
      "Epoch 1/10\n",
      "55960/55960 - 14s - loss: 0.1959 - mean_squared_error: 0.1653 - val_loss: 0.1335 - val_mean_squared_error: 0.0918\n",
      "Epoch 2/10\n",
      "55960/55960 - 5s - loss: 0.0932 - mean_squared_error: 0.0832 - val_loss: 0.0822 - val_mean_squared_error: 0.0766\n",
      "Epoch 3/10\n",
      "55960/55960 - 5s - loss: 0.0813 - mean_squared_error: 0.0779 - val_loss: 0.0777 - val_mean_squared_error: 0.0752\n",
      "Epoch 4/10\n",
      "55960/55960 - 5s - loss: 0.0786 - mean_squared_error: 0.0768 - val_loss: 0.0762 - val_mean_squared_error: 0.0747\n",
      "Epoch 5/10\n",
      "55960/55960 - 6s - loss: 0.0777 - mean_squared_error: 0.0763 - val_loss: 0.0756 - val_mean_squared_error: 0.0744\n",
      "Epoch 6/10\n",
      "55960/55960 - 5s - loss: 0.0773 - mean_squared_error: 0.0761 - val_loss: 0.0753 - val_mean_squared_error: 0.0740\n",
      "Epoch 7/10\n",
      "55960/55960 - 5s - loss: 0.0772 - mean_squared_error: 0.0759 - val_loss: 0.0754 - val_mean_squared_error: 0.0739\n",
      "Epoch 8/10\n",
      "55960/55960 - 4s - loss: 0.0772 - mean_squared_error: 0.0757 - val_loss: 0.0754 - val_mean_squared_error: 0.0737\n",
      "Epoch 9/10\n",
      "55960/55960 - 4s - loss: 0.0772 - mean_squared_error: 0.0755 - val_loss: 0.0755 - val_mean_squared_error: 0.0735\n",
      "Epoch 10/10\n",
      "55960/55960 - 4s - loss: 0.0773 - mean_squared_error: 0.0753 - val_loss: 0.0755 - val_mean_squared_error: 0.0732\n"
     ]
    },
    {
     "data": {
      "text/plain": [
       "{1e-07: {'RMSE': 0.27},\n",
       " 1e-05: {'RMSE': 0.2701},\n",
       " 0.001: {'RMSE': 0.2701},\n",
       " 0.1: {'RMSE': 0.2686},\n",
       " 1: {'RMSE': 0.2701}}"
      ]
     },
     "execution_count": 35,
     "metadata": {},
     "output_type": "execute_result"
    }
   ],
   "source": [
    "l2_reg_linear_rmse = {}\n",
    "for k in rand_parameters['l2_reg_linear']:\n",
    "    model = WDL(linear_feature_columns, dnn_feature_columns, dnn_hidden_units = (2,2), l2_reg_linear = k, l2_reg_embedding = 0.1, seed = 1024, task ='binary')\n",
    "    model.compile(\"adam\", \"mse\", metrics=['mse'])\n",
    "    history = model.fit(train_data_input, train_data[target].values, batch_size=256, validation_split=0.2, epochs=10, verbose=2)\n",
    "    pred = model.predict(test_data_input, batch_size=256)\n",
    "    l2_reg_linear_rmse[k]={\"RMSE\": np.round(sqrt(mean_squared_error(test_data[target].values, pred)),2)}\n",
    "l2_reg_embedding_rmse"
   ]
  },
  {
   "cell_type": "code",
   "execution_count": null,
   "metadata": {
    "colab": {
     "base_uri": "https://localhost:8080/"
    },
    "id": "xI7--hHarI6H",
    "outputId": "aca0518c-69be-4217-dd7a-578a0eda7919"
   },
   "outputs": [
    {
     "name": "stdout",
     "output_type": "stream",
     "text": [
      "Train on 55960 samples, validate on 13990 samples\n",
      "Epoch 1/10\n",
      "55960/55960 - 13s - loss: 0.1257 - mean_squared_error: 0.1128 - val_loss: 0.0938 - val_mean_squared_error: 0.0796\n",
      "Epoch 2/10\n",
      "55960/55960 - 5s - loss: 0.0879 - mean_squared_error: 0.0785 - val_loss: 0.0804 - val_mean_squared_error: 0.0750\n",
      "Epoch 3/10\n",
      "55960/55960 - 5s - loss: 0.0797 - mean_squared_error: 0.0764 - val_loss: 0.0762 - val_mean_squared_error: 0.0739\n",
      "Epoch 4/10\n",
      "55960/55960 - 5s - loss: 0.0774 - mean_squared_error: 0.0756 - val_loss: 0.0751 - val_mean_squared_error: 0.0734\n",
      "Epoch 5/10\n",
      "55960/55960 - 5s - loss: 0.0767 - mean_squared_error: 0.0749 - val_loss: 0.0747 - val_mean_squared_error: 0.0729\n",
      "Epoch 6/10\n",
      "55960/55960 - 5s - loss: 0.0765 - mean_squared_error: 0.0744 - val_loss: 0.0748 - val_mean_squared_error: 0.0724\n",
      "Epoch 7/10\n",
      "55960/55960 - 5s - loss: 0.0764 - mean_squared_error: 0.0740 - val_loss: 0.0749 - val_mean_squared_error: 0.0720\n",
      "Epoch 8/10\n",
      "55960/55960 - 5s - loss: 0.0766 - mean_squared_error: 0.0738 - val_loss: 0.0752 - val_mean_squared_error: 0.0719\n",
      "Epoch 9/10\n",
      "55960/55960 - 6s - loss: 0.0766 - mean_squared_error: 0.0735 - val_loss: 0.0763 - val_mean_squared_error: 0.0720\n",
      "Epoch 10/10\n",
      "55960/55960 - 6s - loss: 0.0770 - mean_squared_error: 0.0735 - val_loss: 0.0758 - val_mean_squared_error: 0.0718\n",
      "Train on 55960 samples, validate on 13990 samples\n",
      "Epoch 1/10\n",
      "55960/55960 - 13s - loss: 0.5287 - mean_squared_error: 0.1147 - val_loss: 0.2593 - val_mean_squared_error: 0.0851\n",
      "Epoch 2/10\n",
      "55960/55960 - 5s - loss: 0.1959 - mean_squared_error: 0.0845 - val_loss: 0.1517 - val_mean_squared_error: 0.0813\n",
      "Epoch 3/10\n",
      "55960/55960 - 5s - loss: 0.1294 - mean_squared_error: 0.0809 - val_loss: 0.1066 - val_mean_squared_error: 0.0766\n",
      "Epoch 4/10\n",
      "55960/55960 - 5s - loss: 0.0962 - mean_squared_error: 0.0776 - val_loss: 0.0853 - val_mean_squared_error: 0.0751\n",
      "Epoch 5/10\n",
      "55960/55960 - 6s - loss: 0.0828 - mean_squared_error: 0.0767 - val_loss: 0.0777 - val_mean_squared_error: 0.0745\n",
      "Epoch 6/10\n",
      "55960/55960 - 5s - loss: 0.0783 - mean_squared_error: 0.0765 - val_loss: 0.0754 - val_mean_squared_error: 0.0744\n",
      "Epoch 7/10\n",
      "55960/55960 - 6s - loss: 0.0770 - mean_squared_error: 0.0764 - val_loss: 0.0748 - val_mean_squared_error: 0.0744\n",
      "Epoch 8/10\n",
      "55960/55960 - 6s - loss: 0.0768 - mean_squared_error: 0.0764 - val_loss: 0.0746 - val_mean_squared_error: 0.0744\n",
      "Epoch 9/10\n",
      "55960/55960 - 5s - loss: 0.0766 - mean_squared_error: 0.0764 - val_loss: 0.0746 - val_mean_squared_error: 0.0744\n",
      "Epoch 10/10\n",
      "55960/55960 - 5s - loss: 0.0766 - mean_squared_error: 0.0764 - val_loss: 0.0747 - val_mean_squared_error: 0.0744\n",
      "Train on 55960 samples, validate on 13990 samples\n",
      "Epoch 1/10\n",
      "55960/55960 - 14s - loss: 4.1370 - mean_squared_error: 0.1152 - val_loss: 1.6807 - val_mean_squared_error: 0.0856\n",
      "Epoch 2/10\n",
      "55960/55960 - 6s - loss: 1.0632 - mean_squared_error: 0.0846 - val_loss: 0.6662 - val_mean_squared_error: 0.0815\n",
      "Epoch 3/10\n",
      "55960/55960 - 6s - loss: 0.4724 - mean_squared_error: 0.0819 - val_loss: 0.3197 - val_mean_squared_error: 0.0789\n",
      "Epoch 4/10\n",
      "55960/55960 - 5s - loss: 0.2342 - mean_squared_error: 0.0798 - val_loss: 0.1658 - val_mean_squared_error: 0.0771\n",
      "Epoch 5/10\n",
      "55960/55960 - 5s - loss: 0.1318 - mean_squared_error: 0.0783 - val_loss: 0.1038 - val_mean_squared_error: 0.0758\n",
      "Epoch 6/10\n",
      "55960/55960 - 5s - loss: 0.0932 - mean_squared_error: 0.0773 - val_loss: 0.0826 - val_mean_squared_error: 0.0750\n",
      "Epoch 7/10\n",
      "55960/55960 - 5s - loss: 0.0808 - mean_squared_error: 0.0767 - val_loss: 0.0765 - val_mean_squared_error: 0.0746\n",
      "Epoch 8/10\n",
      "55960/55960 - 5s - loss: 0.0776 - mean_squared_error: 0.0765 - val_loss: 0.0750 - val_mean_squared_error: 0.0745\n",
      "Epoch 9/10\n",
      "55960/55960 - 6s - loss: 0.0768 - mean_squared_error: 0.0764 - val_loss: 0.0746 - val_mean_squared_error: 0.0744\n",
      "Epoch 10/10\n",
      "55960/55960 - 5s - loss: 0.0766 - mean_squared_error: 0.0764 - val_loss: 0.0746 - val_mean_squared_error: 0.0744\n",
      "Train on 55960 samples, validate on 13990 samples\n",
      "Epoch 1/10\n",
      "55960/55960 - 14s - loss: 8.1454 - mean_squared_error: 0.1151 - val_loss: 3.2599 - val_mean_squared_error: 0.0852\n",
      "Epoch 2/10\n",
      "55960/55960 - 6s - loss: 2.0267 - mean_squared_error: 0.0845 - val_loss: 1.2376 - val_mean_squared_error: 0.0813\n",
      "Epoch 3/10\n",
      "55960/55960 - 6s - loss: 0.8518 - mean_squared_error: 0.0818 - val_loss: 0.5514 - val_mean_squared_error: 0.0791\n",
      "Epoch 4/10\n",
      "55960/55960 - 6s - loss: 0.3818 - mean_squared_error: 0.0798 - val_loss: 0.2495 - val_mean_squared_error: 0.0772\n",
      "Epoch 5/10\n",
      "55960/55960 - 5s - loss: 0.1818 - mean_squared_error: 0.0783 - val_loss: 0.1296 - val_mean_squared_error: 0.0757\n",
      "Epoch 6/10\n",
      "55960/55960 - 5s - loss: 0.1076 - mean_squared_error: 0.0773 - val_loss: 0.0893 - val_mean_squared_error: 0.0750\n",
      "Epoch 7/10\n",
      "55960/55960 - 6s - loss: 0.0843 - mean_squared_error: 0.0767 - val_loss: 0.0779 - val_mean_squared_error: 0.0746\n",
      "Epoch 8/10\n",
      "55960/55960 - 5s - loss: 0.0783 - mean_squared_error: 0.0765 - val_loss: 0.0753 - val_mean_squared_error: 0.0745\n",
      "Epoch 9/10\n",
      "55960/55960 - 5s - loss: 0.0769 - mean_squared_error: 0.0764 - val_loss: 0.0747 - val_mean_squared_error: 0.0744\n",
      "Epoch 10/10\n",
      "55960/55960 - 6s - loss: 0.0766 - mean_squared_error: 0.0764 - val_loss: 0.0746 - val_mean_squared_error: 0.0744\n"
     ]
    },
    {
     "data": {
      "text/plain": [
       "{0: {'RMSE': 0.27}, 0.2: {'RMSE': 0.27}, 2: {'RMSE': 0.27}, 4: {'RMSE': 0.27}}"
      ]
     },
     "execution_count": 36,
     "metadata": {},
     "output_type": "execute_result"
    }
   ],
   "source": [
    "l2_reg_dnn_rmse = {}\n",
    "for k in rand_parameters['l2_reg_dnn']:\n",
    "    model = WDL(linear_feature_columns, dnn_feature_columns, dnn_hidden_units = (2,2), l2_reg_dnn = k, l2_reg_embedding = 0.1, l2_reg_linear = 0.1, seed = 1024, task ='binary')\n",
    "    model.compile(\"adam\", \"mse\", metrics=['mse'])\n",
    "    history = model.fit(train_data_input, train_data[target].values, batch_size=256, validation_split=0.2, epochs=10, verbose=2)\n",
    "    pred = model.predict(test_data_input, batch_size=256)\n",
    "    l2_reg_dnn_rmse[k]={\"RMSE\": np.round(sqrt(mean_squared_error(test_data[target].values, pred)),2)}\n",
    "l2_reg_dnn_rmse"
   ]
  },
  {
   "cell_type": "code",
   "execution_count": null,
   "metadata": {
    "colab": {
     "base_uri": "https://localhost:8080/"
    },
    "id": "4SdNw2fDg2s5",
    "outputId": "90e7fcec-4d36-424f-ae46-22499c5e7980"
   },
   "outputs": [
    {
     "name": "stdout",
     "output_type": "stream",
     "text": [
      "Train on 55960 samples, validate on 13990 samples\n",
      "Epoch 1/10\n",
      "55960/55960 - 14s - loss: 0.1036 - mean_squared_error: 0.1035 - val_loss: 0.0753 - val_mean_squared_error: 0.0752\n",
      "Epoch 2/10\n",
      "55960/55960 - 6s - loss: 0.0753 - mean_squared_error: 0.0751 - val_loss: 0.0735 - val_mean_squared_error: 0.0733\n",
      "Epoch 3/10\n",
      "55960/55960 - 6s - loss: 0.0738 - mean_squared_error: 0.0736 - val_loss: 0.0728 - val_mean_squared_error: 0.0725\n",
      "Epoch 4/10\n",
      "55960/55960 - 6s - loss: 0.0724 - mean_squared_error: 0.0720 - val_loss: 0.0723 - val_mean_squared_error: 0.0718\n",
      "Epoch 5/10\n",
      "55960/55960 - 5s - loss: 0.0710 - mean_squared_error: 0.0705 - val_loss: 0.0719 - val_mean_squared_error: 0.0712\n",
      "Epoch 6/10\n",
      "55960/55960 - 6s - loss: 0.0698 - mean_squared_error: 0.0690 - val_loss: 0.0716 - val_mean_squared_error: 0.0707\n",
      "Epoch 7/10\n",
      "55960/55960 - 6s - loss: 0.0686 - mean_squared_error: 0.0676 - val_loss: 0.0716 - val_mean_squared_error: 0.0705\n",
      "Epoch 8/10\n",
      "55960/55960 - 6s - loss: 0.0677 - mean_squared_error: 0.0664 - val_loss: 0.0716 - val_mean_squared_error: 0.0702\n",
      "Epoch 9/10\n",
      "55960/55960 - 6s - loss: 0.0669 - mean_squared_error: 0.0654 - val_loss: 0.0716 - val_mean_squared_error: 0.0700\n",
      "Epoch 10/10\n",
      "55960/55960 - 6s - loss: 0.0662 - mean_squared_error: 0.0644 - val_loss: 0.0718 - val_mean_squared_error: 0.0699\n",
      "Train on 55960 samples, validate on 13990 samples\n",
      "Epoch 1/10\n",
      "55960/55960 - 16s - loss: 0.1039 - mean_squared_error: 0.1038 - val_loss: 0.0753 - val_mean_squared_error: 0.0752\n",
      "Epoch 2/10\n",
      "55960/55960 - 6s - loss: 0.0754 - mean_squared_error: 0.0752 - val_loss: 0.0736 - val_mean_squared_error: 0.0733\n",
      "Epoch 3/10\n",
      "55960/55960 - 6s - loss: 0.0738 - mean_squared_error: 0.0736 - val_loss: 0.0728 - val_mean_squared_error: 0.0725\n",
      "Epoch 4/10\n",
      "55960/55960 - 6s - loss: 0.0725 - mean_squared_error: 0.0721 - val_loss: 0.0723 - val_mean_squared_error: 0.0718\n",
      "Epoch 5/10\n",
      "55960/55960 - 6s - loss: 0.0711 - mean_squared_error: 0.0705 - val_loss: 0.0719 - val_mean_squared_error: 0.0713\n",
      "Epoch 6/10\n",
      "55960/55960 - 5s - loss: 0.0698 - mean_squared_error: 0.0691 - val_loss: 0.0717 - val_mean_squared_error: 0.0709\n",
      "Epoch 7/10\n",
      "55960/55960 - 5s - loss: 0.0687 - mean_squared_error: 0.0677 - val_loss: 0.0715 - val_mean_squared_error: 0.0704\n",
      "Epoch 8/10\n",
      "55960/55960 - 5s - loss: 0.0677 - mean_squared_error: 0.0665 - val_loss: 0.0716 - val_mean_squared_error: 0.0702\n",
      "Epoch 9/10\n",
      "55960/55960 - 6s - loss: 0.0669 - mean_squared_error: 0.0654 - val_loss: 0.0717 - val_mean_squared_error: 0.0701\n",
      "Epoch 10/10\n",
      "55960/55960 - 6s - loss: 0.0662 - mean_squared_error: 0.0644 - val_loss: 0.0719 - val_mean_squared_error: 0.0700\n",
      "Train on 55960 samples, validate on 13990 samples\n",
      "Epoch 1/10\n",
      "55960/55960 - 16s - loss: 0.1040 - mean_squared_error: 0.1039 - val_loss: 0.0753 - val_mean_squared_error: 0.0752\n",
      "Epoch 2/10\n",
      "55960/55960 - 6s - loss: 0.0754 - mean_squared_error: 0.0752 - val_loss: 0.0736 - val_mean_squared_error: 0.0733\n",
      "Epoch 3/10\n",
      "55960/55960 - 6s - loss: 0.0739 - mean_squared_error: 0.0736 - val_loss: 0.0729 - val_mean_squared_error: 0.0725\n",
      "Epoch 4/10\n",
      "55960/55960 - 6s - loss: 0.0725 - mean_squared_error: 0.0721 - val_loss: 0.0723 - val_mean_squared_error: 0.0718\n",
      "Epoch 5/10\n",
      "55960/55960 - 6s - loss: 0.0711 - mean_squared_error: 0.0706 - val_loss: 0.0719 - val_mean_squared_error: 0.0713\n",
      "Epoch 6/10\n",
      "55960/55960 - 6s - loss: 0.0698 - mean_squared_error: 0.0690 - val_loss: 0.0718 - val_mean_squared_error: 0.0709\n",
      "Epoch 7/10\n",
      "55960/55960 - 6s - loss: 0.0687 - mean_squared_error: 0.0677 - val_loss: 0.0716 - val_mean_squared_error: 0.0705\n",
      "Epoch 8/10\n",
      "55960/55960 - 5s - loss: 0.0677 - mean_squared_error: 0.0665 - val_loss: 0.0717 - val_mean_squared_error: 0.0703\n",
      "Epoch 9/10\n",
      "55960/55960 - 6s - loss: 0.0669 - mean_squared_error: 0.0654 - val_loss: 0.0717 - val_mean_squared_error: 0.0701\n",
      "Epoch 10/10\n",
      "55960/55960 - 6s - loss: 0.0662 - mean_squared_error: 0.0644 - val_loss: 0.0719 - val_mean_squared_error: 0.0700\n",
      "WARNING:tensorflow:Large dropout rate: 0.6 (>0.5). In TensorFlow 2.x, dropout() uses dropout rate instead of keep_prob. Please ensure that this is intended.\n",
      "WARNING:tensorflow:Large dropout rate: 0.6 (>0.5). In TensorFlow 2.x, dropout() uses dropout rate instead of keep_prob. Please ensure that this is intended.\n",
      "Train on 55960 samples, validate on 13990 samples\n",
      "Epoch 1/10\n",
      "55960/55960 - 18s - loss: 0.1036 - mean_squared_error: 0.1035 - val_loss: 0.0753 - val_mean_squared_error: 0.0751\n",
      "Epoch 2/10\n",
      "55960/55960 - 7s - loss: 0.0755 - mean_squared_error: 0.0753 - val_loss: 0.0735 - val_mean_squared_error: 0.0733\n",
      "Epoch 3/10\n",
      "55960/55960 - 7s - loss: 0.0739 - mean_squared_error: 0.0736 - val_loss: 0.0728 - val_mean_squared_error: 0.0725\n",
      "Epoch 4/10\n",
      "55960/55960 - 7s - loss: 0.0725 - mean_squared_error: 0.0721 - val_loss: 0.0723 - val_mean_squared_error: 0.0718\n",
      "Epoch 5/10\n",
      "55960/55960 - 7s - loss: 0.0711 - mean_squared_error: 0.0705 - val_loss: 0.0719 - val_mean_squared_error: 0.0712\n",
      "Epoch 6/10\n",
      "55960/55960 - 7s - loss: 0.0698 - mean_squared_error: 0.0691 - val_loss: 0.0716 - val_mean_squared_error: 0.0707\n",
      "Epoch 7/10\n",
      "55960/55960 - 7s - loss: 0.0687 - mean_squared_error: 0.0677 - val_loss: 0.0715 - val_mean_squared_error: 0.0704\n",
      "Epoch 8/10\n",
      "55960/55960 - 8s - loss: 0.0677 - mean_squared_error: 0.0665 - val_loss: 0.0716 - val_mean_squared_error: 0.0703\n",
      "Epoch 9/10\n",
      "55960/55960 - 7s - loss: 0.0669 - mean_squared_error: 0.0654 - val_loss: 0.0717 - val_mean_squared_error: 0.0701\n",
      "Epoch 10/10\n",
      "55960/55960 - 7s - loss: 0.0662 - mean_squared_error: 0.0644 - val_loss: 0.0719 - val_mean_squared_error: 0.0700\n",
      "WARNING:tensorflow:Large dropout rate: 0.8 (>0.5). In TensorFlow 2.x, dropout() uses dropout rate instead of keep_prob. Please ensure that this is intended.\n",
      "WARNING:tensorflow:Large dropout rate: 0.8 (>0.5). In TensorFlow 2.x, dropout() uses dropout rate instead of keep_prob. Please ensure that this is intended.\n",
      "Train on 55960 samples, validate on 13990 samples\n",
      "Epoch 1/10\n",
      "55960/55960 - 18s - loss: 0.1039 - mean_squared_error: 0.1038 - val_loss: 0.0754 - val_mean_squared_error: 0.0752\n",
      "Epoch 2/10\n",
      "55960/55960 - 6s - loss: 0.0755 - mean_squared_error: 0.0753 - val_loss: 0.0736 - val_mean_squared_error: 0.0733\n",
      "Epoch 3/10\n",
      "55960/55960 - 7s - loss: 0.0739 - mean_squared_error: 0.0736 - val_loss: 0.0729 - val_mean_squared_error: 0.0725\n",
      "Epoch 4/10\n",
      "55960/55960 - 7s - loss: 0.0725 - mean_squared_error: 0.0721 - val_loss: 0.0723 - val_mean_squared_error: 0.0719\n",
      "Epoch 5/10\n",
      "55960/55960 - 8s - loss: 0.0711 - mean_squared_error: 0.0705 - val_loss: 0.0720 - val_mean_squared_error: 0.0713\n",
      "Epoch 6/10\n",
      "55960/55960 - 8s - loss: 0.0698 - mean_squared_error: 0.0690 - val_loss: 0.0716 - val_mean_squared_error: 0.0707\n",
      "Epoch 7/10\n",
      "55960/55960 - 8s - loss: 0.0686 - mean_squared_error: 0.0676 - val_loss: 0.0717 - val_mean_squared_error: 0.0706\n",
      "Epoch 8/10\n",
      "55960/55960 - 8s - loss: 0.0677 - mean_squared_error: 0.0665 - val_loss: 0.0716 - val_mean_squared_error: 0.0702\n",
      "Epoch 9/10\n",
      "55960/55960 - 8s - loss: 0.0669 - mean_squared_error: 0.0654 - val_loss: 0.0717 - val_mean_squared_error: 0.0700\n",
      "Epoch 10/10\n",
      "55960/55960 - 8s - loss: 0.0662 - mean_squared_error: 0.0644 - val_loss: 0.0717 - val_mean_squared_error: 0.0698\n"
     ]
    },
    {
     "data": {
      "text/plain": [
       "{0.0: {'RMSE': 0.266},\n",
       " 0.2: {'RMSE': 0.2661},\n",
       " 0.4: {'RMSE': 0.266},\n",
       " 0.6000000000000001: {'RMSE': 0.2661},\n",
       " 0.8: {'RMSE': 0.2657}}"
      ]
     },
     "execution_count": 37,
     "metadata": {},
     "output_type": "execute_result"
    }
   ],
   "source": [
    "dnn_dropout_rmse = {}\n",
    "for k in rand_parameters['dnn_dropout']:\n",
    "    model = WDL(linear_feature_columns, dnn_feature_columns, dnn_hidden_units = (2,2), dnn_dropout = k, dnn_activation = 'relu', seed = 1024, task ='binary')\n",
    "    model.compile(\"adam\", \"mse\", metrics=['mse'])\n",
    "    history = model.fit(train_data_input, train_data[target].values, batch_size=256, validation_split=0.2, epochs=10, verbose=2)\n",
    "    pred = model.predict(test_data_input, batch_size=256)\n",
    "    dnn_dropout_rmse[k]={\"RMSE\": np.round(sqrt(mean_squared_error(test_data[target].values, pred)),4)}\n",
    "dnn_dropout_rmse"
   ]
  },
  {
   "cell_type": "markdown",
   "metadata": {
    "id": "o5yhQ4vbg2s5"
   },
   "source": [
    "#### Applying the best parameters to the Wide and Deep Learning Model"
   ]
  },
  {
   "cell_type": "code",
   "execution_count": 28,
   "metadata": {
    "colab": {
     "base_uri": "https://localhost:8080/"
    },
    "id": "rMwVDDeOg2s5",
    "outputId": "d0fc62d4-f51c-48df-9367-9348a69901cb"
   },
   "outputs": [
    {
     "name": "stdout",
     "output_type": "stream",
     "text": [
      "WARNING:tensorflow:Entity <bound method NoMask.call of <deepctr.layers.utils.NoMask object at 0x0000029D8F9C6208>> could not be transformed and will be executed as-is. Please report this to the AutgoGraph team. When filing the bug, set the verbosity to 10 (on Linux, `export AUTOGRAPH_VERBOSITY=10`) and attach the full output. Cause: converting <bound method NoMask.call of <deepctr.layers.utils.NoMask object at 0x0000029D8F9C6208>>: AssertionError: Bad argument number for Name: 3, expecting 4\n",
      "WARNING: Entity <bound method NoMask.call of <deepctr.layers.utils.NoMask object at 0x0000029D8F9C6208>> could not be transformed and will be executed as-is. Please report this to the AutgoGraph team. When filing the bug, set the verbosity to 10 (on Linux, `export AUTOGRAPH_VERBOSITY=10`) and attach the full output. Cause: converting <bound method NoMask.call of <deepctr.layers.utils.NoMask object at 0x0000029D8F9C6208>>: AssertionError: Bad argument number for Name: 3, expecting 4\n",
      "WARNING:tensorflow:Entity <bound method NoMask.call of <deepctr.layers.utils.NoMask object at 0x0000029D8F9C6208>> could not be transformed and will be executed as-is. Please report this to the AutgoGraph team. When filing the bug, set the verbosity to 10 (on Linux, `export AUTOGRAPH_VERBOSITY=10`) and attach the full output. Cause: converting <bound method NoMask.call of <deepctr.layers.utils.NoMask object at 0x0000029D8F9C6208>>: AssertionError: Bad argument number for Name: 3, expecting 4\n",
      "WARNING: Entity <bound method NoMask.call of <deepctr.layers.utils.NoMask object at 0x0000029D8F9C6208>> could not be transformed and will be executed as-is. Please report this to the AutgoGraph team. When filing the bug, set the verbosity to 10 (on Linux, `export AUTOGRAPH_VERBOSITY=10`) and attach the full output. Cause: converting <bound method NoMask.call of <deepctr.layers.utils.NoMask object at 0x0000029D8F9C6208>>: AssertionError: Bad argument number for Name: 3, expecting 4\n",
      "WARNING:tensorflow:Entity <bound method NoMask.call of <deepctr.layers.utils.NoMask object at 0x0000029D8F9C6208>> could not be transformed and will be executed as-is. Please report this to the AutgoGraph team. When filing the bug, set the verbosity to 10 (on Linux, `export AUTOGRAPH_VERBOSITY=10`) and attach the full output. Cause: converting <bound method NoMask.call of <deepctr.layers.utils.NoMask object at 0x0000029D8F9C6208>>: AssertionError: Bad argument number for Name: 3, expecting 4\n",
      "WARNING: Entity <bound method NoMask.call of <deepctr.layers.utils.NoMask object at 0x0000029D8F9C6208>> could not be transformed and will be executed as-is. Please report this to the AutgoGraph team. When filing the bug, set the verbosity to 10 (on Linux, `export AUTOGRAPH_VERBOSITY=10`) and attach the full output. Cause: converting <bound method NoMask.call of <deepctr.layers.utils.NoMask object at 0x0000029D8F9C6208>>: AssertionError: Bad argument number for Name: 3, expecting 4\n",
      "WARNING:tensorflow:Entity <bound method NoMask.call of <deepctr.layers.utils.NoMask object at 0x0000029D8F9C6208>> could not be transformed and will be executed as-is. Please report this to the AutgoGraph team. When filing the bug, set the verbosity to 10 (on Linux, `export AUTOGRAPH_VERBOSITY=10`) and attach the full output. Cause: converting <bound method NoMask.call of <deepctr.layers.utils.NoMask object at 0x0000029D8F9C6208>>: AssertionError: Bad argument number for Name: 3, expecting 4\n",
      "WARNING: Entity <bound method NoMask.call of <deepctr.layers.utils.NoMask object at 0x0000029D8F9C6208>> could not be transformed and will be executed as-is. Please report this to the AutgoGraph team. When filing the bug, set the verbosity to 10 (on Linux, `export AUTOGRAPH_VERBOSITY=10`) and attach the full output. Cause: converting <bound method NoMask.call of <deepctr.layers.utils.NoMask object at 0x0000029D8F9C6208>>: AssertionError: Bad argument number for Name: 3, expecting 4\n",
      "WARNING:tensorflow:Entity <bound method NoMask.call of <deepctr.layers.utils.NoMask object at 0x0000029D8F9C6208>> could not be transformed and will be executed as-is. Please report this to the AutgoGraph team. When filing the bug, set the verbosity to 10 (on Linux, `export AUTOGRAPH_VERBOSITY=10`) and attach the full output. Cause: converting <bound method NoMask.call of <deepctr.layers.utils.NoMask object at 0x0000029D8F9C6208>>: AssertionError: Bad argument number for Name: 3, expecting 4\n",
      "WARNING: Entity <bound method NoMask.call of <deepctr.layers.utils.NoMask object at 0x0000029D8F9C6208>> could not be transformed and will be executed as-is. Please report this to the AutgoGraph team. When filing the bug, set the verbosity to 10 (on Linux, `export AUTOGRAPH_VERBOSITY=10`) and attach the full output. Cause: converting <bound method NoMask.call of <deepctr.layers.utils.NoMask object at 0x0000029D8F9C6208>>: AssertionError: Bad argument number for Name: 3, expecting 4\n",
      "WARNING:tensorflow:Entity <bound method NoMask.call of <deepctr.layers.utils.NoMask object at 0x0000029D8F9C6208>> could not be transformed and will be executed as-is. Please report this to the AutgoGraph team. When filing the bug, set the verbosity to 10 (on Linux, `export AUTOGRAPH_VERBOSITY=10`) and attach the full output. Cause: converting <bound method NoMask.call of <deepctr.layers.utils.NoMask object at 0x0000029D8F9C6208>>: AssertionError: Bad argument number for Name: 3, expecting 4\n",
      "WARNING: Entity <bound method NoMask.call of <deepctr.layers.utils.NoMask object at 0x0000029D8F9C6208>> could not be transformed and will be executed as-is. Please report this to the AutgoGraph team. When filing the bug, set the verbosity to 10 (on Linux, `export AUTOGRAPH_VERBOSITY=10`) and attach the full output. Cause: converting <bound method NoMask.call of <deepctr.layers.utils.NoMask object at 0x0000029D8F9C6208>>: AssertionError: Bad argument number for Name: 3, expecting 4\n",
      "WARNING:tensorflow:Entity <bound method NoMask.call of <deepctr.layers.utils.NoMask object at 0x0000029D8F9C6208>> could not be transformed and will be executed as-is. Please report this to the AutgoGraph team. When filing the bug, set the verbosity to 10 (on Linux, `export AUTOGRAPH_VERBOSITY=10`) and attach the full output. Cause: converting <bound method NoMask.call of <deepctr.layers.utils.NoMask object at 0x0000029D8F9C6208>>: AssertionError: Bad argument number for Name: 3, expecting 4\n",
      "WARNING: Entity <bound method NoMask.call of <deepctr.layers.utils.NoMask object at 0x0000029D8F9C6208>> could not be transformed and will be executed as-is. Please report this to the AutgoGraph team. When filing the bug, set the verbosity to 10 (on Linux, `export AUTOGRAPH_VERBOSITY=10`) and attach the full output. Cause: converting <bound method NoMask.call of <deepctr.layers.utils.NoMask object at 0x0000029D8F9C6208>>: AssertionError: Bad argument number for Name: 3, expecting 4\n",
      "WARNING:tensorflow:Entity <bound method NoMask.call of <deepctr.layers.utils.NoMask object at 0x0000029D8F9C6208>> could not be transformed and will be executed as-is. Please report this to the AutgoGraph team. When filing the bug, set the verbosity to 10 (on Linux, `export AUTOGRAPH_VERBOSITY=10`) and attach the full output. Cause: converting <bound method NoMask.call of <deepctr.layers.utils.NoMask object at 0x0000029D8F9C6208>>: AssertionError: Bad argument number for Name: 3, expecting 4\n",
      "WARNING: Entity <bound method NoMask.call of <deepctr.layers.utils.NoMask object at 0x0000029D8F9C6208>> could not be transformed and will be executed as-is. Please report this to the AutgoGraph team. When filing the bug, set the verbosity to 10 (on Linux, `export AUTOGRAPH_VERBOSITY=10`) and attach the full output. Cause: converting <bound method NoMask.call of <deepctr.layers.utils.NoMask object at 0x0000029D8F9C6208>>: AssertionError: Bad argument number for Name: 3, expecting 4\n",
      "WARNING:tensorflow:Entity <bound method NoMask.call of <deepctr.layers.utils.NoMask object at 0x0000029D8F9C6208>> could not be transformed and will be executed as-is. Please report this to the AutgoGraph team. When filing the bug, set the verbosity to 10 (on Linux, `export AUTOGRAPH_VERBOSITY=10`) and attach the full output. Cause: converting <bound method NoMask.call of <deepctr.layers.utils.NoMask object at 0x0000029D8F9C6208>>: AssertionError: Bad argument number for Name: 3, expecting 4\n"
     ]
    },
    {
     "name": "stdout",
     "output_type": "stream",
     "text": [
      "WARNING: Entity <bound method NoMask.call of <deepctr.layers.utils.NoMask object at 0x0000029D8F9C6208>> could not be transformed and will be executed as-is. Please report this to the AutgoGraph team. When filing the bug, set the verbosity to 10 (on Linux, `export AUTOGRAPH_VERBOSITY=10`) and attach the full output. Cause: converting <bound method NoMask.call of <deepctr.layers.utils.NoMask object at 0x0000029D8F9C6208>>: AssertionError: Bad argument number for Name: 3, expecting 4\n",
      "WARNING:tensorflow:Entity <bound method NoMask.call of <deepctr.layers.utils.NoMask object at 0x0000029D8F9C6208>> could not be transformed and will be executed as-is. Please report this to the AutgoGraph team. When filing the bug, set the verbosity to 10 (on Linux, `export AUTOGRAPH_VERBOSITY=10`) and attach the full output. Cause: converting <bound method NoMask.call of <deepctr.layers.utils.NoMask object at 0x0000029D8F9C6208>>: AssertionError: Bad argument number for Name: 3, expecting 4\n",
      "WARNING: Entity <bound method NoMask.call of <deepctr.layers.utils.NoMask object at 0x0000029D8F9C6208>> could not be transformed and will be executed as-is. Please report this to the AutgoGraph team. When filing the bug, set the verbosity to 10 (on Linux, `export AUTOGRAPH_VERBOSITY=10`) and attach the full output. Cause: converting <bound method NoMask.call of <deepctr.layers.utils.NoMask object at 0x0000029D8F9C6208>>: AssertionError: Bad argument number for Name: 3, expecting 4\n",
      "WARNING:tensorflow:Entity <bound method NoMask.call of <deepctr.layers.utils.NoMask object at 0x0000029D8F9C6208>> could not be transformed and will be executed as-is. Please report this to the AutgoGraph team. When filing the bug, set the verbosity to 10 (on Linux, `export AUTOGRAPH_VERBOSITY=10`) and attach the full output. Cause: converting <bound method NoMask.call of <deepctr.layers.utils.NoMask object at 0x0000029D8F9C6208>>: AssertionError: Bad argument number for Name: 3, expecting 4\n",
      "WARNING: Entity <bound method NoMask.call of <deepctr.layers.utils.NoMask object at 0x0000029D8F9C6208>> could not be transformed and will be executed as-is. Please report this to the AutgoGraph team. When filing the bug, set the verbosity to 10 (on Linux, `export AUTOGRAPH_VERBOSITY=10`) and attach the full output. Cause: converting <bound method NoMask.call of <deepctr.layers.utils.NoMask object at 0x0000029D8F9C6208>>: AssertionError: Bad argument number for Name: 3, expecting 4\n",
      "WARNING:tensorflow:Entity <bound method NoMask.call of <deepctr.layers.utils.NoMask object at 0x0000029D8F9C6208>> could not be transformed and will be executed as-is. Please report this to the AutgoGraph team. When filing the bug, set the verbosity to 10 (on Linux, `export AUTOGRAPH_VERBOSITY=10`) and attach the full output. Cause: converting <bound method NoMask.call of <deepctr.layers.utils.NoMask object at 0x0000029D8F9C6208>>: AssertionError: Bad argument number for Name: 3, expecting 4\n",
      "WARNING: Entity <bound method NoMask.call of <deepctr.layers.utils.NoMask object at 0x0000029D8F9C6208>> could not be transformed and will be executed as-is. Please report this to the AutgoGraph team. When filing the bug, set the verbosity to 10 (on Linux, `export AUTOGRAPH_VERBOSITY=10`) and attach the full output. Cause: converting <bound method NoMask.call of <deepctr.layers.utils.NoMask object at 0x0000029D8F9C6208>>: AssertionError: Bad argument number for Name: 3, expecting 4\n",
      "WARNING:tensorflow:Entity <bound method NoMask.call of <deepctr.layers.utils.NoMask object at 0x0000029D8F9C6208>> could not be transformed and will be executed as-is. Please report this to the AutgoGraph team. When filing the bug, set the verbosity to 10 (on Linux, `export AUTOGRAPH_VERBOSITY=10`) and attach the full output. Cause: converting <bound method NoMask.call of <deepctr.layers.utils.NoMask object at 0x0000029D8F9C6208>>: AssertionError: Bad argument number for Name: 3, expecting 4\n",
      "WARNING: Entity <bound method NoMask.call of <deepctr.layers.utils.NoMask object at 0x0000029D8F9C6208>> could not be transformed and will be executed as-is. Please report this to the AutgoGraph team. When filing the bug, set the verbosity to 10 (on Linux, `export AUTOGRAPH_VERBOSITY=10`) and attach the full output. Cause: converting <bound method NoMask.call of <deepctr.layers.utils.NoMask object at 0x0000029D8F9C6208>>: AssertionError: Bad argument number for Name: 3, expecting 4\n",
      "WARNING:tensorflow:Entity <bound method NoMask.call of <deepctr.layers.utils.NoMask object at 0x0000029D8F9C6208>> could not be transformed and will be executed as-is. Please report this to the AutgoGraph team. When filing the bug, set the verbosity to 10 (on Linux, `export AUTOGRAPH_VERBOSITY=10`) and attach the full output. Cause: converting <bound method NoMask.call of <deepctr.layers.utils.NoMask object at 0x0000029D8F9C6208>>: AssertionError: Bad argument number for Name: 3, expecting 4\n",
      "WARNING: Entity <bound method NoMask.call of <deepctr.layers.utils.NoMask object at 0x0000029D8F9C6208>> could not be transformed and will be executed as-is. Please report this to the AutgoGraph team. When filing the bug, set the verbosity to 10 (on Linux, `export AUTOGRAPH_VERBOSITY=10`) and attach the full output. Cause: converting <bound method NoMask.call of <deepctr.layers.utils.NoMask object at 0x0000029D8F9C6208>>: AssertionError: Bad argument number for Name: 3, expecting 4\n",
      "WARNING:tensorflow:Entity <bound method NoMask.call of <deepctr.layers.utils.NoMask object at 0x0000029D8F9C6208>> could not be transformed and will be executed as-is. Please report this to the AutgoGraph team. When filing the bug, set the verbosity to 10 (on Linux, `export AUTOGRAPH_VERBOSITY=10`) and attach the full output. Cause: converting <bound method NoMask.call of <deepctr.layers.utils.NoMask object at 0x0000029D8F9C6208>>: AssertionError: Bad argument number for Name: 3, expecting 4\n",
      "WARNING: Entity <bound method NoMask.call of <deepctr.layers.utils.NoMask object at 0x0000029D8F9C6208>> could not be transformed and will be executed as-is. Please report this to the AutgoGraph team. When filing the bug, set the verbosity to 10 (on Linux, `export AUTOGRAPH_VERBOSITY=10`) and attach the full output. Cause: converting <bound method NoMask.call of <deepctr.layers.utils.NoMask object at 0x0000029D8F9C6208>>: AssertionError: Bad argument number for Name: 3, expecting 4\n",
      "WARNING:tensorflow:Entity <bound method NoMask.call of <deepctr.layers.utils.NoMask object at 0x0000029D8F9C6208>> could not be transformed and will be executed as-is. Please report this to the AutgoGraph team. When filing the bug, set the verbosity to 10 (on Linux, `export AUTOGRAPH_VERBOSITY=10`) and attach the full output. Cause: converting <bound method NoMask.call of <deepctr.layers.utils.NoMask object at 0x0000029D8F9C6208>>: AssertionError: Bad argument number for Name: 3, expecting 4\n",
      "WARNING: Entity <bound method NoMask.call of <deepctr.layers.utils.NoMask object at 0x0000029D8F9C6208>> could not be transformed and will be executed as-is. Please report this to the AutgoGraph team. When filing the bug, set the verbosity to 10 (on Linux, `export AUTOGRAPH_VERBOSITY=10`) and attach the full output. Cause: converting <bound method NoMask.call of <deepctr.layers.utils.NoMask object at 0x0000029D8F9C6208>>: AssertionError: Bad argument number for Name: 3, expecting 4\n",
      "WARNING:tensorflow:Entity <bound method NoMask.call of <deepctr.layers.utils.NoMask object at 0x0000029D8F9C6208>> could not be transformed and will be executed as-is. Please report this to the AutgoGraph team. When filing the bug, set the verbosity to 10 (on Linux, `export AUTOGRAPH_VERBOSITY=10`) and attach the full output. Cause: converting <bound method NoMask.call of <deepctr.layers.utils.NoMask object at 0x0000029D8F9C6208>>: AssertionError: Bad argument number for Name: 3, expecting 4\n",
      "WARNING: Entity <bound method NoMask.call of <deepctr.layers.utils.NoMask object at 0x0000029D8F9C6208>> could not be transformed and will be executed as-is. Please report this to the AutgoGraph team. When filing the bug, set the verbosity to 10 (on Linux, `export AUTOGRAPH_VERBOSITY=10`) and attach the full output. Cause: converting <bound method NoMask.call of <deepctr.layers.utils.NoMask object at 0x0000029D8F9C6208>>: AssertionError: Bad argument number for Name: 3, expecting 4\n",
      "WARNING:tensorflow:Entity <bound method NoMask.call of <deepctr.layers.utils.NoMask object at 0x0000029D8F9C6208>> could not be transformed and will be executed as-is. Please report this to the AutgoGraph team. When filing the bug, set the verbosity to 10 (on Linux, `export AUTOGRAPH_VERBOSITY=10`) and attach the full output. Cause: converting <bound method NoMask.call of <deepctr.layers.utils.NoMask object at 0x0000029D8F9C6208>>: AssertionError: Bad argument number for Name: 3, expecting 4\n"
     ]
    },
    {
     "name": "stdout",
     "output_type": "stream",
     "text": [
      "WARNING: Entity <bound method NoMask.call of <deepctr.layers.utils.NoMask object at 0x0000029D8F9C6208>> could not be transformed and will be executed as-is. Please report this to the AutgoGraph team. When filing the bug, set the verbosity to 10 (on Linux, `export AUTOGRAPH_VERBOSITY=10`) and attach the full output. Cause: converting <bound method NoMask.call of <deepctr.layers.utils.NoMask object at 0x0000029D8F9C6208>>: AssertionError: Bad argument number for Name: 3, expecting 4\n",
      "WARNING:tensorflow:Entity <bound method NoMask.call of <deepctr.layers.utils.NoMask object at 0x0000029D8F9C6208>> could not be transformed and will be executed as-is. Please report this to the AutgoGraph team. When filing the bug, set the verbosity to 10 (on Linux, `export AUTOGRAPH_VERBOSITY=10`) and attach the full output. Cause: converting <bound method NoMask.call of <deepctr.layers.utils.NoMask object at 0x0000029D8F9C6208>>: AssertionError: Bad argument number for Name: 3, expecting 4\n",
      "WARNING: Entity <bound method NoMask.call of <deepctr.layers.utils.NoMask object at 0x0000029D8F9C6208>> could not be transformed and will be executed as-is. Please report this to the AutgoGraph team. When filing the bug, set the verbosity to 10 (on Linux, `export AUTOGRAPH_VERBOSITY=10`) and attach the full output. Cause: converting <bound method NoMask.call of <deepctr.layers.utils.NoMask object at 0x0000029D8F9C6208>>: AssertionError: Bad argument number for Name: 3, expecting 4\n",
      "WARNING:tensorflow:Entity <bound method NoMask.call of <deepctr.layers.utils.NoMask object at 0x0000029D8F9C6208>> could not be transformed and will be executed as-is. Please report this to the AutgoGraph team. When filing the bug, set the verbosity to 10 (on Linux, `export AUTOGRAPH_VERBOSITY=10`) and attach the full output. Cause: converting <bound method NoMask.call of <deepctr.layers.utils.NoMask object at 0x0000029D8F9C6208>>: AssertionError: Bad argument number for Name: 3, expecting 4\n",
      "WARNING: Entity <bound method NoMask.call of <deepctr.layers.utils.NoMask object at 0x0000029D8F9C6208>> could not be transformed and will be executed as-is. Please report this to the AutgoGraph team. When filing the bug, set the verbosity to 10 (on Linux, `export AUTOGRAPH_VERBOSITY=10`) and attach the full output. Cause: converting <bound method NoMask.call of <deepctr.layers.utils.NoMask object at 0x0000029D8F9C6208>>: AssertionError: Bad argument number for Name: 3, expecting 4\n",
      "WARNING:tensorflow:Entity <bound method NoMask.call of <deepctr.layers.utils.NoMask object at 0x0000029D8F9C6208>> could not be transformed and will be executed as-is. Please report this to the AutgoGraph team. When filing the bug, set the verbosity to 10 (on Linux, `export AUTOGRAPH_VERBOSITY=10`) and attach the full output. Cause: converting <bound method NoMask.call of <deepctr.layers.utils.NoMask object at 0x0000029D8F9C6208>>: AssertionError: Bad argument number for Name: 3, expecting 4\n",
      "WARNING: Entity <bound method NoMask.call of <deepctr.layers.utils.NoMask object at 0x0000029D8F9C6208>> could not be transformed and will be executed as-is. Please report this to the AutgoGraph team. When filing the bug, set the verbosity to 10 (on Linux, `export AUTOGRAPH_VERBOSITY=10`) and attach the full output. Cause: converting <bound method NoMask.call of <deepctr.layers.utils.NoMask object at 0x0000029D8F9C6208>>: AssertionError: Bad argument number for Name: 3, expecting 4\n",
      "WARNING:tensorflow:Entity <bound method NoMask.call of <deepctr.layers.utils.NoMask object at 0x0000029D8F9C6208>> could not be transformed and will be executed as-is. Please report this to the AutgoGraph team. When filing the bug, set the verbosity to 10 (on Linux, `export AUTOGRAPH_VERBOSITY=10`) and attach the full output. Cause: converting <bound method NoMask.call of <deepctr.layers.utils.NoMask object at 0x0000029D8F9C6208>>: AssertionError: Bad argument number for Name: 3, expecting 4\n",
      "WARNING: Entity <bound method NoMask.call of <deepctr.layers.utils.NoMask object at 0x0000029D8F9C6208>> could not be transformed and will be executed as-is. Please report this to the AutgoGraph team. When filing the bug, set the verbosity to 10 (on Linux, `export AUTOGRAPH_VERBOSITY=10`) and attach the full output. Cause: converting <bound method NoMask.call of <deepctr.layers.utils.NoMask object at 0x0000029D8F9C6208>>: AssertionError: Bad argument number for Name: 3, expecting 4\n",
      "WARNING:tensorflow:Entity <bound method NoMask.call of <deepctr.layers.utils.NoMask object at 0x0000029D8F9C6208>> could not be transformed and will be executed as-is. Please report this to the AutgoGraph team. When filing the bug, set the verbosity to 10 (on Linux, `export AUTOGRAPH_VERBOSITY=10`) and attach the full output. Cause: converting <bound method NoMask.call of <deepctr.layers.utils.NoMask object at 0x0000029D8F9C6208>>: AssertionError: Bad argument number for Name: 3, expecting 4\n",
      "WARNING: Entity <bound method NoMask.call of <deepctr.layers.utils.NoMask object at 0x0000029D8F9C6208>> could not be transformed and will be executed as-is. Please report this to the AutgoGraph team. When filing the bug, set the verbosity to 10 (on Linux, `export AUTOGRAPH_VERBOSITY=10`) and attach the full output. Cause: converting <bound method NoMask.call of <deepctr.layers.utils.NoMask object at 0x0000029D8F9C6208>>: AssertionError: Bad argument number for Name: 3, expecting 4\n",
      "WARNING:tensorflow:Entity <bound method NoMask.call of <deepctr.layers.utils.NoMask object at 0x0000029D8F9C6208>> could not be transformed and will be executed as-is. Please report this to the AutgoGraph team. When filing the bug, set the verbosity to 10 (on Linux, `export AUTOGRAPH_VERBOSITY=10`) and attach the full output. Cause: converting <bound method NoMask.call of <deepctr.layers.utils.NoMask object at 0x0000029D8F9C6208>>: AssertionError: Bad argument number for Name: 3, expecting 4\n",
      "WARNING: Entity <bound method NoMask.call of <deepctr.layers.utils.NoMask object at 0x0000029D8F9C6208>> could not be transformed and will be executed as-is. Please report this to the AutgoGraph team. When filing the bug, set the verbosity to 10 (on Linux, `export AUTOGRAPH_VERBOSITY=10`) and attach the full output. Cause: converting <bound method NoMask.call of <deepctr.layers.utils.NoMask object at 0x0000029D8F9C6208>>: AssertionError: Bad argument number for Name: 3, expecting 4\n",
      "WARNING:tensorflow:Entity <bound method NoMask.call of <deepctr.layers.utils.NoMask object at 0x0000029D8F9C6208>> could not be transformed and will be executed as-is. Please report this to the AutgoGraph team. When filing the bug, set the verbosity to 10 (on Linux, `export AUTOGRAPH_VERBOSITY=10`) and attach the full output. Cause: converting <bound method NoMask.call of <deepctr.layers.utils.NoMask object at 0x0000029D8F9C6208>>: AssertionError: Bad argument number for Name: 3, expecting 4\n",
      "WARNING: Entity <bound method NoMask.call of <deepctr.layers.utils.NoMask object at 0x0000029D8F9C6208>> could not be transformed and will be executed as-is. Please report this to the AutgoGraph team. When filing the bug, set the verbosity to 10 (on Linux, `export AUTOGRAPH_VERBOSITY=10`) and attach the full output. Cause: converting <bound method NoMask.call of <deepctr.layers.utils.NoMask object at 0x0000029D8F9C6208>>: AssertionError: Bad argument number for Name: 3, expecting 4\n",
      "WARNING:tensorflow:Entity <bound method Linear.call of <deepctr.layers.utils.Linear object at 0x0000029D8FBF6188>> could not be transformed and will be executed as-is. Please report this to the AutgoGraph team. When filing the bug, set the verbosity to 10 (on Linux, `export AUTOGRAPH_VERBOSITY=10`) and attach the full output. Cause: converting <bound method Linear.call of <deepctr.layers.utils.Linear object at 0x0000029D8FBF6188>>: AssertionError: Bad argument number for Name: 3, expecting 4\n",
      "WARNING: Entity <bound method Linear.call of <deepctr.layers.utils.Linear object at 0x0000029D8FBF6188>> could not be transformed and will be executed as-is. Please report this to the AutgoGraph team. When filing the bug, set the verbosity to 10 (on Linux, `export AUTOGRAPH_VERBOSITY=10`) and attach the full output. Cause: converting <bound method Linear.call of <deepctr.layers.utils.Linear object at 0x0000029D8FBF6188>>: AssertionError: Bad argument number for Name: 3, expecting 4\n",
      "WARNING:tensorflow:Entity <bound method NoMask.call of <deepctr.layers.utils.NoMask object at 0x0000029D8FC28408>> could not be transformed and will be executed as-is. Please report this to the AutgoGraph team. When filing the bug, set the verbosity to 10 (on Linux, `export AUTOGRAPH_VERBOSITY=10`) and attach the full output. Cause: converting <bound method NoMask.call of <deepctr.layers.utils.NoMask object at 0x0000029D8FC28408>>: AssertionError: Bad argument number for Name: 3, expecting 4\n"
     ]
    },
    {
     "name": "stdout",
     "output_type": "stream",
     "text": [
      "WARNING: Entity <bound method NoMask.call of <deepctr.layers.utils.NoMask object at 0x0000029D8FC28408>> could not be transformed and will be executed as-is. Please report this to the AutgoGraph team. When filing the bug, set the verbosity to 10 (on Linux, `export AUTOGRAPH_VERBOSITY=10`) and attach the full output. Cause: converting <bound method NoMask.call of <deepctr.layers.utils.NoMask object at 0x0000029D8FC28408>>: AssertionError: Bad argument number for Name: 3, expecting 4\n",
      "WARNING:tensorflow:Entity <bound method NoMask.call of <deepctr.layers.utils.NoMask object at 0x0000029D8FD64908>> could not be transformed and will be executed as-is. Please report this to the AutgoGraph team. When filing the bug, set the verbosity to 10 (on Linux, `export AUTOGRAPH_VERBOSITY=10`) and attach the full output. Cause: converting <bound method NoMask.call of <deepctr.layers.utils.NoMask object at 0x0000029D8FD64908>>: AssertionError: Bad argument number for Name: 3, expecting 4\n",
      "WARNING: Entity <bound method NoMask.call of <deepctr.layers.utils.NoMask object at 0x0000029D8FD64908>> could not be transformed and will be executed as-is. Please report this to the AutgoGraph team. When filing the bug, set the verbosity to 10 (on Linux, `export AUTOGRAPH_VERBOSITY=10`) and attach the full output. Cause: converting <bound method NoMask.call of <deepctr.layers.utils.NoMask object at 0x0000029D8FD64908>>: AssertionError: Bad argument number for Name: 3, expecting 4\n",
      "WARNING:tensorflow:Entity <bound method NoMask.call of <deepctr.layers.utils.NoMask object at 0x0000029D8FD64908>> could not be transformed and will be executed as-is. Please report this to the AutgoGraph team. When filing the bug, set the verbosity to 10 (on Linux, `export AUTOGRAPH_VERBOSITY=10`) and attach the full output. Cause: converting <bound method NoMask.call of <deepctr.layers.utils.NoMask object at 0x0000029D8FD64908>>: AssertionError: Bad argument number for Name: 3, expecting 4\n",
      "WARNING: Entity <bound method NoMask.call of <deepctr.layers.utils.NoMask object at 0x0000029D8FD64908>> could not be transformed and will be executed as-is. Please report this to the AutgoGraph team. When filing the bug, set the verbosity to 10 (on Linux, `export AUTOGRAPH_VERBOSITY=10`) and attach the full output. Cause: converting <bound method NoMask.call of <deepctr.layers.utils.NoMask object at 0x0000029D8FD64908>>: AssertionError: Bad argument number for Name: 3, expecting 4\n",
      "WARNING:tensorflow:Entity <bound method NoMask.call of <deepctr.layers.utils.NoMask object at 0x0000029D8FD64908>> could not be transformed and will be executed as-is. Please report this to the AutgoGraph team. When filing the bug, set the verbosity to 10 (on Linux, `export AUTOGRAPH_VERBOSITY=10`) and attach the full output. Cause: converting <bound method NoMask.call of <deepctr.layers.utils.NoMask object at 0x0000029D8FD64908>>: AssertionError: Bad argument number for Name: 3, expecting 4\n",
      "WARNING: Entity <bound method NoMask.call of <deepctr.layers.utils.NoMask object at 0x0000029D8FD64908>> could not be transformed and will be executed as-is. Please report this to the AutgoGraph team. When filing the bug, set the verbosity to 10 (on Linux, `export AUTOGRAPH_VERBOSITY=10`) and attach the full output. Cause: converting <bound method NoMask.call of <deepctr.layers.utils.NoMask object at 0x0000029D8FD64908>>: AssertionError: Bad argument number for Name: 3, expecting 4\n",
      "WARNING:tensorflow:Entity <bound method NoMask.call of <deepctr.layers.utils.NoMask object at 0x0000029D8FD64908>> could not be transformed and will be executed as-is. Please report this to the AutgoGraph team. When filing the bug, set the verbosity to 10 (on Linux, `export AUTOGRAPH_VERBOSITY=10`) and attach the full output. Cause: converting <bound method NoMask.call of <deepctr.layers.utils.NoMask object at 0x0000029D8FD64908>>: AssertionError: Bad argument number for Name: 3, expecting 4\n",
      "WARNING: Entity <bound method NoMask.call of <deepctr.layers.utils.NoMask object at 0x0000029D8FD64908>> could not be transformed and will be executed as-is. Please report this to the AutgoGraph team. When filing the bug, set the verbosity to 10 (on Linux, `export AUTOGRAPH_VERBOSITY=10`) and attach the full output. Cause: converting <bound method NoMask.call of <deepctr.layers.utils.NoMask object at 0x0000029D8FD64908>>: AssertionError: Bad argument number for Name: 3, expecting 4\n",
      "WARNING:tensorflow:Entity <bound method NoMask.call of <deepctr.layers.utils.NoMask object at 0x0000029D8FD64908>> could not be transformed and will be executed as-is. Please report this to the AutgoGraph team. When filing the bug, set the verbosity to 10 (on Linux, `export AUTOGRAPH_VERBOSITY=10`) and attach the full output. Cause: converting <bound method NoMask.call of <deepctr.layers.utils.NoMask object at 0x0000029D8FD64908>>: AssertionError: Bad argument number for Name: 3, expecting 4\n",
      "WARNING: Entity <bound method NoMask.call of <deepctr.layers.utils.NoMask object at 0x0000029D8FD64908>> could not be transformed and will be executed as-is. Please report this to the AutgoGraph team. When filing the bug, set the verbosity to 10 (on Linux, `export AUTOGRAPH_VERBOSITY=10`) and attach the full output. Cause: converting <bound method NoMask.call of <deepctr.layers.utils.NoMask object at 0x0000029D8FD64908>>: AssertionError: Bad argument number for Name: 3, expecting 4\n",
      "WARNING:tensorflow:Entity <bound method NoMask.call of <deepctr.layers.utils.NoMask object at 0x0000029D8FD64908>> could not be transformed and will be executed as-is. Please report this to the AutgoGraph team. When filing the bug, set the verbosity to 10 (on Linux, `export AUTOGRAPH_VERBOSITY=10`) and attach the full output. Cause: converting <bound method NoMask.call of <deepctr.layers.utils.NoMask object at 0x0000029D8FD64908>>: AssertionError: Bad argument number for Name: 3, expecting 4\n",
      "WARNING: Entity <bound method NoMask.call of <deepctr.layers.utils.NoMask object at 0x0000029D8FD64908>> could not be transformed and will be executed as-is. Please report this to the AutgoGraph team. When filing the bug, set the verbosity to 10 (on Linux, `export AUTOGRAPH_VERBOSITY=10`) and attach the full output. Cause: converting <bound method NoMask.call of <deepctr.layers.utils.NoMask object at 0x0000029D8FD64908>>: AssertionError: Bad argument number for Name: 3, expecting 4\n",
      "WARNING:tensorflow:Entity <bound method NoMask.call of <deepctr.layers.utils.NoMask object at 0x0000029D8FD64908>> could not be transformed and will be executed as-is. Please report this to the AutgoGraph team. When filing the bug, set the verbosity to 10 (on Linux, `export AUTOGRAPH_VERBOSITY=10`) and attach the full output. Cause: converting <bound method NoMask.call of <deepctr.layers.utils.NoMask object at 0x0000029D8FD64908>>: AssertionError: Bad argument number for Name: 3, expecting 4\n",
      "WARNING: Entity <bound method NoMask.call of <deepctr.layers.utils.NoMask object at 0x0000029D8FD64908>> could not be transformed and will be executed as-is. Please report this to the AutgoGraph team. When filing the bug, set the verbosity to 10 (on Linux, `export AUTOGRAPH_VERBOSITY=10`) and attach the full output. Cause: converting <bound method NoMask.call of <deepctr.layers.utils.NoMask object at 0x0000029D8FD64908>>: AssertionError: Bad argument number for Name: 3, expecting 4\n",
      "WARNING:tensorflow:Entity <bound method NoMask.call of <deepctr.layers.utils.NoMask object at 0x0000029D8FD64908>> could not be transformed and will be executed as-is. Please report this to the AutgoGraph team. When filing the bug, set the verbosity to 10 (on Linux, `export AUTOGRAPH_VERBOSITY=10`) and attach the full output. Cause: converting <bound method NoMask.call of <deepctr.layers.utils.NoMask object at 0x0000029D8FD64908>>: AssertionError: Bad argument number for Name: 3, expecting 4\n",
      "WARNING: Entity <bound method NoMask.call of <deepctr.layers.utils.NoMask object at 0x0000029D8FD64908>> could not be transformed and will be executed as-is. Please report this to the AutgoGraph team. When filing the bug, set the verbosity to 10 (on Linux, `export AUTOGRAPH_VERBOSITY=10`) and attach the full output. Cause: converting <bound method NoMask.call of <deepctr.layers.utils.NoMask object at 0x0000029D8FD64908>>: AssertionError: Bad argument number for Name: 3, expecting 4\n",
      "WARNING:tensorflow:Entity <bound method NoMask.call of <deepctr.layers.utils.NoMask object at 0x0000029D8FD64908>> could not be transformed and will be executed as-is. Please report this to the AutgoGraph team. When filing the bug, set the verbosity to 10 (on Linux, `export AUTOGRAPH_VERBOSITY=10`) and attach the full output. Cause: converting <bound method NoMask.call of <deepctr.layers.utils.NoMask object at 0x0000029D8FD64908>>: AssertionError: Bad argument number for Name: 3, expecting 4\n"
     ]
    },
    {
     "name": "stdout",
     "output_type": "stream",
     "text": [
      "WARNING: Entity <bound method NoMask.call of <deepctr.layers.utils.NoMask object at 0x0000029D8FD64908>> could not be transformed and will be executed as-is. Please report this to the AutgoGraph team. When filing the bug, set the verbosity to 10 (on Linux, `export AUTOGRAPH_VERBOSITY=10`) and attach the full output. Cause: converting <bound method NoMask.call of <deepctr.layers.utils.NoMask object at 0x0000029D8FD64908>>: AssertionError: Bad argument number for Name: 3, expecting 4\n",
      "WARNING:tensorflow:Entity <bound method NoMask.call of <deepctr.layers.utils.NoMask object at 0x0000029D8FD64908>> could not be transformed and will be executed as-is. Please report this to the AutgoGraph team. When filing the bug, set the verbosity to 10 (on Linux, `export AUTOGRAPH_VERBOSITY=10`) and attach the full output. Cause: converting <bound method NoMask.call of <deepctr.layers.utils.NoMask object at 0x0000029D8FD64908>>: AssertionError: Bad argument number for Name: 3, expecting 4\n",
      "WARNING: Entity <bound method NoMask.call of <deepctr.layers.utils.NoMask object at 0x0000029D8FD64908>> could not be transformed and will be executed as-is. Please report this to the AutgoGraph team. When filing the bug, set the verbosity to 10 (on Linux, `export AUTOGRAPH_VERBOSITY=10`) and attach the full output. Cause: converting <bound method NoMask.call of <deepctr.layers.utils.NoMask object at 0x0000029D8FD64908>>: AssertionError: Bad argument number for Name: 3, expecting 4\n",
      "WARNING:tensorflow:Entity <bound method NoMask.call of <deepctr.layers.utils.NoMask object at 0x0000029D8FD64908>> could not be transformed and will be executed as-is. Please report this to the AutgoGraph team. When filing the bug, set the verbosity to 10 (on Linux, `export AUTOGRAPH_VERBOSITY=10`) and attach the full output. Cause: converting <bound method NoMask.call of <deepctr.layers.utils.NoMask object at 0x0000029D8FD64908>>: AssertionError: Bad argument number for Name: 3, expecting 4\n",
      "WARNING: Entity <bound method NoMask.call of <deepctr.layers.utils.NoMask object at 0x0000029D8FD64908>> could not be transformed and will be executed as-is. Please report this to the AutgoGraph team. When filing the bug, set the verbosity to 10 (on Linux, `export AUTOGRAPH_VERBOSITY=10`) and attach the full output. Cause: converting <bound method NoMask.call of <deepctr.layers.utils.NoMask object at 0x0000029D8FD64908>>: AssertionError: Bad argument number for Name: 3, expecting 4\n",
      "WARNING:tensorflow:Entity <bound method NoMask.call of <deepctr.layers.utils.NoMask object at 0x0000029D8FD64908>> could not be transformed and will be executed as-is. Please report this to the AutgoGraph team. When filing the bug, set the verbosity to 10 (on Linux, `export AUTOGRAPH_VERBOSITY=10`) and attach the full output. Cause: converting <bound method NoMask.call of <deepctr.layers.utils.NoMask object at 0x0000029D8FD64908>>: AssertionError: Bad argument number for Name: 3, expecting 4\n",
      "WARNING: Entity <bound method NoMask.call of <deepctr.layers.utils.NoMask object at 0x0000029D8FD64908>> could not be transformed and will be executed as-is. Please report this to the AutgoGraph team. When filing the bug, set the verbosity to 10 (on Linux, `export AUTOGRAPH_VERBOSITY=10`) and attach the full output. Cause: converting <bound method NoMask.call of <deepctr.layers.utils.NoMask object at 0x0000029D8FD64908>>: AssertionError: Bad argument number for Name: 3, expecting 4\n",
      "WARNING:tensorflow:Entity <bound method NoMask.call of <deepctr.layers.utils.NoMask object at 0x0000029D8FD64908>> could not be transformed and will be executed as-is. Please report this to the AutgoGraph team. When filing the bug, set the verbosity to 10 (on Linux, `export AUTOGRAPH_VERBOSITY=10`) and attach the full output. Cause: converting <bound method NoMask.call of <deepctr.layers.utils.NoMask object at 0x0000029D8FD64908>>: AssertionError: Bad argument number for Name: 3, expecting 4\n",
      "WARNING: Entity <bound method NoMask.call of <deepctr.layers.utils.NoMask object at 0x0000029D8FD64908>> could not be transformed and will be executed as-is. Please report this to the AutgoGraph team. When filing the bug, set the verbosity to 10 (on Linux, `export AUTOGRAPH_VERBOSITY=10`) and attach the full output. Cause: converting <bound method NoMask.call of <deepctr.layers.utils.NoMask object at 0x0000029D8FD64908>>: AssertionError: Bad argument number for Name: 3, expecting 4\n",
      "WARNING:tensorflow:Entity <bound method NoMask.call of <deepctr.layers.utils.NoMask object at 0x0000029D8FD64908>> could not be transformed and will be executed as-is. Please report this to the AutgoGraph team. When filing the bug, set the verbosity to 10 (on Linux, `export AUTOGRAPH_VERBOSITY=10`) and attach the full output. Cause: converting <bound method NoMask.call of <deepctr.layers.utils.NoMask object at 0x0000029D8FD64908>>: AssertionError: Bad argument number for Name: 3, expecting 4\n",
      "WARNING: Entity <bound method NoMask.call of <deepctr.layers.utils.NoMask object at 0x0000029D8FD64908>> could not be transformed and will be executed as-is. Please report this to the AutgoGraph team. When filing the bug, set the verbosity to 10 (on Linux, `export AUTOGRAPH_VERBOSITY=10`) and attach the full output. Cause: converting <bound method NoMask.call of <deepctr.layers.utils.NoMask object at 0x0000029D8FD64908>>: AssertionError: Bad argument number for Name: 3, expecting 4\n",
      "WARNING:tensorflow:Entity <bound method NoMask.call of <deepctr.layers.utils.NoMask object at 0x0000029D8FD64908>> could not be transformed and will be executed as-is. Please report this to the AutgoGraph team. When filing the bug, set the verbosity to 10 (on Linux, `export AUTOGRAPH_VERBOSITY=10`) and attach the full output. Cause: converting <bound method NoMask.call of <deepctr.layers.utils.NoMask object at 0x0000029D8FD64908>>: AssertionError: Bad argument number for Name: 3, expecting 4\n",
      "WARNING: Entity <bound method NoMask.call of <deepctr.layers.utils.NoMask object at 0x0000029D8FD64908>> could not be transformed and will be executed as-is. Please report this to the AutgoGraph team. When filing the bug, set the verbosity to 10 (on Linux, `export AUTOGRAPH_VERBOSITY=10`) and attach the full output. Cause: converting <bound method NoMask.call of <deepctr.layers.utils.NoMask object at 0x0000029D8FD64908>>: AssertionError: Bad argument number for Name: 3, expecting 4\n",
      "WARNING:tensorflow:Entity <bound method NoMask.call of <deepctr.layers.utils.NoMask object at 0x0000029D8FD64908>> could not be transformed and will be executed as-is. Please report this to the AutgoGraph team. When filing the bug, set the verbosity to 10 (on Linux, `export AUTOGRAPH_VERBOSITY=10`) and attach the full output. Cause: converting <bound method NoMask.call of <deepctr.layers.utils.NoMask object at 0x0000029D8FD64908>>: AssertionError: Bad argument number for Name: 3, expecting 4\n",
      "WARNING: Entity <bound method NoMask.call of <deepctr.layers.utils.NoMask object at 0x0000029D8FD64908>> could not be transformed and will be executed as-is. Please report this to the AutgoGraph team. When filing the bug, set the verbosity to 10 (on Linux, `export AUTOGRAPH_VERBOSITY=10`) and attach the full output. Cause: converting <bound method NoMask.call of <deepctr.layers.utils.NoMask object at 0x0000029D8FD64908>>: AssertionError: Bad argument number for Name: 3, expecting 4\n",
      "WARNING:tensorflow:Entity <bound method NoMask.call of <deepctr.layers.utils.NoMask object at 0x0000029D8FD64908>> could not be transformed and will be executed as-is. Please report this to the AutgoGraph team. When filing the bug, set the verbosity to 10 (on Linux, `export AUTOGRAPH_VERBOSITY=10`) and attach the full output. Cause: converting <bound method NoMask.call of <deepctr.layers.utils.NoMask object at 0x0000029D8FD64908>>: AssertionError: Bad argument number for Name: 3, expecting 4\n",
      "WARNING: Entity <bound method NoMask.call of <deepctr.layers.utils.NoMask object at 0x0000029D8FD64908>> could not be transformed and will be executed as-is. Please report this to the AutgoGraph team. When filing the bug, set the verbosity to 10 (on Linux, `export AUTOGRAPH_VERBOSITY=10`) and attach the full output. Cause: converting <bound method NoMask.call of <deepctr.layers.utils.NoMask object at 0x0000029D8FD64908>>: AssertionError: Bad argument number for Name: 3, expecting 4\n",
      "WARNING:tensorflow:Entity <bound method NoMask.call of <deepctr.layers.utils.NoMask object at 0x0000029D8FD64908>> could not be transformed and will be executed as-is. Please report this to the AutgoGraph team. When filing the bug, set the verbosity to 10 (on Linux, `export AUTOGRAPH_VERBOSITY=10`) and attach the full output. Cause: converting <bound method NoMask.call of <deepctr.layers.utils.NoMask object at 0x0000029D8FD64908>>: AssertionError: Bad argument number for Name: 3, expecting 4\n"
     ]
    },
    {
     "name": "stdout",
     "output_type": "stream",
     "text": [
      "WARNING: Entity <bound method NoMask.call of <deepctr.layers.utils.NoMask object at 0x0000029D8FD64908>> could not be transformed and will be executed as-is. Please report this to the AutgoGraph team. When filing the bug, set the verbosity to 10 (on Linux, `export AUTOGRAPH_VERBOSITY=10`) and attach the full output. Cause: converting <bound method NoMask.call of <deepctr.layers.utils.NoMask object at 0x0000029D8FD64908>>: AssertionError: Bad argument number for Name: 3, expecting 4\n",
      "WARNING:tensorflow:Entity <bound method NoMask.call of <deepctr.layers.utils.NoMask object at 0x0000029D8FD64908>> could not be transformed and will be executed as-is. Please report this to the AutgoGraph team. When filing the bug, set the verbosity to 10 (on Linux, `export AUTOGRAPH_VERBOSITY=10`) and attach the full output. Cause: converting <bound method NoMask.call of <deepctr.layers.utils.NoMask object at 0x0000029D8FD64908>>: AssertionError: Bad argument number for Name: 3, expecting 4\n",
      "WARNING: Entity <bound method NoMask.call of <deepctr.layers.utils.NoMask object at 0x0000029D8FD64908>> could not be transformed and will be executed as-is. Please report this to the AutgoGraph team. When filing the bug, set the verbosity to 10 (on Linux, `export AUTOGRAPH_VERBOSITY=10`) and attach the full output. Cause: converting <bound method NoMask.call of <deepctr.layers.utils.NoMask object at 0x0000029D8FD64908>>: AssertionError: Bad argument number for Name: 3, expecting 4\n",
      "WARNING:tensorflow:Entity <bound method NoMask.call of <deepctr.layers.utils.NoMask object at 0x0000029D8FD64908>> could not be transformed and will be executed as-is. Please report this to the AutgoGraph team. When filing the bug, set the verbosity to 10 (on Linux, `export AUTOGRAPH_VERBOSITY=10`) and attach the full output. Cause: converting <bound method NoMask.call of <deepctr.layers.utils.NoMask object at 0x0000029D8FD64908>>: AssertionError: Bad argument number for Name: 3, expecting 4\n",
      "WARNING: Entity <bound method NoMask.call of <deepctr.layers.utils.NoMask object at 0x0000029D8FD64908>> could not be transformed and will be executed as-is. Please report this to the AutgoGraph team. When filing the bug, set the verbosity to 10 (on Linux, `export AUTOGRAPH_VERBOSITY=10`) and attach the full output. Cause: converting <bound method NoMask.call of <deepctr.layers.utils.NoMask object at 0x0000029D8FD64908>>: AssertionError: Bad argument number for Name: 3, expecting 4\n",
      "WARNING:tensorflow:Entity <bound method NoMask.call of <deepctr.layers.utils.NoMask object at 0x0000029D8FD64908>> could not be transformed and will be executed as-is. Please report this to the AutgoGraph team. When filing the bug, set the verbosity to 10 (on Linux, `export AUTOGRAPH_VERBOSITY=10`) and attach the full output. Cause: converting <bound method NoMask.call of <deepctr.layers.utils.NoMask object at 0x0000029D8FD64908>>: AssertionError: Bad argument number for Name: 3, expecting 4\n",
      "WARNING: Entity <bound method NoMask.call of <deepctr.layers.utils.NoMask object at 0x0000029D8FD64908>> could not be transformed and will be executed as-is. Please report this to the AutgoGraph team. When filing the bug, set the verbosity to 10 (on Linux, `export AUTOGRAPH_VERBOSITY=10`) and attach the full output. Cause: converting <bound method NoMask.call of <deepctr.layers.utils.NoMask object at 0x0000029D8FD64908>>: AssertionError: Bad argument number for Name: 3, expecting 4\n",
      "WARNING:tensorflow:Entity <bound method NoMask.call of <deepctr.layers.utils.NoMask object at 0x0000029D8FD64908>> could not be transformed and will be executed as-is. Please report this to the AutgoGraph team. When filing the bug, set the verbosity to 10 (on Linux, `export AUTOGRAPH_VERBOSITY=10`) and attach the full output. Cause: converting <bound method NoMask.call of <deepctr.layers.utils.NoMask object at 0x0000029D8FD64908>>: AssertionError: Bad argument number for Name: 3, expecting 4\n",
      "WARNING: Entity <bound method NoMask.call of <deepctr.layers.utils.NoMask object at 0x0000029D8FD64908>> could not be transformed and will be executed as-is. Please report this to the AutgoGraph team. When filing the bug, set the verbosity to 10 (on Linux, `export AUTOGRAPH_VERBOSITY=10`) and attach the full output. Cause: converting <bound method NoMask.call of <deepctr.layers.utils.NoMask object at 0x0000029D8FD64908>>: AssertionError: Bad argument number for Name: 3, expecting 4\n",
      "WARNING:tensorflow:Entity <bound method NoMask.call of <deepctr.layers.utils.NoMask object at 0x0000029D8FD64908>> could not be transformed and will be executed as-is. Please report this to the AutgoGraph team. When filing the bug, set the verbosity to 10 (on Linux, `export AUTOGRAPH_VERBOSITY=10`) and attach the full output. Cause: converting <bound method NoMask.call of <deepctr.layers.utils.NoMask object at 0x0000029D8FD64908>>: AssertionError: Bad argument number for Name: 3, expecting 4\n",
      "WARNING: Entity <bound method NoMask.call of <deepctr.layers.utils.NoMask object at 0x0000029D8FD64908>> could not be transformed and will be executed as-is. Please report this to the AutgoGraph team. When filing the bug, set the verbosity to 10 (on Linux, `export AUTOGRAPH_VERBOSITY=10`) and attach the full output. Cause: converting <bound method NoMask.call of <deepctr.layers.utils.NoMask object at 0x0000029D8FD64908>>: AssertionError: Bad argument number for Name: 3, expecting 4\n",
      "WARNING:tensorflow:Entity <bound method NoMask.call of <deepctr.layers.utils.NoMask object at 0x0000029D8FD64908>> could not be transformed and will be executed as-is. Please report this to the AutgoGraph team. When filing the bug, set the verbosity to 10 (on Linux, `export AUTOGRAPH_VERBOSITY=10`) and attach the full output. Cause: converting <bound method NoMask.call of <deepctr.layers.utils.NoMask object at 0x0000029D8FD64908>>: AssertionError: Bad argument number for Name: 3, expecting 4\n",
      "WARNING: Entity <bound method NoMask.call of <deepctr.layers.utils.NoMask object at 0x0000029D8FD64908>> could not be transformed and will be executed as-is. Please report this to the AutgoGraph team. When filing the bug, set the verbosity to 10 (on Linux, `export AUTOGRAPH_VERBOSITY=10`) and attach the full output. Cause: converting <bound method NoMask.call of <deepctr.layers.utils.NoMask object at 0x0000029D8FD64908>>: AssertionError: Bad argument number for Name: 3, expecting 4\n",
      "WARNING:tensorflow:Entity <bound method NoMask.call of <deepctr.layers.utils.NoMask object at 0x0000029D8FD64908>> could not be transformed and will be executed as-is. Please report this to the AutgoGraph team. When filing the bug, set the verbosity to 10 (on Linux, `export AUTOGRAPH_VERBOSITY=10`) and attach the full output. Cause: converting <bound method NoMask.call of <deepctr.layers.utils.NoMask object at 0x0000029D8FD64908>>: AssertionError: Bad argument number for Name: 3, expecting 4\n",
      "WARNING: Entity <bound method NoMask.call of <deepctr.layers.utils.NoMask object at 0x0000029D8FD64908>> could not be transformed and will be executed as-is. Please report this to the AutgoGraph team. When filing the bug, set the verbosity to 10 (on Linux, `export AUTOGRAPH_VERBOSITY=10`) and attach the full output. Cause: converting <bound method NoMask.call of <deepctr.layers.utils.NoMask object at 0x0000029D8FD64908>>: AssertionError: Bad argument number for Name: 3, expecting 4\n",
      "WARNING:tensorflow:Entity <bound method DNN.call of <deepctr.layers.core.DNN object at 0x0000029D90184D08>> could not be transformed and will be executed as-is. Please report this to the AutgoGraph team. When filing the bug, set the verbosity to 10 (on Linux, `export AUTOGRAPH_VERBOSITY=10`) and attach the full output. Cause: converting <bound method DNN.call of <deepctr.layers.core.DNN object at 0x0000029D90184D08>>: AttributeError: module 'gast' has no attribute 'Index'\n",
      "WARNING: Entity <bound method DNN.call of <deepctr.layers.core.DNN object at 0x0000029D90184D08>> could not be transformed and will be executed as-is. Please report this to the AutgoGraph team. When filing the bug, set the verbosity to 10 (on Linux, `export AUTOGRAPH_VERBOSITY=10`) and attach the full output. Cause: converting <bound method DNN.call of <deepctr.layers.core.DNN object at 0x0000029D90184D08>>: AttributeError: module 'gast' has no attribute 'Index'\n",
      "make sure the activation function use training flag properly call() got an unexpected keyword argument 'training'\n",
      "WARNING:tensorflow:Large dropout rate: 0.8 (>0.5). In TensorFlow 2.x, dropout() uses dropout rate instead of keep_prob. Please ensure that this is intended.\n"
     ]
    },
    {
     "name": "stdout",
     "output_type": "stream",
     "text": [
      "make sure the activation function use training flag properly call() got an unexpected keyword argument 'training'\n",
      "WARNING:tensorflow:Large dropout rate: 0.8 (>0.5). In TensorFlow 2.x, dropout() uses dropout rate instead of keep_prob. Please ensure that this is intended.\n",
      "WARNING:tensorflow:Entity <bound method Add.call of <deepctr.layers.utils.Add object at 0x0000029D901B6948>> could not be transformed and will be executed as-is. Please report this to the AutgoGraph team. When filing the bug, set the verbosity to 10 (on Linux, `export AUTOGRAPH_VERBOSITY=10`) and attach the full output. Cause: converting <bound method Add.call of <deepctr.layers.utils.Add object at 0x0000029D901B6948>>: AttributeError: module 'gast' has no attribute 'Index'\n",
      "WARNING: Entity <bound method Add.call of <deepctr.layers.utils.Add object at 0x0000029D901B6948>> could not be transformed and will be executed as-is. Please report this to the AutgoGraph team. When filing the bug, set the verbosity to 10 (on Linux, `export AUTOGRAPH_VERBOSITY=10`) and attach the full output. Cause: converting <bound method Add.call of <deepctr.layers.utils.Add object at 0x0000029D901B6948>>: AttributeError: module 'gast' has no attribute 'Index'\n",
      "WARNING:tensorflow:Entity <bound method PredictionLayer.call of <deepctr.layers.core.PredictionLayer object at 0x0000029D901B6548>> could not be transformed and will be executed as-is. Please report this to the AutgoGraph team. When filing the bug, set the verbosity to 10 (on Linux, `export AUTOGRAPH_VERBOSITY=10`) and attach the full output. Cause: converting <bound method PredictionLayer.call of <deepctr.layers.core.PredictionLayer object at 0x0000029D901B6548>>: AssertionError: Bad argument number for Name: 3, expecting 4\n",
      "WARNING: Entity <bound method PredictionLayer.call of <deepctr.layers.core.PredictionLayer object at 0x0000029D901B6548>> could not be transformed and will be executed as-is. Please report this to the AutgoGraph team. When filing the bug, set the verbosity to 10 (on Linux, `export AUTOGRAPH_VERBOSITY=10`) and attach the full output. Cause: converting <bound method PredictionLayer.call of <deepctr.layers.core.PredictionLayer object at 0x0000029D901B6548>>: AssertionError: Bad argument number for Name: 3, expecting 4\n",
      "Train on 55960 samples, validate on 13990 samples\n",
      "Epoch 1/10\n",
      "55960/55960 - 18s - loss: 0.1283 - mean_squared_error: 0.1153 - val_loss: 0.1039 - val_mean_squared_error: 0.0868\n",
      "Epoch 2/10\n",
      "55960/55960 - 14s - loss: 0.1025 - mean_squared_error: 0.0855 - val_loss: 0.0999 - val_mean_squared_error: 0.0837\n",
      "Epoch 3/10\n",
      "55960/55960 - 14s - loss: 0.0995 - mean_squared_error: 0.0841 - val_loss: 0.0968 - val_mean_squared_error: 0.0823\n",
      "Epoch 4/10\n",
      "55960/55960 - 15s - loss: 0.0968 - mean_squared_error: 0.0833 - val_loss: 0.0940 - val_mean_squared_error: 0.0815\n",
      "Epoch 5/10\n",
      "55960/55960 - 15s - loss: 0.0944 - mean_squared_error: 0.0827 - val_loss: 0.0916 - val_mean_squared_error: 0.0809\n",
      "Epoch 6/10\n",
      "55960/55960 - 14s - loss: 0.0919 - mean_squared_error: 0.0819 - val_loss: 0.0894 - val_mean_squared_error: 0.0802\n",
      "Epoch 7/10\n",
      "55960/55960 - 14s - loss: 0.0895 - mean_squared_error: 0.0811 - val_loss: 0.0874 - val_mean_squared_error: 0.0798\n",
      "Epoch 8/10\n",
      "55960/55960 - 14s - loss: 0.0872 - mean_squared_error: 0.0804 - val_loss: 0.0855 - val_mean_squared_error: 0.0792\n",
      "Epoch 9/10\n",
      "55960/55960 - 15s - loss: 0.0855 - mean_squared_error: 0.0798 - val_loss: 0.0840 - val_mean_squared_error: 0.0790\n",
      "Epoch 10/10\n",
      "55960/55960 - 14s - loss: 0.0836 - mean_squared_error: 0.0790 - val_loss: 0.0825 - val_mean_squared_error: 0.0787\n"
     ]
    }
   ],
   "source": [
    "model = WDL(linear_feature_columns, dnn_feature_columns, dnn_hidden_units = (2,2), dnn_dropout = 0.8, dnn_activation = 'relu', \n",
    "            l2_reg_embedding = 0.001, l2_reg_linear = 0.1, l2_reg_dnn = 0, seed = 1024, task ='binary')\n",
    "model.compile(\"adam\", \"mse\", metrics=['mse'])\n",
    "history = model.fit(train_data_input, train_data[target].values, batch_size=256, validation_split=0.2, epochs=10, verbose=2)"
   ]
  },
  {
   "cell_type": "code",
   "execution_count": 29,
   "metadata": {
    "id": "aQ8U8Yueya0Y"
   },
   "outputs": [],
   "source": [
    "pred = model.predict(test_data_input, batch_size=256)"
   ]
  },
  {
   "cell_type": "code",
   "execution_count": 30,
   "metadata": {
    "colab": {
     "base_uri": "https://localhost:8080/"
    },
    "id": "RCQSwSLTyTgz",
    "outputId": "c9f556da-4884-4b5f-9776-146162971e34"
   },
   "outputs": [
    {
     "name": "stdout",
     "output_type": "stream",
     "text": [
      "RMSE =  0.2807244002220131\n"
     ]
    }
   ],
   "source": [
    "rmse_val = rmse_score(pred)\n",
    "print(\"RMSE = \", rmse_val)"
   ]
  },
  {
   "cell_type": "code",
   "execution_count": 31,
   "metadata": {
    "id": "NvZDyFrTy1iJ"
   },
   "outputs": [],
   "source": [
    "df = test_data[['user_id', 'item_id', 'rating']]"
   ]
  },
  {
   "cell_type": "code",
   "execution_count": 32,
   "metadata": {
    "colab": {
     "base_uri": "https://localhost:8080/",
     "height": 206
    },
    "id": "-KItLoS40s0S",
    "outputId": "54bca9f0-8bd1-47a8-9a98-5d5c36e09e16"
   },
   "outputs": [
    {
     "data": {
      "text/html": [
       "<div>\n",
       "<style scoped>\n",
       "    .dataframe tbody tr th:only-of-type {\n",
       "        vertical-align: middle;\n",
       "    }\n",
       "\n",
       "    .dataframe tbody tr th {\n",
       "        vertical-align: top;\n",
       "    }\n",
       "\n",
       "    .dataframe thead th {\n",
       "        text-align: right;\n",
       "    }\n",
       "</style>\n",
       "<table border=\"1\" class=\"dataframe\">\n",
       "  <thead>\n",
       "    <tr style=\"text-align: right;\">\n",
       "      <th></th>\n",
       "      <th>user_id</th>\n",
       "      <th>item_id</th>\n",
       "      <th>rating</th>\n",
       "    </tr>\n",
       "  </thead>\n",
       "  <tbody>\n",
       "    <tr>\n",
       "      <th>56295</th>\n",
       "      <td>1825</td>\n",
       "      <td>68</td>\n",
       "      <td>0</td>\n",
       "    </tr>\n",
       "    <tr>\n",
       "      <th>33315</th>\n",
       "      <td>1088</td>\n",
       "      <td>13</td>\n",
       "      <td>1</td>\n",
       "    </tr>\n",
       "    <tr>\n",
       "      <th>64587</th>\n",
       "      <td>2115</td>\n",
       "      <td>52</td>\n",
       "      <td>0</td>\n",
       "    </tr>\n",
       "    <tr>\n",
       "      <th>90429</th>\n",
       "      <td>3133</td>\n",
       "      <td>26</td>\n",
       "      <td>0</td>\n",
       "    </tr>\n",
       "    <tr>\n",
       "      <th>39611</th>\n",
       "      <td>1303</td>\n",
       "      <td>22</td>\n",
       "      <td>0</td>\n",
       "    </tr>\n",
       "  </tbody>\n",
       "</table>\n",
       "</div>"
      ],
      "text/plain": [
       "       user_id  item_id  rating\n",
       "56295     1825       68       0\n",
       "33315     1088       13       1\n",
       "64587     2115       52       0\n",
       "90429     3133       26       0\n",
       "39611     1303       22       0"
      ]
     },
     "execution_count": 32,
     "metadata": {},
     "output_type": "execute_result"
    }
   ],
   "source": [
    "df.head()"
   ]
  },
  {
   "cell_type": "code",
   "execution_count": 33,
   "metadata": {
    "colab": {
     "base_uri": "https://localhost:8080/"
    },
    "id": "4xuwSe560t88",
    "outputId": "7317f9e8-f020-47f6-edf5-228da89e348e"
   },
   "outputs": [
    {
     "name": "stderr",
     "output_type": "stream",
     "text": [
      "C:\\Users\\inump\\anaconda3\\lib\\site-packages\\ipykernel_launcher.py:1: SettingWithCopyWarning: \n",
      "A value is trying to be set on a copy of a slice from a DataFrame.\n",
      "Try using .loc[row_indexer,col_indexer] = value instead\n",
      "\n",
      "See the caveats in the documentation: https://pandas.pydata.org/pandas-docs/stable/user_guide/indexing.html#returning-a-view-versus-a-copy\n",
      "  \"\"\"Entry point for launching an IPython kernel.\n"
     ]
    }
   ],
   "source": [
    "df['rating'] = pred"
   ]
  },
  {
   "cell_type": "code",
   "execution_count": 34,
   "metadata": {
    "colab": {
     "base_uri": "https://localhost:8080/",
     "height": 423
    },
    "id": "QAZVYz7k06P3",
    "outputId": "d0d33f5c-fbc7-4747-ce15-e1b02e8db646"
   },
   "outputs": [
    {
     "data": {
      "text/html": [
       "<div>\n",
       "<style scoped>\n",
       "    .dataframe tbody tr th:only-of-type {\n",
       "        vertical-align: middle;\n",
       "    }\n",
       "\n",
       "    .dataframe tbody tr th {\n",
       "        vertical-align: top;\n",
       "    }\n",
       "\n",
       "    .dataframe thead th {\n",
       "        text-align: right;\n",
       "    }\n",
       "</style>\n",
       "<table border=\"1\" class=\"dataframe\">\n",
       "  <thead>\n",
       "    <tr style=\"text-align: right;\">\n",
       "      <th></th>\n",
       "      <th>user_id</th>\n",
       "      <th>item_id</th>\n",
       "      <th>rating</th>\n",
       "    </tr>\n",
       "  </thead>\n",
       "  <tbody>\n",
       "    <tr>\n",
       "      <th>56295</th>\n",
       "      <td>1825</td>\n",
       "      <td>68</td>\n",
       "      <td>0.127183</td>\n",
       "    </tr>\n",
       "    <tr>\n",
       "      <th>33315</th>\n",
       "      <td>1088</td>\n",
       "      <td>13</td>\n",
       "      <td>0.128572</td>\n",
       "    </tr>\n",
       "    <tr>\n",
       "      <th>64587</th>\n",
       "      <td>2115</td>\n",
       "      <td>52</td>\n",
       "      <td>0.141261</td>\n",
       "    </tr>\n",
       "    <tr>\n",
       "      <th>90429</th>\n",
       "      <td>3133</td>\n",
       "      <td>26</td>\n",
       "      <td>0.148241</td>\n",
       "    </tr>\n",
       "    <tr>\n",
       "      <th>39611</th>\n",
       "      <td>1303</td>\n",
       "      <td>22</td>\n",
       "      <td>0.134913</td>\n",
       "    </tr>\n",
       "    <tr>\n",
       "      <th>...</th>\n",
       "      <td>...</td>\n",
       "      <td>...</td>\n",
       "      <td>...</td>\n",
       "    </tr>\n",
       "    <tr>\n",
       "      <th>34647</th>\n",
       "      <td>1132</td>\n",
       "      <td>56</td>\n",
       "      <td>0.138765</td>\n",
       "    </tr>\n",
       "    <tr>\n",
       "      <th>13083</th>\n",
       "      <td>461</td>\n",
       "      <td>9</td>\n",
       "      <td>0.134328</td>\n",
       "    </tr>\n",
       "    <tr>\n",
       "      <th>5843</th>\n",
       "      <td>199</td>\n",
       "      <td>15</td>\n",
       "      <td>0.145780</td>\n",
       "    </tr>\n",
       "    <tr>\n",
       "      <th>39805</th>\n",
       "      <td>1307</td>\n",
       "      <td>16</td>\n",
       "      <td>0.131441</td>\n",
       "    </tr>\n",
       "    <tr>\n",
       "      <th>41015</th>\n",
       "      <td>1346</td>\n",
       "      <td>22</td>\n",
       "      <td>0.135707</td>\n",
       "    </tr>\n",
       "  </tbody>\n",
       "</table>\n",
       "<p>29979 rows × 3 columns</p>\n",
       "</div>"
      ],
      "text/plain": [
       "       user_id  item_id    rating\n",
       "56295     1825       68  0.127183\n",
       "33315     1088       13  0.128572\n",
       "64587     2115       52  0.141261\n",
       "90429     3133       26  0.148241\n",
       "39611     1303       22  0.134913\n",
       "...        ...      ...       ...\n",
       "34647     1132       56  0.138765\n",
       "13083      461        9  0.134328\n",
       "5843       199       15  0.145780\n",
       "39805     1307       16  0.131441\n",
       "41015     1346       22  0.135707\n",
       "\n",
       "[29979 rows x 3 columns]"
      ]
     },
     "execution_count": 34,
     "metadata": {},
     "output_type": "execute_result"
    }
   ],
   "source": [
    "df"
   ]
  },
  {
   "cell_type": "code",
   "execution_count": 35,
   "metadata": {
    "colab": {
     "base_uri": "https://localhost:8080/",
     "height": 300
    },
    "id": "G9LhrjUwJJmC",
    "outputId": "b3f8ed07-3985-47a8-d679-285ec23478fc"
   },
   "outputs": [
    {
     "data": {
      "text/html": [
       "<div>\n",
       "<style scoped>\n",
       "    .dataframe tbody tr th:only-of-type {\n",
       "        vertical-align: middle;\n",
       "    }\n",
       "\n",
       "    .dataframe tbody tr th {\n",
       "        vertical-align: top;\n",
       "    }\n",
       "\n",
       "    .dataframe thead th {\n",
       "        text-align: right;\n",
       "    }\n",
       "</style>\n",
       "<table border=\"1\" class=\"dataframe\">\n",
       "  <thead>\n",
       "    <tr style=\"text-align: right;\">\n",
       "      <th></th>\n",
       "      <th>user_id</th>\n",
       "      <th>item_id</th>\n",
       "      <th>rating</th>\n",
       "    </tr>\n",
       "  </thead>\n",
       "  <tbody>\n",
       "    <tr>\n",
       "      <th>count</th>\n",
       "      <td>29979.000000</td>\n",
       "      <td>29979.000000</td>\n",
       "      <td>29979.000000</td>\n",
       "    </tr>\n",
       "    <tr>\n",
       "      <th>mean</th>\n",
       "      <td>1681.546983</td>\n",
       "      <td>49.702292</td>\n",
       "      <td>0.131884</td>\n",
       "    </tr>\n",
       "    <tr>\n",
       "      <th>std</th>\n",
       "      <td>993.927442</td>\n",
       "      <td>28.945628</td>\n",
       "      <td>0.007497</td>\n",
       "    </tr>\n",
       "    <tr>\n",
       "      <th>min</th>\n",
       "      <td>0.000000</td>\n",
       "      <td>0.000000</td>\n",
       "      <td>0.119027</td>\n",
       "    </tr>\n",
       "    <tr>\n",
       "      <th>25%</th>\n",
       "      <td>824.000000</td>\n",
       "      <td>25.000000</td>\n",
       "      <td>0.126094</td>\n",
       "    </tr>\n",
       "    <tr>\n",
       "      <th>50%</th>\n",
       "      <td>1636.000000</td>\n",
       "      <td>49.000000</td>\n",
       "      <td>0.130735</td>\n",
       "    </tr>\n",
       "    <tr>\n",
       "      <th>75%</th>\n",
       "      <td>2537.000000</td>\n",
       "      <td>73.000000</td>\n",
       "      <td>0.136569</td>\n",
       "    </tr>\n",
       "    <tr>\n",
       "      <th>max</th>\n",
       "      <td>3477.000000</td>\n",
       "      <td>99.000000</td>\n",
       "      <td>0.175766</td>\n",
       "    </tr>\n",
       "  </tbody>\n",
       "</table>\n",
       "</div>"
      ],
      "text/plain": [
       "            user_id       item_id        rating\n",
       "count  29979.000000  29979.000000  29979.000000\n",
       "mean    1681.546983     49.702292      0.131884\n",
       "std      993.927442     28.945628      0.007497\n",
       "min        0.000000      0.000000      0.119027\n",
       "25%      824.000000     25.000000      0.126094\n",
       "50%     1636.000000     49.000000      0.130735\n",
       "75%     2537.000000     73.000000      0.136569\n",
       "max     3477.000000     99.000000      0.175766"
      ]
     },
     "execution_count": 35,
     "metadata": {},
     "output_type": "execute_result"
    }
   ],
   "source": [
    "df.describe()"
   ]
  },
  {
   "cell_type": "code",
   "execution_count": 36,
   "metadata": {
    "colab": {
     "base_uri": "https://localhost:8080/",
     "height": 49,
     "referenced_widgets": [
      "c349e7515d594425bb46d64f7ac0fc8c",
      "891a3e73e342468b94334a762965330e",
      "3bf4f9653ad64de0884fa02de5c16e55",
      "8f39b65ffed94c61a05ebc3f3febbe66",
      "b625d82c41f84d9aa94daa9d30118c38",
      "3e5fdbd6fbc247cf87f76358a3ce56a5",
      "68535a0543b24f3d85f1c786c940e5a1",
      "5465b78367ff4a938da8abd65736aafc",
      "2b90f0e14bee4ce59d525c5ef02b70e5",
      "daa21f42d39145af87c3081d16492bdd",
      "95be61b49beb471f8f3e901f8f513230"
     ]
    },
    "id": "xJWmgbeZ07j1",
    "outputId": "4420d33e-07cc-48a1-eb31-6a42a97e7013"
   },
   "outputs": [
    {
     "name": "stderr",
     "output_type": "stream",
     "text": [
      "C:\\Users\\inump\\anaconda3\\lib\\site-packages\\implicit\\utils.py:32: UserWarning: Intel MKL BLAS detected. Its highly recommend to set the environment variable 'export MKL_NUM_THREADS=1' to disable its internal multithreading\n",
      "  \"Intel MKL BLAS detected. Its highly recommend to set the environment \"\n"
     ]
    },
    {
     "data": {
      "application/vnd.jupyter.widget-view+json": {
       "model_id": "50da093b5d204188b14c6a26d7f24384",
       "version_major": 2,
       "version_minor": 0
      },
      "text/plain": [
       "HBox(children=(FloatProgress(value=0.0, max=20.0), HTML(value='')))"
      ]
     },
     "metadata": {},
     "output_type": "display_data"
    },
    {
     "name": "stdout",
     "output_type": "stream",
     "text": [
      "\n"
     ]
    }
   ],
   "source": [
    "sparse_item_user = csr_matrix((df['rating'].astype(float),(df['item_id'], df['user_id'])))\n",
    "sparse_user_item = csr_matrix((df['rating'].astype(float),(df['user_id'], df['item_id'])))\n",
    "\n",
    "\n",
    "model = implicit.als.AlternatingLeastSquares(factors=20,regularization=0.1,iterations=20)\n",
    "alpha_val = 15\n",
    "data_conf = (sparse_user_item * alpha_val).astype('double')\n",
    "model.fit(data_conf)"
   ]
  },
  {
   "cell_type": "code",
   "execution_count": 37,
   "metadata": {
    "id": "hrKWcKjPGjE4"
   },
   "outputs": [],
   "source": [
    "item_ids = [i for i in range(100)]"
   ]
  },
  {
   "cell_type": "code",
   "execution_count": 38,
   "metadata": {
    "id": "0AdAmGflMSWz"
   },
   "outputs": [],
   "source": [
    "recommeded_clusters = pd.DataFrame(columns = ['user_id', '1st_recommendation', '2nd_recommendation', '3rd_recommendation', '4th_recommendation', '5th_recommendation'])"
   ]
  },
  {
   "cell_type": "code",
   "execution_count": 39,
   "metadata": {
    "colab": {
     "base_uri": "https://localhost:8080/"
    },
    "id": "HVFN7Aaw1q2b",
    "outputId": "7778b5f8-e6cd-4165-db34-34706941993c"
   },
   "outputs": [
    {
     "name": "stderr",
     "output_type": "stream",
     "text": [
      "C:\\Users\\inump\\anaconda3\\lib\\site-packages\\ipykernel_launcher.py:3: DeprecationWarning: rank_items is deprecated. Use recommend with the 'items' parameter instead\n",
      "  This is separate from the ipykernel package so we can avoid doing imports until\n"
     ]
    }
   ],
   "source": [
    "recomm_ids = {}\n",
    "for i, id in enumerate(df['user_id'].unique()):\n",
    "  recomm_ids[id] = model.rank_items(id, sparse_user_item, item_ids)[0][:5]"
   ]
  },
  {
   "cell_type": "code",
   "execution_count": 40,
   "metadata": {
    "id": "iDBFe6_12E13"
   },
   "outputs": [],
   "source": [
    "recomm_list = []\n",
    "for id in recomm_ids:\n",
    "  recomm_list.append(recomm_ids[id])"
   ]
  },
  {
   "cell_type": "code",
   "execution_count": 41,
   "metadata": {
    "id": "_HjyhiQqXum1"
   },
   "outputs": [],
   "source": [
    "recomm_clusters = pd.DataFrame(list(map(np.ravel, recomm_list)))"
   ]
  },
  {
   "cell_type": "code",
   "execution_count": 42,
   "metadata": {
    "id": "HcHUxHIaUzZb"
   },
   "outputs": [],
   "source": [
    "recomm_clusters = recomm_clusters.rename(columns = {0 : '1st_recommendation', 1 : '2nd_recommendation', 2 : '3rd_recommendation', 3 : '4th_recommendation', 4 : '5th_recommendation',})"
   ]
  },
  {
   "cell_type": "code",
   "execution_count": 45,
   "metadata": {
    "colab": {
     "base_uri": "https://localhost:8080/",
     "height": 423
    },
    "id": "8mN5I88MXqKo",
    "outputId": "3114cfec-00aa-499f-8390-61b70017bd9f"
   },
   "outputs": [
    {
     "data": {
      "text/html": [
       "<div>\n",
       "<style scoped>\n",
       "    .dataframe tbody tr th:only-of-type {\n",
       "        vertical-align: middle;\n",
       "    }\n",
       "\n",
       "    .dataframe tbody tr th {\n",
       "        vertical-align: top;\n",
       "    }\n",
       "\n",
       "    .dataframe thead th {\n",
       "        text-align: right;\n",
       "    }\n",
       "</style>\n",
       "<table border=\"1\" class=\"dataframe\">\n",
       "  <thead>\n",
       "    <tr style=\"text-align: right;\">\n",
       "      <th></th>\n",
       "      <th>user_id</th>\n",
       "      <th>1st_recommendation</th>\n",
       "      <th>2nd_recommendation</th>\n",
       "      <th>3rd_recommendation</th>\n",
       "      <th>4th_recommendation</th>\n",
       "      <th>5th_recommendation</th>\n",
       "    </tr>\n",
       "  </thead>\n",
       "  <tbody>\n",
       "    <tr>\n",
       "      <th>0</th>\n",
       "      <td>0</td>\n",
       "      <td>98</td>\n",
       "      <td>41</td>\n",
       "      <td>91</td>\n",
       "      <td>70</td>\n",
       "      <td>68</td>\n",
       "    </tr>\n",
       "    <tr>\n",
       "      <th>1</th>\n",
       "      <td>1</td>\n",
       "      <td>91</td>\n",
       "      <td>48</td>\n",
       "      <td>28</td>\n",
       "      <td>95</td>\n",
       "      <td>39</td>\n",
       "    </tr>\n",
       "    <tr>\n",
       "      <th>2</th>\n",
       "      <td>2</td>\n",
       "      <td>65</td>\n",
       "      <td>52</td>\n",
       "      <td>66</td>\n",
       "      <td>87</td>\n",
       "      <td>73</td>\n",
       "    </tr>\n",
       "    <tr>\n",
       "      <th>3</th>\n",
       "      <td>3</td>\n",
       "      <td>1</td>\n",
       "      <td>45</td>\n",
       "      <td>26</td>\n",
       "      <td>54</td>\n",
       "      <td>79</td>\n",
       "    </tr>\n",
       "    <tr>\n",
       "      <th>4</th>\n",
       "      <td>4</td>\n",
       "      <td>8</td>\n",
       "      <td>97</td>\n",
       "      <td>22</td>\n",
       "      <td>64</td>\n",
       "      <td>86</td>\n",
       "    </tr>\n",
       "    <tr>\n",
       "      <th>...</th>\n",
       "      <td>...</td>\n",
       "      <td>...</td>\n",
       "      <td>...</td>\n",
       "      <td>...</td>\n",
       "      <td>...</td>\n",
       "      <td>...</td>\n",
       "    </tr>\n",
       "    <tr>\n",
       "      <th>3215</th>\n",
       "      <td>3215</td>\n",
       "      <td>18</td>\n",
       "      <td>94</td>\n",
       "      <td>42</td>\n",
       "      <td>82</td>\n",
       "      <td>21</td>\n",
       "    </tr>\n",
       "    <tr>\n",
       "      <th>3216</th>\n",
       "      <td>3216</td>\n",
       "      <td>96</td>\n",
       "      <td>41</td>\n",
       "      <td>34</td>\n",
       "      <td>65</td>\n",
       "      <td>52</td>\n",
       "    </tr>\n",
       "    <tr>\n",
       "      <th>3217</th>\n",
       "      <td>3217</td>\n",
       "      <td>41</td>\n",
       "      <td>68</td>\n",
       "      <td>48</td>\n",
       "      <td>98</td>\n",
       "      <td>5</td>\n",
       "    </tr>\n",
       "    <tr>\n",
       "      <th>3218</th>\n",
       "      <td>3218</td>\n",
       "      <td>30</td>\n",
       "      <td>85</td>\n",
       "      <td>61</td>\n",
       "      <td>3</td>\n",
       "      <td>42</td>\n",
       "    </tr>\n",
       "    <tr>\n",
       "      <th>3219</th>\n",
       "      <td>3219</td>\n",
       "      <td>51</td>\n",
       "      <td>76</td>\n",
       "      <td>1</td>\n",
       "      <td>77</td>\n",
       "      <td>39</td>\n",
       "    </tr>\n",
       "  </tbody>\n",
       "</table>\n",
       "<p>3220 rows × 6 columns</p>\n",
       "</div>"
      ],
      "text/plain": [
       "      user_id  1st_recommendation  2nd_recommendation  3rd_recommendation  \\\n",
       "0           0                  98                  41                  91   \n",
       "1           1                  91                  48                  28   \n",
       "2           2                  65                  52                  66   \n",
       "3           3                   1                  45                  26   \n",
       "4           4                   8                  97                  22   \n",
       "...       ...                 ...                 ...                 ...   \n",
       "3215     3215                  18                  94                  42   \n",
       "3216     3216                  96                  41                  34   \n",
       "3217     3217                  41                  68                  48   \n",
       "3218     3218                  30                  85                  61   \n",
       "3219     3219                  51                  76                   1   \n",
       "\n",
       "      4th_recommendation  5th_recommendation  \n",
       "0                     70                  68  \n",
       "1                     95                  39  \n",
       "2                     87                  73  \n",
       "3                     54                  79  \n",
       "4                     64                  86  \n",
       "...                  ...                 ...  \n",
       "3215                  82                  21  \n",
       "3216                  65                  52  \n",
       "3217                  98                   5  \n",
       "3218                   3                  42  \n",
       "3219                  77                  39  \n",
       "\n",
       "[3220 rows x 6 columns]"
      ]
     },
     "execution_count": 45,
     "metadata": {},
     "output_type": "execute_result"
    }
   ],
   "source": [
    "recomm_clusters = recomm_clusters.reset_index()\n",
    "recomm_clusters = recomm_clusters.rename(columns = {'index': 'user_id'})\n",
    "recomm_clusters"
   ]
  },
  {
   "cell_type": "markdown",
   "metadata": {},
   "source": [
    "### Outputting it to a output.csv file"
   ]
  },
  {
   "cell_type": "code",
   "execution_count": 46,
   "metadata": {
    "id": "BMuT2aD7Zo4X"
   },
   "outputs": [],
   "source": [
    "recomm_clusters.to_csv('output.csv')"
   ]
  },
  {
   "cell_type": "code",
   "execution_count": null,
   "metadata": {},
   "outputs": [],
   "source": []
  }
 ],
 "metadata": {
  "colab": {
   "collapsed_sections": [
    "cy5X4_Tig2s3"
   ],
   "name": "wide_n_deep.ipynb",
   "provenance": []
  },
  "kernelspec": {
   "display_name": "Python 3",
   "language": "python",
   "name": "python3"
  },
  "language_info": {
   "codemirror_mode": {
    "name": "ipython",
    "version": 3
   },
   "file_extension": ".py",
   "mimetype": "text/x-python",
   "name": "python",
   "nbconvert_exporter": "python",
   "pygments_lexer": "ipython3",
   "version": "3.7.6"
  },
  "widgets": {
   "application/vnd.jupyter.widget-state+json": {
    "2b90f0e14bee4ce59d525c5ef02b70e5": {
     "model_module": "@jupyter-widgets/controls",
     "model_module_version": "1.5.0",
     "model_name": "ProgressStyleModel",
     "state": {
      "_model_module": "@jupyter-widgets/controls",
      "_model_module_version": "1.5.0",
      "_model_name": "ProgressStyleModel",
      "_view_count": null,
      "_view_module": "@jupyter-widgets/base",
      "_view_module_version": "1.2.0",
      "_view_name": "StyleView",
      "bar_color": null,
      "description_width": ""
     }
    },
    "3bf4f9653ad64de0884fa02de5c16e55": {
     "model_module": "@jupyter-widgets/controls",
     "model_module_version": "1.5.0",
     "model_name": "FloatProgressModel",
     "state": {
      "_dom_classes": [],
      "_model_module": "@jupyter-widgets/controls",
      "_model_module_version": "1.5.0",
      "_model_name": "FloatProgressModel",
      "_view_count": null,
      "_view_module": "@jupyter-widgets/controls",
      "_view_module_version": "1.5.0",
      "_view_name": "ProgressView",
      "bar_style": "success",
      "description": "",
      "description_tooltip": null,
      "layout": "IPY_MODEL_5465b78367ff4a938da8abd65736aafc",
      "max": 20,
      "min": 0,
      "orientation": "horizontal",
      "style": "IPY_MODEL_2b90f0e14bee4ce59d525c5ef02b70e5",
      "value": 20
     }
    },
    "3e5fdbd6fbc247cf87f76358a3ce56a5": {
     "model_module": "@jupyter-widgets/base",
     "model_module_version": "1.2.0",
     "model_name": "LayoutModel",
     "state": {
      "_model_module": "@jupyter-widgets/base",
      "_model_module_version": "1.2.0",
      "_model_name": "LayoutModel",
      "_view_count": null,
      "_view_module": "@jupyter-widgets/base",
      "_view_module_version": "1.2.0",
      "_view_name": "LayoutView",
      "align_content": null,
      "align_items": null,
      "align_self": null,
      "border": null,
      "bottom": null,
      "display": null,
      "flex": null,
      "flex_flow": null,
      "grid_area": null,
      "grid_auto_columns": null,
      "grid_auto_flow": null,
      "grid_auto_rows": null,
      "grid_column": null,
      "grid_gap": null,
      "grid_row": null,
      "grid_template_areas": null,
      "grid_template_columns": null,
      "grid_template_rows": null,
      "height": null,
      "justify_content": null,
      "justify_items": null,
      "left": null,
      "margin": null,
      "max_height": null,
      "max_width": null,
      "min_height": null,
      "min_width": null,
      "object_fit": null,
      "object_position": null,
      "order": null,
      "overflow": null,
      "overflow_x": null,
      "overflow_y": null,
      "padding": null,
      "right": null,
      "top": null,
      "visibility": null,
      "width": null
     }
    },
    "5465b78367ff4a938da8abd65736aafc": {
     "model_module": "@jupyter-widgets/base",
     "model_module_version": "1.2.0",
     "model_name": "LayoutModel",
     "state": {
      "_model_module": "@jupyter-widgets/base",
      "_model_module_version": "1.2.0",
      "_model_name": "LayoutModel",
      "_view_count": null,
      "_view_module": "@jupyter-widgets/base",
      "_view_module_version": "1.2.0",
      "_view_name": "LayoutView",
      "align_content": null,
      "align_items": null,
      "align_self": null,
      "border": null,
      "bottom": null,
      "display": null,
      "flex": null,
      "flex_flow": null,
      "grid_area": null,
      "grid_auto_columns": null,
      "grid_auto_flow": null,
      "grid_auto_rows": null,
      "grid_column": null,
      "grid_gap": null,
      "grid_row": null,
      "grid_template_areas": null,
      "grid_template_columns": null,
      "grid_template_rows": null,
      "height": null,
      "justify_content": null,
      "justify_items": null,
      "left": null,
      "margin": null,
      "max_height": null,
      "max_width": null,
      "min_height": null,
      "min_width": null,
      "object_fit": null,
      "object_position": null,
      "order": null,
      "overflow": null,
      "overflow_x": null,
      "overflow_y": null,
      "padding": null,
      "right": null,
      "top": null,
      "visibility": null,
      "width": null
     }
    },
    "68535a0543b24f3d85f1c786c940e5a1": {
     "model_module": "@jupyter-widgets/controls",
     "model_module_version": "1.5.0",
     "model_name": "DescriptionStyleModel",
     "state": {
      "_model_module": "@jupyter-widgets/controls",
      "_model_module_version": "1.5.0",
      "_model_name": "DescriptionStyleModel",
      "_view_count": null,
      "_view_module": "@jupyter-widgets/base",
      "_view_module_version": "1.2.0",
      "_view_name": "StyleView",
      "description_width": ""
     }
    },
    "891a3e73e342468b94334a762965330e": {
     "model_module": "@jupyter-widgets/controls",
     "model_module_version": "1.5.0",
     "model_name": "HTMLModel",
     "state": {
      "_dom_classes": [],
      "_model_module": "@jupyter-widgets/controls",
      "_model_module_version": "1.5.0",
      "_model_name": "HTMLModel",
      "_view_count": null,
      "_view_module": "@jupyter-widgets/controls",
      "_view_module_version": "1.5.0",
      "_view_name": "HTMLView",
      "description": "",
      "description_tooltip": null,
      "layout": "IPY_MODEL_3e5fdbd6fbc247cf87f76358a3ce56a5",
      "placeholder": "​",
      "style": "IPY_MODEL_68535a0543b24f3d85f1c786c940e5a1",
      "value": "100%"
     }
    },
    "8f39b65ffed94c61a05ebc3f3febbe66": {
     "model_module": "@jupyter-widgets/controls",
     "model_module_version": "1.5.0",
     "model_name": "HTMLModel",
     "state": {
      "_dom_classes": [],
      "_model_module": "@jupyter-widgets/controls",
      "_model_module_version": "1.5.0",
      "_model_name": "HTMLModel",
      "_view_count": null,
      "_view_module": "@jupyter-widgets/controls",
      "_view_module_version": "1.5.0",
      "_view_name": "HTMLView",
      "description": "",
      "description_tooltip": null,
      "layout": "IPY_MODEL_daa21f42d39145af87c3081d16492bdd",
      "placeholder": "​",
      "style": "IPY_MODEL_95be61b49beb471f8f3e901f8f513230",
      "value": " 20/20 [00:38&lt;00:00,  1.87s/it]"
     }
    },
    "95be61b49beb471f8f3e901f8f513230": {
     "model_module": "@jupyter-widgets/controls",
     "model_module_version": "1.5.0",
     "model_name": "DescriptionStyleModel",
     "state": {
      "_model_module": "@jupyter-widgets/controls",
      "_model_module_version": "1.5.0",
      "_model_name": "DescriptionStyleModel",
      "_view_count": null,
      "_view_module": "@jupyter-widgets/base",
      "_view_module_version": "1.2.0",
      "_view_name": "StyleView",
      "description_width": ""
     }
    },
    "b625d82c41f84d9aa94daa9d30118c38": {
     "model_module": "@jupyter-widgets/base",
     "model_module_version": "1.2.0",
     "model_name": "LayoutModel",
     "state": {
      "_model_module": "@jupyter-widgets/base",
      "_model_module_version": "1.2.0",
      "_model_name": "LayoutModel",
      "_view_count": null,
      "_view_module": "@jupyter-widgets/base",
      "_view_module_version": "1.2.0",
      "_view_name": "LayoutView",
      "align_content": null,
      "align_items": null,
      "align_self": null,
      "border": null,
      "bottom": null,
      "display": null,
      "flex": null,
      "flex_flow": null,
      "grid_area": null,
      "grid_auto_columns": null,
      "grid_auto_flow": null,
      "grid_auto_rows": null,
      "grid_column": null,
      "grid_gap": null,
      "grid_row": null,
      "grid_template_areas": null,
      "grid_template_columns": null,
      "grid_template_rows": null,
      "height": null,
      "justify_content": null,
      "justify_items": null,
      "left": null,
      "margin": null,
      "max_height": null,
      "max_width": null,
      "min_height": null,
      "min_width": null,
      "object_fit": null,
      "object_position": null,
      "order": null,
      "overflow": null,
      "overflow_x": null,
      "overflow_y": null,
      "padding": null,
      "right": null,
      "top": null,
      "visibility": null,
      "width": null
     }
    },
    "c349e7515d594425bb46d64f7ac0fc8c": {
     "model_module": "@jupyter-widgets/controls",
     "model_module_version": "1.5.0",
     "model_name": "HBoxModel",
     "state": {
      "_dom_classes": [],
      "_model_module": "@jupyter-widgets/controls",
      "_model_module_version": "1.5.0",
      "_model_name": "HBoxModel",
      "_view_count": null,
      "_view_module": "@jupyter-widgets/controls",
      "_view_module_version": "1.5.0",
      "_view_name": "HBoxView",
      "box_style": "",
      "children": [
       "IPY_MODEL_891a3e73e342468b94334a762965330e",
       "IPY_MODEL_3bf4f9653ad64de0884fa02de5c16e55",
       "IPY_MODEL_8f39b65ffed94c61a05ebc3f3febbe66"
      ],
      "layout": "IPY_MODEL_b625d82c41f84d9aa94daa9d30118c38"
     }
    },
    "daa21f42d39145af87c3081d16492bdd": {
     "model_module": "@jupyter-widgets/base",
     "model_module_version": "1.2.0",
     "model_name": "LayoutModel",
     "state": {
      "_model_module": "@jupyter-widgets/base",
      "_model_module_version": "1.2.0",
      "_model_name": "LayoutModel",
      "_view_count": null,
      "_view_module": "@jupyter-widgets/base",
      "_view_module_version": "1.2.0",
      "_view_name": "LayoutView",
      "align_content": null,
      "align_items": null,
      "align_self": null,
      "border": null,
      "bottom": null,
      "display": null,
      "flex": null,
      "flex_flow": null,
      "grid_area": null,
      "grid_auto_columns": null,
      "grid_auto_flow": null,
      "grid_auto_rows": null,
      "grid_column": null,
      "grid_gap": null,
      "grid_row": null,
      "grid_template_areas": null,
      "grid_template_columns": null,
      "grid_template_rows": null,
      "height": null,
      "justify_content": null,
      "justify_items": null,
      "left": null,
      "margin": null,
      "max_height": null,
      "max_width": null,
      "min_height": null,
      "min_width": null,
      "object_fit": null,
      "object_position": null,
      "order": null,
      "overflow": null,
      "overflow_x": null,
      "overflow_y": null,
      "padding": null,
      "right": null,
      "top": null,
      "visibility": null,
      "width": null
     }
    }
   }
  }
 },
 "nbformat": 4,
 "nbformat_minor": 1
}
