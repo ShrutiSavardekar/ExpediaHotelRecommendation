{
  "cells": [
    {
      "cell_type": "markdown",
      "metadata": {
        "id": "8Xo7sQo7jHLg"
      },
      "source": [
        "# Expedia Hotel Recommendations"
      ]
    },
    {
      "cell_type": "markdown",
      "metadata": {
        "id": "cB57SWrAjHLi"
      },
      "source": [
        "#### Which hotel type will an Expedia customer book?"
      ]
    },
    {
      "cell_type": "markdown",
      "metadata": {
        "id": "QyzNDMmujHLi"
      },
      "source": [
        "### Importing Libraries"
      ]
    },
    {
      "cell_type": "code",
      "execution_count": 1,
      "metadata": {
        "id": "jqZkiOxpjHLi"
      },
      "outputs": [],
      "source": [
        "import pandas as pd\n",
        "import numpy as np\n",
        "from sklearn.model_selection import train_test_split\n",
        "from sklearn.metrics.pairwise import pairwise_distances\n",
        "from sklearn.metrics import mean_squared_error\n",
        "from sklearn.metrics import mean_absolute_error\n",
        "from math import sqrt\n",
        "import matplotlib.pyplot as plt\n",
        "import seaborn as sns\n",
        "%matplotlib inline\n",
        "\n",
        "from sklearn.decomposition import PCA\n",
        "from sklearn.preprocessing import StandardScaler\n",
        "from sklearn import neighbors\n",
        "from sklearn.naive_bayes import GaussianNB\n",
        "from sklearn.metrics import accuracy_score,precision_score,recall_score,f1_score,confusion_matrix"
      ]
    },
    {
      "cell_type": "code",
      "source": [
        "from google.colab import files\n",
        "uploaded = files.upload()"
      ],
      "metadata": {
        "colab": {
          "resources": {
            "http://localhost:8080/nbextensions/google.colab/files.js": {
              "data": "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",
              "ok": true,
              "headers": [
                [
                  "content-type",
                  "application/javascript"
                ]
              ],
              "status": 200,
              "status_text": ""
            }
          },
          "base_uri": "https://localhost:8080/",
          "height": 73
        },
        "id": "rQHXTEtApgu5",
        "outputId": "034ef246-f674-4bef-a013-428c4c26e89c"
      },
      "execution_count": 2,
      "outputs": [
        {
          "output_type": "display_data",
          "data": {
            "text/plain": [
              "<IPython.core.display.HTML object>"
            ],
            "text/html": [
              "\n",
              "     <input type=\"file\" id=\"files-72027e58-0405-4f1a-abec-a27db116f272\" name=\"files[]\" multiple disabled\n",
              "        style=\"border:none\" />\n",
              "     <output id=\"result-72027e58-0405-4f1a-abec-a27db116f272\">\n",
              "      Upload widget is only available when the cell has been executed in the\n",
              "      current browser session. Please rerun this cell to enable.\n",
              "      </output>\n",
              "      <script src=\"/nbextensions/google.colab/files.js\"></script> "
            ]
          },
          "metadata": {}
        },
        {
          "output_type": "stream",
          "name": "stdout",
          "text": [
            "Saving kaggle.json to kaggle.json\n"
          ]
        }
      ]
    },
    {
      "cell_type": "code",
      "source": [
        "!rm -r ~/.kaggle\n",
        "!mkdir ~/.kaggle\n",
        "!mv ./kaggle.json ~/.kaggle/\n",
        "!chmod 600 ~/.kaggle/kaggle.json\n",
        "!kaggle datasets list"
      ],
      "metadata": {
        "colab": {
          "base_uri": "https://localhost:8080/"
        },
        "id": "Qhmm0rNS06e4",
        "outputId": "ac28625b-aacf-4c2a-cf05-8a80d9a8b768"
      },
      "execution_count": 3,
      "outputs": [
        {
          "output_type": "stream",
          "name": "stdout",
          "text": [
            "ref                                                                            title                                             size  lastUpdated          downloadCount  voteCount  usabilityRating  \n",
            "-----------------------------------------------------------------------------  -----------------------------------------------  -----  -------------------  -------------  ---------  ---------------  \n",
            "datasets/muratkokludataset/date-fruit-datasets                                 Date Fruit Datasets                              408KB  2022-04-03 09:25:39           4806        720  0.9375           \n",
            "datasets/muratkokludataset/acoustic-extinguisher-fire-dataset                  Acoustic Extinguisher Fire Dataset               621KB  2022-04-02 22:59:36            718        624  0.9375           \n",
            "datasets/muratkokludataset/pistachio-dataset                                   Pistachio Dataset                                  2MB  2022-04-03 08:38:21            431        538  0.9375           \n",
            "datasets/muratkokludataset/raisin-dataset                                      Raisin Dataset                                   112KB  2022-04-03 00:23:16            337        516  0.9375           \n",
            "datasets/mdmahmudulhasansuzan/students-adaptability-level-in-online-education  Students Adaptability Level in Online Education    6KB  2022-04-16 04:46:28           2898         70  1.0              \n",
            "datasets/muratkokludataset/pistachio-image-dataset                             Pistachio Image Dataset                           27MB  2022-03-28 18:01:27            279        570  0.9375           \n",
            "datasets/muratkokludataset/grapevine-leaves-image-dataset                      Grapevine Leaves Image Dataset                   109MB  2022-04-03 09:00:54             93        549  0.875            \n",
            "datasets/muratkokludataset/dry-bean-dataset                                    Dry Bean Dataset                                   5MB  2022-04-02 23:19:30            245        520  0.875            \n",
            "datasets/muratkokludataset/pumpkin-seeds-dataset                               Pumpkin Seeds Dataset                            393KB  2022-03-28 18:28:16            331        516  0.9375           \n",
            "datasets/muratkokludataset/durum-wheat-dataset                                 Durum Wheat Dataset                              983MB  2022-04-03 00:02:29             61        524  0.875            \n",
            "datasets/muratkokludataset/rice-msc-dataset                                    Rice MSC Dataset                                 102MB  2022-04-03 01:33:52            148        510  0.875            \n",
            "datasets/muratkokludataset/rice-dataset-commeo-and-osmancik                    Rice Dataset Commeo and Osmancik                 524KB  2022-04-03 00:40:03             75        503  0.875            \n",
            "datasets/muhmores/spotify-top-100-songs-of-20152019                            Spotify Top 100 Songs of 2010-2019               139KB  2022-04-09 06:35:36           3611         81  0.88235295       \n",
            "datasets/ramjasmaurya/aviation-accidents-history1919-april-2022                Air Disasters(1919- April 2022)                  667KB  2022-04-25 18:10:20            602         32  1.0              \n",
            "datasets/rinichristy/covid19-coronavirus-pandemic                              COVID-19 Coronavirus Pandemic                      9KB  2022-04-05 08:43:16           2192         47  1.0              \n",
            "datasets/aslanahmedov/walmart-sales-forecast                                   Walmart Sales Forecast                             3MB  2022-04-21 05:28:20           1429         44  1.0              \n",
            "datasets/brandonconrady/covid19-vaccine-articles                               COVID-19 Vaccine Articles                         54KB  2022-04-28 05:22:45            257         26  1.0              \n",
            "datasets/rupakroy/online-payments-fraud-detection-dataset                      Online Payments Fraud Detection Dataset          178MB  2022-04-17 15:34:44           1126         27  0.9705882        \n",
            "datasets/samuelcortinhas/credit-card-approval-clean-data                       Credit Card Approvals (Clean Data)                19KB  2022-04-25 15:52:35           1157         32  1.0              \n",
            "datasets/alexandrparkhomenko/top-apps-in-google-play                           Top Apps in Google Play                            3KB  2022-04-29 05:16:34            573         31  1.0              \n"
          ]
        }
      ]
    },
    {
      "cell_type": "code",
      "source": [
        "!kaggle competitions download -c expedia-hotel-recommendations\n",
        "! mkdir train"
      ],
      "metadata": {
        "colab": {
          "base_uri": "https://localhost:8080/"
        },
        "id": "iO8FtDEG18vL",
        "outputId": "36293c60-0881-4d4c-fa03-b78e74d84cba"
      },
      "execution_count": 4,
      "outputs": [
        {
          "output_type": "stream",
          "name": "stdout",
          "text": [
            "expedia-hotel-recommendations.zip: Skipping, found more recently modified local copy (use --force to force download)\n",
            "mkdir: cannot create directory ‘train’: File exists\n"
          ]
        }
      ]
    },
    {
      "cell_type": "code",
      "source": [
        "! unzip expedia-hotel-recommendations.zip -d train"
      ],
      "metadata": {
        "colab": {
          "base_uri": "https://localhost:8080/"
        },
        "id": "HLXCWmp12DTm",
        "outputId": "23e9c053-79c7-4060-9741-d4e22128b170"
      },
      "execution_count": 5,
      "outputs": [
        {
          "output_type": "stream",
          "name": "stdout",
          "text": [
            "Archive:  expedia-hotel-recommendations.zip\n",
            "replace train/destinations.csv? [y]es, [n]o, [A]ll, [N]one, [r]ename: N\n"
          ]
        }
      ]
    },
    {
      "cell_type": "code",
      "source": [
        "# df_raw = pd.read_csv('train/train.csv')\n",
        "# print(df_raw.shape)"
      ],
      "metadata": {
        "id": "xwzLCIl02F_k"
      },
      "execution_count": null,
      "outputs": []
    },
    {
      "cell_type": "code",
      "execution_count": 6,
      "metadata": {
        "id": "MSTNAzf0jHLj"
      },
      "outputs": [],
      "source": [
        "import warnings\n",
        "warnings.filterwarnings('ignore')"
      ]
    },
    {
      "cell_type": "code",
      "source": [
        "%tensorflow_version 1.15.0\n",
        "import tensorflow as tf\n",
        "import math\n",
        "import sys\n",
        "import holidays\n",
        "from sklearn.metrics import roc_curve, auc\n",
        "from sklearn.metrics import roc_auc_score\n",
        "\n",
        "from sklearn.metrics import mean_squared_error\n",
        "from sklearn.metrics import mean_absolute_error\n",
        "from sklearn.preprocessing import LabelEncoder, MinMaxScaler\n",
        "from math import sqrt\n",
        "\n",
        "\n",
        "from tensorflow.python.keras.models import Model\n",
        "from tensorflow.python.keras.layers import Dense\n",
        "\n",
        "# from tensorflow.keras.models import Model\n",
        "# from tensorflow.keras.layers import Dense\n",
        "\n",
        "# from deepctr.inputs import build_input_features, get_linear_logit, input_from_feature_columns, combined_dnn_input\n",
        "from deepctr.inputs import get_inputs_list, get_dense_input\n",
        "from deepctr.layers.core import PredictionLayer, DNN\n",
        "from deepctr.layers.utils import add_func\n",
        "from deepctr.models import DeepFM"
      ],
      "metadata": {
        "id": "iWxXfnGvq3sX",
        "colab": {
          "base_uri": "https://localhost:8080/"
        },
        "outputId": "e6b2285e-166f-466f-c1d7-145c4bc074e4"
      },
      "execution_count": 8,
      "outputs": [
        {
          "output_type": "stream",
          "name": "stdout",
          "text": [
            "`%tensorflow_version` only switches the major version: 1.x or 2.x.\n",
            "You set: `1.15.0`. This will be interpreted as: `1.x`.\n",
            "\n",
            "\n",
            "TensorFlow is already loaded. Please restart the runtime to change versions.\n"
          ]
        }
      ]
    },
    {
      "cell_type": "markdown",
      "metadata": {
        "id": "uFif4wv1jHLj"
      },
      "source": [
        "### Reading training data (train.csv)"
      ]
    },
    {
      "cell_type": "code",
      "execution_count": 9,
      "metadata": {
        "id": "DPeF89iRjHLj"
      },
      "outputs": [],
      "source": [
        "train_data = pd.read_csv('train/train.csv', sep = \",\", nrows = 100000)\n",
        "# train_data = pd.read_csv(\"train.csv\", sep = \",\")"
      ]
    },
    {
      "cell_type": "markdown",
      "metadata": {
        "id": "-Q3wfPe_jHLk"
      },
      "source": [
        "### Getting familiar with the data and Exploratory Data Analysis"
      ]
    },
    {
      "cell_type": "code",
      "execution_count": 54,
      "metadata": {
        "id": "KMAqEW7bjHLk",
        "outputId": "da308c24-8e01-4247-de90-2b58716073c1",
        "colab": {
          "base_uri": "https://localhost:8080/",
          "height": 386
        }
      },
      "outputs": [
        {
          "output_type": "execute_result",
          "data": {
            "text/plain": [
              "             date_time  site_name  posa_continent  user_location_country  \\\n",
              "0  2014-08-11 07:46:59          2               3                     66   \n",
              "1  2014-08-11 08:22:12          2               3                     66   \n",
              "2  2014-08-11 08:24:33          2               3                     66   \n",
              "3  2014-08-09 18:05:16          2               3                     66   \n",
              "4  2014-08-09 18:08:18          2               3                     66   \n",
              "\n",
              "   user_location_region  user_location_city  orig_destination_distance  \\\n",
              "0                   348               48862                  2234.2641   \n",
              "1                   348               48862                  2234.2641   \n",
              "2                   348               48862                  2234.2641   \n",
              "3                   442               35390                   913.1932   \n",
              "4                   442               35390                   913.6259   \n",
              "\n",
              "   user_id  is_mobile  is_package  ...  srch_children_cnt srch_rm_cnt  \\\n",
              "0       12          0           1  ...                  0           1   \n",
              "1       12          0           1  ...                  0           1   \n",
              "2       12          0           0  ...                  0           1   \n",
              "3       93          0           0  ...                  0           1   \n",
              "4       93          0           0  ...                  0           1   \n",
              "\n",
              "  srch_destination_id  srch_destination_type_id  is_booking  cnt  \\\n",
              "0                8250                         1           0    3   \n",
              "1                8250                         1           1    1   \n",
              "2                8250                         1           0    1   \n",
              "3               14984                         1           0    1   \n",
              "4               14984                         1           0    1   \n",
              "\n",
              "   hotel_continent  hotel_country  hotel_market  hotel_cluster  \n",
              "0                2             50           628              1  \n",
              "1                2             50           628              1  \n",
              "2                2             50           628              1  \n",
              "3                2             50          1457             80  \n",
              "4                2             50          1457             21  \n",
              "\n",
              "[5 rows x 24 columns]"
            ],
            "text/html": [
              "\n",
              "  <div id=\"df-e81f58f0-0a76-4a4b-ac3b-c94330b1ece7\">\n",
              "    <div class=\"colab-df-container\">\n",
              "      <div>\n",
              "<style scoped>\n",
              "    .dataframe tbody tr th:only-of-type {\n",
              "        vertical-align: middle;\n",
              "    }\n",
              "\n",
              "    .dataframe tbody tr th {\n",
              "        vertical-align: top;\n",
              "    }\n",
              "\n",
              "    .dataframe thead th {\n",
              "        text-align: right;\n",
              "    }\n",
              "</style>\n",
              "<table border=\"1\" class=\"dataframe\">\n",
              "  <thead>\n",
              "    <tr style=\"text-align: right;\">\n",
              "      <th></th>\n",
              "      <th>date_time</th>\n",
              "      <th>site_name</th>\n",
              "      <th>posa_continent</th>\n",
              "      <th>user_location_country</th>\n",
              "      <th>user_location_region</th>\n",
              "      <th>user_location_city</th>\n",
              "      <th>orig_destination_distance</th>\n",
              "      <th>user_id</th>\n",
              "      <th>is_mobile</th>\n",
              "      <th>is_package</th>\n",
              "      <th>...</th>\n",
              "      <th>srch_children_cnt</th>\n",
              "      <th>srch_rm_cnt</th>\n",
              "      <th>srch_destination_id</th>\n",
              "      <th>srch_destination_type_id</th>\n",
              "      <th>is_booking</th>\n",
              "      <th>cnt</th>\n",
              "      <th>hotel_continent</th>\n",
              "      <th>hotel_country</th>\n",
              "      <th>hotel_market</th>\n",
              "      <th>hotel_cluster</th>\n",
              "    </tr>\n",
              "  </thead>\n",
              "  <tbody>\n",
              "    <tr>\n",
              "      <th>0</th>\n",
              "      <td>2014-08-11 07:46:59</td>\n",
              "      <td>2</td>\n",
              "      <td>3</td>\n",
              "      <td>66</td>\n",
              "      <td>348</td>\n",
              "      <td>48862</td>\n",
              "      <td>2234.2641</td>\n",
              "      <td>12</td>\n",
              "      <td>0</td>\n",
              "      <td>1</td>\n",
              "      <td>...</td>\n",
              "      <td>0</td>\n",
              "      <td>1</td>\n",
              "      <td>8250</td>\n",
              "      <td>1</td>\n",
              "      <td>0</td>\n",
              "      <td>3</td>\n",
              "      <td>2</td>\n",
              "      <td>50</td>\n",
              "      <td>628</td>\n",
              "      <td>1</td>\n",
              "    </tr>\n",
              "    <tr>\n",
              "      <th>1</th>\n",
              "      <td>2014-08-11 08:22:12</td>\n",
              "      <td>2</td>\n",
              "      <td>3</td>\n",
              "      <td>66</td>\n",
              "      <td>348</td>\n",
              "      <td>48862</td>\n",
              "      <td>2234.2641</td>\n",
              "      <td>12</td>\n",
              "      <td>0</td>\n",
              "      <td>1</td>\n",
              "      <td>...</td>\n",
              "      <td>0</td>\n",
              "      <td>1</td>\n",
              "      <td>8250</td>\n",
              "      <td>1</td>\n",
              "      <td>1</td>\n",
              "      <td>1</td>\n",
              "      <td>2</td>\n",
              "      <td>50</td>\n",
              "      <td>628</td>\n",
              "      <td>1</td>\n",
              "    </tr>\n",
              "    <tr>\n",
              "      <th>2</th>\n",
              "      <td>2014-08-11 08:24:33</td>\n",
              "      <td>2</td>\n",
              "      <td>3</td>\n",
              "      <td>66</td>\n",
              "      <td>348</td>\n",
              "      <td>48862</td>\n",
              "      <td>2234.2641</td>\n",
              "      <td>12</td>\n",
              "      <td>0</td>\n",
              "      <td>0</td>\n",
              "      <td>...</td>\n",
              "      <td>0</td>\n",
              "      <td>1</td>\n",
              "      <td>8250</td>\n",
              "      <td>1</td>\n",
              "      <td>0</td>\n",
              "      <td>1</td>\n",
              "      <td>2</td>\n",
              "      <td>50</td>\n",
              "      <td>628</td>\n",
              "      <td>1</td>\n",
              "    </tr>\n",
              "    <tr>\n",
              "      <th>3</th>\n",
              "      <td>2014-08-09 18:05:16</td>\n",
              "      <td>2</td>\n",
              "      <td>3</td>\n",
              "      <td>66</td>\n",
              "      <td>442</td>\n",
              "      <td>35390</td>\n",
              "      <td>913.1932</td>\n",
              "      <td>93</td>\n",
              "      <td>0</td>\n",
              "      <td>0</td>\n",
              "      <td>...</td>\n",
              "      <td>0</td>\n",
              "      <td>1</td>\n",
              "      <td>14984</td>\n",
              "      <td>1</td>\n",
              "      <td>0</td>\n",
              "      <td>1</td>\n",
              "      <td>2</td>\n",
              "      <td>50</td>\n",
              "      <td>1457</td>\n",
              "      <td>80</td>\n",
              "    </tr>\n",
              "    <tr>\n",
              "      <th>4</th>\n",
              "      <td>2014-08-09 18:08:18</td>\n",
              "      <td>2</td>\n",
              "      <td>3</td>\n",
              "      <td>66</td>\n",
              "      <td>442</td>\n",
              "      <td>35390</td>\n",
              "      <td>913.6259</td>\n",
              "      <td>93</td>\n",
              "      <td>0</td>\n",
              "      <td>0</td>\n",
              "      <td>...</td>\n",
              "      <td>0</td>\n",
              "      <td>1</td>\n",
              "      <td>14984</td>\n",
              "      <td>1</td>\n",
              "      <td>0</td>\n",
              "      <td>1</td>\n",
              "      <td>2</td>\n",
              "      <td>50</td>\n",
              "      <td>1457</td>\n",
              "      <td>21</td>\n",
              "    </tr>\n",
              "  </tbody>\n",
              "</table>\n",
              "<p>5 rows × 24 columns</p>\n",
              "</div>\n",
              "      <button class=\"colab-df-convert\" onclick=\"convertToInteractive('df-e81f58f0-0a76-4a4b-ac3b-c94330b1ece7')\"\n",
              "              title=\"Convert this dataframe to an interactive table.\"\n",
              "              style=\"display:none;\">\n",
              "        \n",
              "  <svg xmlns=\"http://www.w3.org/2000/svg\" height=\"24px\"viewBox=\"0 0 24 24\"\n",
              "       width=\"24px\">\n",
              "    <path d=\"M0 0h24v24H0V0z\" fill=\"none\"/>\n",
              "    <path d=\"M18.56 5.44l.94 2.06.94-2.06 2.06-.94-2.06-.94-.94-2.06-.94 2.06-2.06.94zm-11 1L8.5 8.5l.94-2.06 2.06-.94-2.06-.94L8.5 2.5l-.94 2.06-2.06.94zm10 10l.94 2.06.94-2.06 2.06-.94-2.06-.94-.94-2.06-.94 2.06-2.06.94z\"/><path d=\"M17.41 7.96l-1.37-1.37c-.4-.4-.92-.59-1.43-.59-.52 0-1.04.2-1.43.59L10.3 9.45l-7.72 7.72c-.78.78-.78 2.05 0 2.83L4 21.41c.39.39.9.59 1.41.59.51 0 1.02-.2 1.41-.59l7.78-7.78 2.81-2.81c.8-.78.8-2.07 0-2.86zM5.41 20L4 18.59l7.72-7.72 1.47 1.35L5.41 20z\"/>\n",
              "  </svg>\n",
              "      </button>\n",
              "      \n",
              "  <style>\n",
              "    .colab-df-container {\n",
              "      display:flex;\n",
              "      flex-wrap:wrap;\n",
              "      gap: 12px;\n",
              "    }\n",
              "\n",
              "    .colab-df-convert {\n",
              "      background-color: #E8F0FE;\n",
              "      border: none;\n",
              "      border-radius: 50%;\n",
              "      cursor: pointer;\n",
              "      display: none;\n",
              "      fill: #1967D2;\n",
              "      height: 32px;\n",
              "      padding: 0 0 0 0;\n",
              "      width: 32px;\n",
              "    }\n",
              "\n",
              "    .colab-df-convert:hover {\n",
              "      background-color: #E2EBFA;\n",
              "      box-shadow: 0px 1px 2px rgba(60, 64, 67, 0.3), 0px 1px 3px 1px rgba(60, 64, 67, 0.15);\n",
              "      fill: #174EA6;\n",
              "    }\n",
              "\n",
              "    [theme=dark] .colab-df-convert {\n",
              "      background-color: #3B4455;\n",
              "      fill: #D2E3FC;\n",
              "    }\n",
              "\n",
              "    [theme=dark] .colab-df-convert:hover {\n",
              "      background-color: #434B5C;\n",
              "      box-shadow: 0px 1px 3px 1px rgba(0, 0, 0, 0.15);\n",
              "      filter: drop-shadow(0px 1px 2px rgba(0, 0, 0, 0.3));\n",
              "      fill: #FFFFFF;\n",
              "    }\n",
              "  </style>\n",
              "\n",
              "      <script>\n",
              "        const buttonEl =\n",
              "          document.querySelector('#df-e81f58f0-0a76-4a4b-ac3b-c94330b1ece7 button.colab-df-convert');\n",
              "        buttonEl.style.display =\n",
              "          google.colab.kernel.accessAllowed ? 'block' : 'none';\n",
              "\n",
              "        async function convertToInteractive(key) {\n",
              "          const element = document.querySelector('#df-e81f58f0-0a76-4a4b-ac3b-c94330b1ece7');\n",
              "          const dataTable =\n",
              "            await google.colab.kernel.invokeFunction('convertToInteractive',\n",
              "                                                     [key], {});\n",
              "          if (!dataTable) return;\n",
              "\n",
              "          const docLinkHtml = 'Like what you see? Visit the ' +\n",
              "            '<a target=\"_blank\" href=https://colab.research.google.com/notebooks/data_table.ipynb>data table notebook</a>'\n",
              "            + ' to learn more about interactive tables.';\n",
              "          element.innerHTML = '';\n",
              "          dataTable['output_type'] = 'display_data';\n",
              "          await google.colab.output.renderOutput(dataTable, element);\n",
              "          const docLink = document.createElement('div');\n",
              "          docLink.innerHTML = docLinkHtml;\n",
              "          element.appendChild(docLink);\n",
              "        }\n",
              "      </script>\n",
              "    </div>\n",
              "  </div>\n",
              "  "
            ]
          },
          "metadata": {},
          "execution_count": 54
        }
      ],
      "source": [
        "train_data.head()"
      ]
    },
    {
      "cell_type": "code",
      "execution_count": 14,
      "metadata": {
        "id": "LDBsfnGJjHLk",
        "outputId": "60151b5b-1bf4-4622-b492-3b5fc6bae6af",
        "colab": {
          "base_uri": "https://localhost:8080/"
        }
      },
      "outputs": [
        {
          "output_type": "execute_result",
          "data": {
            "text/plain": [
              "(100000, 24)"
            ]
          },
          "metadata": {},
          "execution_count": 14
        }
      ],
      "source": [
        "train_data.shape"
      ]
    },
    {
      "cell_type": "code",
      "execution_count": 15,
      "metadata": {
        "id": "0qYLXBkgjHLl",
        "outputId": "59623e3c-5ac6-4f38-b322-1bb0538e95cb",
        "colab": {
          "base_uri": "https://localhost:8080/"
        }
      },
      "outputs": [
        {
          "output_type": "stream",
          "name": "stdout",
          "text": [
            "<class 'pandas.core.frame.DataFrame'>\n",
            "RangeIndex: 100000 entries, 0 to 99999\n",
            "Data columns (total 24 columns):\n",
            " #   Column                     Non-Null Count   Dtype  \n",
            "---  ------                     --------------   -----  \n",
            " 0   date_time                  100000 non-null  object \n",
            " 1   site_name                  100000 non-null  int64  \n",
            " 2   posa_continent             100000 non-null  int64  \n",
            " 3   user_location_country      100000 non-null  int64  \n",
            " 4   user_location_region       100000 non-null  int64  \n",
            " 5   user_location_city         100000 non-null  int64  \n",
            " 6   orig_destination_distance  63078 non-null   float64\n",
            " 7   user_id                    100000 non-null  int64  \n",
            " 8   is_mobile                  100000 non-null  int64  \n",
            " 9   is_package                 100000 non-null  int64  \n",
            " 10  channel                    100000 non-null  int64  \n",
            " 11  srch_ci                    99929 non-null   object \n",
            " 12  srch_co                    99929 non-null   object \n",
            " 13  srch_adults_cnt            100000 non-null  int64  \n",
            " 14  srch_children_cnt          100000 non-null  int64  \n",
            " 15  srch_rm_cnt                100000 non-null  int64  \n",
            " 16  srch_destination_id        100000 non-null  int64  \n",
            " 17  srch_destination_type_id   100000 non-null  int64  \n",
            " 18  is_booking                 100000 non-null  int64  \n",
            " 19  cnt                        100000 non-null  int64  \n",
            " 20  hotel_continent            100000 non-null  int64  \n",
            " 21  hotel_country              100000 non-null  int64  \n",
            " 22  hotel_market               100000 non-null  int64  \n",
            " 23  hotel_cluster              100000 non-null  int64  \n",
            "dtypes: float64(1), int64(20), object(3)\n",
            "memory usage: 18.3+ MB\n"
          ]
        }
      ],
      "source": [
        "train_data.info()"
      ]
    },
    {
      "cell_type": "code",
      "execution_count": 16,
      "metadata": {
        "id": "8pEU1Y7njHLl",
        "outputId": "95250809-1758-4291-9bf3-49fa7e71af29",
        "colab": {
          "base_uri": "https://localhost:8080/",
          "height": 393
        }
      },
      "outputs": [
        {
          "output_type": "execute_result",
          "data": {
            "text/plain": [
              "          site_name  posa_continent  user_location_country  \\\n",
              "count  100000.00000   100000.000000          100000.000000   \n",
              "mean        9.10014        2.637850              84.531040   \n",
              "std        12.09091        0.751001              54.320574   \n",
              "min         2.00000        0.000000               0.000000   \n",
              "25%         2.00000        3.000000              66.000000   \n",
              "50%         2.00000        3.000000              66.000000   \n",
              "75%        11.00000        3.000000              69.000000   \n",
              "max        53.00000        4.000000             239.000000   \n",
              "\n",
              "       user_location_region  user_location_city  orig_destination_distance  \\\n",
              "count         100000.000000       100000.000000               63078.000000   \n",
              "mean             311.630930        28465.223540                1897.609161   \n",
              "std              209.399151        16822.922817                2123.885180   \n",
              "min                0.000000            3.000000                   0.005600   \n",
              "25%              174.000000        13914.000000                 290.528875   \n",
              "50%              311.000000        27733.000000                1093.888450   \n",
              "75%              385.000000        43113.000000                2518.177400   \n",
              "max             1025.000000        56495.000000               11641.224200   \n",
              "\n",
              "             user_id      is_mobile     is_package        channel  ...  \\\n",
              "count  100000.000000  100000.000000  100000.000000  100000.000000  ...   \n",
              "mean   195700.878390       0.138030       0.260470       5.760540  ...   \n",
              "std    110173.879786       0.344933       0.438893       3.771156  ...   \n",
              "min        12.000000       0.000000       0.000000       0.000000  ...   \n",
              "25%    107548.000000       0.000000       0.000000       2.000000  ...   \n",
              "50%    181983.000000       0.000000       0.000000       9.000000  ...   \n",
              "75%    301357.000000       0.000000       1.000000       9.000000  ...   \n",
              "max    391007.000000       1.000000       1.000000      10.000000  ...   \n",
              "\n",
              "       srch_children_cnt    srch_rm_cnt  srch_destination_id  \\\n",
              "count      100000.000000  100000.000000        100000.000000   \n",
              "mean            0.325160       1.112700         14511.034340   \n",
              "std             0.722341       0.441928         11043.082364   \n",
              "min             0.000000       0.000000             8.000000   \n",
              "25%             0.000000       1.000000          8267.000000   \n",
              "50%             0.000000       1.000000         11271.000000   \n",
              "75%             0.000000       1.000000         18881.000000   \n",
              "max             9.000000       8.000000         65035.000000   \n",
              "\n",
              "       srch_destination_type_id    is_booking            cnt  hotel_continent  \\\n",
              "count             100000.000000  100000.00000  100000.000000    100000.000000   \n",
              "mean                   2.590540       0.08270       1.477770         3.206530   \n",
              "std                    2.160456       0.27543       1.197163         1.624119   \n",
              "min                    1.000000       0.00000       1.000000         0.000000   \n",
              "25%                    1.000000       0.00000       1.000000         2.000000   \n",
              "50%                    1.000000       0.00000       1.000000         2.000000   \n",
              "75%                    5.000000       0.00000       2.000000         4.000000   \n",
              "max                    9.000000       1.00000      59.000000         6.000000   \n",
              "\n",
              "       hotel_country   hotel_market  hotel_cluster  \n",
              "count  100000.000000  100000.000000   100000.00000  \n",
              "mean       80.972620     597.559610       49.74576  \n",
              "std        55.679861     507.624672       28.95063  \n",
              "min         0.000000       0.000000        0.00000  \n",
              "25%        50.000000     160.000000       25.00000  \n",
              "50%        50.000000     585.000000       49.00000  \n",
              "75%       106.000000     701.000000       73.00000  \n",
              "max       212.000000    2117.000000       99.00000  \n",
              "\n",
              "[8 rows x 21 columns]"
            ],
            "text/html": [
              "\n",
              "  <div id=\"df-887e7bbe-e983-4175-883f-3b0fe7dae9b4\">\n",
              "    <div class=\"colab-df-container\">\n",
              "      <div>\n",
              "<style scoped>\n",
              "    .dataframe tbody tr th:only-of-type {\n",
              "        vertical-align: middle;\n",
              "    }\n",
              "\n",
              "    .dataframe tbody tr th {\n",
              "        vertical-align: top;\n",
              "    }\n",
              "\n",
              "    .dataframe thead th {\n",
              "        text-align: right;\n",
              "    }\n",
              "</style>\n",
              "<table border=\"1\" class=\"dataframe\">\n",
              "  <thead>\n",
              "    <tr style=\"text-align: right;\">\n",
              "      <th></th>\n",
              "      <th>site_name</th>\n",
              "      <th>posa_continent</th>\n",
              "      <th>user_location_country</th>\n",
              "      <th>user_location_region</th>\n",
              "      <th>user_location_city</th>\n",
              "      <th>orig_destination_distance</th>\n",
              "      <th>user_id</th>\n",
              "      <th>is_mobile</th>\n",
              "      <th>is_package</th>\n",
              "      <th>channel</th>\n",
              "      <th>...</th>\n",
              "      <th>srch_children_cnt</th>\n",
              "      <th>srch_rm_cnt</th>\n",
              "      <th>srch_destination_id</th>\n",
              "      <th>srch_destination_type_id</th>\n",
              "      <th>is_booking</th>\n",
              "      <th>cnt</th>\n",
              "      <th>hotel_continent</th>\n",
              "      <th>hotel_country</th>\n",
              "      <th>hotel_market</th>\n",
              "      <th>hotel_cluster</th>\n",
              "    </tr>\n",
              "  </thead>\n",
              "  <tbody>\n",
              "    <tr>\n",
              "      <th>count</th>\n",
              "      <td>100000.00000</td>\n",
              "      <td>100000.000000</td>\n",
              "      <td>100000.000000</td>\n",
              "      <td>100000.000000</td>\n",
              "      <td>100000.000000</td>\n",
              "      <td>63078.000000</td>\n",
              "      <td>100000.000000</td>\n",
              "      <td>100000.000000</td>\n",
              "      <td>100000.000000</td>\n",
              "      <td>100000.000000</td>\n",
              "      <td>...</td>\n",
              "      <td>100000.000000</td>\n",
              "      <td>100000.000000</td>\n",
              "      <td>100000.000000</td>\n",
              "      <td>100000.000000</td>\n",
              "      <td>100000.00000</td>\n",
              "      <td>100000.000000</td>\n",
              "      <td>100000.000000</td>\n",
              "      <td>100000.000000</td>\n",
              "      <td>100000.000000</td>\n",
              "      <td>100000.00000</td>\n",
              "    </tr>\n",
              "    <tr>\n",
              "      <th>mean</th>\n",
              "      <td>9.10014</td>\n",
              "      <td>2.637850</td>\n",
              "      <td>84.531040</td>\n",
              "      <td>311.630930</td>\n",
              "      <td>28465.223540</td>\n",
              "      <td>1897.609161</td>\n",
              "      <td>195700.878390</td>\n",
              "      <td>0.138030</td>\n",
              "      <td>0.260470</td>\n",
              "      <td>5.760540</td>\n",
              "      <td>...</td>\n",
              "      <td>0.325160</td>\n",
              "      <td>1.112700</td>\n",
              "      <td>14511.034340</td>\n",
              "      <td>2.590540</td>\n",
              "      <td>0.08270</td>\n",
              "      <td>1.477770</td>\n",
              "      <td>3.206530</td>\n",
              "      <td>80.972620</td>\n",
              "      <td>597.559610</td>\n",
              "      <td>49.74576</td>\n",
              "    </tr>\n",
              "    <tr>\n",
              "      <th>std</th>\n",
              "      <td>12.09091</td>\n",
              "      <td>0.751001</td>\n",
              "      <td>54.320574</td>\n",
              "      <td>209.399151</td>\n",
              "      <td>16822.922817</td>\n",
              "      <td>2123.885180</td>\n",
              "      <td>110173.879786</td>\n",
              "      <td>0.344933</td>\n",
              "      <td>0.438893</td>\n",
              "      <td>3.771156</td>\n",
              "      <td>...</td>\n",
              "      <td>0.722341</td>\n",
              "      <td>0.441928</td>\n",
              "      <td>11043.082364</td>\n",
              "      <td>2.160456</td>\n",
              "      <td>0.27543</td>\n",
              "      <td>1.197163</td>\n",
              "      <td>1.624119</td>\n",
              "      <td>55.679861</td>\n",
              "      <td>507.624672</td>\n",
              "      <td>28.95063</td>\n",
              "    </tr>\n",
              "    <tr>\n",
              "      <th>min</th>\n",
              "      <td>2.00000</td>\n",
              "      <td>0.000000</td>\n",
              "      <td>0.000000</td>\n",
              "      <td>0.000000</td>\n",
              "      <td>3.000000</td>\n",
              "      <td>0.005600</td>\n",
              "      <td>12.000000</td>\n",
              "      <td>0.000000</td>\n",
              "      <td>0.000000</td>\n",
              "      <td>0.000000</td>\n",
              "      <td>...</td>\n",
              "      <td>0.000000</td>\n",
              "      <td>0.000000</td>\n",
              "      <td>8.000000</td>\n",
              "      <td>1.000000</td>\n",
              "      <td>0.00000</td>\n",
              "      <td>1.000000</td>\n",
              "      <td>0.000000</td>\n",
              "      <td>0.000000</td>\n",
              "      <td>0.000000</td>\n",
              "      <td>0.00000</td>\n",
              "    </tr>\n",
              "    <tr>\n",
              "      <th>25%</th>\n",
              "      <td>2.00000</td>\n",
              "      <td>3.000000</td>\n",
              "      <td>66.000000</td>\n",
              "      <td>174.000000</td>\n",
              "      <td>13914.000000</td>\n",
              "      <td>290.528875</td>\n",
              "      <td>107548.000000</td>\n",
              "      <td>0.000000</td>\n",
              "      <td>0.000000</td>\n",
              "      <td>2.000000</td>\n",
              "      <td>...</td>\n",
              "      <td>0.000000</td>\n",
              "      <td>1.000000</td>\n",
              "      <td>8267.000000</td>\n",
              "      <td>1.000000</td>\n",
              "      <td>0.00000</td>\n",
              "      <td>1.000000</td>\n",
              "      <td>2.000000</td>\n",
              "      <td>50.000000</td>\n",
              "      <td>160.000000</td>\n",
              "      <td>25.00000</td>\n",
              "    </tr>\n",
              "    <tr>\n",
              "      <th>50%</th>\n",
              "      <td>2.00000</td>\n",
              "      <td>3.000000</td>\n",
              "      <td>66.000000</td>\n",
              "      <td>311.000000</td>\n",
              "      <td>27733.000000</td>\n",
              "      <td>1093.888450</td>\n",
              "      <td>181983.000000</td>\n",
              "      <td>0.000000</td>\n",
              "      <td>0.000000</td>\n",
              "      <td>9.000000</td>\n",
              "      <td>...</td>\n",
              "      <td>0.000000</td>\n",
              "      <td>1.000000</td>\n",
              "      <td>11271.000000</td>\n",
              "      <td>1.000000</td>\n",
              "      <td>0.00000</td>\n",
              "      <td>1.000000</td>\n",
              "      <td>2.000000</td>\n",
              "      <td>50.000000</td>\n",
              "      <td>585.000000</td>\n",
              "      <td>49.00000</td>\n",
              "    </tr>\n",
              "    <tr>\n",
              "      <th>75%</th>\n",
              "      <td>11.00000</td>\n",
              "      <td>3.000000</td>\n",
              "      <td>69.000000</td>\n",
              "      <td>385.000000</td>\n",
              "      <td>43113.000000</td>\n",
              "      <td>2518.177400</td>\n",
              "      <td>301357.000000</td>\n",
              "      <td>0.000000</td>\n",
              "      <td>1.000000</td>\n",
              "      <td>9.000000</td>\n",
              "      <td>...</td>\n",
              "      <td>0.000000</td>\n",
              "      <td>1.000000</td>\n",
              "      <td>18881.000000</td>\n",
              "      <td>5.000000</td>\n",
              "      <td>0.00000</td>\n",
              "      <td>2.000000</td>\n",
              "      <td>4.000000</td>\n",
              "      <td>106.000000</td>\n",
              "      <td>701.000000</td>\n",
              "      <td>73.00000</td>\n",
              "    </tr>\n",
              "    <tr>\n",
              "      <th>max</th>\n",
              "      <td>53.00000</td>\n",
              "      <td>4.000000</td>\n",
              "      <td>239.000000</td>\n",
              "      <td>1025.000000</td>\n",
              "      <td>56495.000000</td>\n",
              "      <td>11641.224200</td>\n",
              "      <td>391007.000000</td>\n",
              "      <td>1.000000</td>\n",
              "      <td>1.000000</td>\n",
              "      <td>10.000000</td>\n",
              "      <td>...</td>\n",
              "      <td>9.000000</td>\n",
              "      <td>8.000000</td>\n",
              "      <td>65035.000000</td>\n",
              "      <td>9.000000</td>\n",
              "      <td>1.00000</td>\n",
              "      <td>59.000000</td>\n",
              "      <td>6.000000</td>\n",
              "      <td>212.000000</td>\n",
              "      <td>2117.000000</td>\n",
              "      <td>99.00000</td>\n",
              "    </tr>\n",
              "  </tbody>\n",
              "</table>\n",
              "<p>8 rows × 21 columns</p>\n",
              "</div>\n",
              "      <button class=\"colab-df-convert\" onclick=\"convertToInteractive('df-887e7bbe-e983-4175-883f-3b0fe7dae9b4')\"\n",
              "              title=\"Convert this dataframe to an interactive table.\"\n",
              "              style=\"display:none;\">\n",
              "        \n",
              "  <svg xmlns=\"http://www.w3.org/2000/svg\" height=\"24px\"viewBox=\"0 0 24 24\"\n",
              "       width=\"24px\">\n",
              "    <path d=\"M0 0h24v24H0V0z\" fill=\"none\"/>\n",
              "    <path d=\"M18.56 5.44l.94 2.06.94-2.06 2.06-.94-2.06-.94-.94-2.06-.94 2.06-2.06.94zm-11 1L8.5 8.5l.94-2.06 2.06-.94-2.06-.94L8.5 2.5l-.94 2.06-2.06.94zm10 10l.94 2.06.94-2.06 2.06-.94-2.06-.94-.94-2.06-.94 2.06-2.06.94z\"/><path d=\"M17.41 7.96l-1.37-1.37c-.4-.4-.92-.59-1.43-.59-.52 0-1.04.2-1.43.59L10.3 9.45l-7.72 7.72c-.78.78-.78 2.05 0 2.83L4 21.41c.39.39.9.59 1.41.59.51 0 1.02-.2 1.41-.59l7.78-7.78 2.81-2.81c.8-.78.8-2.07 0-2.86zM5.41 20L4 18.59l7.72-7.72 1.47 1.35L5.41 20z\"/>\n",
              "  </svg>\n",
              "      </button>\n",
              "      \n",
              "  <style>\n",
              "    .colab-df-container {\n",
              "      display:flex;\n",
              "      flex-wrap:wrap;\n",
              "      gap: 12px;\n",
              "    }\n",
              "\n",
              "    .colab-df-convert {\n",
              "      background-color: #E8F0FE;\n",
              "      border: none;\n",
              "      border-radius: 50%;\n",
              "      cursor: pointer;\n",
              "      display: none;\n",
              "      fill: #1967D2;\n",
              "      height: 32px;\n",
              "      padding: 0 0 0 0;\n",
              "      width: 32px;\n",
              "    }\n",
              "\n",
              "    .colab-df-convert:hover {\n",
              "      background-color: #E2EBFA;\n",
              "      box-shadow: 0px 1px 2px rgba(60, 64, 67, 0.3), 0px 1px 3px 1px rgba(60, 64, 67, 0.15);\n",
              "      fill: #174EA6;\n",
              "    }\n",
              "\n",
              "    [theme=dark] .colab-df-convert {\n",
              "      background-color: #3B4455;\n",
              "      fill: #D2E3FC;\n",
              "    }\n",
              "\n",
              "    [theme=dark] .colab-df-convert:hover {\n",
              "      background-color: #434B5C;\n",
              "      box-shadow: 0px 1px 3px 1px rgba(0, 0, 0, 0.15);\n",
              "      filter: drop-shadow(0px 1px 2px rgba(0, 0, 0, 0.3));\n",
              "      fill: #FFFFFF;\n",
              "    }\n",
              "  </style>\n",
              "\n",
              "      <script>\n",
              "        const buttonEl =\n",
              "          document.querySelector('#df-887e7bbe-e983-4175-883f-3b0fe7dae9b4 button.colab-df-convert');\n",
              "        buttonEl.style.display =\n",
              "          google.colab.kernel.accessAllowed ? 'block' : 'none';\n",
              "\n",
              "        async function convertToInteractive(key) {\n",
              "          const element = document.querySelector('#df-887e7bbe-e983-4175-883f-3b0fe7dae9b4');\n",
              "          const dataTable =\n",
              "            await google.colab.kernel.invokeFunction('convertToInteractive',\n",
              "                                                     [key], {});\n",
              "          if (!dataTable) return;\n",
              "\n",
              "          const docLinkHtml = 'Like what you see? Visit the ' +\n",
              "            '<a target=\"_blank\" href=https://colab.research.google.com/notebooks/data_table.ipynb>data table notebook</a>'\n",
              "            + ' to learn more about interactive tables.';\n",
              "          element.innerHTML = '';\n",
              "          dataTable['output_type'] = 'display_data';\n",
              "          await google.colab.output.renderOutput(dataTable, element);\n",
              "          const docLink = document.createElement('div');\n",
              "          docLink.innerHTML = docLinkHtml;\n",
              "          element.appendChild(docLink);\n",
              "        }\n",
              "      </script>\n",
              "    </div>\n",
              "  </div>\n",
              "  "
            ]
          },
          "metadata": {},
          "execution_count": 16
        }
      ],
      "source": [
        "train_data.describe()"
      ]
    },
    {
      "cell_type": "code",
      "execution_count": 17,
      "metadata": {
        "id": "Kf8wIqQIjHLl",
        "outputId": "9d2baafa-89c0-4449-b70f-ca8a25e9bdfb",
        "colab": {
          "base_uri": "https://localhost:8080/",
          "height": 369
        }
      },
      "outputs": [
        {
          "output_type": "display_data",
          "data": {
            "text/plain": [
              "<Figure size 720x360 with 1 Axes>"
            ],
            "image/png": "[encoded data removed]"
          },
          "metadata": {}
        }
      ],
      "source": [
        "with sns.axes_style('white'):\n",
        "    g = sns.factorplot(\"hotel_cluster\", data=train_data, aspect=2.0,kind='count')\n",
        "    g.set_ylabels(\"Total number of hotel_cluster\")"
      ]
    },
    {
      "cell_type": "markdown",
      "metadata": {
        "tags": [],
        "id": "NRLB1dQpjHLl"
      },
      "source": [
        "## Importing Destination data"
      ]
    },
    {
      "cell_type": "code",
      "execution_count": 19,
      "metadata": {
        "id": "D-5Wb4mfjHLl",
        "colab": {
          "base_uri": "https://localhost:8080/",
          "height": 317
        },
        "outputId": "97c2c3cf-8c74-40f2-e4b0-748fc9f0ac53"
      },
      "outputs": [
        {
          "output_type": "error",
          "ename": "FileNotFoundError",
          "evalue": "ignored",
          "traceback": [
            "\u001b[0;31m---------------------------------------------------------------------------\u001b[0m",
            "\u001b[0;31mFileNotFoundError\u001b[0m                         Traceback (most recent call last)",
            "\u001b[0;32m<ipython-input-19-e390eb4615d9>\u001b[0m in \u001b[0;36m<module>\u001b[0;34m()\u001b[0m\n\u001b[0;32m----> 1\u001b[0;31m \u001b[0mdestination_data\u001b[0m \u001b[0;34m=\u001b[0m \u001b[0mpd\u001b[0m\u001b[0;34m.\u001b[0m\u001b[0mread_csv\u001b[0m\u001b[0;34m(\u001b[0m\u001b[0;34m\"destination/destinations.csv\"\u001b[0m\u001b[0;34m,\u001b[0m \u001b[0msep\u001b[0m\u001b[0;34m=\u001b[0m\u001b[0;34m','\u001b[0m\u001b[0;34m)\u001b[0m\u001b[0;34m\u001b[0m\u001b[0;34m\u001b[0m\u001b[0m\n\u001b[0m",
            "\u001b[0;32m/usr/local/lib/python3.7/dist-packages/pandas/util/_decorators.py\u001b[0m in \u001b[0;36mwrapper\u001b[0;34m(*args, **kwargs)\u001b[0m\n\u001b[1;32m    309\u001b[0m                     \u001b[0mstacklevel\u001b[0m\u001b[0;34m=\u001b[0m\u001b[0mstacklevel\u001b[0m\u001b[0;34m,\u001b[0m\u001b[0;34m\u001b[0m\u001b[0;34m\u001b[0m\u001b[0m\n\u001b[1;32m    310\u001b[0m                 )\n\u001b[0;32m--> 311\u001b[0;31m             \u001b[0;32mreturn\u001b[0m \u001b[0mfunc\u001b[0m\u001b[0;34m(\u001b[0m\u001b[0;34m*\u001b[0m\u001b[0margs\u001b[0m\u001b[0;34m,\u001b[0m \u001b[0;34m**\u001b[0m\u001b[0mkwargs\u001b[0m\u001b[0;34m)\u001b[0m\u001b[0;34m\u001b[0m\u001b[0;34m\u001b[0m\u001b[0m\n\u001b[0m\u001b[1;32m    312\u001b[0m \u001b[0;34m\u001b[0m\u001b[0m\n\u001b[1;32m    313\u001b[0m         \u001b[0;32mreturn\u001b[0m \u001b[0mwrapper\u001b[0m\u001b[0;34m\u001b[0m\u001b[0;34m\u001b[0m\u001b[0m\n",
            "\u001b[0;32m/usr/local/lib/python3.7/dist-packages/pandas/io/parsers/readers.py\u001b[0m in \u001b[0;36mread_csv\u001b[0;34m(filepath_or_buffer, sep, delimiter, header, names, index_col, usecols, squeeze, prefix, mangle_dupe_cols, dtype, engine, converters, true_values, false_values, skipinitialspace, skiprows, skipfooter, nrows, na_values, keep_default_na, na_filter, verbose, skip_blank_lines, parse_dates, infer_datetime_format, keep_date_col, date_parser, dayfirst, cache_dates, iterator, chunksize, compression, thousands, decimal, lineterminator, quotechar, quoting, doublequote, escapechar, comment, encoding, encoding_errors, dialect, error_bad_lines, warn_bad_lines, on_bad_lines, delim_whitespace, low_memory, memory_map, float_precision, storage_options)\u001b[0m\n\u001b[1;32m    584\u001b[0m     \u001b[0mkwds\u001b[0m\u001b[0;34m.\u001b[0m\u001b[0mupdate\u001b[0m\u001b[0;34m(\u001b[0m\u001b[0mkwds_defaults\u001b[0m\u001b[0;34m)\u001b[0m\u001b[0;34m\u001b[0m\u001b[0;34m\u001b[0m\u001b[0m\n\u001b[1;32m    585\u001b[0m \u001b[0;34m\u001b[0m\u001b[0m\n\u001b[0;32m--> 586\u001b[0;31m     \u001b[0;32mreturn\u001b[0m \u001b[0m_read\u001b[0m\u001b[0;34m(\u001b[0m\u001b[0mfilepath_or_buffer\u001b[0m\u001b[0;34m,\u001b[0m \u001b[0mkwds\u001b[0m\u001b[0;34m)\u001b[0m\u001b[0;34m\u001b[0m\u001b[0;34m\u001b[0m\u001b[0m\n\u001b[0m\u001b[1;32m    587\u001b[0m \u001b[0;34m\u001b[0m\u001b[0m\n\u001b[1;32m    588\u001b[0m \u001b[0;34m\u001b[0m\u001b[0m\n",
            "\u001b[0;32m/usr/local/lib/python3.7/dist-packages/pandas/io/parsers/readers.py\u001b[0m in \u001b[0;36m_read\u001b[0;34m(filepath_or_buffer, kwds)\u001b[0m\n\u001b[1;32m    480\u001b[0m \u001b[0;34m\u001b[0m\u001b[0m\n\u001b[1;32m    481\u001b[0m     \u001b[0;31m# Create the parser.\u001b[0m\u001b[0;34m\u001b[0m\u001b[0;34m\u001b[0m\u001b[0;34m\u001b[0m\u001b[0m\n\u001b[0;32m--> 482\u001b[0;31m     \u001b[0mparser\u001b[0m \u001b[0;34m=\u001b[0m \u001b[0mTextFileReader\u001b[0m\u001b[0;34m(\u001b[0m\u001b[0mfilepath_or_buffer\u001b[0m\u001b[0;34m,\u001b[0m \u001b[0;34m**\u001b[0m\u001b[0mkwds\u001b[0m\u001b[0;34m)\u001b[0m\u001b[0;34m\u001b[0m\u001b[0;34m\u001b[0m\u001b[0m\n\u001b[0m\u001b[1;32m    483\u001b[0m \u001b[0;34m\u001b[0m\u001b[0m\n\u001b[1;32m    484\u001b[0m     \u001b[0;32mif\u001b[0m \u001b[0mchunksize\u001b[0m \u001b[0;32mor\u001b[0m \u001b[0miterator\u001b[0m\u001b[0;34m:\u001b[0m\u001b[0;34m\u001b[0m\u001b[0;34m\u001b[0m\u001b[0m\n",
            "\u001b[0;32m/usr/local/lib/python3.7/dist-packages/pandas/io/parsers/readers.py\u001b[0m in \u001b[0;36m__init__\u001b[0;34m(self, f, engine, **kwds)\u001b[0m\n\u001b[1;32m    809\u001b[0m             \u001b[0mself\u001b[0m\u001b[0;34m.\u001b[0m\u001b[0moptions\u001b[0m\u001b[0;34m[\u001b[0m\u001b[0;34m\"has_index_names\"\u001b[0m\u001b[0;34m]\u001b[0m \u001b[0;34m=\u001b[0m \u001b[0mkwds\u001b[0m\u001b[0;34m[\u001b[0m\u001b[0;34m\"has_index_names\"\u001b[0m\u001b[0;34m]\u001b[0m\u001b[0;34m\u001b[0m\u001b[0;34m\u001b[0m\u001b[0m\n\u001b[1;32m    810\u001b[0m \u001b[0;34m\u001b[0m\u001b[0m\n\u001b[0;32m--> 811\u001b[0;31m         \u001b[0mself\u001b[0m\u001b[0;34m.\u001b[0m\u001b[0m_engine\u001b[0m \u001b[0;34m=\u001b[0m \u001b[0mself\u001b[0m\u001b[0;34m.\u001b[0m\u001b[0m_make_engine\u001b[0m\u001b[0;34m(\u001b[0m\u001b[0mself\u001b[0m\u001b[0;34m.\u001b[0m\u001b[0mengine\u001b[0m\u001b[0;34m)\u001b[0m\u001b[0;34m\u001b[0m\u001b[0;34m\u001b[0m\u001b[0m\n\u001b[0m\u001b[1;32m    812\u001b[0m \u001b[0;34m\u001b[0m\u001b[0m\n\u001b[1;32m    813\u001b[0m     \u001b[0;32mdef\u001b[0m \u001b[0mclose\u001b[0m\u001b[0;34m(\u001b[0m\u001b[0mself\u001b[0m\u001b[0;34m)\u001b[0m\u001b[0;34m:\u001b[0m\u001b[0;34m\u001b[0m\u001b[0;34m\u001b[0m\u001b[0m\n",
            "\u001b[0;32m/usr/local/lib/python3.7/dist-packages/pandas/io/parsers/readers.py\u001b[0m in \u001b[0;36m_make_engine\u001b[0;34m(self, engine)\u001b[0m\n\u001b[1;32m   1038\u001b[0m             )\n\u001b[1;32m   1039\u001b[0m         \u001b[0;31m# error: Too many arguments for \"ParserBase\"\u001b[0m\u001b[0;34m\u001b[0m\u001b[0;34m\u001b[0m\u001b[0;34m\u001b[0m\u001b[0m\n\u001b[0;32m-> 1040\u001b[0;31m         \u001b[0;32mreturn\u001b[0m \u001b[0mmapping\u001b[0m\u001b[0;34m[\u001b[0m\u001b[0mengine\u001b[0m\u001b[0;34m]\u001b[0m\u001b[0;34m(\u001b[0m\u001b[0mself\u001b[0m\u001b[0;34m.\u001b[0m\u001b[0mf\u001b[0m\u001b[0;34m,\u001b[0m \u001b[0;34m**\u001b[0m\u001b[0mself\u001b[0m\u001b[0;34m.\u001b[0m\u001b[0moptions\u001b[0m\u001b[0;34m)\u001b[0m  \u001b[0;31m# type: ignore[call-arg]\u001b[0m\u001b[0;34m\u001b[0m\u001b[0;34m\u001b[0m\u001b[0m\n\u001b[0m\u001b[1;32m   1041\u001b[0m \u001b[0;34m\u001b[0m\u001b[0m\n\u001b[1;32m   1042\u001b[0m     \u001b[0;32mdef\u001b[0m \u001b[0m_failover_to_python\u001b[0m\u001b[0;34m(\u001b[0m\u001b[0mself\u001b[0m\u001b[0;34m)\u001b[0m\u001b[0;34m:\u001b[0m\u001b[0;34m\u001b[0m\u001b[0;34m\u001b[0m\u001b[0m\n",
            "\u001b[0;32m/usr/local/lib/python3.7/dist-packages/pandas/io/parsers/c_parser_wrapper.py\u001b[0m in \u001b[0;36m__init__\u001b[0;34m(self, src, **kwds)\u001b[0m\n\u001b[1;32m     49\u001b[0m \u001b[0;34m\u001b[0m\u001b[0m\n\u001b[1;32m     50\u001b[0m         \u001b[0;31m# open handles\u001b[0m\u001b[0;34m\u001b[0m\u001b[0;34m\u001b[0m\u001b[0;34m\u001b[0m\u001b[0m\n\u001b[0;32m---> 51\u001b[0;31m         \u001b[0mself\u001b[0m\u001b[0;34m.\u001b[0m\u001b[0m_open_handles\u001b[0m\u001b[0;34m(\u001b[0m\u001b[0msrc\u001b[0m\u001b[0;34m,\u001b[0m \u001b[0mkwds\u001b[0m\u001b[0;34m)\u001b[0m\u001b[0;34m\u001b[0m\u001b[0;34m\u001b[0m\u001b[0m\n\u001b[0m\u001b[1;32m     52\u001b[0m         \u001b[0;32massert\u001b[0m \u001b[0mself\u001b[0m\u001b[0;34m.\u001b[0m\u001b[0mhandles\u001b[0m \u001b[0;32mis\u001b[0m \u001b[0;32mnot\u001b[0m \u001b[0;32mNone\u001b[0m\u001b[0;34m\u001b[0m\u001b[0;34m\u001b[0m\u001b[0m\n\u001b[1;32m     53\u001b[0m \u001b[0;34m\u001b[0m\u001b[0m\n",
            "\u001b[0;32m/usr/local/lib/python3.7/dist-packages/pandas/io/parsers/base_parser.py\u001b[0m in \u001b[0;36m_open_handles\u001b[0;34m(self, src, kwds)\u001b[0m\n\u001b[1;32m    227\u001b[0m             \u001b[0mmemory_map\u001b[0m\u001b[0;34m=\u001b[0m\u001b[0mkwds\u001b[0m\u001b[0;34m.\u001b[0m\u001b[0mget\u001b[0m\u001b[0;34m(\u001b[0m\u001b[0;34m\"memory_map\"\u001b[0m\u001b[0;34m,\u001b[0m \u001b[0;32mFalse\u001b[0m\u001b[0;34m)\u001b[0m\u001b[0;34m,\u001b[0m\u001b[0;34m\u001b[0m\u001b[0;34m\u001b[0m\u001b[0m\n\u001b[1;32m    228\u001b[0m             \u001b[0mstorage_options\u001b[0m\u001b[0;34m=\u001b[0m\u001b[0mkwds\u001b[0m\u001b[0;34m.\u001b[0m\u001b[0mget\u001b[0m\u001b[0;34m(\u001b[0m\u001b[0;34m\"storage_options\"\u001b[0m\u001b[0;34m,\u001b[0m \u001b[0;32mNone\u001b[0m\u001b[0;34m)\u001b[0m\u001b[0;34m,\u001b[0m\u001b[0;34m\u001b[0m\u001b[0;34m\u001b[0m\u001b[0m\n\u001b[0;32m--> 229\u001b[0;31m             \u001b[0merrors\u001b[0m\u001b[0;34m=\u001b[0m\u001b[0mkwds\u001b[0m\u001b[0;34m.\u001b[0m\u001b[0mget\u001b[0m\u001b[0;34m(\u001b[0m\u001b[0;34m\"encoding_errors\"\u001b[0m\u001b[0;34m,\u001b[0m \u001b[0;34m\"strict\"\u001b[0m\u001b[0;34m)\u001b[0m\u001b[0;34m,\u001b[0m\u001b[0;34m\u001b[0m\u001b[0;34m\u001b[0m\u001b[0m\n\u001b[0m\u001b[1;32m    230\u001b[0m         )\n\u001b[1;32m    231\u001b[0m \u001b[0;34m\u001b[0m\u001b[0m\n",
            "\u001b[0;32m/usr/local/lib/python3.7/dist-packages/pandas/io/common.py\u001b[0m in \u001b[0;36mget_handle\u001b[0;34m(path_or_buf, mode, encoding, compression, memory_map, is_text, errors, storage_options)\u001b[0m\n\u001b[1;32m    705\u001b[0m                 \u001b[0mencoding\u001b[0m\u001b[0;34m=\u001b[0m\u001b[0mioargs\u001b[0m\u001b[0;34m.\u001b[0m\u001b[0mencoding\u001b[0m\u001b[0;34m,\u001b[0m\u001b[0;34m\u001b[0m\u001b[0;34m\u001b[0m\u001b[0m\n\u001b[1;32m    706\u001b[0m                 \u001b[0merrors\u001b[0m\u001b[0;34m=\u001b[0m\u001b[0merrors\u001b[0m\u001b[0;34m,\u001b[0m\u001b[0;34m\u001b[0m\u001b[0;34m\u001b[0m\u001b[0m\n\u001b[0;32m--> 707\u001b[0;31m                 \u001b[0mnewline\u001b[0m\u001b[0;34m=\u001b[0m\u001b[0;34m\"\"\u001b[0m\u001b[0;34m,\u001b[0m\u001b[0;34m\u001b[0m\u001b[0;34m\u001b[0m\u001b[0m\n\u001b[0m\u001b[1;32m    708\u001b[0m             )\n\u001b[1;32m    709\u001b[0m         \u001b[0;32melse\u001b[0m\u001b[0;34m:\u001b[0m\u001b[0;34m\u001b[0m\u001b[0;34m\u001b[0m\u001b[0m\n",
            "\u001b[0;31mFileNotFoundError\u001b[0m: [Errno 2] No such file or directory: 'destination/destinations.csv'"
          ]
        }
      ],
      "source": [
        "destination_data = pd.read_csv(\"destination/destinations.csv\", sep=',')"
      ]
    },
    {
      "cell_type": "code",
      "execution_count": null,
      "metadata": {
        "id": "5QjIg6swjHLl",
        "outputId": "7d926097-8696-44a2-e9fb-1bb9e01d752b"
      },
      "outputs": [
        {
          "data": {
            "text/html": [
              "<div>\n",
              "<style scoped>\n",
              "    .dataframe tbody tr th:only-of-type {\n",
              "        vertical-align: middle;\n",
              "    }\n",
              "\n",
              "    .dataframe tbody tr th {\n",
              "        vertical-align: top;\n",
              "    }\n",
              "\n",
              "    .dataframe thead th {\n",
              "        text-align: right;\n",
              "    }\n",
              "</style>\n",
              "<table border=\"1\" class=\"dataframe\">\n",
              "  <thead>\n",
              "    <tr style=\"text-align: right;\">\n",
              "      <th></th>\n",
              "      <th>srch_destination_id</th>\n",
              "      <th>d1</th>\n",
              "      <th>d2</th>\n",
              "      <th>d3</th>\n",
              "      <th>d4</th>\n",
              "      <th>d5</th>\n",
              "      <th>d6</th>\n",
              "      <th>d7</th>\n",
              "      <th>d8</th>\n",
              "      <th>d9</th>\n",
              "      <th>...</th>\n",
              "      <th>d140</th>\n",
              "      <th>d141</th>\n",
              "      <th>d142</th>\n",
              "      <th>d143</th>\n",
              "      <th>d144</th>\n",
              "      <th>d145</th>\n",
              "      <th>d146</th>\n",
              "      <th>d147</th>\n",
              "      <th>d148</th>\n",
              "      <th>d149</th>\n",
              "    </tr>\n",
              "  </thead>\n",
              "  <tbody>\n",
              "    <tr>\n",
              "      <th>0</th>\n",
              "      <td>0</td>\n",
              "      <td>-2.198657</td>\n",
              "      <td>-2.198657</td>\n",
              "      <td>-2.198657</td>\n",
              "      <td>-2.198657</td>\n",
              "      <td>-2.198657</td>\n",
              "      <td>-1.897627</td>\n",
              "      <td>-2.198657</td>\n",
              "      <td>-2.198657</td>\n",
              "      <td>-1.897627</td>\n",
              "      <td>...</td>\n",
              "      <td>-2.198657</td>\n",
              "      <td>-2.198657</td>\n",
              "      <td>-2.198657</td>\n",
              "      <td>-2.198657</td>\n",
              "      <td>-2.198657</td>\n",
              "      <td>-2.198657</td>\n",
              "      <td>-2.198657</td>\n",
              "      <td>-2.198657</td>\n",
              "      <td>-2.198657</td>\n",
              "      <td>-2.198657</td>\n",
              "    </tr>\n",
              "    <tr>\n",
              "      <th>1</th>\n",
              "      <td>1</td>\n",
              "      <td>-2.181690</td>\n",
              "      <td>-2.181690</td>\n",
              "      <td>-2.181690</td>\n",
              "      <td>-2.082564</td>\n",
              "      <td>-2.181690</td>\n",
              "      <td>-2.165028</td>\n",
              "      <td>-2.181690</td>\n",
              "      <td>-2.181690</td>\n",
              "      <td>-2.031597</td>\n",
              "      <td>...</td>\n",
              "      <td>-2.165028</td>\n",
              "      <td>-2.181690</td>\n",
              "      <td>-2.165028</td>\n",
              "      <td>-2.181690</td>\n",
              "      <td>-2.181690</td>\n",
              "      <td>-2.165028</td>\n",
              "      <td>-2.181690</td>\n",
              "      <td>-2.181690</td>\n",
              "      <td>-2.181690</td>\n",
              "      <td>-2.181690</td>\n",
              "    </tr>\n",
              "    <tr>\n",
              "      <th>2</th>\n",
              "      <td>2</td>\n",
              "      <td>-2.183490</td>\n",
              "      <td>-2.224164</td>\n",
              "      <td>-2.224164</td>\n",
              "      <td>-2.189562</td>\n",
              "      <td>-2.105819</td>\n",
              "      <td>-2.075407</td>\n",
              "      <td>-2.224164</td>\n",
              "      <td>-2.118483</td>\n",
              "      <td>-2.140393</td>\n",
              "      <td>...</td>\n",
              "      <td>-2.224164</td>\n",
              "      <td>-2.224164</td>\n",
              "      <td>-2.196379</td>\n",
              "      <td>-2.224164</td>\n",
              "      <td>-2.192009</td>\n",
              "      <td>-2.224164</td>\n",
              "      <td>-2.224164</td>\n",
              "      <td>-2.224164</td>\n",
              "      <td>-2.224164</td>\n",
              "      <td>-2.057548</td>\n",
              "    </tr>\n",
              "    <tr>\n",
              "      <th>3</th>\n",
              "      <td>3</td>\n",
              "      <td>-2.177409</td>\n",
              "      <td>-2.177409</td>\n",
              "      <td>-2.177409</td>\n",
              "      <td>-2.177409</td>\n",
              "      <td>-2.177409</td>\n",
              "      <td>-2.115485</td>\n",
              "      <td>-2.177409</td>\n",
              "      <td>-2.177409</td>\n",
              "      <td>-2.177409</td>\n",
              "      <td>...</td>\n",
              "      <td>-2.161081</td>\n",
              "      <td>-2.177409</td>\n",
              "      <td>-2.177409</td>\n",
              "      <td>-2.177409</td>\n",
              "      <td>-2.177409</td>\n",
              "      <td>-2.177409</td>\n",
              "      <td>-2.177409</td>\n",
              "      <td>-2.177409</td>\n",
              "      <td>-2.177409</td>\n",
              "      <td>-2.177409</td>\n",
              "    </tr>\n",
              "    <tr>\n",
              "      <th>4</th>\n",
              "      <td>4</td>\n",
              "      <td>-2.189562</td>\n",
              "      <td>-2.187783</td>\n",
              "      <td>-2.194008</td>\n",
              "      <td>-2.171153</td>\n",
              "      <td>-2.152303</td>\n",
              "      <td>-2.056618</td>\n",
              "      <td>-2.194008</td>\n",
              "      <td>-2.194008</td>\n",
              "      <td>-2.145911</td>\n",
              "      <td>...</td>\n",
              "      <td>-2.187356</td>\n",
              "      <td>-2.194008</td>\n",
              "      <td>-2.191779</td>\n",
              "      <td>-2.194008</td>\n",
              "      <td>-2.194008</td>\n",
              "      <td>-2.185161</td>\n",
              "      <td>-2.194008</td>\n",
              "      <td>-2.194008</td>\n",
              "      <td>-2.194008</td>\n",
              "      <td>-2.188037</td>\n",
              "    </tr>\n",
              "  </tbody>\n",
              "</table>\n",
              "<p>5 rows × 150 columns</p>\n",
              "</div>"
            ],
            "text/plain": [
              "   srch_destination_id        d1        d2        d3        d4        d5  \\\n",
              "0                    0 -2.198657 -2.198657 -2.198657 -2.198657 -2.198657   \n",
              "1                    1 -2.181690 -2.181690 -2.181690 -2.082564 -2.181690   \n",
              "2                    2 -2.183490 -2.224164 -2.224164 -2.189562 -2.105819   \n",
              "3                    3 -2.177409 -2.177409 -2.177409 -2.177409 -2.177409   \n",
              "4                    4 -2.189562 -2.187783 -2.194008 -2.171153 -2.152303   \n",
              "\n",
              "         d6        d7        d8        d9  ...      d140      d141      d142  \\\n",
              "0 -1.897627 -2.198657 -2.198657 -1.897627  ... -2.198657 -2.198657 -2.198657   \n",
              "1 -2.165028 -2.181690 -2.181690 -2.031597  ... -2.165028 -2.181690 -2.165028   \n",
              "2 -2.075407 -2.224164 -2.118483 -2.140393  ... -2.224164 -2.224164 -2.196379   \n",
              "3 -2.115485 -2.177409 -2.177409 -2.177409  ... -2.161081 -2.177409 -2.177409   \n",
              "4 -2.056618 -2.194008 -2.194008 -2.145911  ... -2.187356 -2.194008 -2.191779   \n",
              "\n",
              "       d143      d144      d145      d146      d147      d148      d149  \n",
              "0 -2.198657 -2.198657 -2.198657 -2.198657 -2.198657 -2.198657 -2.198657  \n",
              "1 -2.181690 -2.181690 -2.165028 -2.181690 -2.181690 -2.181690 -2.181690  \n",
              "2 -2.224164 -2.192009 -2.224164 -2.224164 -2.224164 -2.224164 -2.057548  \n",
              "3 -2.177409 -2.177409 -2.177409 -2.177409 -2.177409 -2.177409 -2.177409  \n",
              "4 -2.194008 -2.194008 -2.185161 -2.194008 -2.194008 -2.194008 -2.188037  \n",
              "\n",
              "[5 rows x 150 columns]"
            ]
          },
          "execution_count": 7,
          "metadata": {},
          "output_type": "execute_result"
        }
      ],
      "source": [
        "destination_data.head()"
      ]
    },
    {
      "cell_type": "markdown",
      "metadata": {
        "id": "UCgLS0kejHLm"
      },
      "source": [
        "### Applying PCA to get 10 most relevant dimensions"
      ]
    },
    {
      "cell_type": "code",
      "execution_count": null,
      "metadata": {
        "id": "LEIMyJ8HjHLm",
        "outputId": "c6bda56d-b003-42c9-d0ad-eb68a6d3b770"
      },
      "outputs": [
        {
          "data": {
            "text/plain": [
              "array([[-3.23594639e+04,  3.91171508e-02,  1.83897680e-01, ...,\n",
              "        -8.95076187e-04,  2.72242521e-05, -1.38904284e-06],\n",
              "       [-3.23584639e+04, -3.56569311e-01,  9.17178951e-02, ...,\n",
              "         1.90740877e-04, -2.29089126e-04,  8.45786956e-05],\n",
              "       [-3.23574639e+04,  8.63287331e-02,  3.66722352e-02, ...,\n",
              "        -2.13700576e-03,  1.87017759e-03, -2.20432977e-04],\n",
              "       ...,\n",
              "       [ 3.26315361e+04,  8.05617083e-02,  1.92824073e-01, ...,\n",
              "        -5.68538143e-04, -1.21487882e-04,  1.58066944e-04],\n",
              "       [ 3.26325361e+04, -6.66110376e-01, -4.38087800e-02, ...,\n",
              "        -4.00914640e-05,  2.20538540e-04, -1.60722688e-05],\n",
              "       [ 3.26335361e+04, -4.61482798e-01, -2.75790500e-02, ...,\n",
              "        -4.96164892e-04, -1.61638319e-04,  3.60342984e-05]])"
            ]
          },
          "execution_count": 8,
          "metadata": {},
          "output_type": "execute_result"
        }
      ],
      "source": [
        "model = PCA(n_components=None).fit(destination_data)\n",
        "destination_data_pc = model.transform(destination_data)\n",
        "destination_data_pc"
      ]
    },
    {
      "cell_type": "code",
      "execution_count": null,
      "metadata": {
        "id": "r4NaxFG4jHLm",
        "outputId": "9962535f-bb2f-434a-d4b4-a72f993c793c"
      },
      "outputs": [
        {
          "data": {
            "text/plain": [
              "150"
            ]
          },
          "execution_count": 9,
          "metadata": {},
          "output_type": "execute_result"
        }
      ],
      "source": [
        "number_features= model.components_.shape[0]\n",
        "number_features"
      ]
    },
    {
      "cell_type": "markdown",
      "metadata": {
        "id": "6Gnc-YGIjHLm"
      },
      "source": [
        "### Most important feature index on each component"
      ]
    },
    {
      "cell_type": "code",
      "execution_count": null,
      "metadata": {
        "id": "BzAFkTBjjHLm",
        "outputId": "ad053980-7daa-4f75-c544-bb280bc8977a"
      },
      "outputs": [
        {
          "name": "stdout",
          "output_type": "stream",
          "text": [
            "[0, 37, 9, 58, 108, 6, 108, 20, 108, 88, 6, 20, 71, 94, 71, 53, 6, 66, 53, 43, 136, 103, 103, 53, 14, 77, 136, 141, 114, 132, 55, 136, 55, 44, 13, 44, 122, 122, 11, 110, 11, 83, 76, 21, 17, 78, 146, 17, 129, 137, 126, 126, 75, 126, 129, 34, 34, 10, 142, 47, 47, 22, 102, 2, 25, 96, 35, 4, 35, 36, 61, 61, 30, 73, 36, 1, 109, 96, 127, 50, 1, 98, 127, 134, 30, 82, 48, 32, 69, 81, 105, 81, 81, 85, 59, 68, 32, 8, 38, 143, 42, 62, 39, 62, 54, 144, 124, 26, 104, 67, 89, 120, 125, 107, 100, 46, 19, 3, 145, 133, 63, 64, 63, 28, 95, 111, 95, 148, 117, 97, 52, 31, 40, 118, 12, 140, 86, 119, 86, 60, 90, 113, 70, 15, 23, 116, 123, 72, 72, 135]\n"
          ]
        }
      ],
      "source": [
        "most_related_column = [np.abs(model.components_[i]).argmax() for i in range(number_features)]\n",
        "print(most_related_column)"
      ]
    },
    {
      "cell_type": "code",
      "execution_count": null,
      "metadata": {
        "id": "Dz1s_049jHLn"
      },
      "outputs": [],
      "source": [
        "initial_column= ['srch_destination_id', 'd1', 'd2', 'd3', 'd4', 'd5', 'd6', 'd7', 'd8', 'd9', 'd10', 'd11', 'd12', 'd13', 'd14', 'd15', 'd16', 'd17', 'd18', 'd19', 'd20', 'd21', 'd22', 'd23', 'd24', 'd25', 'd26', 'd27', 'd28', 'd29', 'd30', 'd31', 'd32', 'd33', 'd34', 'd35', 'd36', 'd37', 'd38', 'd39', 'd40', 'd41', 'd42', 'd43', 'd44', 'd45', 'd46', 'd47', 'd48', 'd49', 'd50', 'd51', 'd52', 'd53', 'd54', 'd55', 'd56', 'd57', 'd58', 'd59', 'd60', 'd61', 'd62', 'd63', 'd64', 'd65', 'd66', 'd67', 'd68', 'd69', 'd70', 'd71', 'd72', 'd73', 'd74', 'd75', 'd76', 'd77', 'd78', 'd79', 'd80', 'd81', 'd82', 'd83', 'd84', 'd85', 'd86', 'd87', 'd88', 'd89', 'd90', 'd91', 'd92', 'd93', 'd94', 'd95', 'd96', 'd97', 'd98', 'd99','d100','d101','d102','d103','d104','d105','d106', 'd107','d108','d109','d110','d111','d112','d113','d114','d115', 'd116','d117','d118','d119','d120','d121','d122','d123','d124','d125','d126','d127','d128','d129','d130','d131','d132','d133','d134','d135','d136','d137','d138','d139','d140','d141','d142','d143', 'd144','d145','d146','d147','d148','d149']"
      ]
    },
    {
      "cell_type": "markdown",
      "metadata": {
        "id": "r23cm5_9jHLn"
      },
      "source": [
        "### Get the names of most important features"
      ]
    },
    {
      "cell_type": "code",
      "execution_count": null,
      "metadata": {
        "id": "56-lVyBPjHLn"
      },
      "outputs": [],
      "source": [
        "most_relevant_column_names = [initial_column[most_related_column[i]] for i in range(number_features)]"
      ]
    },
    {
      "cell_type": "code",
      "execution_count": null,
      "metadata": {
        "id": "Jhg5TxFkjHLn"
      },
      "outputs": [],
      "source": [
        "dic = {'PC{}'.format(i): most_relevant_column_names[i] for i in range(number_features)}"
      ]
    },
    {
      "cell_type": "markdown",
      "metadata": {
        "id": "3DRpBxo-jHLn"
      },
      "source": [
        "### Building Dataframe"
      ]
    },
    {
      "cell_type": "code",
      "execution_count": null,
      "metadata": {
        "id": "HRFZUy27jHLn"
      },
      "outputs": [],
      "source": [
        "relevant_column = pd.DataFrame(dic.items())"
      ]
    },
    {
      "cell_type": "code",
      "execution_count": null,
      "metadata": {
        "id": "zpHO1vNCjHLn",
        "outputId": "16c7f042-9f6a-41d4-e64c-780b1d4cef96"
      },
      "outputs": [
        {
          "data": {
            "text/html": [
              "<div>\n",
              "<style scoped>\n",
              "    .dataframe tbody tr th:only-of-type {\n",
              "        vertical-align: middle;\n",
              "    }\n",
              "\n",
              "    .dataframe tbody tr th {\n",
              "        vertical-align: top;\n",
              "    }\n",
              "\n",
              "    .dataframe thead th {\n",
              "        text-align: right;\n",
              "    }\n",
              "</style>\n",
              "<table border=\"1\" class=\"dataframe\">\n",
              "  <thead>\n",
              "    <tr style=\"text-align: right;\">\n",
              "      <th></th>\n",
              "      <th>0</th>\n",
              "      <th>1</th>\n",
              "    </tr>\n",
              "  </thead>\n",
              "  <tbody>\n",
              "    <tr>\n",
              "      <th>0</th>\n",
              "      <td>PC0</td>\n",
              "      <td>srch_destination_id</td>\n",
              "    </tr>\n",
              "    <tr>\n",
              "      <th>1</th>\n",
              "      <td>PC1</td>\n",
              "      <td>d37</td>\n",
              "    </tr>\n",
              "    <tr>\n",
              "      <th>2</th>\n",
              "      <td>PC2</td>\n",
              "      <td>d9</td>\n",
              "    </tr>\n",
              "    <tr>\n",
              "      <th>3</th>\n",
              "      <td>PC3</td>\n",
              "      <td>d58</td>\n",
              "    </tr>\n",
              "    <tr>\n",
              "      <th>4</th>\n",
              "      <td>PC4</td>\n",
              "      <td>d108</td>\n",
              "    </tr>\n",
              "    <tr>\n",
              "      <th>5</th>\n",
              "      <td>PC5</td>\n",
              "      <td>d6</td>\n",
              "    </tr>\n",
              "    <tr>\n",
              "      <th>6</th>\n",
              "      <td>PC6</td>\n",
              "      <td>d108</td>\n",
              "    </tr>\n",
              "    <tr>\n",
              "      <th>7</th>\n",
              "      <td>PC7</td>\n",
              "      <td>d20</td>\n",
              "    </tr>\n",
              "    <tr>\n",
              "      <th>8</th>\n",
              "      <td>PC8</td>\n",
              "      <td>d108</td>\n",
              "    </tr>\n",
              "    <tr>\n",
              "      <th>9</th>\n",
              "      <td>PC9</td>\n",
              "      <td>d88</td>\n",
              "    </tr>\n",
              "    <tr>\n",
              "      <th>10</th>\n",
              "      <td>PC10</td>\n",
              "      <td>d6</td>\n",
              "    </tr>\n",
              "    <tr>\n",
              "      <th>11</th>\n",
              "      <td>PC11</td>\n",
              "      <td>d20</td>\n",
              "    </tr>\n",
              "    <tr>\n",
              "      <th>12</th>\n",
              "      <td>PC12</td>\n",
              "      <td>d71</td>\n",
              "    </tr>\n",
              "    <tr>\n",
              "      <th>13</th>\n",
              "      <td>PC13</td>\n",
              "      <td>d94</td>\n",
              "    </tr>\n",
              "    <tr>\n",
              "      <th>14</th>\n",
              "      <td>PC14</td>\n",
              "      <td>d71</td>\n",
              "    </tr>\n",
              "    <tr>\n",
              "      <th>15</th>\n",
              "      <td>PC15</td>\n",
              "      <td>d53</td>\n",
              "    </tr>\n",
              "    <tr>\n",
              "      <th>16</th>\n",
              "      <td>PC16</td>\n",
              "      <td>d6</td>\n",
              "    </tr>\n",
              "    <tr>\n",
              "      <th>17</th>\n",
              "      <td>PC17</td>\n",
              "      <td>d66</td>\n",
              "    </tr>\n",
              "    <tr>\n",
              "      <th>18</th>\n",
              "      <td>PC18</td>\n",
              "      <td>d53</td>\n",
              "    </tr>\n",
              "    <tr>\n",
              "      <th>19</th>\n",
              "      <td>PC19</td>\n",
              "      <td>d43</td>\n",
              "    </tr>\n",
              "  </tbody>\n",
              "</table>\n",
              "</div>"
            ],
            "text/plain": [
              "       0                    1\n",
              "0    PC0  srch_destination_id\n",
              "1    PC1                  d37\n",
              "2    PC2                   d9\n",
              "3    PC3                  d58\n",
              "4    PC4                 d108\n",
              "5    PC5                   d6\n",
              "6    PC6                 d108\n",
              "7    PC7                  d20\n",
              "8    PC8                 d108\n",
              "9    PC9                  d88\n",
              "10  PC10                   d6\n",
              "11  PC11                  d20\n",
              "12  PC12                  d71\n",
              "13  PC13                  d94\n",
              "14  PC14                  d71\n",
              "15  PC15                  d53\n",
              "16  PC16                   d6\n",
              "17  PC17                  d66\n",
              "18  PC18                  d53\n",
              "19  PC19                  d43"
            ]
          },
          "execution_count": 15,
          "metadata": {},
          "output_type": "execute_result"
        }
      ],
      "source": [
        "relevant_column.head(20)"
      ]
    },
    {
      "cell_type": "markdown",
      "metadata": {
        "tags": [],
        "id": "rPPtFrUajHLo"
      },
      "source": [
        "### Merging top 10 most important and correlated columns"
      ]
    },
    {
      "cell_type": "code",
      "execution_count": null,
      "metadata": {
        "id": "NJlMC842jHLo"
      },
      "outputs": [],
      "source": [
        "train_data = pd.merge(train_data,destination_data[['srch_destination_id','d37', 'd9', 'd58', 'd108', 'd6', 'd108', 'd20', 'd108', 'd88', 'd71']],on='srch_destination_id')"
      ]
    },
    {
      "cell_type": "markdown",
      "metadata": {
        "id": "xpsgvwxojHLo"
      },
      "source": [
        "### Correlation Matrix"
      ]
    },
    {
      "cell_type": "code",
      "execution_count": 10,
      "metadata": {
        "id": "2DPRuuEzjHLo",
        "outputId": "df3ed771-f972-40f3-e1b6-6c807e6b695a",
        "colab": {
          "base_uri": "https://localhost:8080/"
        }
      },
      "outputs": [
        {
          "output_type": "execute_result",
          "data": {
            "text/plain": [
              "Index(['date_time', 'site_name', 'posa_continent', 'user_location_country',\n",
              "       'user_location_region', 'user_location_city',\n",
              "       'orig_destination_distance', 'user_id', 'is_mobile', 'is_package',\n",
              "       'channel', 'srch_ci', 'srch_co', 'srch_adults_cnt', 'srch_children_cnt',\n",
              "       'srch_rm_cnt', 'srch_destination_id', 'srch_destination_type_id',\n",
              "       'is_booking', 'cnt', 'hotel_continent', 'hotel_country', 'hotel_market',\n",
              "       'hotel_cluster'],\n",
              "      dtype='object')"
            ]
          },
          "metadata": {},
          "execution_count": 10
        }
      ],
      "source": [
        "train_data_copy = train_data.copy()\n",
        "train_data_copy.columns"
      ]
    },
    {
      "cell_type": "code",
      "execution_count": 21,
      "metadata": {
        "id": "uCO3bYWtjHLo",
        "colab": {
          "base_uri": "https://localhost:8080/",
          "height": 389
        },
        "outputId": "8fecf8d4-d5ba-4409-85a7-df04fbf047be"
      },
      "outputs": [
        {
          "output_type": "error",
          "ename": "KeyError",
          "evalue": "ignored",
          "traceback": [
            "\u001b[0;31m---------------------------------------------------------------------------\u001b[0m",
            "\u001b[0;31mKeyError\u001b[0m                                  Traceback (most recent call last)",
            "\u001b[0;32m<ipython-input-21-ee8b42ea4a97>\u001b[0m in \u001b[0;36m<module>\u001b[0;34m()\u001b[0m\n\u001b[0;32m----> 1\u001b[0;31m \u001b[0mtrain_data_copy\u001b[0m\u001b[0;34m=\u001b[0m \u001b[0mtrain_data_copy\u001b[0m\u001b[0;34m.\u001b[0m\u001b[0mdrop\u001b[0m\u001b[0;34m(\u001b[0m\u001b[0;34m[\u001b[0m\u001b[0;34m'd37'\u001b[0m\u001b[0;34m,\u001b[0m \u001b[0;34m'd9'\u001b[0m\u001b[0;34m,\u001b[0m \u001b[0;34m'd58'\u001b[0m\u001b[0;34m,\u001b[0m \u001b[0;34m'd108'\u001b[0m\u001b[0;34m,\u001b[0m \u001b[0;34m'd6'\u001b[0m\u001b[0;34m,\u001b[0m \u001b[0;34m'd20'\u001b[0m\u001b[0;34m,\u001b[0m \u001b[0;34m'd88'\u001b[0m\u001b[0;34m,\u001b[0m \u001b[0;34m'd71'\u001b[0m\u001b[0;34m]\u001b[0m\u001b[0;34m,\u001b[0m\u001b[0maxis\u001b[0m\u001b[0;34m=\u001b[0m\u001b[0;36m1\u001b[0m\u001b[0;34m)\u001b[0m\u001b[0;34m\u001b[0m\u001b[0;34m\u001b[0m\u001b[0m\n\u001b[0m\u001b[1;32m      2\u001b[0m \u001b[0;31m# train_data_copy= train_data_copy.drop(['d9'],axis=1)\u001b[0m\u001b[0;34m\u001b[0m\u001b[0;34m\u001b[0m\u001b[0;34m\u001b[0m\u001b[0m\n\u001b[1;32m      3\u001b[0m \u001b[0;31m# train_data_copy= train_data_copy.drop(['d58'],axis=1)\u001b[0m\u001b[0;34m\u001b[0m\u001b[0;34m\u001b[0m\u001b[0;34m\u001b[0m\u001b[0m\n\u001b[1;32m      4\u001b[0m \u001b[0;31m# train_data_copy= train_data_copy.drop(['d108'],axis=1)\u001b[0m\u001b[0;34m\u001b[0m\u001b[0;34m\u001b[0m\u001b[0;34m\u001b[0m\u001b[0m\n\u001b[1;32m      5\u001b[0m \u001b[0;31m# train_data_copy= train_data_copy.drop(['d6'],axis=1)\u001b[0m\u001b[0;34m\u001b[0m\u001b[0;34m\u001b[0m\u001b[0;34m\u001b[0m\u001b[0m\n",
            "\u001b[0;32m/usr/local/lib/python3.7/dist-packages/pandas/util/_decorators.py\u001b[0m in \u001b[0;36mwrapper\u001b[0;34m(*args, **kwargs)\u001b[0m\n\u001b[1;32m    309\u001b[0m                     \u001b[0mstacklevel\u001b[0m\u001b[0;34m=\u001b[0m\u001b[0mstacklevel\u001b[0m\u001b[0;34m,\u001b[0m\u001b[0;34m\u001b[0m\u001b[0;34m\u001b[0m\u001b[0m\n\u001b[1;32m    310\u001b[0m                 )\n\u001b[0;32m--> 311\u001b[0;31m             \u001b[0;32mreturn\u001b[0m \u001b[0mfunc\u001b[0m\u001b[0;34m(\u001b[0m\u001b[0;34m*\u001b[0m\u001b[0margs\u001b[0m\u001b[0;34m,\u001b[0m \u001b[0;34m**\u001b[0m\u001b[0mkwargs\u001b[0m\u001b[0;34m)\u001b[0m\u001b[0;34m\u001b[0m\u001b[0;34m\u001b[0m\u001b[0m\n\u001b[0m\u001b[1;32m    312\u001b[0m \u001b[0;34m\u001b[0m\u001b[0m\n\u001b[1;32m    313\u001b[0m         \u001b[0;32mreturn\u001b[0m \u001b[0mwrapper\u001b[0m\u001b[0;34m\u001b[0m\u001b[0;34m\u001b[0m\u001b[0m\n",
            "\u001b[0;32m/usr/local/lib/python3.7/dist-packages/pandas/core/frame.py\u001b[0m in \u001b[0;36mdrop\u001b[0;34m(self, labels, axis, index, columns, level, inplace, errors)\u001b[0m\n\u001b[1;32m   4911\u001b[0m             \u001b[0mlevel\u001b[0m\u001b[0;34m=\u001b[0m\u001b[0mlevel\u001b[0m\u001b[0;34m,\u001b[0m\u001b[0;34m\u001b[0m\u001b[0;34m\u001b[0m\u001b[0m\n\u001b[1;32m   4912\u001b[0m             \u001b[0minplace\u001b[0m\u001b[0;34m=\u001b[0m\u001b[0minplace\u001b[0m\u001b[0;34m,\u001b[0m\u001b[0;34m\u001b[0m\u001b[0;34m\u001b[0m\u001b[0m\n\u001b[0;32m-> 4913\u001b[0;31m             \u001b[0merrors\u001b[0m\u001b[0;34m=\u001b[0m\u001b[0merrors\u001b[0m\u001b[0;34m,\u001b[0m\u001b[0;34m\u001b[0m\u001b[0;34m\u001b[0m\u001b[0m\n\u001b[0m\u001b[1;32m   4914\u001b[0m         )\n\u001b[1;32m   4915\u001b[0m \u001b[0;34m\u001b[0m\u001b[0m\n",
            "\u001b[0;32m/usr/local/lib/python3.7/dist-packages/pandas/core/generic.py\u001b[0m in \u001b[0;36mdrop\u001b[0;34m(self, labels, axis, index, columns, level, inplace, errors)\u001b[0m\n\u001b[1;32m   4148\u001b[0m         \u001b[0;32mfor\u001b[0m \u001b[0maxis\u001b[0m\u001b[0;34m,\u001b[0m \u001b[0mlabels\u001b[0m \u001b[0;32min\u001b[0m \u001b[0maxes\u001b[0m\u001b[0;34m.\u001b[0m\u001b[0mitems\u001b[0m\u001b[0;34m(\u001b[0m\u001b[0;34m)\u001b[0m\u001b[0;34m:\u001b[0m\u001b[0;34m\u001b[0m\u001b[0;34m\u001b[0m\u001b[0m\n\u001b[1;32m   4149\u001b[0m             \u001b[0;32mif\u001b[0m \u001b[0mlabels\u001b[0m \u001b[0;32mis\u001b[0m \u001b[0;32mnot\u001b[0m \u001b[0;32mNone\u001b[0m\u001b[0;34m:\u001b[0m\u001b[0;34m\u001b[0m\u001b[0;34m\u001b[0m\u001b[0m\n\u001b[0;32m-> 4150\u001b[0;31m                 \u001b[0mobj\u001b[0m \u001b[0;34m=\u001b[0m \u001b[0mobj\u001b[0m\u001b[0;34m.\u001b[0m\u001b[0m_drop_axis\u001b[0m\u001b[0;34m(\u001b[0m\u001b[0mlabels\u001b[0m\u001b[0;34m,\u001b[0m \u001b[0maxis\u001b[0m\u001b[0;34m,\u001b[0m \u001b[0mlevel\u001b[0m\u001b[0;34m=\u001b[0m\u001b[0mlevel\u001b[0m\u001b[0;34m,\u001b[0m \u001b[0merrors\u001b[0m\u001b[0;34m=\u001b[0m\u001b[0merrors\u001b[0m\u001b[0;34m)\u001b[0m\u001b[0;34m\u001b[0m\u001b[0;34m\u001b[0m\u001b[0m\n\u001b[0m\u001b[1;32m   4151\u001b[0m \u001b[0;34m\u001b[0m\u001b[0m\n\u001b[1;32m   4152\u001b[0m         \u001b[0;32mif\u001b[0m \u001b[0minplace\u001b[0m\u001b[0;34m:\u001b[0m\u001b[0;34m\u001b[0m\u001b[0;34m\u001b[0m\u001b[0m\n",
            "\u001b[0;32m/usr/local/lib/python3.7/dist-packages/pandas/core/generic.py\u001b[0m in \u001b[0;36m_drop_axis\u001b[0;34m(self, labels, axis, level, errors)\u001b[0m\n\u001b[1;32m   4183\u001b[0m                 \u001b[0mnew_axis\u001b[0m \u001b[0;34m=\u001b[0m \u001b[0maxis\u001b[0m\u001b[0;34m.\u001b[0m\u001b[0mdrop\u001b[0m\u001b[0;34m(\u001b[0m\u001b[0mlabels\u001b[0m\u001b[0;34m,\u001b[0m \u001b[0mlevel\u001b[0m\u001b[0;34m=\u001b[0m\u001b[0mlevel\u001b[0m\u001b[0;34m,\u001b[0m \u001b[0merrors\u001b[0m\u001b[0;34m=\u001b[0m\u001b[0merrors\u001b[0m\u001b[0;34m)\u001b[0m\u001b[0;34m\u001b[0m\u001b[0;34m\u001b[0m\u001b[0m\n\u001b[1;32m   4184\u001b[0m             \u001b[0;32melse\u001b[0m\u001b[0;34m:\u001b[0m\u001b[0;34m\u001b[0m\u001b[0;34m\u001b[0m\u001b[0m\n\u001b[0;32m-> 4185\u001b[0;31m                 \u001b[0mnew_axis\u001b[0m \u001b[0;34m=\u001b[0m \u001b[0maxis\u001b[0m\u001b[0;34m.\u001b[0m\u001b[0mdrop\u001b[0m\u001b[0;34m(\u001b[0m\u001b[0mlabels\u001b[0m\u001b[0;34m,\u001b[0m \u001b[0merrors\u001b[0m\u001b[0;34m=\u001b[0m\u001b[0merrors\u001b[0m\u001b[0;34m)\u001b[0m\u001b[0;34m\u001b[0m\u001b[0;34m\u001b[0m\u001b[0m\n\u001b[0m\u001b[1;32m   4186\u001b[0m             \u001b[0mresult\u001b[0m \u001b[0;34m=\u001b[0m \u001b[0mself\u001b[0m\u001b[0;34m.\u001b[0m\u001b[0mreindex\u001b[0m\u001b[0;34m(\u001b[0m\u001b[0;34m**\u001b[0m\u001b[0;34m{\u001b[0m\u001b[0maxis_name\u001b[0m\u001b[0;34m:\u001b[0m \u001b[0mnew_axis\u001b[0m\u001b[0;34m}\u001b[0m\u001b[0;34m)\u001b[0m\u001b[0;34m\u001b[0m\u001b[0;34m\u001b[0m\u001b[0m\n\u001b[1;32m   4187\u001b[0m \u001b[0;34m\u001b[0m\u001b[0m\n",
            "\u001b[0;32m/usr/local/lib/python3.7/dist-packages/pandas/core/indexes/base.py\u001b[0m in \u001b[0;36mdrop\u001b[0;34m(self, labels, errors)\u001b[0m\n\u001b[1;32m   6015\u001b[0m         \u001b[0;32mif\u001b[0m \u001b[0mmask\u001b[0m\u001b[0;34m.\u001b[0m\u001b[0many\u001b[0m\u001b[0;34m(\u001b[0m\u001b[0;34m)\u001b[0m\u001b[0;34m:\u001b[0m\u001b[0;34m\u001b[0m\u001b[0;34m\u001b[0m\u001b[0m\n\u001b[1;32m   6016\u001b[0m             \u001b[0;32mif\u001b[0m \u001b[0merrors\u001b[0m \u001b[0;34m!=\u001b[0m \u001b[0;34m\"ignore\"\u001b[0m\u001b[0;34m:\u001b[0m\u001b[0;34m\u001b[0m\u001b[0;34m\u001b[0m\u001b[0m\n\u001b[0;32m-> 6017\u001b[0;31m                 \u001b[0;32mraise\u001b[0m \u001b[0mKeyError\u001b[0m\u001b[0;34m(\u001b[0m\u001b[0;34mf\"{labels[mask]} not found in axis\"\u001b[0m\u001b[0;34m)\u001b[0m\u001b[0;34m\u001b[0m\u001b[0;34m\u001b[0m\u001b[0m\n\u001b[0m\u001b[1;32m   6018\u001b[0m             \u001b[0mindexer\u001b[0m \u001b[0;34m=\u001b[0m \u001b[0mindexer\u001b[0m\u001b[0;34m[\u001b[0m\u001b[0;34m~\u001b[0m\u001b[0mmask\u001b[0m\u001b[0;34m]\u001b[0m\u001b[0;34m\u001b[0m\u001b[0;34m\u001b[0m\u001b[0m\n\u001b[1;32m   6019\u001b[0m         \u001b[0;32mreturn\u001b[0m \u001b[0mself\u001b[0m\u001b[0;34m.\u001b[0m\u001b[0mdelete\u001b[0m\u001b[0;34m(\u001b[0m\u001b[0mindexer\u001b[0m\u001b[0;34m)\u001b[0m\u001b[0;34m\u001b[0m\u001b[0;34m\u001b[0m\u001b[0m\n",
            "\u001b[0;31mKeyError\u001b[0m: \"['d37' 'd9' 'd58' 'd108' 'd6' 'd20' 'd88' 'd71'] not found in axis\""
          ]
        }
      ],
      "source": [
        "train_data_copy= train_data_copy.drop(['d37', 'd9', 'd58', 'd108', 'd6', 'd20', 'd88', 'd71'],axis=1)\n",
        "# train_data_copy= train_data_copy.drop(['d9'],axis=1)\n",
        "# train_data_copy= train_data_copy.drop(['d58'],axis=1)\n",
        "# train_data_copy= train_data_copy.drop(['d108'],axis=1)\n",
        "# train_data_copy= train_data_copy.drop(['d6'],axis=1)\n",
        "# train_data_copy= train_data_copy.drop(['d20'],axis=1)\n",
        "# train_data_copy= train_data_copy.drop(['d88'],axis=1)\n",
        "# train_data_copy= train_data_copy.drop(['d71'],axis=1)"
      ]
    },
    {
      "cell_type": "code",
      "execution_count": 11,
      "metadata": {
        "id": "4TIxwdrnjHLo",
        "outputId": "d3e8d854-769b-46e8-f1bb-73115d8299f5",
        "colab": {
          "base_uri": "https://localhost:8080/",
          "height": 731
        }
      },
      "outputs": [
        {
          "output_type": "execute_result",
          "data": {
            "text/plain": [
              "<matplotlib.axes._subplots.AxesSubplot at 0x7f1a4455b9d0>"
            ]
          },
          "metadata": {},
          "execution_count": 11
        },
        {
          "output_type": "display_data",
          "data": {
            "text/plain": [
              "<Figure size 1440x720 with 2 Axes>"
            ],
            "image/png": "[encoded data removed]"
          },
          "metadata": {
            "needs_background": "light"
          }
        }
      ],
      "source": [
        "corr = train_data_copy.corr()\n",
        "fig, ax = plt.subplots(figsize=(20, 10))\n",
        "sns.heatmap(round(corr, 2).iloc[:, :], annot=True, linewidths=.5, ax=ax, cmap=\"rainbow\",fmt='.2f')"
      ]
    },
    {
      "cell_type": "code",
      "execution_count": 152,
      "metadata": {
        "id": "x4tZMA35jHLo"
      },
      "outputs": [],
      "source": [
        "user_dist_matrix = 1 - corr.T.corr()"
      ]
    },
    {
      "cell_type": "markdown",
      "metadata": {
        "id": "-aVIC-aEjHLo"
      },
      "source": [
        "### Most number of hotels in the Country"
      ]
    },
    {
      "cell_type": "code",
      "execution_count": 24,
      "metadata": {
        "id": "uXsIDNTpjHLo",
        "outputId": "db47c034-4e1f-44ed-ad84-a279a1cb06d9",
        "colab": {
          "base_uri": "https://localhost:8080/",
          "height": 298
        }
      },
      "outputs": [
        {
          "output_type": "execute_result",
          "data": {
            "text/plain": [
              "<matplotlib.axes._subplots.AxesSubplot at 0x7efdf843f090>"
            ]
          },
          "metadata": {},
          "execution_count": 24
        },
        {
          "output_type": "display_data",
          "data": {
            "text/plain": [
              "<Figure size 720x288 with 1 Axes>"
            ],
            "image/png": "[encoded data removed]"
          },
          "metadata": {
            "needs_background": "light"
          }
        }
      ],
      "source": [
        "plt.figure(figsize=(10, 4))\n",
        "sns.countplot(x='hotel_continent', palette='hls',data=train_data, edgecolor=sns.color_palette(\"dark\", 3))"
      ]
    },
    {
      "cell_type": "markdown",
      "metadata": {
        "id": "umSPqMGIjHLp"
      },
      "source": [
        "### User Location Country"
      ]
    },
    {
      "cell_type": "code",
      "execution_count": 25,
      "metadata": {
        "id": "C7tPV7w1jHLp",
        "outputId": "3af2cea9-413f-426b-b5cf-51695e130175",
        "colab": {
          "base_uri": "https://localhost:8080/",
          "height": 577
        }
      },
      "outputs": [
        {
          "output_type": "execute_result",
          "data": {
            "text/plain": [
              "<matplotlib.axes._subplots.AxesSubplot at 0x7efdf8431510>"
            ]
          },
          "metadata": {},
          "execution_count": 25
        },
        {
          "output_type": "display_data",
          "data": {
            "text/plain": [
              "<Figure size 2160x720 with 1 Axes>"
            ],
            "image/png": "[encoded data removed]"
          },
          "metadata": {
            "needs_background": "light"
          }
        }
      ],
      "source": [
        "plt.figure(figsize=(30, 10))\n",
        "sns.countplot(x=train_data['user_location_country'],palette=\"Set1\", edgecolor=sns.color_palette(\"dark\", 3))"
      ]
    },
    {
      "cell_type": "markdown",
      "metadata": {
        "id": "bDkfHlbtjHLp"
      },
      "source": [
        "### Top 10 User Countries"
      ]
    },
    {
      "cell_type": "code",
      "execution_count": 78,
      "metadata": {
        "id": "ZjAsKn-gjHLp"
      },
      "outputs": [],
      "source": [
        "top_ten_user_countries = train_data.groupby('user_location_country')['user_location_region'].count().sort_values(ascending=False)[:10]"
      ]
    },
    {
      "cell_type": "code",
      "execution_count": 79,
      "metadata": {
        "id": "BeApnHZLjHLp",
        "outputId": "b8b6aaac-638c-4b31-fc6f-f9c0a6fcce00",
        "colab": {
          "base_uri": "https://localhost:8080/"
        }
      },
      "outputs": [
        {
          "output_type": "execute_result",
          "data": {
            "text/plain": [
              "user_location_country\n",
              "66     59249\n",
              "205     8389\n",
              "69      7976\n",
              "3       3554\n",
              "46      2201\n",
              "215     1462\n",
              "23      1334\n",
              "1       1189\n",
              "133     1160\n",
              "119      969\n",
              "Name: user_location_region, dtype: int64"
            ]
          },
          "metadata": {},
          "execution_count": 79
        }
      ],
      "source": [
        "top_ten_user_countries"
      ]
    },
    {
      "cell_type": "markdown",
      "metadata": {
        "id": "V0JLyu9XjHLp"
      },
      "source": [
        "### Total Number of Bookings over Date"
      ]
    },
    {
      "cell_type": "code",
      "execution_count": 80,
      "metadata": {
        "id": "42SOMERxjHLp",
        "outputId": "6559146d-8fc8-4e9e-982e-b66045e92544",
        "colab": {
          "base_uri": "https://localhost:8080/",
          "height": 381
        }
      },
      "outputs": [
        {
          "output_type": "display_data",
          "data": {
            "text/plain": [
              "<Figure size 1440x360 with 1 Axes>"
            ],
            "image/png": "[encoded data removed]"
          },
          "metadata": {
            "needs_background": "light"
          }
        }
      ],
      "source": [
        "train_data['Date']  = train_data['srch_ci'].apply(lambda x: (str(x)[:7]) if x == x else np.nan)\n",
        "date_bookings  = train_data.groupby('Date')[\"is_booking\"].sum()\n",
        "ax1 = date_bookings.plot(legend=True,marker='o',title=\"Total Bookings\", figsize=(20,5)) \n",
        "ax1.set_xticks(range(len(date_bookings)))\n",
        "xlabels = ax1.set_xticklabels(date_bookings.index.tolist(), rotation=90)"
      ]
    },
    {
      "cell_type": "markdown",
      "metadata": {
        "id": "4GbCs-xBjHLp"
      },
      "source": [
        "### Creating a new dataframe with user_id, hotel_cluster and is_booking fields"
      ]
    },
    {
      "cell_type": "code",
      "execution_count": 12,
      "metadata": {
        "id": "nUpK8ALXjHLp"
      },
      "outputs": [],
      "source": [
        "new_df = train_data[['user_id', 'hotel_cluster', 'is_booking']]"
      ]
    },
    {
      "cell_type": "code",
      "execution_count": 13,
      "metadata": {
        "id": "8ZW4-yTcjHLp",
        "outputId": "758b8ba6-54f3-4b32-b1f4-bb9be8e4f84a",
        "colab": {
          "base_uri": "https://localhost:8080/",
          "height": 206
        }
      },
      "outputs": [
        {
          "output_type": "execute_result",
          "data": {
            "text/plain": [
              "   user_id  hotel_cluster  is_booking\n",
              "0       12              1           0\n",
              "1       12              1           1\n",
              "2       12              1           0\n",
              "3       93             80           0\n",
              "4       93             21           0"
            ],
            "text/html": [
              "\n",
              "  <div id=\"df-012d8ccf-46b1-4599-9d40-9ec2bfb0cd95\">\n",
              "    <div class=\"colab-df-container\">\n",
              "      <div>\n",
              "<style scoped>\n",
              "    .dataframe tbody tr th:only-of-type {\n",
              "        vertical-align: middle;\n",
              "    }\n",
              "\n",
              "    .dataframe tbody tr th {\n",
              "        vertical-align: top;\n",
              "    }\n",
              "\n",
              "    .dataframe thead th {\n",
              "        text-align: right;\n",
              "    }\n",
              "</style>\n",
              "<table border=\"1\" class=\"dataframe\">\n",
              "  <thead>\n",
              "    <tr style=\"text-align: right;\">\n",
              "      <th></th>\n",
              "      <th>user_id</th>\n",
              "      <th>hotel_cluster</th>\n",
              "      <th>is_booking</th>\n",
              "    </tr>\n",
              "  </thead>\n",
              "  <tbody>\n",
              "    <tr>\n",
              "      <th>0</th>\n",
              "      <td>12</td>\n",
              "      <td>1</td>\n",
              "      <td>0</td>\n",
              "    </tr>\n",
              "    <tr>\n",
              "      <th>1</th>\n",
              "      <td>12</td>\n",
              "      <td>1</td>\n",
              "      <td>1</td>\n",
              "    </tr>\n",
              "    <tr>\n",
              "      <th>2</th>\n",
              "      <td>12</td>\n",
              "      <td>1</td>\n",
              "      <td>0</td>\n",
              "    </tr>\n",
              "    <tr>\n",
              "      <th>3</th>\n",
              "      <td>93</td>\n",
              "      <td>80</td>\n",
              "      <td>0</td>\n",
              "    </tr>\n",
              "    <tr>\n",
              "      <th>4</th>\n",
              "      <td>93</td>\n",
              "      <td>21</td>\n",
              "      <td>0</td>\n",
              "    </tr>\n",
              "  </tbody>\n",
              "</table>\n",
              "</div>\n",
              "      <button class=\"colab-df-convert\" onclick=\"convertToInteractive('df-012d8ccf-46b1-4599-9d40-9ec2bfb0cd95')\"\n",
              "              title=\"Convert this dataframe to an interactive table.\"\n",
              "              style=\"display:none;\">\n",
              "        \n",
              "  <svg xmlns=\"http://www.w3.org/2000/svg\" height=\"24px\"viewBox=\"0 0 24 24\"\n",
              "       width=\"24px\">\n",
              "    <path d=\"M0 0h24v24H0V0z\" fill=\"none\"/>\n",
              "    <path d=\"M18.56 5.44l.94 2.06.94-2.06 2.06-.94-2.06-.94-.94-2.06-.94 2.06-2.06.94zm-11 1L8.5 8.5l.94-2.06 2.06-.94-2.06-.94L8.5 2.5l-.94 2.06-2.06.94zm10 10l.94 2.06.94-2.06 2.06-.94-2.06-.94-.94-2.06-.94 2.06-2.06.94z\"/><path d=\"M17.41 7.96l-1.37-1.37c-.4-.4-.92-.59-1.43-.59-.52 0-1.04.2-1.43.59L10.3 9.45l-7.72 7.72c-.78.78-.78 2.05 0 2.83L4 21.41c.39.39.9.59 1.41.59.51 0 1.02-.2 1.41-.59l7.78-7.78 2.81-2.81c.8-.78.8-2.07 0-2.86zM5.41 20L4 18.59l7.72-7.72 1.47 1.35L5.41 20z\"/>\n",
              "  </svg>\n",
              "      </button>\n",
              "      \n",
              "  <style>\n",
              "    .colab-df-container {\n",
              "      display:flex;\n",
              "      flex-wrap:wrap;\n",
              "      gap: 12px;\n",
              "    }\n",
              "\n",
              "    .colab-df-convert {\n",
              "      background-color: #E8F0FE;\n",
              "      border: none;\n",
              "      border-radius: 50%;\n",
              "      cursor: pointer;\n",
              "      display: none;\n",
              "      fill: #1967D2;\n",
              "      height: 32px;\n",
              "      padding: 0 0 0 0;\n",
              "      width: 32px;\n",
              "    }\n",
              "\n",
              "    .colab-df-convert:hover {\n",
              "      background-color: #E2EBFA;\n",
              "      box-shadow: 0px 1px 2px rgba(60, 64, 67, 0.3), 0px 1px 3px 1px rgba(60, 64, 67, 0.15);\n",
              "      fill: #174EA6;\n",
              "    }\n",
              "\n",
              "    [theme=dark] .colab-df-convert {\n",
              "      background-color: #3B4455;\n",
              "      fill: #D2E3FC;\n",
              "    }\n",
              "\n",
              "    [theme=dark] .colab-df-convert:hover {\n",
              "      background-color: #434B5C;\n",
              "      box-shadow: 0px 1px 3px 1px rgba(0, 0, 0, 0.15);\n",
              "      filter: drop-shadow(0px 1px 2px rgba(0, 0, 0, 0.3));\n",
              "      fill: #FFFFFF;\n",
              "    }\n",
              "  </style>\n",
              "\n",
              "      <script>\n",
              "        const buttonEl =\n",
              "          document.querySelector('#df-012d8ccf-46b1-4599-9d40-9ec2bfb0cd95 button.colab-df-convert');\n",
              "        buttonEl.style.display =\n",
              "          google.colab.kernel.accessAllowed ? 'block' : 'none';\n",
              "\n",
              "        async function convertToInteractive(key) {\n",
              "          const element = document.querySelector('#df-012d8ccf-46b1-4599-9d40-9ec2bfb0cd95');\n",
              "          const dataTable =\n",
              "            await google.colab.kernel.invokeFunction('convertToInteractive',\n",
              "                                                     [key], {});\n",
              "          if (!dataTable) return;\n",
              "\n",
              "          const docLinkHtml = 'Like what you see? Visit the ' +\n",
              "            '<a target=\"_blank\" href=https://colab.research.google.com/notebooks/data_table.ipynb>data table notebook</a>'\n",
              "            + ' to learn more about interactive tables.';\n",
              "          element.innerHTML = '';\n",
              "          dataTable['output_type'] = 'display_data';\n",
              "          await google.colab.output.renderOutput(dataTable, element);\n",
              "          const docLink = document.createElement('div');\n",
              "          docLink.innerHTML = docLinkHtml;\n",
              "          element.appendChild(docLink);\n",
              "        }\n",
              "      </script>\n",
              "    </div>\n",
              "  </div>\n",
              "  "
            ]
          },
          "metadata": {},
          "execution_count": 13
        }
      ],
      "source": [
        "new_df.head()"
      ]
    },
    {
      "cell_type": "code",
      "execution_count": 14,
      "metadata": {
        "id": "G59u48onjHLp",
        "outputId": "7e82dd8f-48af-4e22-d8aa-ca32f03fce83",
        "colab": {
          "base_uri": "https://localhost:8080/",
          "height": 206
        }
      },
      "outputs": [
        {
          "output_type": "execute_result",
          "data": {
            "text/plain": [
              "   user_id  hotel_id  booking\n",
              "0       12         1        0\n",
              "1       12         1        1\n",
              "2       12         1        0\n",
              "3       93        21        0\n",
              "4       93        80        0"
            ],
            "text/html": [
              "\n",
              "  <div id=\"df-5eca2fb6-a2b5-4842-802b-b43677c42ed6\">\n",
              "    <div class=\"colab-df-container\">\n",
              "      <div>\n",
              "<style scoped>\n",
              "    .dataframe tbody tr th:only-of-type {\n",
              "        vertical-align: middle;\n",
              "    }\n",
              "\n",
              "    .dataframe tbody tr th {\n",
              "        vertical-align: top;\n",
              "    }\n",
              "\n",
              "    .dataframe thead th {\n",
              "        text-align: right;\n",
              "    }\n",
              "</style>\n",
              "<table border=\"1\" class=\"dataframe\">\n",
              "  <thead>\n",
              "    <tr style=\"text-align: right;\">\n",
              "      <th></th>\n",
              "      <th>user_id</th>\n",
              "      <th>hotel_id</th>\n",
              "      <th>booking</th>\n",
              "    </tr>\n",
              "  </thead>\n",
              "  <tbody>\n",
              "    <tr>\n",
              "      <th>0</th>\n",
              "      <td>12</td>\n",
              "      <td>1</td>\n",
              "      <td>0</td>\n",
              "    </tr>\n",
              "    <tr>\n",
              "      <th>1</th>\n",
              "      <td>12</td>\n",
              "      <td>1</td>\n",
              "      <td>1</td>\n",
              "    </tr>\n",
              "    <tr>\n",
              "      <th>2</th>\n",
              "      <td>12</td>\n",
              "      <td>1</td>\n",
              "      <td>0</td>\n",
              "    </tr>\n",
              "    <tr>\n",
              "      <th>3</th>\n",
              "      <td>93</td>\n",
              "      <td>21</td>\n",
              "      <td>0</td>\n",
              "    </tr>\n",
              "    <tr>\n",
              "      <th>4</th>\n",
              "      <td>93</td>\n",
              "      <td>80</td>\n",
              "      <td>0</td>\n",
              "    </tr>\n",
              "  </tbody>\n",
              "</table>\n",
              "</div>\n",
              "      <button class=\"colab-df-convert\" onclick=\"convertToInteractive('df-5eca2fb6-a2b5-4842-802b-b43677c42ed6')\"\n",
              "              title=\"Convert this dataframe to an interactive table.\"\n",
              "              style=\"display:none;\">\n",
              "        \n",
              "  <svg xmlns=\"http://www.w3.org/2000/svg\" height=\"24px\"viewBox=\"0 0 24 24\"\n",
              "       width=\"24px\">\n",
              "    <path d=\"M0 0h24v24H0V0z\" fill=\"none\"/>\n",
              "    <path d=\"M18.56 5.44l.94 2.06.94-2.06 2.06-.94-2.06-.94-.94-2.06-.94 2.06-2.06.94zm-11 1L8.5 8.5l.94-2.06 2.06-.94-2.06-.94L8.5 2.5l-.94 2.06-2.06.94zm10 10l.94 2.06.94-2.06 2.06-.94-2.06-.94-.94-2.06-.94 2.06-2.06.94z\"/><path d=\"M17.41 7.96l-1.37-1.37c-.4-.4-.92-.59-1.43-.59-.52 0-1.04.2-1.43.59L10.3 9.45l-7.72 7.72c-.78.78-.78 2.05 0 2.83L4 21.41c.39.39.9.59 1.41.59.51 0 1.02-.2 1.41-.59l7.78-7.78 2.81-2.81c.8-.78.8-2.07 0-2.86zM5.41 20L4 18.59l7.72-7.72 1.47 1.35L5.41 20z\"/>\n",
              "  </svg>\n",
              "      </button>\n",
              "      \n",
              "  <style>\n",
              "    .colab-df-container {\n",
              "      display:flex;\n",
              "      flex-wrap:wrap;\n",
              "      gap: 12px;\n",
              "    }\n",
              "\n",
              "    .colab-df-convert {\n",
              "      background-color: #E8F0FE;\n",
              "      border: none;\n",
              "      border-radius: 50%;\n",
              "      cursor: pointer;\n",
              "      display: none;\n",
              "      fill: #1967D2;\n",
              "      height: 32px;\n",
              "      padding: 0 0 0 0;\n",
              "      width: 32px;\n",
              "    }\n",
              "\n",
              "    .colab-df-convert:hover {\n",
              "      background-color: #E2EBFA;\n",
              "      box-shadow: 0px 1px 2px rgba(60, 64, 67, 0.3), 0px 1px 3px 1px rgba(60, 64, 67, 0.15);\n",
              "      fill: #174EA6;\n",
              "    }\n",
              "\n",
              "    [theme=dark] .colab-df-convert {\n",
              "      background-color: #3B4455;\n",
              "      fill: #D2E3FC;\n",
              "    }\n",
              "\n",
              "    [theme=dark] .colab-df-convert:hover {\n",
              "      background-color: #434B5C;\n",
              "      box-shadow: 0px 1px 3px 1px rgba(0, 0, 0, 0.15);\n",
              "      filter: drop-shadow(0px 1px 2px rgba(0, 0, 0, 0.3));\n",
              "      fill: #FFFFFF;\n",
              "    }\n",
              "  </style>\n",
              "\n",
              "      <script>\n",
              "        const buttonEl =\n",
              "          document.querySelector('#df-5eca2fb6-a2b5-4842-802b-b43677c42ed6 button.colab-df-convert');\n",
              "        buttonEl.style.display =\n",
              "          google.colab.kernel.accessAllowed ? 'block' : 'none';\n",
              "\n",
              "        async function convertToInteractive(key) {\n",
              "          const element = document.querySelector('#df-5eca2fb6-a2b5-4842-802b-b43677c42ed6');\n",
              "          const dataTable =\n",
              "            await google.colab.kernel.invokeFunction('convertToInteractive',\n",
              "                                                     [key], {});\n",
              "          if (!dataTable) return;\n",
              "\n",
              "          const docLinkHtml = 'Like what you see? Visit the ' +\n",
              "            '<a target=\"_blank\" href=https://colab.research.google.com/notebooks/data_table.ipynb>data table notebook</a>'\n",
              "            + ' to learn more about interactive tables.';\n",
              "          element.innerHTML = '';\n",
              "          dataTable['output_type'] = 'display_data';\n",
              "          await google.colab.output.renderOutput(dataTable, element);\n",
              "          const docLink = document.createElement('div');\n",
              "          docLink.innerHTML = docLinkHtml;\n",
              "          element.appendChild(docLink);\n",
              "        }\n",
              "      </script>\n",
              "    </div>\n",
              "  </div>\n",
              "  "
            ]
          },
          "metadata": {},
          "execution_count": 14
        }
      ],
      "source": [
        "new_df.columns = ['user_id', 'hotel_id', 'booking']\n",
        "new_df = new_df.sort_values(['user_id', 'hotel_id'])\n",
        "new_df = new_df.reset_index().drop('index', axis = 1)\n",
        "new_df.head()"
      ]
    },
    {
      "cell_type": "code",
      "execution_count": 15,
      "metadata": {
        "id": "_L5QZFfijHLp",
        "outputId": "37f72f98-abd9-4734-e904-c323f401fbb0",
        "colab": {
          "base_uri": "https://localhost:8080/",
          "height": 206
        }
      },
      "outputs": [
        {
          "output_type": "execute_result",
          "data": {
            "text/plain": [
              "   user_id  hotel_id  booking\n",
              "0       12         1        1\n",
              "1       93        21        0\n",
              "2       93        80        0\n",
              "3       93        92        0\n",
              "4      501        10        0"
            ],
            "text/html": [
              "\n",
              "  <div id=\"df-da8de614-c60c-4905-9764-cd21275791c9\">\n",
              "    <div class=\"colab-df-container\">\n",
              "      <div>\n",
              "<style scoped>\n",
              "    .dataframe tbody tr th:only-of-type {\n",
              "        vertical-align: middle;\n",
              "    }\n",
              "\n",
              "    .dataframe tbody tr th {\n",
              "        vertical-align: top;\n",
              "    }\n",
              "\n",
              "    .dataframe thead th {\n",
              "        text-align: right;\n",
              "    }\n",
              "</style>\n",
              "<table border=\"1\" class=\"dataframe\">\n",
              "  <thead>\n",
              "    <tr style=\"text-align: right;\">\n",
              "      <th></th>\n",
              "      <th>user_id</th>\n",
              "      <th>hotel_id</th>\n",
              "      <th>booking</th>\n",
              "    </tr>\n",
              "  </thead>\n",
              "  <tbody>\n",
              "    <tr>\n",
              "      <th>0</th>\n",
              "      <td>12</td>\n",
              "      <td>1</td>\n",
              "      <td>1</td>\n",
              "    </tr>\n",
              "    <tr>\n",
              "      <th>1</th>\n",
              "      <td>93</td>\n",
              "      <td>21</td>\n",
              "      <td>0</td>\n",
              "    </tr>\n",
              "    <tr>\n",
              "      <th>2</th>\n",
              "      <td>93</td>\n",
              "      <td>80</td>\n",
              "      <td>0</td>\n",
              "    </tr>\n",
              "    <tr>\n",
              "      <th>3</th>\n",
              "      <td>93</td>\n",
              "      <td>92</td>\n",
              "      <td>0</td>\n",
              "    </tr>\n",
              "    <tr>\n",
              "      <th>4</th>\n",
              "      <td>501</td>\n",
              "      <td>10</td>\n",
              "      <td>0</td>\n",
              "    </tr>\n",
              "  </tbody>\n",
              "</table>\n",
              "</div>\n",
              "      <button class=\"colab-df-convert\" onclick=\"convertToInteractive('df-da8de614-c60c-4905-9764-cd21275791c9')\"\n",
              "              title=\"Convert this dataframe to an interactive table.\"\n",
              "              style=\"display:none;\">\n",
              "        \n",
              "  <svg xmlns=\"http://www.w3.org/2000/svg\" height=\"24px\"viewBox=\"0 0 24 24\"\n",
              "       width=\"24px\">\n",
              "    <path d=\"M0 0h24v24H0V0z\" fill=\"none\"/>\n",
              "    <path d=\"M18.56 5.44l.94 2.06.94-2.06 2.06-.94-2.06-.94-.94-2.06-.94 2.06-2.06.94zm-11 1L8.5 8.5l.94-2.06 2.06-.94-2.06-.94L8.5 2.5l-.94 2.06-2.06.94zm10 10l.94 2.06.94-2.06 2.06-.94-2.06-.94-.94-2.06-.94 2.06-2.06.94z\"/><path d=\"M17.41 7.96l-1.37-1.37c-.4-.4-.92-.59-1.43-.59-.52 0-1.04.2-1.43.59L10.3 9.45l-7.72 7.72c-.78.78-.78 2.05 0 2.83L4 21.41c.39.39.9.59 1.41.59.51 0 1.02-.2 1.41-.59l7.78-7.78 2.81-2.81c.8-.78.8-2.07 0-2.86zM5.41 20L4 18.59l7.72-7.72 1.47 1.35L5.41 20z\"/>\n",
              "  </svg>\n",
              "      </button>\n",
              "      \n",
              "  <style>\n",
              "    .colab-df-container {\n",
              "      display:flex;\n",
              "      flex-wrap:wrap;\n",
              "      gap: 12px;\n",
              "    }\n",
              "\n",
              "    .colab-df-convert {\n",
              "      background-color: #E8F0FE;\n",
              "      border: none;\n",
              "      border-radius: 50%;\n",
              "      cursor: pointer;\n",
              "      display: none;\n",
              "      fill: #1967D2;\n",
              "      height: 32px;\n",
              "      padding: 0 0 0 0;\n",
              "      width: 32px;\n",
              "    }\n",
              "\n",
              "    .colab-df-convert:hover {\n",
              "      background-color: #E2EBFA;\n",
              "      box-shadow: 0px 1px 2px rgba(60, 64, 67, 0.3), 0px 1px 3px 1px rgba(60, 64, 67, 0.15);\n",
              "      fill: #174EA6;\n",
              "    }\n",
              "\n",
              "    [theme=dark] .colab-df-convert {\n",
              "      background-color: #3B4455;\n",
              "      fill: #D2E3FC;\n",
              "    }\n",
              "\n",
              "    [theme=dark] .colab-df-convert:hover {\n",
              "      background-color: #434B5C;\n",
              "      box-shadow: 0px 1px 3px 1px rgba(0, 0, 0, 0.15);\n",
              "      filter: drop-shadow(0px 1px 2px rgba(0, 0, 0, 0.3));\n",
              "      fill: #FFFFFF;\n",
              "    }\n",
              "  </style>\n",
              "\n",
              "      <script>\n",
              "        const buttonEl =\n",
              "          document.querySelector('#df-da8de614-c60c-4905-9764-cd21275791c9 button.colab-df-convert');\n",
              "        buttonEl.style.display =\n",
              "          google.colab.kernel.accessAllowed ? 'block' : 'none';\n",
              "\n",
              "        async function convertToInteractive(key) {\n",
              "          const element = document.querySelector('#df-da8de614-c60c-4905-9764-cd21275791c9');\n",
              "          const dataTable =\n",
              "            await google.colab.kernel.invokeFunction('convertToInteractive',\n",
              "                                                     [key], {});\n",
              "          if (!dataTable) return;\n",
              "\n",
              "          const docLinkHtml = 'Like what you see? Visit the ' +\n",
              "            '<a target=\"_blank\" href=https://colab.research.google.com/notebooks/data_table.ipynb>data table notebook</a>'\n",
              "            + ' to learn more about interactive tables.';\n",
              "          element.innerHTML = '';\n",
              "          dataTable['output_type'] = 'display_data';\n",
              "          await google.colab.output.renderOutput(dataTable, element);\n",
              "          const docLink = document.createElement('div');\n",
              "          docLink.innerHTML = docLinkHtml;\n",
              "          element.appendChild(docLink);\n",
              "        }\n",
              "      </script>\n",
              "    </div>\n",
              "  </div>\n",
              "  "
            ]
          },
          "metadata": {},
          "execution_count": 15
        }
      ],
      "source": [
        "booked_hotels = new_df.groupby(['user_id', 'hotel_id']).booking.transform(max)\n",
        "new_df = new_df.loc[new_df.booking == booked_hotels]\n",
        "new_df.drop_duplicates(keep = 'first', inplace = True)\n",
        "new_df= new_df.reset_index().drop('index', axis = 1)\n",
        "new_df.head()"
      ]
    },
    {
      "cell_type": "markdown",
      "metadata": {
        "id": "Kq_aC8qQjHLq"
      },
      "source": [
        "### Calculated each of the hotel cluster's mean to find similar hotel clusters"
      ]
    },
    {
      "cell_type": "code",
      "execution_count": 16,
      "metadata": {
        "id": "qaMtyZrujHLq",
        "outputId": "cf8bb3e4-b7e1-465e-deed-6a30ccf345cc",
        "colab": {
          "base_uri": "https://localhost:8080/",
          "height": 455
        }
      },
      "outputs": [
        {
          "output_type": "execute_result",
          "data": {
            "text/plain": [
              "           booking\n",
              "hotel_id          \n",
              "0         0.117794\n",
              "1         0.252396\n",
              "2         0.209877\n",
              "3         0.113043\n",
              "4         0.184035\n",
              "...            ...\n",
              "95        0.229310\n",
              "96        0.076037\n",
              "97        0.149160\n",
              "98        0.201117\n",
              "99        0.152216\n",
              "\n",
              "[100 rows x 1 columns]"
            ],
            "text/html": [
              "\n",
              "  <div id=\"df-e0f92ae0-03d7-4a5b-8301-9482ab2eb44e\">\n",
              "    <div class=\"colab-df-container\">\n",
              "      <div>\n",
              "<style scoped>\n",
              "    .dataframe tbody tr th:only-of-type {\n",
              "        vertical-align: middle;\n",
              "    }\n",
              "\n",
              "    .dataframe tbody tr th {\n",
              "        vertical-align: top;\n",
              "    }\n",
              "\n",
              "    .dataframe thead th {\n",
              "        text-align: right;\n",
              "    }\n",
              "</style>\n",
              "<table border=\"1\" class=\"dataframe\">\n",
              "  <thead>\n",
              "    <tr style=\"text-align: right;\">\n",
              "      <th></th>\n",
              "      <th>booking</th>\n",
              "    </tr>\n",
              "    <tr>\n",
              "      <th>hotel_id</th>\n",
              "      <th></th>\n",
              "    </tr>\n",
              "  </thead>\n",
              "  <tbody>\n",
              "    <tr>\n",
              "      <th>0</th>\n",
              "      <td>0.117794</td>\n",
              "    </tr>\n",
              "    <tr>\n",
              "      <th>1</th>\n",
              "      <td>0.252396</td>\n",
              "    </tr>\n",
              "    <tr>\n",
              "      <th>2</th>\n",
              "      <td>0.209877</td>\n",
              "    </tr>\n",
              "    <tr>\n",
              "      <th>3</th>\n",
              "      <td>0.113043</td>\n",
              "    </tr>\n",
              "    <tr>\n",
              "      <th>4</th>\n",
              "      <td>0.184035</td>\n",
              "    </tr>\n",
              "    <tr>\n",
              "      <th>...</th>\n",
              "      <td>...</td>\n",
              "    </tr>\n",
              "    <tr>\n",
              "      <th>95</th>\n",
              "      <td>0.229310</td>\n",
              "    </tr>\n",
              "    <tr>\n",
              "      <th>96</th>\n",
              "      <td>0.076037</td>\n",
              "    </tr>\n",
              "    <tr>\n",
              "      <th>97</th>\n",
              "      <td>0.149160</td>\n",
              "    </tr>\n",
              "    <tr>\n",
              "      <th>98</th>\n",
              "      <td>0.201117</td>\n",
              "    </tr>\n",
              "    <tr>\n",
              "      <th>99</th>\n",
              "      <td>0.152216</td>\n",
              "    </tr>\n",
              "  </tbody>\n",
              "</table>\n",
              "<p>100 rows × 1 columns</p>\n",
              "</div>\n",
              "      <button class=\"colab-df-convert\" onclick=\"convertToInteractive('df-e0f92ae0-03d7-4a5b-8301-9482ab2eb44e')\"\n",
              "              title=\"Convert this dataframe to an interactive table.\"\n",
              "              style=\"display:none;\">\n",
              "        \n",
              "  <svg xmlns=\"http://www.w3.org/2000/svg\" height=\"24px\"viewBox=\"0 0 24 24\"\n",
              "       width=\"24px\">\n",
              "    <path d=\"M0 0h24v24H0V0z\" fill=\"none\"/>\n",
              "    <path d=\"M18.56 5.44l.94 2.06.94-2.06 2.06-.94-2.06-.94-.94-2.06-.94 2.06-2.06.94zm-11 1L8.5 8.5l.94-2.06 2.06-.94-2.06-.94L8.5 2.5l-.94 2.06-2.06.94zm10 10l.94 2.06.94-2.06 2.06-.94-2.06-.94-.94-2.06-.94 2.06-2.06.94z\"/><path d=\"M17.41 7.96l-1.37-1.37c-.4-.4-.92-.59-1.43-.59-.52 0-1.04.2-1.43.59L10.3 9.45l-7.72 7.72c-.78.78-.78 2.05 0 2.83L4 21.41c.39.39.9.59 1.41.59.51 0 1.02-.2 1.41-.59l7.78-7.78 2.81-2.81c.8-.78.8-2.07 0-2.86zM5.41 20L4 18.59l7.72-7.72 1.47 1.35L5.41 20z\"/>\n",
              "  </svg>\n",
              "      </button>\n",
              "      \n",
              "  <style>\n",
              "    .colab-df-container {\n",
              "      display:flex;\n",
              "      flex-wrap:wrap;\n",
              "      gap: 12px;\n",
              "    }\n",
              "\n",
              "    .colab-df-convert {\n",
              "      background-color: #E8F0FE;\n",
              "      border: none;\n",
              "      border-radius: 50%;\n",
              "      cursor: pointer;\n",
              "      display: none;\n",
              "      fill: #1967D2;\n",
              "      height: 32px;\n",
              "      padding: 0 0 0 0;\n",
              "      width: 32px;\n",
              "    }\n",
              "\n",
              "    .colab-df-convert:hover {\n",
              "      background-color: #E2EBFA;\n",
              "      box-shadow: 0px 1px 2px rgba(60, 64, 67, 0.3), 0px 1px 3px 1px rgba(60, 64, 67, 0.15);\n",
              "      fill: #174EA6;\n",
              "    }\n",
              "\n",
              "    [theme=dark] .colab-df-convert {\n",
              "      background-color: #3B4455;\n",
              "      fill: #D2E3FC;\n",
              "    }\n",
              "\n",
              "    [theme=dark] .colab-df-convert:hover {\n",
              "      background-color: #434B5C;\n",
              "      box-shadow: 0px 1px 3px 1px rgba(0, 0, 0, 0.15);\n",
              "      filter: drop-shadow(0px 1px 2px rgba(0, 0, 0, 0.3));\n",
              "      fill: #FFFFFF;\n",
              "    }\n",
              "  </style>\n",
              "\n",
              "      <script>\n",
              "        const buttonEl =\n",
              "          document.querySelector('#df-e0f92ae0-03d7-4a5b-8301-9482ab2eb44e button.colab-df-convert');\n",
              "        buttonEl.style.display =\n",
              "          google.colab.kernel.accessAllowed ? 'block' : 'none';\n",
              "\n",
              "        async function convertToInteractive(key) {\n",
              "          const element = document.querySelector('#df-e0f92ae0-03d7-4a5b-8301-9482ab2eb44e');\n",
              "          const dataTable =\n",
              "            await google.colab.kernel.invokeFunction('convertToInteractive',\n",
              "                                                     [key], {});\n",
              "          if (!dataTable) return;\n",
              "\n",
              "          const docLinkHtml = 'Like what you see? Visit the ' +\n",
              "            '<a target=\"_blank\" href=https://colab.research.google.com/notebooks/data_table.ipynb>data table notebook</a>'\n",
              "            + ' to learn more about interactive tables.';\n",
              "          element.innerHTML = '';\n",
              "          dataTable['output_type'] = 'display_data';\n",
              "          await google.colab.output.renderOutput(dataTable, element);\n",
              "          const docLink = document.createElement('div');\n",
              "          docLink.innerHTML = docLinkHtml;\n",
              "          element.appendChild(docLink);\n",
              "        }\n",
              "      </script>\n",
              "    </div>\n",
              "  </div>\n",
              "  "
            ]
          },
          "metadata": {},
          "execution_count": 16
        }
      ],
      "source": [
        "bookings = pd.DataFrame(new_df.groupby(['hotel_id'])['booking'].mean())\n",
        "bookings"
      ]
    },
    {
      "cell_type": "code",
      "execution_count": 17,
      "metadata": {
        "id": "HwdAur93jHLq",
        "outputId": "437693f1-0ac8-4fbd-bd84-437d4e0c38b7",
        "colab": {
          "base_uri": "https://localhost:8080/",
          "height": 237
        }
      },
      "outputs": [
        {
          "output_type": "execute_result",
          "data": {
            "text/plain": [
              "           booking  number_of_bookings\n",
              "hotel_id                              \n",
              "0         0.117794                 399\n",
              "1         0.252396                 313\n",
              "2         0.209877                 486\n",
              "3         0.113043                 345\n",
              "4         0.184035                 451"
            ],
            "text/html": [
              "\n",
              "  <div id=\"df-9912f2e6-f202-47cf-a5b7-d8267e6838e7\">\n",
              "    <div class=\"colab-df-container\">\n",
              "      <div>\n",
              "<style scoped>\n",
              "    .dataframe tbody tr th:only-of-type {\n",
              "        vertical-align: middle;\n",
              "    }\n",
              "\n",
              "    .dataframe tbody tr th {\n",
              "        vertical-align: top;\n",
              "    }\n",
              "\n",
              "    .dataframe thead th {\n",
              "        text-align: right;\n",
              "    }\n",
              "</style>\n",
              "<table border=\"1\" class=\"dataframe\">\n",
              "  <thead>\n",
              "    <tr style=\"text-align: right;\">\n",
              "      <th></th>\n",
              "      <th>booking</th>\n",
              "      <th>number_of_bookings</th>\n",
              "    </tr>\n",
              "    <tr>\n",
              "      <th>hotel_id</th>\n",
              "      <th></th>\n",
              "      <th></th>\n",
              "    </tr>\n",
              "  </thead>\n",
              "  <tbody>\n",
              "    <tr>\n",
              "      <th>0</th>\n",
              "      <td>0.117794</td>\n",
              "      <td>399</td>\n",
              "    </tr>\n",
              "    <tr>\n",
              "      <th>1</th>\n",
              "      <td>0.252396</td>\n",
              "      <td>313</td>\n",
              "    </tr>\n",
              "    <tr>\n",
              "      <th>2</th>\n",
              "      <td>0.209877</td>\n",
              "      <td>486</td>\n",
              "    </tr>\n",
              "    <tr>\n",
              "      <th>3</th>\n",
              "      <td>0.113043</td>\n",
              "      <td>345</td>\n",
              "    </tr>\n",
              "    <tr>\n",
              "      <th>4</th>\n",
              "      <td>0.184035</td>\n",
              "      <td>451</td>\n",
              "    </tr>\n",
              "  </tbody>\n",
              "</table>\n",
              "</div>\n",
              "      <button class=\"colab-df-convert\" onclick=\"convertToInteractive('df-9912f2e6-f202-47cf-a5b7-d8267e6838e7')\"\n",
              "              title=\"Convert this dataframe to an interactive table.\"\n",
              "              style=\"display:none;\">\n",
              "        \n",
              "  <svg xmlns=\"http://www.w3.org/2000/svg\" height=\"24px\"viewBox=\"0 0 24 24\"\n",
              "       width=\"24px\">\n",
              "    <path d=\"M0 0h24v24H0V0z\" fill=\"none\"/>\n",
              "    <path d=\"M18.56 5.44l.94 2.06.94-2.06 2.06-.94-2.06-.94-.94-2.06-.94 2.06-2.06.94zm-11 1L8.5 8.5l.94-2.06 2.06-.94-2.06-.94L8.5 2.5l-.94 2.06-2.06.94zm10 10l.94 2.06.94-2.06 2.06-.94-2.06-.94-.94-2.06-.94 2.06-2.06.94z\"/><path d=\"M17.41 7.96l-1.37-1.37c-.4-.4-.92-.59-1.43-.59-.52 0-1.04.2-1.43.59L10.3 9.45l-7.72 7.72c-.78.78-.78 2.05 0 2.83L4 21.41c.39.39.9.59 1.41.59.51 0 1.02-.2 1.41-.59l7.78-7.78 2.81-2.81c.8-.78.8-2.07 0-2.86zM5.41 20L4 18.59l7.72-7.72 1.47 1.35L5.41 20z\"/>\n",
              "  </svg>\n",
              "      </button>\n",
              "      \n",
              "  <style>\n",
              "    .colab-df-container {\n",
              "      display:flex;\n",
              "      flex-wrap:wrap;\n",
              "      gap: 12px;\n",
              "    }\n",
              "\n",
              "    .colab-df-convert {\n",
              "      background-color: #E8F0FE;\n",
              "      border: none;\n",
              "      border-radius: 50%;\n",
              "      cursor: pointer;\n",
              "      display: none;\n",
              "      fill: #1967D2;\n",
              "      height: 32px;\n",
              "      padding: 0 0 0 0;\n",
              "      width: 32px;\n",
              "    }\n",
              "\n",
              "    .colab-df-convert:hover {\n",
              "      background-color: #E2EBFA;\n",
              "      box-shadow: 0px 1px 2px rgba(60, 64, 67, 0.3), 0px 1px 3px 1px rgba(60, 64, 67, 0.15);\n",
              "      fill: #174EA6;\n",
              "    }\n",
              "\n",
              "    [theme=dark] .colab-df-convert {\n",
              "      background-color: #3B4455;\n",
              "      fill: #D2E3FC;\n",
              "    }\n",
              "\n",
              "    [theme=dark] .colab-df-convert:hover {\n",
              "      background-color: #434B5C;\n",
              "      box-shadow: 0px 1px 3px 1px rgba(0, 0, 0, 0.15);\n",
              "      filter: drop-shadow(0px 1px 2px rgba(0, 0, 0, 0.3));\n",
              "      fill: #FFFFFF;\n",
              "    }\n",
              "  </style>\n",
              "\n",
              "      <script>\n",
              "        const buttonEl =\n",
              "          document.querySelector('#df-9912f2e6-f202-47cf-a5b7-d8267e6838e7 button.colab-df-convert');\n",
              "        buttonEl.style.display =\n",
              "          google.colab.kernel.accessAllowed ? 'block' : 'none';\n",
              "\n",
              "        async function convertToInteractive(key) {\n",
              "          const element = document.querySelector('#df-9912f2e6-f202-47cf-a5b7-d8267e6838e7');\n",
              "          const dataTable =\n",
              "            await google.colab.kernel.invokeFunction('convertToInteractive',\n",
              "                                                     [key], {});\n",
              "          if (!dataTable) return;\n",
              "\n",
              "          const docLinkHtml = 'Like what you see? Visit the ' +\n",
              "            '<a target=\"_blank\" href=https://colab.research.google.com/notebooks/data_table.ipynb>data table notebook</a>'\n",
              "            + ' to learn more about interactive tables.';\n",
              "          element.innerHTML = '';\n",
              "          dataTable['output_type'] = 'display_data';\n",
              "          await google.colab.output.renderOutput(dataTable, element);\n",
              "          const docLink = document.createElement('div');\n",
              "          docLink.innerHTML = docLinkHtml;\n",
              "          element.appendChild(docLink);\n",
              "        }\n",
              "      </script>\n",
              "    </div>\n",
              "  </div>\n",
              "  "
            ]
          },
          "metadata": {},
          "execution_count": 17
        }
      ],
      "source": [
        "bookings['number_of_bookings'] = pd.DataFrame(new_df.groupby('hotel_id')['booking'].count())\n",
        "bookings.head()"
      ]
    },
    {
      "cell_type": "code",
      "execution_count": 18,
      "metadata": {
        "id": "GZiraYqKjHLq",
        "outputId": "c3fdd064-8638-4b50-e46f-48ce5565d358",
        "colab": {
          "base_uri": "https://localhost:8080/",
          "height": 267
        }
      },
      "outputs": [
        {
          "output_type": "execute_result",
          "data": {
            "text/plain": [
              "hotel_id  0    1    2   3   4   5   6   7   8   9   ...  90  91   92  93   94  \\\n",
              "user_id                                             ...                         \n",
              "12       NaN  1.0  NaN NaN NaN NaN NaN NaN NaN NaN  ... NaN NaN  NaN NaN  NaN   \n",
              "93       NaN  NaN  NaN NaN NaN NaN NaN NaN NaN NaN  ... NaN NaN  0.0 NaN  NaN   \n",
              "501      NaN  NaN  NaN NaN NaN NaN NaN NaN NaN NaN  ... NaN NaN  NaN NaN  NaN   \n",
              "756      NaN  NaN  1.0 NaN NaN NaN NaN NaN NaN NaN  ... NaN NaN  NaN NaN  0.0   \n",
              "776      NaN  NaN  NaN NaN NaN NaN NaN NaN NaN NaN  ... NaN NaN  NaN NaN  NaN   \n",
              "\n",
              "hotel_id  95  96  97   98  99  \n",
              "user_id                        \n",
              "12       NaN NaN NaN  NaN NaN  \n",
              "93       NaN NaN NaN  NaN NaN  \n",
              "501      NaN NaN NaN  0.0 NaN  \n",
              "756      NaN NaN NaN  NaN NaN  \n",
              "776      NaN NaN NaN  NaN NaN  \n",
              "\n",
              "[5 rows x 100 columns]"
            ],
            "text/html": [
              "\n",
              "  <div id=\"df-3ce6abda-a186-4752-9923-f8e8cf2e08db\">\n",
              "    <div class=\"colab-df-container\">\n",
              "      <div>\n",
              "<style scoped>\n",
              "    .dataframe tbody tr th:only-of-type {\n",
              "        vertical-align: middle;\n",
              "    }\n",
              "\n",
              "    .dataframe tbody tr th {\n",
              "        vertical-align: top;\n",
              "    }\n",
              "\n",
              "    .dataframe thead th {\n",
              "        text-align: right;\n",
              "    }\n",
              "</style>\n",
              "<table border=\"1\" class=\"dataframe\">\n",
              "  <thead>\n",
              "    <tr style=\"text-align: right;\">\n",
              "      <th>hotel_id</th>\n",
              "      <th>0</th>\n",
              "      <th>1</th>\n",
              "      <th>2</th>\n",
              "      <th>3</th>\n",
              "      <th>4</th>\n",
              "      <th>5</th>\n",
              "      <th>6</th>\n",
              "      <th>7</th>\n",
              "      <th>8</th>\n",
              "      <th>9</th>\n",
              "      <th>...</th>\n",
              "      <th>90</th>\n",
              "      <th>91</th>\n",
              "      <th>92</th>\n",
              "      <th>93</th>\n",
              "      <th>94</th>\n",
              "      <th>95</th>\n",
              "      <th>96</th>\n",
              "      <th>97</th>\n",
              "      <th>98</th>\n",
              "      <th>99</th>\n",
              "    </tr>\n",
              "    <tr>\n",
              "      <th>user_id</th>\n",
              "      <th></th>\n",
              "      <th></th>\n",
              "      <th></th>\n",
              "      <th></th>\n",
              "      <th></th>\n",
              "      <th></th>\n",
              "      <th></th>\n",
              "      <th></th>\n",
              "      <th></th>\n",
              "      <th></th>\n",
              "      <th></th>\n",
              "      <th></th>\n",
              "      <th></th>\n",
              "      <th></th>\n",
              "      <th></th>\n",
              "      <th></th>\n",
              "      <th></th>\n",
              "      <th></th>\n",
              "      <th></th>\n",
              "      <th></th>\n",
              "      <th></th>\n",
              "    </tr>\n",
              "  </thead>\n",
              "  <tbody>\n",
              "    <tr>\n",
              "      <th>12</th>\n",
              "      <td>NaN</td>\n",
              "      <td>1.0</td>\n",
              "      <td>NaN</td>\n",
              "      <td>NaN</td>\n",
              "      <td>NaN</td>\n",
              "      <td>NaN</td>\n",
              "      <td>NaN</td>\n",
              "      <td>NaN</td>\n",
              "      <td>NaN</td>\n",
              "      <td>NaN</td>\n",
              "      <td>...</td>\n",
              "      <td>NaN</td>\n",
              "      <td>NaN</td>\n",
              "      <td>NaN</td>\n",
              "      <td>NaN</td>\n",
              "      <td>NaN</td>\n",
              "      <td>NaN</td>\n",
              "      <td>NaN</td>\n",
              "      <td>NaN</td>\n",
              "      <td>NaN</td>\n",
              "      <td>NaN</td>\n",
              "    </tr>\n",
              "    <tr>\n",
              "      <th>93</th>\n",
              "      <td>NaN</td>\n",
              "      <td>NaN</td>\n",
              "      <td>NaN</td>\n",
              "      <td>NaN</td>\n",
              "      <td>NaN</td>\n",
              "      <td>NaN</td>\n",
              "      <td>NaN</td>\n",
              "      <td>NaN</td>\n",
              "      <td>NaN</td>\n",
              "      <td>NaN</td>\n",
              "      <td>...</td>\n",
              "      <td>NaN</td>\n",
              "      <td>NaN</td>\n",
              "      <td>0.0</td>\n",
              "      <td>NaN</td>\n",
              "      <td>NaN</td>\n",
              "      <td>NaN</td>\n",
              "      <td>NaN</td>\n",
              "      <td>NaN</td>\n",
              "      <td>NaN</td>\n",
              "      <td>NaN</td>\n",
              "    </tr>\n",
              "    <tr>\n",
              "      <th>501</th>\n",
              "      <td>NaN</td>\n",
              "      <td>NaN</td>\n",
              "      <td>NaN</td>\n",
              "      <td>NaN</td>\n",
              "      <td>NaN</td>\n",
              "      <td>NaN</td>\n",
              "      <td>NaN</td>\n",
              "      <td>NaN</td>\n",
              "      <td>NaN</td>\n",
              "      <td>NaN</td>\n",
              "      <td>...</td>\n",
              "      <td>NaN</td>\n",
              "      <td>NaN</td>\n",
              "      <td>NaN</td>\n",
              "      <td>NaN</td>\n",
              "      <td>NaN</td>\n",
              "      <td>NaN</td>\n",
              "      <td>NaN</td>\n",
              "      <td>NaN</td>\n",
              "      <td>0.0</td>\n",
              "      <td>NaN</td>\n",
              "    </tr>\n",
              "    <tr>\n",
              "      <th>756</th>\n",
              "      <td>NaN</td>\n",
              "      <td>NaN</td>\n",
              "      <td>1.0</td>\n",
              "      <td>NaN</td>\n",
              "      <td>NaN</td>\n",
              "      <td>NaN</td>\n",
              "      <td>NaN</td>\n",
              "      <td>NaN</td>\n",
              "      <td>NaN</td>\n",
              "      <td>NaN</td>\n",
              "      <td>...</td>\n",
              "      <td>NaN</td>\n",
              "      <td>NaN</td>\n",
              "      <td>NaN</td>\n",
              "      <td>NaN</td>\n",
              "      <td>0.0</td>\n",
              "      <td>NaN</td>\n",
              "      <td>NaN</td>\n",
              "      <td>NaN</td>\n",
              "      <td>NaN</td>\n",
              "      <td>NaN</td>\n",
              "    </tr>\n",
              "    <tr>\n",
              "      <th>776</th>\n",
              "      <td>NaN</td>\n",
              "      <td>NaN</td>\n",
              "      <td>NaN</td>\n",
              "      <td>NaN</td>\n",
              "      <td>NaN</td>\n",
              "      <td>NaN</td>\n",
              "      <td>NaN</td>\n",
              "      <td>NaN</td>\n",
              "      <td>NaN</td>\n",
              "      <td>NaN</td>\n",
              "      <td>...</td>\n",
              "      <td>NaN</td>\n",
              "      <td>NaN</td>\n",
              "      <td>NaN</td>\n",
              "      <td>NaN</td>\n",
              "      <td>NaN</td>\n",
              "      <td>NaN</td>\n",
              "      <td>NaN</td>\n",
              "      <td>NaN</td>\n",
              "      <td>NaN</td>\n",
              "      <td>NaN</td>\n",
              "    </tr>\n",
              "  </tbody>\n",
              "</table>\n",
              "<p>5 rows × 100 columns</p>\n",
              "</div>\n",
              "      <button class=\"colab-df-convert\" onclick=\"convertToInteractive('df-3ce6abda-a186-4752-9923-f8e8cf2e08db')\"\n",
              "              title=\"Convert this dataframe to an interactive table.\"\n",
              "              style=\"display:none;\">\n",
              "        \n",
              "  <svg xmlns=\"http://www.w3.org/2000/svg\" height=\"24px\"viewBox=\"0 0 24 24\"\n",
              "       width=\"24px\">\n",
              "    <path d=\"M0 0h24v24H0V0z\" fill=\"none\"/>\n",
              "    <path d=\"M18.56 5.44l.94 2.06.94-2.06 2.06-.94-2.06-.94-.94-2.06-.94 2.06-2.06.94zm-11 1L8.5 8.5l.94-2.06 2.06-.94-2.06-.94L8.5 2.5l-.94 2.06-2.06.94zm10 10l.94 2.06.94-2.06 2.06-.94-2.06-.94-.94-2.06-.94 2.06-2.06.94z\"/><path d=\"M17.41 7.96l-1.37-1.37c-.4-.4-.92-.59-1.43-.59-.52 0-1.04.2-1.43.59L10.3 9.45l-7.72 7.72c-.78.78-.78 2.05 0 2.83L4 21.41c.39.39.9.59 1.41.59.51 0 1.02-.2 1.41-.59l7.78-7.78 2.81-2.81c.8-.78.8-2.07 0-2.86zM5.41 20L4 18.59l7.72-7.72 1.47 1.35L5.41 20z\"/>\n",
              "  </svg>\n",
              "      </button>\n",
              "      \n",
              "  <style>\n",
              "    .colab-df-container {\n",
              "      display:flex;\n",
              "      flex-wrap:wrap;\n",
              "      gap: 12px;\n",
              "    }\n",
              "\n",
              "    .colab-df-convert {\n",
              "      background-color: #E8F0FE;\n",
              "      border: none;\n",
              "      border-radius: 50%;\n",
              "      cursor: pointer;\n",
              "      display: none;\n",
              "      fill: #1967D2;\n",
              "      height: 32px;\n",
              "      padding: 0 0 0 0;\n",
              "      width: 32px;\n",
              "    }\n",
              "\n",
              "    .colab-df-convert:hover {\n",
              "      background-color: #E2EBFA;\n",
              "      box-shadow: 0px 1px 2px rgba(60, 64, 67, 0.3), 0px 1px 3px 1px rgba(60, 64, 67, 0.15);\n",
              "      fill: #174EA6;\n",
              "    }\n",
              "\n",
              "    [theme=dark] .colab-df-convert {\n",
              "      background-color: #3B4455;\n",
              "      fill: #D2E3FC;\n",
              "    }\n",
              "\n",
              "    [theme=dark] .colab-df-convert:hover {\n",
              "      background-color: #434B5C;\n",
              "      box-shadow: 0px 1px 3px 1px rgba(0, 0, 0, 0.15);\n",
              "      filter: drop-shadow(0px 1px 2px rgba(0, 0, 0, 0.3));\n",
              "      fill: #FFFFFF;\n",
              "    }\n",
              "  </style>\n",
              "\n",
              "      <script>\n",
              "        const buttonEl =\n",
              "          document.querySelector('#df-3ce6abda-a186-4752-9923-f8e8cf2e08db button.colab-df-convert');\n",
              "        buttonEl.style.display =\n",
              "          google.colab.kernel.accessAllowed ? 'block' : 'none';\n",
              "\n",
              "        async function convertToInteractive(key) {\n",
              "          const element = document.querySelector('#df-3ce6abda-a186-4752-9923-f8e8cf2e08db');\n",
              "          const dataTable =\n",
              "            await google.colab.kernel.invokeFunction('convertToInteractive',\n",
              "                                                     [key], {});\n",
              "          if (!dataTable) return;\n",
              "\n",
              "          const docLinkHtml = 'Like what you see? Visit the ' +\n",
              "            '<a target=\"_blank\" href=https://colab.research.google.com/notebooks/data_table.ipynb>data table notebook</a>'\n",
              "            + ' to learn more about interactive tables.';\n",
              "          element.innerHTML = '';\n",
              "          dataTable['output_type'] = 'display_data';\n",
              "          await google.colab.output.renderOutput(dataTable, element);\n",
              "          const docLink = document.createElement('div');\n",
              "          docLink.innerHTML = docLinkHtml;\n",
              "          element.appendChild(docLink);\n",
              "        }\n",
              "      </script>\n",
              "    </div>\n",
              "  </div>\n",
              "  "
            ]
          },
          "metadata": {},
          "execution_count": 18
        }
      ],
      "source": [
        "bookings_matrix = new_df.pivot_table(index = 'user_id', columns = 'hotel_id', values = 'booking')\n",
        "bookings_matrix.head()"
      ]
    },
    {
      "cell_type": "code",
      "execution_count": 19,
      "metadata": {
        "id": "hSq29l1RjHLq",
        "outputId": "c56a614c-d68f-4683-c819-f79d1ab029e5",
        "colab": {
          "base_uri": "https://localhost:8080/",
          "height": 455
        }
      },
      "outputs": [
        {
          "output_type": "execute_result",
          "data": {
            "text/plain": [
              "hotel_id   0    1    2    3    4    5    6    7    8    9   ...   90   91  \\\n",
              "user_id                                                     ...             \n",
              "12        0.0  1.0  0.0  0.0  0.0  0.0  0.0  0.0  0.0  0.0  ...  0.0  0.0   \n",
              "93        0.0  0.0  0.0  0.0  0.0  0.0  0.0  0.0  0.0  0.0  ...  0.0  0.0   \n",
              "501       0.0  0.0  0.0  0.0  0.0  0.0  0.0  0.0  0.0  0.0  ...  0.0  0.0   \n",
              "756       0.0  0.0  1.0  0.0  0.0  0.0  0.0  0.0  0.0  0.0  ...  0.0  0.0   \n",
              "776       0.0  0.0  0.0  0.0  0.0  0.0  0.0  0.0  0.0  0.0  ...  0.0  0.0   \n",
              "...       ...  ...  ...  ...  ...  ...  ...  ...  ...  ...  ...  ...  ...   \n",
              "390183    0.0  0.0  0.0  0.0  0.0  0.0  0.0  0.0  0.0  0.0  ...  0.0  0.0   \n",
              "390286    0.0  0.0  0.0  0.0  0.0  0.0  0.0  0.0  0.0  0.0  ...  0.0  0.0   \n",
              "390390    0.0  0.0  0.0  0.0  0.0  0.0  0.0  1.0  0.0  0.0  ...  0.0  0.0   \n",
              "390810    0.0  0.0  0.0  0.0  0.0  0.0  0.0  0.0  0.0  0.0  ...  0.0  0.0   \n",
              "391007    0.0  0.0  0.0  0.0  0.0  0.0  0.0  0.0  0.0  0.0  ...  0.0  0.0   \n",
              "\n",
              "hotel_id   92   93   94   95   96   97   98   99  \n",
              "user_id                                           \n",
              "12        0.0  0.0  0.0  0.0  0.0  0.0  0.0  0.0  \n",
              "93        0.0  0.0  0.0  0.0  0.0  0.0  0.0  0.0  \n",
              "501       0.0  0.0  0.0  0.0  0.0  0.0  0.0  0.0  \n",
              "756       0.0  0.0  0.0  0.0  0.0  0.0  0.0  0.0  \n",
              "776       0.0  0.0  0.0  0.0  0.0  0.0  0.0  0.0  \n",
              "...       ...  ...  ...  ...  ...  ...  ...  ...  \n",
              "390183    0.0  0.0  0.0  0.0  0.0  0.0  0.0  0.0  \n",
              "390286    0.0  0.0  0.0  0.0  0.0  0.0  0.0  0.0  \n",
              "390390    0.0  1.0  0.0  0.0  0.0  0.0  0.0  0.0  \n",
              "390810    0.0  0.0  0.0  0.0  0.0  0.0  0.0  0.0  \n",
              "391007    0.0  0.0  0.0  1.0  0.0  0.0  0.0  0.0  \n",
              "\n",
              "[3478 rows x 100 columns]"
            ],
            "text/html": [
              "\n",
              "  <div id=\"df-c7bfbcca-7704-445f-946a-490354e64bd9\">\n",
              "    <div class=\"colab-df-container\">\n",
              "      <div>\n",
              "<style scoped>\n",
              "    .dataframe tbody tr th:only-of-type {\n",
              "        vertical-align: middle;\n",
              "    }\n",
              "\n",
              "    .dataframe tbody tr th {\n",
              "        vertical-align: top;\n",
              "    }\n",
              "\n",
              "    .dataframe thead th {\n",
              "        text-align: right;\n",
              "    }\n",
              "</style>\n",
              "<table border=\"1\" class=\"dataframe\">\n",
              "  <thead>\n",
              "    <tr style=\"text-align: right;\">\n",
              "      <th>hotel_id</th>\n",
              "      <th>0</th>\n",
              "      <th>1</th>\n",
              "      <th>2</th>\n",
              "      <th>3</th>\n",
              "      <th>4</th>\n",
              "      <th>5</th>\n",
              "      <th>6</th>\n",
              "      <th>7</th>\n",
              "      <th>8</th>\n",
              "      <th>9</th>\n",
              "      <th>...</th>\n",
              "      <th>90</th>\n",
              "      <th>91</th>\n",
              "      <th>92</th>\n",
              "      <th>93</th>\n",
              "      <th>94</th>\n",
              "      <th>95</th>\n",
              "      <th>96</th>\n",
              "      <th>97</th>\n",
              "      <th>98</th>\n",
              "      <th>99</th>\n",
              "    </tr>\n",
              "    <tr>\n",
              "      <th>user_id</th>\n",
              "      <th></th>\n",
              "      <th></th>\n",
              "      <th></th>\n",
              "      <th></th>\n",
              "      <th></th>\n",
              "      <th></th>\n",
              "      <th></th>\n",
              "      <th></th>\n",
              "      <th></th>\n",
              "      <th></th>\n",
              "      <th></th>\n",
              "      <th></th>\n",
              "      <th></th>\n",
              "      <th></th>\n",
              "      <th></th>\n",
              "      <th></th>\n",
              "      <th></th>\n",
              "      <th></th>\n",
              "      <th></th>\n",
              "      <th></th>\n",
              "      <th></th>\n",
              "    </tr>\n",
              "  </thead>\n",
              "  <tbody>\n",
              "    <tr>\n",
              "      <th>12</th>\n",
              "      <td>0.0</td>\n",
              "      <td>1.0</td>\n",
              "      <td>0.0</td>\n",
              "      <td>0.0</td>\n",
              "      <td>0.0</td>\n",
              "      <td>0.0</td>\n",
              "      <td>0.0</td>\n",
              "      <td>0.0</td>\n",
              "      <td>0.0</td>\n",
              "      <td>0.0</td>\n",
              "      <td>...</td>\n",
              "      <td>0.0</td>\n",
              "      <td>0.0</td>\n",
              "      <td>0.0</td>\n",
              "      <td>0.0</td>\n",
              "      <td>0.0</td>\n",
              "      <td>0.0</td>\n",
              "      <td>0.0</td>\n",
              "      <td>0.0</td>\n",
              "      <td>0.0</td>\n",
              "      <td>0.0</td>\n",
              "    </tr>\n",
              "    <tr>\n",
              "      <th>93</th>\n",
              "      <td>0.0</td>\n",
              "      <td>0.0</td>\n",
              "      <td>0.0</td>\n",
              "      <td>0.0</td>\n",
              "      <td>0.0</td>\n",
              "      <td>0.0</td>\n",
              "      <td>0.0</td>\n",
              "      <td>0.0</td>\n",
              "      <td>0.0</td>\n",
              "      <td>0.0</td>\n",
              "      <td>...</td>\n",
              "      <td>0.0</td>\n",
              "      <td>0.0</td>\n",
              "      <td>0.0</td>\n",
              "      <td>0.0</td>\n",
              "      <td>0.0</td>\n",
              "      <td>0.0</td>\n",
              "      <td>0.0</td>\n",
              "      <td>0.0</td>\n",
              "      <td>0.0</td>\n",
              "      <td>0.0</td>\n",
              "    </tr>\n",
              "    <tr>\n",
              "      <th>501</th>\n",
              "      <td>0.0</td>\n",
              "      <td>0.0</td>\n",
              "      <td>0.0</td>\n",
              "      <td>0.0</td>\n",
              "      <td>0.0</td>\n",
              "      <td>0.0</td>\n",
              "      <td>0.0</td>\n",
              "      <td>0.0</td>\n",
              "      <td>0.0</td>\n",
              "      <td>0.0</td>\n",
              "      <td>...</td>\n",
              "      <td>0.0</td>\n",
              "      <td>0.0</td>\n",
              "      <td>0.0</td>\n",
              "      <td>0.0</td>\n",
              "      <td>0.0</td>\n",
              "      <td>0.0</td>\n",
              "      <td>0.0</td>\n",
              "      <td>0.0</td>\n",
              "      <td>0.0</td>\n",
              "      <td>0.0</td>\n",
              "    </tr>\n",
              "    <tr>\n",
              "      <th>756</th>\n",
              "      <td>0.0</td>\n",
              "      <td>0.0</td>\n",
              "      <td>1.0</td>\n",
              "      <td>0.0</td>\n",
              "      <td>0.0</td>\n",
              "      <td>0.0</td>\n",
              "      <td>0.0</td>\n",
              "      <td>0.0</td>\n",
              "      <td>0.0</td>\n",
              "      <td>0.0</td>\n",
              "      <td>...</td>\n",
              "      <td>0.0</td>\n",
              "      <td>0.0</td>\n",
              "      <td>0.0</td>\n",
              "      <td>0.0</td>\n",
              "      <td>0.0</td>\n",
              "      <td>0.0</td>\n",
              "      <td>0.0</td>\n",
              "      <td>0.0</td>\n",
              "      <td>0.0</td>\n",
              "      <td>0.0</td>\n",
              "    </tr>\n",
              "    <tr>\n",
              "      <th>776</th>\n",
              "      <td>0.0</td>\n",
              "      <td>0.0</td>\n",
              "      <td>0.0</td>\n",
              "      <td>0.0</td>\n",
              "      <td>0.0</td>\n",
              "      <td>0.0</td>\n",
              "      <td>0.0</td>\n",
              "      <td>0.0</td>\n",
              "      <td>0.0</td>\n",
              "      <td>0.0</td>\n",
              "      <td>...</td>\n",
              "      <td>0.0</td>\n",
              "      <td>0.0</td>\n",
              "      <td>0.0</td>\n",
              "      <td>0.0</td>\n",
              "      <td>0.0</td>\n",
              "      <td>0.0</td>\n",
              "      <td>0.0</td>\n",
              "      <td>0.0</td>\n",
              "      <td>0.0</td>\n",
              "      <td>0.0</td>\n",
              "    </tr>\n",
              "    <tr>\n",
              "      <th>...</th>\n",
              "      <td>...</td>\n",
              "      <td>...</td>\n",
              "      <td>...</td>\n",
              "      <td>...</td>\n",
              "      <td>...</td>\n",
              "      <td>...</td>\n",
              "      <td>...</td>\n",
              "      <td>...</td>\n",
              "      <td>...</td>\n",
              "      <td>...</td>\n",
              "      <td>...</td>\n",
              "      <td>...</td>\n",
              "      <td>...</td>\n",
              "      <td>...</td>\n",
              "      <td>...</td>\n",
              "      <td>...</td>\n",
              "      <td>...</td>\n",
              "      <td>...</td>\n",
              "      <td>...</td>\n",
              "      <td>...</td>\n",
              "      <td>...</td>\n",
              "    </tr>\n",
              "    <tr>\n",
              "      <th>390183</th>\n",
              "      <td>0.0</td>\n",
              "      <td>0.0</td>\n",
              "      <td>0.0</td>\n",
              "      <td>0.0</td>\n",
              "      <td>0.0</td>\n",
              "      <td>0.0</td>\n",
              "      <td>0.0</td>\n",
              "      <td>0.0</td>\n",
              "      <td>0.0</td>\n",
              "      <td>0.0</td>\n",
              "      <td>...</td>\n",
              "      <td>0.0</td>\n",
              "      <td>0.0</td>\n",
              "      <td>0.0</td>\n",
              "      <td>0.0</td>\n",
              "      <td>0.0</td>\n",
              "      <td>0.0</td>\n",
              "      <td>0.0</td>\n",
              "      <td>0.0</td>\n",
              "      <td>0.0</td>\n",
              "      <td>0.0</td>\n",
              "    </tr>\n",
              "    <tr>\n",
              "      <th>390286</th>\n",
              "      <td>0.0</td>\n",
              "      <td>0.0</td>\n",
              "      <td>0.0</td>\n",
              "      <td>0.0</td>\n",
              "      <td>0.0</td>\n",
              "      <td>0.0</td>\n",
              "      <td>0.0</td>\n",
              "      <td>0.0</td>\n",
              "      <td>0.0</td>\n",
              "      <td>0.0</td>\n",
              "      <td>...</td>\n",
              "      <td>0.0</td>\n",
              "      <td>0.0</td>\n",
              "      <td>0.0</td>\n",
              "      <td>0.0</td>\n",
              "      <td>0.0</td>\n",
              "      <td>0.0</td>\n",
              "      <td>0.0</td>\n",
              "      <td>0.0</td>\n",
              "      <td>0.0</td>\n",
              "      <td>0.0</td>\n",
              "    </tr>\n",
              "    <tr>\n",
              "      <th>390390</th>\n",
              "      <td>0.0</td>\n",
              "      <td>0.0</td>\n",
              "      <td>0.0</td>\n",
              "      <td>0.0</td>\n",
              "      <td>0.0</td>\n",
              "      <td>0.0</td>\n",
              "      <td>0.0</td>\n",
              "      <td>1.0</td>\n",
              "      <td>0.0</td>\n",
              "      <td>0.0</td>\n",
              "      <td>...</td>\n",
              "      <td>0.0</td>\n",
              "      <td>0.0</td>\n",
              "      <td>0.0</td>\n",
              "      <td>1.0</td>\n",
              "      <td>0.0</td>\n",
              "      <td>0.0</td>\n",
              "      <td>0.0</td>\n",
              "      <td>0.0</td>\n",
              "      <td>0.0</td>\n",
              "      <td>0.0</td>\n",
              "    </tr>\n",
              "    <tr>\n",
              "      <th>390810</th>\n",
              "      <td>0.0</td>\n",
              "      <td>0.0</td>\n",
              "      <td>0.0</td>\n",
              "      <td>0.0</td>\n",
              "      <td>0.0</td>\n",
              "      <td>0.0</td>\n",
              "      <td>0.0</td>\n",
              "      <td>0.0</td>\n",
              "      <td>0.0</td>\n",
              "      <td>0.0</td>\n",
              "      <td>...</td>\n",
              "      <td>0.0</td>\n",
              "      <td>0.0</td>\n",
              "      <td>0.0</td>\n",
              "      <td>0.0</td>\n",
              "      <td>0.0</td>\n",
              "      <td>0.0</td>\n",
              "      <td>0.0</td>\n",
              "      <td>0.0</td>\n",
              "      <td>0.0</td>\n",
              "      <td>0.0</td>\n",
              "    </tr>\n",
              "    <tr>\n",
              "      <th>391007</th>\n",
              "      <td>0.0</td>\n",
              "      <td>0.0</td>\n",
              "      <td>0.0</td>\n",
              "      <td>0.0</td>\n",
              "      <td>0.0</td>\n",
              "      <td>0.0</td>\n",
              "      <td>0.0</td>\n",
              "      <td>0.0</td>\n",
              "      <td>0.0</td>\n",
              "      <td>0.0</td>\n",
              "      <td>...</td>\n",
              "      <td>0.0</td>\n",
              "      <td>0.0</td>\n",
              "      <td>0.0</td>\n",
              "      <td>0.0</td>\n",
              "      <td>0.0</td>\n",
              "      <td>1.0</td>\n",
              "      <td>0.0</td>\n",
              "      <td>0.0</td>\n",
              "      <td>0.0</td>\n",
              "      <td>0.0</td>\n",
              "    </tr>\n",
              "  </tbody>\n",
              "</table>\n",
              "<p>3478 rows × 100 columns</p>\n",
              "</div>\n",
              "      <button class=\"colab-df-convert\" onclick=\"convertToInteractive('df-c7bfbcca-7704-445f-946a-490354e64bd9')\"\n",
              "              title=\"Convert this dataframe to an interactive table.\"\n",
              "              style=\"display:none;\">\n",
              "        \n",
              "  <svg xmlns=\"http://www.w3.org/2000/svg\" height=\"24px\"viewBox=\"0 0 24 24\"\n",
              "       width=\"24px\">\n",
              "    <path d=\"M0 0h24v24H0V0z\" fill=\"none\"/>\n",
              "    <path d=\"M18.56 5.44l.94 2.06.94-2.06 2.06-.94-2.06-.94-.94-2.06-.94 2.06-2.06.94zm-11 1L8.5 8.5l.94-2.06 2.06-.94-2.06-.94L8.5 2.5l-.94 2.06-2.06.94zm10 10l.94 2.06.94-2.06 2.06-.94-2.06-.94-.94-2.06-.94 2.06-2.06.94z\"/><path d=\"M17.41 7.96l-1.37-1.37c-.4-.4-.92-.59-1.43-.59-.52 0-1.04.2-1.43.59L10.3 9.45l-7.72 7.72c-.78.78-.78 2.05 0 2.83L4 21.41c.39.39.9.59 1.41.59.51 0 1.02-.2 1.41-.59l7.78-7.78 2.81-2.81c.8-.78.8-2.07 0-2.86zM5.41 20L4 18.59l7.72-7.72 1.47 1.35L5.41 20z\"/>\n",
              "  </svg>\n",
              "      </button>\n",
              "      \n",
              "  <style>\n",
              "    .colab-df-container {\n",
              "      display:flex;\n",
              "      flex-wrap:wrap;\n",
              "      gap: 12px;\n",
              "    }\n",
              "\n",
              "    .colab-df-convert {\n",
              "      background-color: #E8F0FE;\n",
              "      border: none;\n",
              "      border-radius: 50%;\n",
              "      cursor: pointer;\n",
              "      display: none;\n",
              "      fill: #1967D2;\n",
              "      height: 32px;\n",
              "      padding: 0 0 0 0;\n",
              "      width: 32px;\n",
              "    }\n",
              "\n",
              "    .colab-df-convert:hover {\n",
              "      background-color: #E2EBFA;\n",
              "      box-shadow: 0px 1px 2px rgba(60, 64, 67, 0.3), 0px 1px 3px 1px rgba(60, 64, 67, 0.15);\n",
              "      fill: #174EA6;\n",
              "    }\n",
              "\n",
              "    [theme=dark] .colab-df-convert {\n",
              "      background-color: #3B4455;\n",
              "      fill: #D2E3FC;\n",
              "    }\n",
              "\n",
              "    [theme=dark] .colab-df-convert:hover {\n",
              "      background-color: #434B5C;\n",
              "      box-shadow: 0px 1px 3px 1px rgba(0, 0, 0, 0.15);\n",
              "      filter: drop-shadow(0px 1px 2px rgba(0, 0, 0, 0.3));\n",
              "      fill: #FFFFFF;\n",
              "    }\n",
              "  </style>\n",
              "\n",
              "      <script>\n",
              "        const buttonEl =\n",
              "          document.querySelector('#df-c7bfbcca-7704-445f-946a-490354e64bd9 button.colab-df-convert');\n",
              "        buttonEl.style.display =\n",
              "          google.colab.kernel.accessAllowed ? 'block' : 'none';\n",
              "\n",
              "        async function convertToInteractive(key) {\n",
              "          const element = document.querySelector('#df-c7bfbcca-7704-445f-946a-490354e64bd9');\n",
              "          const dataTable =\n",
              "            await google.colab.kernel.invokeFunction('convertToInteractive',\n",
              "                                                     [key], {});\n",
              "          if (!dataTable) return;\n",
              "\n",
              "          const docLinkHtml = 'Like what you see? Visit the ' +\n",
              "            '<a target=\"_blank\" href=https://colab.research.google.com/notebooks/data_table.ipynb>data table notebook</a>'\n",
              "            + ' to learn more about interactive tables.';\n",
              "          element.innerHTML = '';\n",
              "          dataTable['output_type'] = 'display_data';\n",
              "          await google.colab.output.renderOutput(dataTable, element);\n",
              "          const docLink = document.createElement('div');\n",
              "          docLink.innerHTML = docLinkHtml;\n",
              "          element.appendChild(docLink);\n",
              "        }\n",
              "      </script>\n",
              "    </div>\n",
              "  </div>\n",
              "  "
            ]
          },
          "metadata": {},
          "execution_count": 19
        }
      ],
      "source": [
        "bookings_matrix = bookings_matrix.fillna(0)\n",
        "bookings_matrix"
      ]
    },
    {
      "cell_type": "markdown",
      "metadata": {
        "id": "Vzv4bJekjHLq"
      },
      "source": [
        "### Finding similar hotel clusters"
      ]
    },
    {
      "cell_type": "code",
      "execution_count": 20,
      "metadata": {
        "id": "5VcnZwL-jHLq"
      },
      "outputs": [],
      "source": [
        "def find_similar_hotel_clusters(hotel_cluster): \n",
        "    item_user_bookings = bookings_matrix[hotel_cluster]\n",
        "    hotel_correlation = bookings_matrix.corrwith(item_user_bookings)\n",
        "    corr_clusterid = pd.DataFrame(hotel_correlation, columns=['correlation_value'])\n",
        "    corr_clusterid.loc[~(corr_clusterid==0).all(axis=1)]\n",
        "    corr_clusterid = corr_clusterid.round({'correlation_value': 2})\n",
        "    return corr_clusterid.sort_values('correlation_value',ascending=False).head(n = 5)"
      ]
    },
    {
      "cell_type": "code",
      "execution_count": 21,
      "metadata": {
        "id": "3TJmm7RqjHLq",
        "outputId": "72c07f2c-eb11-4edb-bc90-584d5f90a06a",
        "colab": {
          "base_uri": "https://localhost:8080/",
          "height": 237
        }
      },
      "outputs": [
        {
          "output_type": "execute_result",
          "data": {
            "text/plain": [
              "          correlation_value\n",
              "hotel_id                   \n",
              "11                     1.00\n",
              "82                     0.13\n",
              "20                     0.12\n",
              "33                     0.12\n",
              "46                     0.11"
            ],
            "text/html": [
              "\n",
              "  <div id=\"df-12d9074a-4d78-4adf-b769-4dd521913b3d\">\n",
              "    <div class=\"colab-df-container\">\n",
              "      <div>\n",
              "<style scoped>\n",
              "    .dataframe tbody tr th:only-of-type {\n",
              "        vertical-align: middle;\n",
              "    }\n",
              "\n",
              "    .dataframe tbody tr th {\n",
              "        vertical-align: top;\n",
              "    }\n",
              "\n",
              "    .dataframe thead th {\n",
              "        text-align: right;\n",
              "    }\n",
              "</style>\n",
              "<table border=\"1\" class=\"dataframe\">\n",
              "  <thead>\n",
              "    <tr style=\"text-align: right;\">\n",
              "      <th></th>\n",
              "      <th>correlation_value</th>\n",
              "    </tr>\n",
              "    <tr>\n",
              "      <th>hotel_id</th>\n",
              "      <th></th>\n",
              "    </tr>\n",
              "  </thead>\n",
              "  <tbody>\n",
              "    <tr>\n",
              "      <th>11</th>\n",
              "      <td>1.00</td>\n",
              "    </tr>\n",
              "    <tr>\n",
              "      <th>82</th>\n",
              "      <td>0.13</td>\n",
              "    </tr>\n",
              "    <tr>\n",
              "      <th>20</th>\n",
              "      <td>0.12</td>\n",
              "    </tr>\n",
              "    <tr>\n",
              "      <th>33</th>\n",
              "      <td>0.12</td>\n",
              "    </tr>\n",
              "    <tr>\n",
              "      <th>46</th>\n",
              "      <td>0.11</td>\n",
              "    </tr>\n",
              "  </tbody>\n",
              "</table>\n",
              "</div>\n",
              "      <button class=\"colab-df-convert\" onclick=\"convertToInteractive('df-12d9074a-4d78-4adf-b769-4dd521913b3d')\"\n",
              "              title=\"Convert this dataframe to an interactive table.\"\n",
              "              style=\"display:none;\">\n",
              "        \n",
              "  <svg xmlns=\"http://www.w3.org/2000/svg\" height=\"24px\"viewBox=\"0 0 24 24\"\n",
              "       width=\"24px\">\n",
              "    <path d=\"M0 0h24v24H0V0z\" fill=\"none\"/>\n",
              "    <path d=\"M18.56 5.44l.94 2.06.94-2.06 2.06-.94-2.06-.94-.94-2.06-.94 2.06-2.06.94zm-11 1L8.5 8.5l.94-2.06 2.06-.94-2.06-.94L8.5 2.5l-.94 2.06-2.06.94zm10 10l.94 2.06.94-2.06 2.06-.94-2.06-.94-.94-2.06-.94 2.06-2.06.94z\"/><path d=\"M17.41 7.96l-1.37-1.37c-.4-.4-.92-.59-1.43-.59-.52 0-1.04.2-1.43.59L10.3 9.45l-7.72 7.72c-.78.78-.78 2.05 0 2.83L4 21.41c.39.39.9.59 1.41.59.51 0 1.02-.2 1.41-.59l7.78-7.78 2.81-2.81c.8-.78.8-2.07 0-2.86zM5.41 20L4 18.59l7.72-7.72 1.47 1.35L5.41 20z\"/>\n",
              "  </svg>\n",
              "      </button>\n",
              "      \n",
              "  <style>\n",
              "    .colab-df-container {\n",
              "      display:flex;\n",
              "      flex-wrap:wrap;\n",
              "      gap: 12px;\n",
              "    }\n",
              "\n",
              "    .colab-df-convert {\n",
              "      background-color: #E8F0FE;\n",
              "      border: none;\n",
              "      border-radius: 50%;\n",
              "      cursor: pointer;\n",
              "      display: none;\n",
              "      fill: #1967D2;\n",
              "      height: 32px;\n",
              "      padding: 0 0 0 0;\n",
              "      width: 32px;\n",
              "    }\n",
              "\n",
              "    .colab-df-convert:hover {\n",
              "      background-color: #E2EBFA;\n",
              "      box-shadow: 0px 1px 2px rgba(60, 64, 67, 0.3), 0px 1px 3px 1px rgba(60, 64, 67, 0.15);\n",
              "      fill: #174EA6;\n",
              "    }\n",
              "\n",
              "    [theme=dark] .colab-df-convert {\n",
              "      background-color: #3B4455;\n",
              "      fill: #D2E3FC;\n",
              "    }\n",
              "\n",
              "    [theme=dark] .colab-df-convert:hover {\n",
              "      background-color: #434B5C;\n",
              "      box-shadow: 0px 1px 3px 1px rgba(0, 0, 0, 0.15);\n",
              "      filter: drop-shadow(0px 1px 2px rgba(0, 0, 0, 0.3));\n",
              "      fill: #FFFFFF;\n",
              "    }\n",
              "  </style>\n",
              "\n",
              "      <script>\n",
              "        const buttonEl =\n",
              "          document.querySelector('#df-12d9074a-4d78-4adf-b769-4dd521913b3d button.colab-df-convert');\n",
              "        buttonEl.style.display =\n",
              "          google.colab.kernel.accessAllowed ? 'block' : 'none';\n",
              "\n",
              "        async function convertToInteractive(key) {\n",
              "          const element = document.querySelector('#df-12d9074a-4d78-4adf-b769-4dd521913b3d');\n",
              "          const dataTable =\n",
              "            await google.colab.kernel.invokeFunction('convertToInteractive',\n",
              "                                                     [key], {});\n",
              "          if (!dataTable) return;\n",
              "\n",
              "          const docLinkHtml = 'Like what you see? Visit the ' +\n",
              "            '<a target=\"_blank\" href=https://colab.research.google.com/notebooks/data_table.ipynb>data table notebook</a>'\n",
              "            + ' to learn more about interactive tables.';\n",
              "          element.innerHTML = '';\n",
              "          dataTable['output_type'] = 'display_data';\n",
              "          await google.colab.output.renderOutput(dataTable, element);\n",
              "          const docLink = document.createElement('div');\n",
              "          docLink.innerHTML = docLinkHtml;\n",
              "          element.appendChild(docLink);\n",
              "        }\n",
              "      </script>\n",
              "    </div>\n",
              "  </div>\n",
              "  "
            ]
          },
          "metadata": {},
          "execution_count": 21
        }
      ],
      "source": [
        "find_similar_hotel_clusters(11)"
      ]
    },
    {
      "cell_type": "markdown",
      "metadata": {
        "id": "wJb3P874jHLq"
      },
      "source": [
        "### What are we predicting?"
      ]
    },
    {
      "cell_type": "markdown",
      "metadata": {
        "tags": [],
        "id": "JCa6lhj2jHLq"
      },
      "source": [
        "#### The objective is to predict which hotel_cluster a user will book given the information in their search. There are 100 clusters in total."
      ]
    },
    {
      "cell_type": "code",
      "execution_count": 91,
      "metadata": {
        "id": "o6JHVnGEjHLq",
        "outputId": "b96ab33b-4b12-4b29-8db2-e9a9a477e655",
        "colab": {
          "base_uri": "https://localhost:8080/",
          "height": 340
        }
      },
      "outputs": [
        {
          "output_type": "execute_result",
          "data": {
            "text/plain": [
              "<matplotlib.axes._subplots.AxesSubplot at 0x7efdf5353ad0>"
            ]
          },
          "metadata": {},
          "execution_count": 91
        },
        {
          "output_type": "display_data",
          "data": {
            "text/plain": [
              "<Figure size 1440x360 with 1 Axes>"
            ],
            "image/png": "[encoded data removed]"
          },
          "metadata": {
            "needs_background": "light"
          }
        }
      ],
      "source": [
        "new_df['hotel_id'].value_counts().plot(kind='bar',color=\"green\",figsize=(20,5))"
      ]
    },
    {
      "cell_type": "markdown",
      "metadata": {
        "id": "qVDuSqw9jHLq"
      },
      "source": [
        "## Collaborative Filtering using Cosine Similarity"
      ]
    },
    {
      "cell_type": "code",
      "execution_count": 22,
      "metadata": {
        "id": "HQA1HSyZjHLr"
      },
      "outputs": [],
      "source": [
        "users_count, hotels_count = new_df.user_id.unique().shape[0], new_df.hotel_id.unique().shape[0]"
      ]
    },
    {
      "cell_type": "code",
      "execution_count": 23,
      "metadata": {
        "id": "IYJOPwS9jHLr",
        "outputId": "2494ac18-b5ef-47fe-842f-c78f9649e5eb",
        "colab": {
          "base_uri": "https://localhost:8080/"
        }
      },
      "outputs": [
        {
          "output_type": "stream",
          "name": "stdout",
          "text": [
            "The no of unique users =  3478\n",
            "The no of hotel clusters =  100\n"
          ]
        }
      ],
      "source": [
        "print(\"The no of unique users = \",users_count)\n",
        "print(\"The no of hotel clusters = \",hotels_count)"
      ]
    },
    {
      "cell_type": "code",
      "execution_count": 24,
      "metadata": {
        "id": "K69mLuQujHLr"
      },
      "outputs": [],
      "source": [
        "def map_ids_to_idx(df):\n",
        "    user_idx = np.arange(0, users_count)\n",
        "    hotel_idx = np.arange(0, hotels_count)\n",
        "    \n",
        "    idx_user_df = pd.DataFrame(df.user_id.unique(), columns=[\"user\"])\n",
        "    idx_user_df[\"idx\"] = user_idx\n",
        "    \n",
        "    idx_hotel_df = pd.DataFrame(df.hotel_id.unique(), columns=[\"hotel\"])\n",
        "    idx_hotel_df[\"idx\"] = hotel_idx\n",
        "    \n",
        "    df[\"hotel_index\"] = df[\"hotel_id\"].map(idx_hotel_df.set_index('hotel')[\"idx\"]).fillna(0)\n",
        "    df[\"user_index\"] = df[\"user_id\"].map(idx_user_df.set_index('user')[\"idx\"]).fillna(0)\n",
        "\n",
        "    return df"
      ]
    },
    {
      "cell_type": "code",
      "execution_count": 25,
      "metadata": {
        "id": "5vnZsAbmjHLr",
        "outputId": "bd818bc8-cdfc-4079-ce18-ad820ff06be1",
        "colab": {
          "base_uri": "https://localhost:8080/",
          "height": 423
        }
      },
      "outputs": [
        {
          "output_type": "execute_result",
          "data": {
            "text/plain": [
              "       user_id  hotel_id  booking  hotel_index  user_index\n",
              "0           12         1        1            0           0\n",
              "1           93        21        0            1           1\n",
              "2           93        80        0            2           1\n",
              "3           93        92        0            3           1\n",
              "4          501        10        0            4           2\n",
              "...        ...       ...      ...          ...         ...\n",
              "40806   391007        81        0           29        3477\n",
              "40807   391007        85        0           31        3477\n",
              "40808   391007        90        0           62        3477\n",
              "40809   391007        93        0           86        3477\n",
              "40810   391007        95        1           41        3477\n",
              "\n",
              "[40811 rows x 5 columns]"
            ],
            "text/html": [
              "\n",
              "  <div id=\"df-e213ac80-c037-421b-b264-88e71315d415\">\n",
              "    <div class=\"colab-df-container\">\n",
              "      <div>\n",
              "<style scoped>\n",
              "    .dataframe tbody tr th:only-of-type {\n",
              "        vertical-align: middle;\n",
              "    }\n",
              "\n",
              "    .dataframe tbody tr th {\n",
              "        vertical-align: top;\n",
              "    }\n",
              "\n",
              "    .dataframe thead th {\n",
              "        text-align: right;\n",
              "    }\n",
              "</style>\n",
              "<table border=\"1\" class=\"dataframe\">\n",
              "  <thead>\n",
              "    <tr style=\"text-align: right;\">\n",
              "      <th></th>\n",
              "      <th>user_id</th>\n",
              "      <th>hotel_id</th>\n",
              "      <th>booking</th>\n",
              "      <th>hotel_index</th>\n",
              "      <th>user_index</th>\n",
              "    </tr>\n",
              "  </thead>\n",
              "  <tbody>\n",
              "    <tr>\n",
              "      <th>0</th>\n",
              "      <td>12</td>\n",
              "      <td>1</td>\n",
              "      <td>1</td>\n",
              "      <td>0</td>\n",
              "      <td>0</td>\n",
              "    </tr>\n",
              "    <tr>\n",
              "      <th>1</th>\n",
              "      <td>93</td>\n",
              "      <td>21</td>\n",
              "      <td>0</td>\n",
              "      <td>1</td>\n",
              "      <td>1</td>\n",
              "    </tr>\n",
              "    <tr>\n",
              "      <th>2</th>\n",
              "      <td>93</td>\n",
              "      <td>80</td>\n",
              "      <td>0</td>\n",
              "      <td>2</td>\n",
              "      <td>1</td>\n",
              "    </tr>\n",
              "    <tr>\n",
              "      <th>3</th>\n",
              "      <td>93</td>\n",
              "      <td>92</td>\n",
              "      <td>0</td>\n",
              "      <td>3</td>\n",
              "      <td>1</td>\n",
              "    </tr>\n",
              "    <tr>\n",
              "      <th>4</th>\n",
              "      <td>501</td>\n",
              "      <td>10</td>\n",
              "      <td>0</td>\n",
              "      <td>4</td>\n",
              "      <td>2</td>\n",
              "    </tr>\n",
              "    <tr>\n",
              "      <th>...</th>\n",
              "      <td>...</td>\n",
              "      <td>...</td>\n",
              "      <td>...</td>\n",
              "      <td>...</td>\n",
              "      <td>...</td>\n",
              "    </tr>\n",
              "    <tr>\n",
              "      <th>40806</th>\n",
              "      <td>391007</td>\n",
              "      <td>81</td>\n",
              "      <td>0</td>\n",
              "      <td>29</td>\n",
              "      <td>3477</td>\n",
              "    </tr>\n",
              "    <tr>\n",
              "      <th>40807</th>\n",
              "      <td>391007</td>\n",
              "      <td>85</td>\n",
              "      <td>0</td>\n",
              "      <td>31</td>\n",
              "      <td>3477</td>\n",
              "    </tr>\n",
              "    <tr>\n",
              "      <th>40808</th>\n",
              "      <td>391007</td>\n",
              "      <td>90</td>\n",
              "      <td>0</td>\n",
              "      <td>62</td>\n",
              "      <td>3477</td>\n",
              "    </tr>\n",
              "    <tr>\n",
              "      <th>40809</th>\n",
              "      <td>391007</td>\n",
              "      <td>93</td>\n",
              "      <td>0</td>\n",
              "      <td>86</td>\n",
              "      <td>3477</td>\n",
              "    </tr>\n",
              "    <tr>\n",
              "      <th>40810</th>\n",
              "      <td>391007</td>\n",
              "      <td>95</td>\n",
              "      <td>1</td>\n",
              "      <td>41</td>\n",
              "      <td>3477</td>\n",
              "    </tr>\n",
              "  </tbody>\n",
              "</table>\n",
              "<p>40811 rows × 5 columns</p>\n",
              "</div>\n",
              "      <button class=\"colab-df-convert\" onclick=\"convertToInteractive('df-e213ac80-c037-421b-b264-88e71315d415')\"\n",
              "              title=\"Convert this dataframe to an interactive table.\"\n",
              "              style=\"display:none;\">\n",
              "        \n",
              "  <svg xmlns=\"http://www.w3.org/2000/svg\" height=\"24px\"viewBox=\"0 0 24 24\"\n",
              "       width=\"24px\">\n",
              "    <path d=\"M0 0h24v24H0V0z\" fill=\"none\"/>\n",
              "    <path d=\"M18.56 5.44l.94 2.06.94-2.06 2.06-.94-2.06-.94-.94-2.06-.94 2.06-2.06.94zm-11 1L8.5 8.5l.94-2.06 2.06-.94-2.06-.94L8.5 2.5l-.94 2.06-2.06.94zm10 10l.94 2.06.94-2.06 2.06-.94-2.06-.94-.94-2.06-.94 2.06-2.06.94z\"/><path d=\"M17.41 7.96l-1.37-1.37c-.4-.4-.92-.59-1.43-.59-.52 0-1.04.2-1.43.59L10.3 9.45l-7.72 7.72c-.78.78-.78 2.05 0 2.83L4 21.41c.39.39.9.59 1.41.59.51 0 1.02-.2 1.41-.59l7.78-7.78 2.81-2.81c.8-.78.8-2.07 0-2.86zM5.41 20L4 18.59l7.72-7.72 1.47 1.35L5.41 20z\"/>\n",
              "  </svg>\n",
              "      </button>\n",
              "      \n",
              "  <style>\n",
              "    .colab-df-container {\n",
              "      display:flex;\n",
              "      flex-wrap:wrap;\n",
              "      gap: 12px;\n",
              "    }\n",
              "\n",
              "    .colab-df-convert {\n",
              "      background-color: #E8F0FE;\n",
              "      border: none;\n",
              "      border-radius: 50%;\n",
              "      cursor: pointer;\n",
              "      display: none;\n",
              "      fill: #1967D2;\n",
              "      height: 32px;\n",
              "      padding: 0 0 0 0;\n",
              "      width: 32px;\n",
              "    }\n",
              "\n",
              "    .colab-df-convert:hover {\n",
              "      background-color: #E2EBFA;\n",
              "      box-shadow: 0px 1px 2px rgba(60, 64, 67, 0.3), 0px 1px 3px 1px rgba(60, 64, 67, 0.15);\n",
              "      fill: #174EA6;\n",
              "    }\n",
              "\n",
              "    [theme=dark] .colab-df-convert {\n",
              "      background-color: #3B4455;\n",
              "      fill: #D2E3FC;\n",
              "    }\n",
              "\n",
              "    [theme=dark] .colab-df-convert:hover {\n",
              "      background-color: #434B5C;\n",
              "      box-shadow: 0px 1px 3px 1px rgba(0, 0, 0, 0.15);\n",
              "      filter: drop-shadow(0px 1px 2px rgba(0, 0, 0, 0.3));\n",
              "      fill: #FFFFFF;\n",
              "    }\n",
              "  </style>\n",
              "\n",
              "      <script>\n",
              "        const buttonEl =\n",
              "          document.querySelector('#df-e213ac80-c037-421b-b264-88e71315d415 button.colab-df-convert');\n",
              "        buttonEl.style.display =\n",
              "          google.colab.kernel.accessAllowed ? 'block' : 'none';\n",
              "\n",
              "        async function convertToInteractive(key) {\n",
              "          const element = document.querySelector('#df-e213ac80-c037-421b-b264-88e71315d415');\n",
              "          const dataTable =\n",
              "            await google.colab.kernel.invokeFunction('convertToInteractive',\n",
              "                                                     [key], {});\n",
              "          if (!dataTable) return;\n",
              "\n",
              "          const docLinkHtml = 'Like what you see? Visit the ' +\n",
              "            '<a target=\"_blank\" href=https://colab.research.google.com/notebooks/data_table.ipynb>data table notebook</a>'\n",
              "            + ' to learn more about interactive tables.';\n",
              "          element.innerHTML = '';\n",
              "          dataTable['output_type'] = 'display_data';\n",
              "          await google.colab.output.renderOutput(dataTable, element);\n",
              "          const docLink = document.createElement('div');\n",
              "          docLink.innerHTML = docLinkHtml;\n",
              "          element.appendChild(docLink);\n",
              "        }\n",
              "      </script>\n",
              "    </div>\n",
              "  </div>\n",
              "  "
            ]
          },
          "metadata": {},
          "execution_count": 25
        }
      ],
      "source": [
        "new_df = map_ids_to_idx(new_df)\n",
        "new_df"
      ]
    },
    {
      "cell_type": "markdown",
      "metadata": {
        "id": "U82k9-MxjHLr"
      },
      "source": [
        "### Splitting the data into training and testing"
      ]
    },
    {
      "cell_type": "code",
      "execution_count": 26,
      "metadata": {
        "id": "HvEVZ3VIjHLr"
      },
      "outputs": [],
      "source": [
        "training_data, testing_data = train_test_split(new_df, test_size = 0.3)"
      ]
    },
    {
      "cell_type": "code",
      "execution_count": 27,
      "metadata": {
        "id": "LhjF_aYEjHLr",
        "outputId": "ae761c2c-ed15-4e0c-8710-bd8657c9fd33",
        "colab": {
          "base_uri": "https://localhost:8080/"
        }
      },
      "outputs": [
        {
          "output_type": "execute_result",
          "data": {
            "text/plain": [
              "array([[1., 0., 0., ..., 0., 0., 0.],\n",
              "       [0., 0., 0., ..., 0., 0., 0.],\n",
              "       [0., 0., 0., ..., 0., 0., 0.],\n",
              "       ...,\n",
              "       [0., 0., 0., ..., 0., 0., 0.],\n",
              "       [0., 0., 0., ..., 0., 0., 0.],\n",
              "       [0., 0., 0., ..., 0., 0., 0.]])"
            ]
          },
          "metadata": {},
          "execution_count": 27
        }
      ],
      "source": [
        "utility_matrix = np.zeros((users_count, hotels_count))\n",
        "for row in new_df.itertuples():\n",
        "    utility_matrix[row[5], row[4]] = row[3]\n",
        "utility_matrix"
      ]
    },
    {
      "cell_type": "code",
      "source": [
        "train_data_copy = train_data_copy.dropna(axis=0, how='any', thresh=None, subset=None, inplace=False)"
      ],
      "metadata": {
        "id": "BG_aUnS0_e2m"
      },
      "execution_count": 28,
      "outputs": []
    },
    {
      "cell_type": "code",
      "source": [
        "# Define holidays in some countries\n",
        "ca_holidays = holidays.Canada()\n",
        "us_holidays = holidays.UnitedStates()\n",
        "\n",
        "uk_holidays = holidays.UnitedKingdom()\n",
        "gr_holidays = holidays.Germany()\n",
        "\n",
        "# check if checkin or checkout date is in holiday of different countries\n",
        "train_data_copy['north_am_ci'] = train_data_copy['srch_ci'].apply(lambda x: 1 if x in (us_holidays or ca_holidays)  else 0)\n",
        "train_data_copy['north_am_co'] = train_data_copy['srch_co'].apply(lambda x: 1 if x in (us_holidays or ca_holidays)  else 0)\n",
        "\n",
        "train_data_copy['europe_ci'] = train_data_copy['srch_ci'].apply(lambda x: 1 if x in (uk_holidays or gr_holidays)  else 0)\n",
        "train_data_copy['europe_co'] = train_data_copy['srch_co'].apply(lambda x: 1 if x in (uk_holidays or gr_holidays)  else 0)"
      ],
      "metadata": {
        "id": "7KNHe3xc_JtO"
      },
      "execution_count": 29,
      "outputs": []
    },
    {
      "cell_type": "code",
      "source": [
        "# extract month from date_time\n",
        "train_data_copy['click_month'] = pd.DatetimeIndex(train_data_copy['date_time']).month\n",
        "train_data_copy['checkin_month'] = pd.DatetimeIndex(train_data_copy['srch_ci']).month\n",
        "train_data_copy['checkout_month'] = pd.DatetimeIndex(train_data_copy['srch_co']).month"
      ],
      "metadata": {
        "id": "YYJB34hD-cjr"
      },
      "execution_count": 30,
      "outputs": []
    },
    {
      "cell_type": "code",
      "execution_count": 31,
      "metadata": {
        "id": "2QZ1LFzXjHLr"
      },
      "outputs": [],
      "source": [
        "train_data_copy = train_data_copy.drop(['date_time', 'srch_ci', 'srch_co'], axis=1)"
      ]
    },
    {
      "cell_type": "code",
      "execution_count": 32,
      "metadata": {
        "id": "4k_Vw6ckjHLr",
        "outputId": "5c82c03e-4be2-48fe-aa61-34a24678e647",
        "colab": {
          "base_uri": "https://localhost:8080/"
        }
      },
      "outputs": [
        {
          "output_type": "stream",
          "name": "stdout",
          "text": [
            "(63023, 28)\n"
          ]
        }
      ],
      "source": [
        "data = pd.get_dummies(train_data_copy)\n",
        "print(data.shape)"
      ]
    },
    {
      "cell_type": "code",
      "execution_count": 33,
      "metadata": {
        "id": "Y-CsNbOAjHLr",
        "outputId": "41c14b4c-9279-4054-cf6e-9466d19dbbef",
        "colab": {
          "base_uri": "https://localhost:8080/"
        }
      },
      "outputs": [
        {
          "output_type": "stream",
          "name": "stdout",
          "text": [
            "<class 'pandas.core.frame.DataFrame'>\n",
            "Int64Index: 63023 entries, 0 to 99926\n",
            "Data columns (total 27 columns):\n",
            " #   Column                     Non-Null Count  Dtype  \n",
            "---  ------                     --------------  -----  \n",
            " 0   site_name                  63023 non-null  int64  \n",
            " 1   posa_continent             63023 non-null  int64  \n",
            " 2   user_location_country      63023 non-null  int64  \n",
            " 3   user_location_region       63023 non-null  int64  \n",
            " 4   user_location_city         63023 non-null  int64  \n",
            " 5   orig_destination_distance  63023 non-null  float64\n",
            " 6   user_id                    63023 non-null  int64  \n",
            " 7   is_mobile                  63023 non-null  int64  \n",
            " 8   is_package                 63023 non-null  int64  \n",
            " 9   channel                    63023 non-null  int64  \n",
            " 10  srch_adults_cnt            63023 non-null  int64  \n",
            " 11  srch_children_cnt          63023 non-null  int64  \n",
            " 12  srch_rm_cnt                63023 non-null  int64  \n",
            " 13  srch_destination_id        63023 non-null  int64  \n",
            " 14  srch_destination_type_id   63023 non-null  int64  \n",
            " 15  is_booking                 63023 non-null  int64  \n",
            " 16  cnt                        63023 non-null  int64  \n",
            " 17  hotel_continent            63023 non-null  int64  \n",
            " 18  hotel_country              63023 non-null  int64  \n",
            " 19  hotel_market               63023 non-null  int64  \n",
            " 20  north_am_ci                63023 non-null  int64  \n",
            " 21  north_am_co                63023 non-null  int64  \n",
            " 22  europe_ci                  63023 non-null  int64  \n",
            " 23  europe_co                  63023 non-null  int64  \n",
            " 24  click_month                63023 non-null  int64  \n",
            " 25  checkin_month              63023 non-null  int64  \n",
            " 26  checkout_month             63023 non-null  int64  \n",
            "dtypes: float64(1), int64(26)\n",
            "memory usage: 13.5 MB\n"
          ]
        }
      ],
      "source": [
        "Y = data['hotel_cluster']\n",
        "X = data.drop(['hotel_cluster'],axis=1)\n",
        "X.info()"
      ]
    },
    {
      "cell_type": "code",
      "execution_count": 34,
      "metadata": {
        "id": "4h5ln4uEjHLr"
      },
      "outputs": [],
      "source": [
        "X_train, X_val, y_train, y_val = train_test_split(X, Y, test_size=0.3, random_state=101)"
      ]
    },
    {
      "cell_type": "markdown",
      "metadata": {
        "id": "lVF7xDZfjHLr"
      },
      "source": [
        "### Creating utility matrix for training data and testing data"
      ]
    },
    {
      "cell_type": "code",
      "execution_count": 145,
      "metadata": {
        "id": "xSmKfK_FjHLs",
        "outputId": "3bb29c8c-6818-49f9-82de-bd69c9496e9d",
        "colab": {
          "base_uri": "https://localhost:8080/",
          "height": 222
        }
      },
      "outputs": [
        {
          "output_type": "error",
          "ename": "IndexError",
          "evalue": "ignored",
          "traceback": [
            "\u001b[0;31m---------------------------------------------------------------------------\u001b[0m",
            "\u001b[0;31mIndexError\u001b[0m                                Traceback (most recent call last)",
            "\u001b[0;32m<ipython-input-145-da862af33d16>\u001b[0m in \u001b[0;36m<module>\u001b[0;34m()\u001b[0m\n\u001b[1;32m      1\u001b[0m \u001b[0mtrain_utility_matrix\u001b[0m \u001b[0;34m=\u001b[0m \u001b[0mnp\u001b[0m\u001b[0;34m.\u001b[0m\u001b[0mzeros\u001b[0m\u001b[0;34m(\u001b[0m\u001b[0;34m(\u001b[0m\u001b[0musers_count\u001b[0m\u001b[0;34m,\u001b[0m \u001b[0mhotels_count\u001b[0m\u001b[0;34m)\u001b[0m\u001b[0;34m)\u001b[0m\u001b[0;34m\u001b[0m\u001b[0;34m\u001b[0m\u001b[0m\n\u001b[1;32m      2\u001b[0m \u001b[0;32mfor\u001b[0m \u001b[0mrow\u001b[0m \u001b[0;32min\u001b[0m \u001b[0mtrain_data\u001b[0m\u001b[0;34m.\u001b[0m\u001b[0mitertuples\u001b[0m\u001b[0;34m(\u001b[0m\u001b[0;34m)\u001b[0m\u001b[0;34m:\u001b[0m\u001b[0;34m\u001b[0m\u001b[0;34m\u001b[0m\u001b[0m\n\u001b[0;32m----> 3\u001b[0;31m     \u001b[0mtrain_utility_matrix\u001b[0m\u001b[0;34m[\u001b[0m\u001b[0mrow\u001b[0m\u001b[0;34m[\u001b[0m\u001b[0;36m5\u001b[0m\u001b[0;34m]\u001b[0m\u001b[0;34m,\u001b[0m \u001b[0mrow\u001b[0m\u001b[0;34m[\u001b[0m\u001b[0;36m4\u001b[0m\u001b[0;34m]\u001b[0m\u001b[0;34m]\u001b[0m \u001b[0;34m=\u001b[0m \u001b[0mrow\u001b[0m\u001b[0;34m[\u001b[0m\u001b[0;36m3\u001b[0m\u001b[0;34m]\u001b[0m\u001b[0;34m\u001b[0m\u001b[0;34m\u001b[0m\u001b[0m\n\u001b[0m\u001b[1;32m      4\u001b[0m \u001b[0mtrain_utility_matrix\u001b[0m\u001b[0;34m\u001b[0m\u001b[0;34m\u001b[0m\u001b[0m\n",
            "\u001b[0;31mIndexError\u001b[0m: index 195 is out of bounds for axis 1 with size 100"
          ]
        }
      ],
      "source": [
        "train_utility_matrix = np.zeros((users_count, hotels_count))\n",
        "for row in train_data.itertuples():\n",
        "    train_utility_matrix[row[5], row[4]] = row[3]\n",
        "train_utility_matrix"
      ]
    },
    {
      "cell_type": "code",
      "execution_count": 45,
      "metadata": {
        "id": "fOehaPwpjHLs",
        "outputId": "0b531e86-4c35-43d4-af8b-91ecb02014b9",
        "colab": {
          "base_uri": "https://localhost:8080/"
        }
      },
      "outputs": [
        {
          "output_type": "execute_result",
          "data": {
            "text/plain": [
              "array([[1., 0., 0., ..., 0., 0., 0.],\n",
              "       [0., 0., 0., ..., 0., 0., 0.],\n",
              "       [0., 0., 0., ..., 0., 0., 0.],\n",
              "       ...,\n",
              "       [0., 0., 0., ..., 0., 0., 0.],\n",
              "       [0., 0., 0., ..., 0., 0., 0.],\n",
              "       [0., 0., 0., ..., 0., 0., 0.]])"
            ]
          },
          "metadata": {},
          "execution_count": 45
        }
      ],
      "source": [
        "test_utility_matrix = np.zeros((users_count, hotels_count))\n",
        "for row in test_data.itertuples():\n",
        "    test_utility_matrix[row[5], row[4]] = row[3]\n",
        "test_utility_matrix"
      ]
    },
    {
      "cell_type": "markdown",
      "metadata": {
        "id": "l7Ba2G4ojHLs"
      },
      "source": [
        "### Calculating the cosine similarity"
      ]
    },
    {
      "cell_type": "code",
      "execution_count": null,
      "metadata": {
        "id": "D2DU4jNSjHLs"
      },
      "outputs": [],
      "source": [
        "similarity_btw_users = pairwise_distances(train_utility_matrix, metric = 'cosine')\n",
        "similarity_btw_users"
      ]
    },
    {
      "cell_type": "code",
      "execution_count": null,
      "metadata": {
        "id": "CZAU_o9NjHLs"
      },
      "outputs": [],
      "source": [
        "transpose_utility_matrix = train_utility_matrix.T\n",
        "similarity_btw_items = pairwise_distances(transpose_utility_matrix, metric = 'cosine')\n",
        "similarity_btw_items"
      ]
    },
    {
      "cell_type": "markdown",
      "metadata": {
        "id": "FN2stxoKjHLs"
      },
      "source": [
        "### Performing predictions based on cosine similarity"
      ]
    },
    {
      "cell_type": "code",
      "execution_count": null,
      "metadata": {
        "id": "fLsJ4SeljHLs"
      },
      "outputs": [],
      "source": [
        "def user_prediction(matrix, similarity_measure):\n",
        "    avg_user_booking = matrix.mean(axis = 1)\n",
        "    diff_of_bookings = (matrix - avg_user_booking[:, np.newaxis])\n",
        "    pred = avg_user_booking[:, np.newaxis] + similarity_measure.dot(diff_of_bookings) / np.array([np.abs(similarity_measure).sum(axis=1)]).T\n",
        "    return pred"
      ]
    },
    {
      "cell_type": "code",
      "execution_count": null,
      "metadata": {
        "id": "KGhhnndfjHLs"
      },
      "outputs": [],
      "source": [
        "user_pred = user_prediction(train_utility_matrix, similarity_btw_users)"
      ]
    },
    {
      "cell_type": "code",
      "execution_count": null,
      "metadata": {
        "id": "0WpCWpcQjHLs"
      },
      "outputs": [],
      "source": [
        "user_pred"
      ]
    },
    {
      "cell_type": "code",
      "execution_count": null,
      "metadata": {
        "id": "Jzq898TfjHLs"
      },
      "outputs": [],
      "source": [
        "def item_prediction(matrix, similarity_measure):\n",
        "    pred = matrix.dot(similarity_measure) / np.array([np.abs(similarity_measure).sum(axis=1)])\n",
        "    return pred"
      ]
    },
    {
      "cell_type": "code",
      "execution_count": null,
      "metadata": {
        "id": "JyuU690ujHLs"
      },
      "outputs": [],
      "source": [
        "item_pred = item_prediction(train_utility_matrix, similarity_btw_items)"
      ]
    },
    {
      "cell_type": "code",
      "execution_count": null,
      "metadata": {
        "id": "9-3PIEuTjHLs"
      },
      "outputs": [],
      "source": [
        "item_pred.shape"
      ]
    },
    {
      "cell_type": "code",
      "execution_count": null,
      "metadata": {
        "id": "gTKtu7ySjHLs"
      },
      "outputs": [],
      "source": [
        "def rmse_value(predicted, test):\n",
        "    predicted = predicted[test.nonzero()].flatten()\n",
        "    test = test[test.nonzero()].flatten()\n",
        "    return sqrt(mean_squared_error(predicted, test))\n",
        "\n",
        "def mae_value(predicted, test):\n",
        "    predicted = predicted[test.nonzero()].flatten()\n",
        "    test = test[test.nonzero()].flatten()\n",
        "    return sqrt(mean_absolute_error(predicted, test))"
      ]
    },
    {
      "cell_type": "markdown",
      "metadata": {
        "id": "Fkw6zWRpjHLs"
      },
      "source": [
        "#### The RMSE and MAE of user based CF "
      ]
    },
    {
      "cell_type": "code",
      "execution_count": null,
      "metadata": {
        "id": "pu7qILkfjHLs"
      },
      "outputs": [],
      "source": [
        "print(\"RMSE = \", rmse_value(user_pred, test_utility_matrix))\n",
        "print(\"MAE = \", mae_value(user_pred, test_utility_matrix))"
      ]
    },
    {
      "cell_type": "markdown",
      "metadata": {
        "id": "2KrFWWFQjHLt"
      },
      "source": [
        "#### The RMSE and MAE of item based CF"
      ]
    },
    {
      "cell_type": "code",
      "execution_count": null,
      "metadata": {
        "id": "2apWP0wdjHLt"
      },
      "outputs": [],
      "source": [
        "print(\"RMSE = \", rmse_value(item_pred, test_utility_matrix))\n",
        "print(\"MAE = \", mae_value(item_pred, test_utility_matrix))"
      ]
    },
    {
      "cell_type": "code",
      "execution_count": null,
      "metadata": {
        "id": "zpx2iybmjHLt"
      },
      "outputs": [],
      "source": [
        "https://github.com/ShrutiSavardekar/ExpediaHotelRecommendation.git"
      ]
    },
    {
      "cell_type": "markdown",
      "metadata": {
        "id": "FXDSZeE7jHLt"
      },
      "source": [
        "## ML algorithm: GaussianNB"
      ]
    },
    {
      "cell_type": "code",
      "execution_count": null,
      "metadata": {
        "id": "89g4b8GHjHLt",
        "outputId": "3d83b0f8-34cf-4c18-ec69-7debac793676"
      },
      "outputs": [
        {
          "name": "stdout",
          "output_type": "stream",
          "text": [
            "Accuracy: 0.07022945882598326\n",
            "confusion_matrix\n",
            "[[13776  1040    10 ...   701   321     2]\n",
            " [    0 88997     0 ...    77     3     0]\n",
            " [  646     0    57 ...  4441  1007   264]\n",
            " ...\n",
            " [ 2754     0    35 ...  7126   268    77]\n",
            " [ 7386     0    32 ...  2090  1070   628]\n",
            " [  670   206    45 ...  3533   494   122]]\n",
            "              precision    recall  f1-score   support\n",
            "\n",
            "           0       0.06      0.16      0.09     86644\n",
            "           1       0.25      0.85      0.38    104857\n",
            "           2       0.02      0.00      0.00     70584\n",
            "           3       0.00      0.00      0.00     36476\n",
            "           4       0.03      0.02      0.02     79128\n",
            "           5       0.04      0.06      0.05    103033\n",
            "           6       0.00      0.00      0.00     75127\n",
            "           7       0.02      0.00      0.00     53917\n",
            "           8       0.05      0.01      0.02     54466\n",
            "           9       0.01      0.00      0.01     92595\n",
            "          10       0.02      0.00      0.00     79357\n",
            "          11       0.02      0.00      0.00     51315\n",
            "          12       0.04      0.00      0.00     23400\n",
            "          13       0.00      0.00      0.00     75721\n",
            "          14       0.03      0.00      0.00     35769\n",
            "          15       0.00      0.00      0.00     58239\n",
            "          16       0.00      0.00      0.00    101438\n",
            "          17       0.00      0.00      0.00     71343\n",
            "          18       0.01      0.00      0.00    123638\n",
            "          19       0.03      0.00      0.00     65117\n",
            "          20       0.03      0.00      0.01     44662\n",
            "          21       0.03      0.00      0.00    112233\n",
            "          22       0.05      0.05      0.05     51041\n",
            "          23       0.04      0.00      0.00     57234\n",
            "          24       0.12      0.00      0.00     37916\n",
            "          25       0.05      0.01      0.01     94272\n",
            "          26       0.05      0.01      0.01     84453\n",
            "          27       0.19      0.59      0.28     14074\n",
            "          28       0.04      0.01      0.01    111822\n",
            "          29       0.05      0.07      0.06     49458\n",
            "          30       0.04      0.05      0.05     66334\n",
            "          31       0.01      0.00      0.00     58497\n",
            "          32       0.03      0.00      0.00     67260\n",
            "          33       0.00      0.00      0.00     87449\n",
            "          34       0.01      0.00      0.00     73188\n",
            "          35       0.00      0.00      0.00     21806\n",
            "          36       0.05      0.01      0.02     50706\n",
            "          37       0.01      0.00      0.00     99203\n",
            "          38       0.00      0.00      0.00     36778\n",
            "          39       0.03      0.07      0.04     82548\n",
            "          40       0.00      0.00      0.00     87042\n",
            "          41       0.04      0.00      0.01    166286\n",
            "          42       0.03      0.00      0.00    126222\n",
            "          43       0.04      0.04      0.04     43631\n",
            "          44       0.02      0.00      0.00     49035\n",
            "          45       0.18      0.18      0.18     55571\n",
            "          46       0.04      0.04      0.04     60162\n",
            "          47       0.00      0.00      0.00     97168\n",
            "          48       0.02      0.00      0.00    171196\n",
            "          49       0.00      0.00      0.00     52269\n",
            "          50       0.00      0.00      0.00    108513\n",
            "          51       0.00      0.00      0.00     80589\n",
            "          52       0.13      0.15      0.14     78577\n",
            "          53       0.04      0.00      0.01     20328\n",
            "          54       0.01      0.13      0.02     59467\n",
            "          55       0.05      0.07      0.06     91650\n",
            "          56       0.08      0.04      0.05     80574\n",
            "          57       0.06      0.02      0.03     31530\n",
            "          58       0.04      0.01      0.01     64643\n",
            "          59       0.04      0.01      0.01    100448\n",
            "          60       0.02      0.00      0.00     30393\n",
            "          61       0.02      0.00      0.00     47935\n",
            "          62       0.05      0.07      0.06     65484\n",
            "          63       0.04      0.12      0.06     39728\n",
            "          64       0.07      0.36      0.11     93828\n",
            "          65       0.20      0.72      0.31    160507\n",
            "          66       0.12      0.17      0.14     66041\n",
            "          67       0.06      0.13      0.08     34163\n",
            "          68       0.00      0.00      0.00    103853\n",
            "          69       0.00      0.00      0.00     68467\n",
            "          70       0.04      0.00      0.00    115004\n",
            "          71       0.04      0.08      0.05     49104\n",
            "          72       0.00      0.00      0.00    103121\n",
            "          73       0.03      0.00      0.00     75902\n",
            "          74       0.03      0.71      0.06     10289\n",
            "          75       0.00      0.00      0.00     27560\n",
            "          76       0.01      0.00      0.00     59854\n",
            "          77       0.00      0.00      0.00     88060\n",
            "          78       0.05      0.00      0.00     51153\n",
            "          79       0.01      0.09      0.01     66170\n",
            "          80       0.05      0.09      0.07     43197\n",
            "          81       0.04      0.01      0.01     39171\n",
            "          82       0.06      0.09      0.07     62865\n",
            "          83       0.02      0.00      0.00    110979\n",
            "          84       0.00      0.00      0.00     62507\n",
            "          85       0.04      0.00      0.00     44084\n",
            "          86       0.03      0.00      0.00     35870\n",
            "          87       0.09      0.03      0.05     59606\n",
            "          88       0.00      0.00      0.00     24935\n",
            "          89       0.00      0.00      0.00     45972\n",
            "          90       0.05      0.02      0.02     79660\n",
            "          91       0.07      0.41      0.12    248462\n",
            "          92       0.15      0.09      0.12     48286\n",
            "          93       0.02      0.00      0.00     43230\n",
            "          94       0.00      0.00      0.00     69081\n",
            "          95       0.03      0.01      0.01    113748\n",
            "          96       0.05      0.00      0.00     84066\n",
            "          97       0.05      0.09      0.06     79098\n",
            "          98       0.05      0.01      0.02    119022\n",
            "          99       0.02      0.00      0.00     72295\n",
            "\n",
            "    accuracy                           0.07   7210749\n",
            "   macro avg       0.04      0.06      0.03   7210749\n",
            "weighted avg       0.04      0.07      0.04   7210749\n",
            "\n"
          ]
        }
      ],
      "source": [
        "mnb = GaussianNB()\n",
        "mnb.fit(X_train,y_train) \n",
        "y_predict = mnb.predict(X_val)\n",
        "acc=accuracy_score(y_val,y_predict)\n",
        "\n",
        "print(\"Accuracy:\" ,acc)\n",
        "print( \"confusion_matrix\")\n",
        "print( confusion_matrix(y_val, y_predict))\n",
        "from sklearn.metrics import classification_report\n",
        "print(classification_report(y_val, y_predict))"
      ]
    },
    {
      "cell_type": "code",
      "execution_count": null,
      "metadata": {
        "id": "D-emwvUnjHLt",
        "outputId": "747e5e31-ac9a-434b-bb76-a3e5157ba967"
      },
      "outputs": [
        {
          "name": "stdout",
          "output_type": "stream",
          "text": [
            "[[91 48 70  4 42]\n",
            " [91 94 48 39 41]\n",
            " [65 52 87 80 31]\n",
            " ...\n",
            " [ 0 84 91 41 70]\n",
            " [45 24  1 88 79]\n",
            " [91 39 94 32 48]]\n"
          ]
        }
      ],
      "source": [
        "y_test_pred_proba = mnb.predict_proba(X_val)\n",
        "sort_index = np.argsort(-y_test_pred_proba)\n",
        "print(sort_index[:,:5])"
      ]
    },
    {
      "cell_type": "code",
      "execution_count": null,
      "metadata": {
        "id": "1j8sZz-0jHLt",
        "outputId": "747e5804-2628-4a9d-a1ae-4e9defc52a97"
      },
      "outputs": [
        {
          "name": "stdout",
          "output_type": "stream",
          "text": [
            "41.06342168042806\n"
          ]
        }
      ],
      "source": [
        "from sklearn import metrics\n",
        "rmse_list = []\n",
        "rmse_list.append(np.sqrt(metrics.mean_squared_error(y_val, y_predict)))\n",
        "print(sum(rmse_list)/len(rmse_list))"
      ]
    },
    {
      "cell_type": "markdown",
      "source": [
        "DeepFM"
      ],
      "metadata": {
        "id": "13AMeNWOjMR2"
      }
    },
    {
      "cell_type": "code",
      "source": [
        "train_data_copy.info()"
      ],
      "metadata": {
        "colab": {
          "base_uri": "https://localhost:8080/"
        },
        "id": "qN352hwt8PZ8",
        "outputId": "efd0b09e-b56c-4f67-d97a-a638f4a32d99"
      },
      "execution_count": 35,
      "outputs": [
        {
          "output_type": "stream",
          "name": "stdout",
          "text": [
            "<class 'pandas.core.frame.DataFrame'>\n",
            "Int64Index: 63023 entries, 0 to 99926\n",
            "Data columns (total 28 columns):\n",
            " #   Column                     Non-Null Count  Dtype  \n",
            "---  ------                     --------------  -----  \n",
            " 0   site_name                  63023 non-null  int64  \n",
            " 1   posa_continent             63023 non-null  int64  \n",
            " 2   user_location_country      63023 non-null  int64  \n",
            " 3   user_location_region       63023 non-null  int64  \n",
            " 4   user_location_city         63023 non-null  int64  \n",
            " 5   orig_destination_distance  63023 non-null  float64\n",
            " 6   user_id                    63023 non-null  int64  \n",
            " 7   is_mobile                  63023 non-null  int64  \n",
            " 8   is_package                 63023 non-null  int64  \n",
            " 9   channel                    63023 non-null  int64  \n",
            " 10  srch_adults_cnt            63023 non-null  int64  \n",
            " 11  srch_children_cnt          63023 non-null  int64  \n",
            " 12  srch_rm_cnt                63023 non-null  int64  \n",
            " 13  srch_destination_id        63023 non-null  int64  \n",
            " 14  srch_destination_type_id   63023 non-null  int64  \n",
            " 15  is_booking                 63023 non-null  int64  \n",
            " 16  cnt                        63023 non-null  int64  \n",
            " 17  hotel_continent            63023 non-null  int64  \n",
            " 18  hotel_country              63023 non-null  int64  \n",
            " 19  hotel_market               63023 non-null  int64  \n",
            " 20  hotel_cluster              63023 non-null  int64  \n",
            " 21  north_am_ci                63023 non-null  int64  \n",
            " 22  north_am_co                63023 non-null  int64  \n",
            " 23  europe_ci                  63023 non-null  int64  \n",
            " 24  europe_co                  63023 non-null  int64  \n",
            " 25  click_month                63023 non-null  int64  \n",
            " 26  checkin_month              63023 non-null  int64  \n",
            " 27  checkout_month             63023 non-null  int64  \n",
            "dtypes: float64(1), int64(27)\n",
            "memory usage: 13.9 MB\n"
          ]
        }
      ]
    },
    {
      "cell_type": "code",
      "source": [
        "train_data_copy = train_data_copy.rename(columns={'hotel_cluster': 'item_id', 'is_booking': 'rating'})"
      ],
      "metadata": {
        "id": "OTNCn8Kj7slx"
      },
      "execution_count": 36,
      "outputs": []
    },
    {
      "cell_type": "code",
      "source": [
        "sparse_features = ['site_name','posa_continent','user_location_country','user_location_region','user_location_city',\n",
        "             'user_id','is_mobile','is_package','channel','click_month','checkin_month','checkout_month',\n",
        "            'srch_adults_cnt','srch_children_cnt','srch_rm_cnt','srch_destination_id','hotel_continent',\n",
        "               'hotel_country','cnt','north_am_ci', 'north_am_co', 'europe_ci', 'europe_co','click_month',\n",
        "                   'checkin_month','checkout_month']\n",
        "\n",
        "dense_features = ['hotel_market']\n",
        "target = ['rating']"
      ],
      "metadata": {
        "id": "synwlqDd7WgK"
      },
      "execution_count": 37,
      "outputs": []
    },
    {
      "cell_type": "code",
      "source": [
        "# Label Encoding for sparse features,and normalization for dense numerical features\n",
        "for feat in sparse_features:\n",
        "    lbe = LabelEncoder()\n",
        "    train_data_copy[feat] = lbe.fit_transform(train_data_copy[feat])"
      ],
      "metadata": {
        "id": "YFGGlyDm7Ygo"
      },
      "execution_count": 38,
      "outputs": []
    },
    {
      "cell_type": "code",
      "source": [
        "mms = MinMaxScaler(feature_range=(0,1))\n",
        "train_data_copy[dense_features] = mms.fit_transform(train_data_copy[dense_features])"
      ],
      "metadata": {
        "id": "hS35IrIr_5Zy"
      },
      "execution_count": 39,
      "outputs": []
    },
    {
      "cell_type": "code",
      "source": [
        "from deepctr.feature_column import SparseFeat,get_feature_names\n",
        "# count #unique features for each sparse field\n",
        "fixlen_feature_columns = [SparseFeat(feat, train_data_copy[feat].nunique(),embedding_dim=4)\n",
        "                          for feat in sparse_features]\n",
        "linear_feature_columns = fixlen_feature_columns\n",
        "dnn_feature_columns = fixlen_feature_columns\n",
        "feature_names = get_feature_names(linear_feature_columns + dnn_feature_columns)"
      ],
      "metadata": {
        "colab": {
          "base_uri": "https://localhost:8080/"
        },
        "id": "okQMZ8X2_4hB",
        "outputId": "d53dfc12-a712-4efa-ca2d-fec4dcb4ba3c"
      },
      "execution_count": 40,
      "outputs": [
        {
          "output_type": "stream",
          "name": "stdout",
          "text": [
            "WARNING:tensorflow:From /tensorflow-1.15.2/python3.7/tensorflow_core/python/keras/initializers.py:143: calling RandomNormal.__init__ (from tensorflow.python.ops.init_ops) with dtype is deprecated and will be removed in a future version.\n",
            "Instructions for updating:\n",
            "Call initializer instance with the dtype argument instead of passing it to the constructor\n"
          ]
        }
      ]
    },
    {
      "cell_type": "code",
      "source": [
        "train, test = train_test_split(train_data_copy, test_size=0.2)\n",
        "train_model_input = {name:train[name].values for name in feature_names}\n",
        "test_model_input = {name:test[name].values for name in feature_names}"
      ],
      "metadata": {
        "id": "DzW9yibFjLNI"
      },
      "execution_count": 41,
      "outputs": []
    },
    {
      "cell_type": "code",
      "source": [
        "model = DeepFM(linear_feature_columns,dnn_feature_columns,task='binary')\n",
        "model.compile(\"adam\", \"binary_crossentropy\",metrics=['binary_crossentropy'])"
      ],
      "metadata": {
        "colab": {
          "base_uri": "https://localhost:8080/"
        },
        "id": "_UYFCGlQBCTK",
        "outputId": "5b9bdaad-5a3b-4e77-8397-9628e72d6588"
      },
      "execution_count": 42,
      "outputs": [
        {
          "output_type": "stream",
          "name": "stdout",
          "text": [
            "WARNING:tensorflow:From /tensorflow-1.15.2/python3.7/tensorflow_core/python/ops/resource_variable_ops.py:1630: calling BaseResourceVariable.__init__ (from tensorflow.python.ops.resource_variable_ops) with constraint is deprecated and will be removed in a future version.\n",
            "Instructions for updating:\n",
            "If using Keras pass *_constraint arguments to layers.\n",
            "WARNING:tensorflow:From /usr/local/lib/python3.7/dist-packages/deepctr/layers/utils.py:214: calling reduce_sum_v1 (from tensorflow.python.ops.math_ops) with keep_dims is deprecated and will be removed in a future version.\n",
            "Instructions for updating:\n",
            "keep_dims is deprecated, use keepdims instead\n"
          ]
        }
      ]
    },
    {
      "cell_type": "code",
      "source": [
        "history = model.fit(train_model_input, train[target].values,\n",
        "                        batch_size=256, epochs=10, verbose=2, validation_split=0.2, )"
      ],
      "metadata": {
        "colab": {
          "base_uri": "https://localhost:8080/"
        },
        "id": "5WP7_zqLGRJd",
        "outputId": "d16fbe17-6b18-44ab-9769-405f636a43d6"
      },
      "execution_count": 43,
      "outputs": [
        {
          "output_type": "stream",
          "name": "stdout",
          "text": [
            "WARNING:tensorflow:From /tensorflow-1.15.2/python3.7/tensorflow_core/python/ops/math_grad.py:1424: where (from tensorflow.python.ops.array_ops) is deprecated and will be removed in a future version.\n",
            "Instructions for updating:\n",
            "Use tf.where in 2.0, which has the same broadcast rule as np.where\n",
            "Train on 40334 samples, validate on 10084 samples\n",
            "Epoch 1/10\n",
            "40334/40334 - 5s - loss: 0.2965 - binary_crossentropy: 0.2964 - val_loss: 0.2532 - val_binary_crossentropy: 0.2529\n",
            "Epoch 2/10\n",
            "40334/40334 - 2s - loss: 0.2247 - binary_crossentropy: 0.2243 - val_loss: 0.2668 - val_binary_crossentropy: 0.2662\n",
            "Epoch 3/10\n",
            "40334/40334 - 2s - loss: 0.2075 - binary_crossentropy: 0.2068 - val_loss: 0.2899 - val_binary_crossentropy: 0.2890\n",
            "Epoch 4/10\n",
            "40334/40334 - 2s - loss: 0.1984 - binary_crossentropy: 0.1975 - val_loss: 0.3019 - val_binary_crossentropy: 0.3008\n",
            "Epoch 5/10\n",
            "40334/40334 - 2s - loss: 0.1922 - binary_crossentropy: 0.1911 - val_loss: 0.3204 - val_binary_crossentropy: 0.3192\n",
            "Epoch 6/10\n",
            "40334/40334 - 2s - loss: 0.1876 - binary_crossentropy: 0.1862 - val_loss: 0.3485 - val_binary_crossentropy: 0.3471\n",
            "Epoch 7/10\n",
            "40334/40334 - 2s - loss: 0.1845 - binary_crossentropy: 0.1830 - val_loss: 0.3584 - val_binary_crossentropy: 0.3569\n",
            "Epoch 8/10\n",
            "40334/40334 - 2s - loss: 0.1807 - binary_crossentropy: 0.1791 - val_loss: 0.3760 - val_binary_crossentropy: 0.3744\n",
            "Epoch 9/10\n",
            "40334/40334 - 2s - loss: 0.1785 - binary_crossentropy: 0.1768 - val_loss: 0.3958 - val_binary_crossentropy: 0.3940\n",
            "Epoch 10/10\n",
            "40334/40334 - 2s - loss: 0.1755 - binary_crossentropy: 0.1737 - val_loss: 0.3970 - val_binary_crossentropy: 0.3951\n"
          ]
        }
      ]
    },
    {
      "cell_type": "code",
      "source": [
        "#model prediction\n",
        "pred_result = model.predict(test_model_input, batch_size=256)"
      ],
      "metadata": {
        "id": "ZdZOQY77GVIk"
      },
      "execution_count": 44,
      "outputs": []
    },
    {
      "cell_type": "code",
      "source": [
        "\n",
        "auc = roc_auc_score(test[target].values, pred_result)\n",
        "\n",
        "print(\"RMSE:\\t%f\" % np.round(math.sqrt(mean_squared_error(test[target].values, pred_result)),2),\"MAE:\\t%f\" % np.round(mean_absolute_error(test[target].values, pred_result),2),\n",
        "      \"MSE:\\t%f\" % np.round(mean_squared_error(test[target].values, pred_result),2),\"AUC:\\t%f\" % np.round(auc,2),sep='\\n')"
      ],
      "metadata": {
        "colab": {
          "base_uri": "https://localhost:8080/"
        },
        "id": "EAd1pEZwGfvX",
        "outputId": "bed8590a-eab4-4c89-cb42-9be9ef3a4883"
      },
      "execution_count": 45,
      "outputs": [
        {
          "output_type": "stream",
          "name": "stdout",
          "text": [
            "RMSE:\t0.300000\n",
            "MAE:\t0.140000\n",
            "MSE:\t0.090000\n",
            "AUC:\t0.700000\n"
          ]
        }
      ]
    },
    {
      "cell_type": "markdown",
      "source": [
        "### Tuning Hyperparameters"
      ],
      "metadata": {
        "id": "Ea59E6PcUywH"
      }
    },
    {
      "cell_type": "code",
      "source": [
        "param_grid = {'dnn_hidden_units' : [(1,1),(2,2),(4,4),(27,27),(128,128),(256,256)],\n",
        "              'dnn_use_bn':[True,False],\n",
        "              'l2_reg_linear':[1e-5,1e-3,1e-1,1,10],\n",
        "              'l2_reg_embedding':[1e-7,1e-5,1e-3,1e-1,1],\n",
        "              'l2_reg_dnn':[0,0.2,2,4],\n",
        "              'dnn_dropout':[0, 0.1, 0.3, 0.7, 0.9,0.11]\n",
        "             }\n",
        "result = {}"
      ],
      "metadata": {
        "id": "6wudjXKNGiwR"
      },
      "execution_count": 46,
      "outputs": []
    },
    {
      "cell_type": "markdown",
      "source": [
        "### dnn_hidden_units – list,list of positive integer or empty list, the layer number and units in each layer of DNN"
      ],
      "metadata": {
        "id": "7jpYTrzbWK1U"
      }
    },
    {
      "cell_type": "code",
      "source": [
        "dnn_hidden_units_layer = {}\n",
        "for x in param_grid['dnn_hidden_units']:\n",
        "    model = DeepFM(linear_feature_columns,dnn_feature_columns,fm_group=['default_group'], dnn_hidden_units=x, \n",
        "              seed=1024,task='binary')\n",
        "\n",
        "    model.compile(\"adam\", \"mse\", metrics=['mse'])\n",
        "\n",
        "    history = model.fit(train_model_input, train[target].values,\n",
        "                            batch_size=256, epochs=10, verbose=2, validation_split=0.2, )\n",
        "    pred_result = model.predict(test_model_input, batch_size=256)\n",
        "    \n",
        "    auc = roc_auc_score(test[target].values, pred_result)\n",
        "    dnn_hidden_units_layer[x]={\"RMSE\": np.round(math.sqrt(mean_squared_error(test[target].values, pred_result)),2),\n",
        "      \"MAE\" : np.round(mean_absolute_error(test[target].values, pred_result),2),\n",
        "      \"MSE\" : np.round(mean_squared_error(test[target].values, pred_result),2),\n",
        "      \"AUC\" : np.round(auc,2)}\n",
        "result['dnn_hidden_units']=dnn_hidden_units_layer"
      ],
      "metadata": {
        "colab": {
          "base_uri": "https://localhost:8080/"
        },
        "id": "Zmid0Tt2U_r2",
        "outputId": "48327850-2473-4ca8-f267-16b62c3d9d78"
      },
      "execution_count": 47,
      "outputs": [
        {
          "output_type": "stream",
          "name": "stdout",
          "text": [
            "Train on 40334 samples, validate on 10084 samples\n",
            "Epoch 1/10\n",
            "40334/40334 - 8s - loss: 0.1107 - mean_squared_error: 0.1107 - val_loss: 0.0800 - val_mean_squared_error: 0.0799\n",
            "Epoch 2/10\n",
            "40334/40334 - 3s - loss: 0.0758 - mean_squared_error: 0.0756 - val_loss: 0.0749 - val_mean_squared_error: 0.0745\n",
            "Epoch 3/10\n",
            "40334/40334 - 2s - loss: 0.0712 - mean_squared_error: 0.0706 - val_loss: 0.0744 - val_mean_squared_error: 0.0737\n",
            "Epoch 4/10\n",
            "40334/40334 - 3s - loss: 0.0687 - mean_squared_error: 0.0678 - val_loss: 0.0752 - val_mean_squared_error: 0.0741\n",
            "Epoch 5/10\n",
            "40334/40334 - 2s - loss: 0.0669 - mean_squared_error: 0.0657 - val_loss: 0.0758 - val_mean_squared_error: 0.0744\n",
            "Epoch 6/10\n",
            "40334/40334 - 1s - loss: 0.0656 - mean_squared_error: 0.0641 - val_loss: 0.0773 - val_mean_squared_error: 0.0756\n",
            "Epoch 7/10\n",
            "40334/40334 - 1s - loss: 0.0647 - mean_squared_error: 0.0629 - val_loss: 0.0779 - val_mean_squared_error: 0.0760\n",
            "Epoch 8/10\n",
            "40334/40334 - 1s - loss: 0.0638 - mean_squared_error: 0.0618 - val_loss: 0.0778 - val_mean_squared_error: 0.0757\n",
            "Epoch 9/10\n",
            "40334/40334 - 1s - loss: 0.0631 - mean_squared_error: 0.0609 - val_loss: 0.0781 - val_mean_squared_error: 0.0758\n",
            "Epoch 10/10\n",
            "40334/40334 - 1s - loss: 0.0625 - mean_squared_error: 0.0602 - val_loss: 0.0807 - val_mean_squared_error: 0.0783\n",
            "Train on 40334 samples, validate on 10084 samples\n",
            "Epoch 1/10\n",
            "40334/40334 - 4s - loss: 0.1086 - mean_squared_error: 0.1085 - val_loss: 0.0793 - val_mean_squared_error: 0.0792\n",
            "Epoch 2/10\n",
            "40334/40334 - 1s - loss: 0.0758 - mean_squared_error: 0.0756 - val_loss: 0.0751 - val_mean_squared_error: 0.0746\n",
            "Epoch 3/10\n",
            "40334/40334 - 1s - loss: 0.0710 - mean_squared_error: 0.0703 - val_loss: 0.0744 - val_mean_squared_error: 0.0736\n",
            "Epoch 4/10\n",
            "40334/40334 - 1s - loss: 0.0683 - mean_squared_error: 0.0673 - val_loss: 0.0749 - val_mean_squared_error: 0.0738\n",
            "Epoch 5/10\n",
            "40334/40334 - 1s - loss: 0.0667 - mean_squared_error: 0.0654 - val_loss: 0.0756 - val_mean_squared_error: 0.0741\n",
            "Epoch 6/10\n",
            "40334/40334 - 1s - loss: 0.0653 - mean_squared_error: 0.0637 - val_loss: 0.0761 - val_mean_squared_error: 0.0743\n",
            "Epoch 7/10\n",
            "40334/40334 - 1s - loss: 0.0643 - mean_squared_error: 0.0624 - val_loss: 0.0776 - val_mean_squared_error: 0.0757\n",
            "Epoch 8/10\n",
            "40334/40334 - 1s - loss: 0.0635 - mean_squared_error: 0.0614 - val_loss: 0.0790 - val_mean_squared_error: 0.0768\n",
            "Epoch 9/10\n",
            "40334/40334 - 1s - loss: 0.0628 - mean_squared_error: 0.0605 - val_loss: 0.0795 - val_mean_squared_error: 0.0772\n",
            "Epoch 10/10\n",
            "40334/40334 - 1s - loss: 0.0620 - mean_squared_error: 0.0596 - val_loss: 0.0799 - val_mean_squared_error: 0.0774\n",
            "Train on 40334 samples, validate on 10084 samples\n",
            "Epoch 1/10\n",
            "40334/40334 - 3s - loss: 0.0993 - mean_squared_error: 0.0992 - val_loss: 0.0783 - val_mean_squared_error: 0.0782\n",
            "Epoch 2/10\n",
            "40334/40334 - 1s - loss: 0.0755 - mean_squared_error: 0.0753 - val_loss: 0.0749 - val_mean_squared_error: 0.0745\n",
            "Epoch 3/10\n",
            "40334/40334 - 1s - loss: 0.0702 - mean_squared_error: 0.0697 - val_loss: 0.0738 - val_mean_squared_error: 0.0732\n",
            "Epoch 4/10\n",
            "40334/40334 - 1s - loss: 0.0662 - mean_squared_error: 0.0653 - val_loss: 0.0761 - val_mean_squared_error: 0.0751\n",
            "Epoch 5/10\n",
            "40334/40334 - 1s - loss: 0.0636 - mean_squared_error: 0.0625 - val_loss: 0.0797 - val_mean_squared_error: 0.0785\n",
            "Epoch 6/10\n",
            "40334/40334 - 1s - loss: 0.0615 - mean_squared_error: 0.0602 - val_loss: 0.0812 - val_mean_squared_error: 0.0799\n",
            "Epoch 7/10\n",
            "40334/40334 - 1s - loss: 0.0600 - mean_squared_error: 0.0586 - val_loss: 0.0834 - val_mean_squared_error: 0.0819\n",
            "Epoch 8/10\n",
            "40334/40334 - 1s - loss: 0.0587 - mean_squared_error: 0.0572 - val_loss: 0.0859 - val_mean_squared_error: 0.0843\n",
            "Epoch 9/10\n",
            "40334/40334 - 1s - loss: 0.0577 - mean_squared_error: 0.0561 - val_loss: 0.0870 - val_mean_squared_error: 0.0854\n",
            "Epoch 10/10\n",
            "40334/40334 - 1s - loss: 0.0570 - mean_squared_error: 0.0554 - val_loss: 0.0893 - val_mean_squared_error: 0.0877\n",
            "Train on 40334 samples, validate on 10084 samples\n",
            "Epoch 1/10\n",
            "40334/40334 - 4s - loss: 0.0950 - mean_squared_error: 0.0950 - val_loss: 0.0768 - val_mean_squared_error: 0.0767\n",
            "Epoch 2/10\n",
            "40334/40334 - 2s - loss: 0.0711 - mean_squared_error: 0.0709 - val_loss: 0.0736 - val_mean_squared_error: 0.0731\n",
            "Epoch 3/10\n",
            "40334/40334 - 2s - loss: 0.0651 - mean_squared_error: 0.0645 - val_loss: 0.0764 - val_mean_squared_error: 0.0757\n",
            "Epoch 4/10\n",
            "40334/40334 - 2s - loss: 0.0618 - mean_squared_error: 0.0611 - val_loss: 0.0792 - val_mean_squared_error: 0.0784\n",
            "Epoch 5/10\n",
            "40334/40334 - 2s - loss: 0.0598 - mean_squared_error: 0.0589 - val_loss: 0.0818 - val_mean_squared_error: 0.0809\n",
            "Epoch 6/10\n",
            "40334/40334 - 2s - loss: 0.0587 - mean_squared_error: 0.0577 - val_loss: 0.0835 - val_mean_squared_error: 0.0825\n",
            "Epoch 7/10\n",
            "40334/40334 - 2s - loss: 0.0575 - mean_squared_error: 0.0565 - val_loss: 0.0838 - val_mean_squared_error: 0.0828\n",
            "Epoch 8/10\n",
            "40334/40334 - 2s - loss: 0.0567 - mean_squared_error: 0.0556 - val_loss: 0.0855 - val_mean_squared_error: 0.0845\n",
            "Epoch 9/10\n",
            "40334/40334 - 2s - loss: 0.0563 - mean_squared_error: 0.0552 - val_loss: 0.0857 - val_mean_squared_error: 0.0845\n",
            "Epoch 10/10\n",
            "40334/40334 - 2s - loss: 0.0556 - mean_squared_error: 0.0545 - val_loss: 0.0863 - val_mean_squared_error: 0.0851\n",
            "Train on 40334 samples, validate on 10084 samples\n",
            "Epoch 1/10\n",
            "40334/40334 - 5s - loss: 0.0901 - mean_squared_error: 0.0901 - val_loss: 0.0732 - val_mean_squared_error: 0.0730\n",
            "Epoch 2/10\n",
            "40334/40334 - 2s - loss: 0.0682 - mean_squared_error: 0.0680 - val_loss: 0.0743 - val_mean_squared_error: 0.0738\n",
            "Epoch 3/10\n",
            "40334/40334 - 2s - loss: 0.0637 - mean_squared_error: 0.0633 - val_loss: 0.0779 - val_mean_squared_error: 0.0773\n",
            "Epoch 4/10\n",
            "40334/40334 - 2s - loss: 0.0610 - mean_squared_error: 0.0603 - val_loss: 0.0803 - val_mean_squared_error: 0.0797\n",
            "Epoch 5/10\n",
            "40334/40334 - 2s - loss: 0.0593 - mean_squared_error: 0.0586 - val_loss: 0.0811 - val_mean_squared_error: 0.0803\n",
            "Epoch 6/10\n",
            "40334/40334 - 2s - loss: 0.0581 - mean_squared_error: 0.0573 - val_loss: 0.0850 - val_mean_squared_error: 0.0842\n",
            "Epoch 7/10\n",
            "40334/40334 - 2s - loss: 0.0572 - mean_squared_error: 0.0564 - val_loss: 0.0857 - val_mean_squared_error: 0.0848\n",
            "Epoch 8/10\n",
            "40334/40334 - 2s - loss: 0.0561 - mean_squared_error: 0.0552 - val_loss: 0.0869 - val_mean_squared_error: 0.0860\n",
            "Epoch 9/10\n",
            "40334/40334 - 2s - loss: 0.0556 - mean_squared_error: 0.0546 - val_loss: 0.0868 - val_mean_squared_error: 0.0859\n",
            "Epoch 10/10\n",
            "40334/40334 - 2s - loss: 0.0549 - mean_squared_error: 0.0539 - val_loss: 0.0883 - val_mean_squared_error: 0.0873\n",
            "Train on 40334 samples, validate on 10084 samples\n",
            "Epoch 1/10\n",
            "40334/40334 - 6s - loss: 0.0876 - mean_squared_error: 0.0875 - val_loss: 0.0727 - val_mean_squared_error: 0.0725\n",
            "Epoch 2/10\n",
            "40334/40334 - 3s - loss: 0.0678 - mean_squared_error: 0.0675 - val_loss: 0.0746 - val_mean_squared_error: 0.0742\n",
            "Epoch 3/10\n",
            "40334/40334 - 3s - loss: 0.0634 - mean_squared_error: 0.0629 - val_loss: 0.0775 - val_mean_squared_error: 0.0769\n",
            "Epoch 4/10\n",
            "40334/40334 - 3s - loss: 0.0609 - mean_squared_error: 0.0603 - val_loss: 0.0811 - val_mean_squared_error: 0.0805\n",
            "Epoch 5/10\n",
            "40334/40334 - 3s - loss: 0.0590 - mean_squared_error: 0.0584 - val_loss: 0.0838 - val_mean_squared_error: 0.0831\n",
            "Epoch 6/10\n",
            "40334/40334 - 3s - loss: 0.0577 - mean_squared_error: 0.0570 - val_loss: 0.0858 - val_mean_squared_error: 0.0850\n",
            "Epoch 7/10\n",
            "40334/40334 - 3s - loss: 0.0567 - mean_squared_error: 0.0560 - val_loss: 0.0871 - val_mean_squared_error: 0.0862\n",
            "Epoch 8/10\n",
            "40334/40334 - 3s - loss: 0.0559 - mean_squared_error: 0.0550 - val_loss: 0.0883 - val_mean_squared_error: 0.0875\n",
            "Epoch 9/10\n",
            "40334/40334 - 3s - loss: 0.0550 - mean_squared_error: 0.0541 - val_loss: 0.0883 - val_mean_squared_error: 0.0874\n",
            "Epoch 10/10\n",
            "40334/40334 - 3s - loss: 0.0543 - mean_squared_error: 0.0534 - val_loss: 0.0902 - val_mean_squared_error: 0.0892\n"
          ]
        }
      ]
    },
    {
      "cell_type": "code",
      "source": [
        "dnn_hidden_units_layer"
      ],
      "metadata": {
        "colab": {
          "base_uri": "https://localhost:8080/"
        },
        "id": "LwJ33HJJVCrU",
        "outputId": "7f7fa126-da3f-43a9-ffc4-cc3245437769"
      },
      "execution_count": 48,
      "outputs": [
        {
          "output_type": "execute_result",
          "data": {
            "text/plain": [
              "{(1, 1): {'AUC': 0.77, 'MAE': 0.16, 'MSE': 0.08, 'RMSE': 0.28},\n",
              " (2, 2): {'AUC': 0.77, 'MAE': 0.15, 'MSE': 0.08, 'RMSE': 0.28},\n",
              " (4, 4): {'AUC': 0.75, 'MAE': 0.15, 'MSE': 0.09, 'RMSE': 0.3},\n",
              " (27, 27): {'AUC': 0.74, 'MAE': 0.13, 'MSE': 0.09, 'RMSE': 0.29},\n",
              " (128, 128): {'AUC': 0.75, 'MAE': 0.14, 'MSE': 0.09, 'RMSE': 0.29},\n",
              " (256, 256): {'AUC': 0.74, 'MAE': 0.14, 'MSE': 0.09, 'RMSE': 0.3}}"
            ]
          },
          "metadata": {},
          "execution_count": 48
        }
      ]
    },
    {
      "cell_type": "code",
      "source": [
        "dnn_hidden_units_layer[(4,4)]"
      ],
      "metadata": {
        "colab": {
          "base_uri": "https://localhost:8080/"
        },
        "id": "-rppPljlVz-c",
        "outputId": "f609c2f4-0f00-49a6-c963-63c8a8ac04dd"
      },
      "execution_count": 49,
      "outputs": [
        {
          "output_type": "execute_result",
          "data": {
            "text/plain": [
              "{'AUC': 0.75, 'MAE': 0.15, 'MSE': 0.09, 'RMSE': 0.3}"
            ]
          },
          "metadata": {},
          "execution_count": 49
        }
      ]
    },
    {
      "cell_type": "markdown",
      "source": [
        "### dnn_use_bn – bool. Whether use BatchNormalization before activation or not in DNN"
      ],
      "metadata": {
        "id": "1udk_mhRWVen"
      }
    },
    {
      "cell_type": "code",
      "source": [
        "dnn_use_bn_dict = {}\n",
        "for x in param_grid['dnn_use_bn']:\n",
        "    model= DeepFM(linear_feature_columns,dnn_feature_columns,fm_group=['default_group'],dnn_hidden_units=(4,4), \n",
        "              seed=1024,task='binary',dnn_use_bn=x)\n",
        "\n",
        "    model.compile(\"adam\", \"mse\", metrics=['mse'])\n",
        "\n",
        "    history = model.fit(train_model_input, train[target].values,\n",
        "                            batch_size=256, epochs=10, verbose=2, validation_split=0.2, )\n",
        "    pred_result = model.predict(test_model_input, batch_size=256)\n",
        "    \n",
        "    auc = roc_auc_score(test[target].values, pred_result)\n",
        "    dnn_use_bn_dict[x]={\"RMSE\": np.round(math.sqrt(mean_squared_error(test[target].values, pred_result)),2),\n",
        "      \"MAE\" : np.round(mean_absolute_error(test[target].values, pred_result),2),\n",
        "      \"MSE\" : np.round(mean_squared_error(test[target].values, pred_result),2),\n",
        "      \"AUC\" : np.round(auc,3)}\n",
        "result['dnn_use_bn_dict']=dnn_use_bn_dict"
      ],
      "metadata": {
        "colab": {
          "base_uri": "https://localhost:8080/"
        },
        "id": "0swHKvDXWW3L",
        "outputId": "b720abb9-5a2d-4d27-a69f-e6bc833ea435"
      },
      "execution_count": 50,
      "outputs": [
        {
          "output_type": "stream",
          "name": "stdout",
          "text": [
            "Train on 40334 samples, validate on 10084 samples\n",
            "Epoch 1/10\n",
            "40334/40334 - 6s - loss: 0.1097 - mean_squared_error: 0.1097 - val_loss: 0.0819 - val_mean_squared_error: 0.0818\n",
            "Epoch 2/10\n",
            "40334/40334 - 2s - loss: 0.0742 - mean_squared_error: 0.0741 - val_loss: 0.0790 - val_mean_squared_error: 0.0789\n",
            "Epoch 3/10\n",
            "40334/40334 - 2s - loss: 0.0701 - mean_squared_error: 0.0700 - val_loss: 0.0766 - val_mean_squared_error: 0.0764\n",
            "Epoch 4/10\n",
            "40334/40334 - 2s - loss: 0.0669 - mean_squared_error: 0.0667 - val_loss: 0.0762 - val_mean_squared_error: 0.0760\n",
            "Epoch 5/10\n",
            "40334/40334 - 2s - loss: 0.0643 - mean_squared_error: 0.0641 - val_loss: 0.0822 - val_mean_squared_error: 0.0819\n",
            "Epoch 6/10\n",
            "40334/40334 - 2s - loss: 0.0620 - mean_squared_error: 0.0617 - val_loss: 0.0808 - val_mean_squared_error: 0.0805\n",
            "Epoch 7/10\n",
            "40334/40334 - 2s - loss: 0.0604 - mean_squared_error: 0.0600 - val_loss: 0.0853 - val_mean_squared_error: 0.0849\n",
            "Epoch 8/10\n",
            "40334/40334 - 2s - loss: 0.0589 - mean_squared_error: 0.0585 - val_loss: 0.0881 - val_mean_squared_error: 0.0876\n",
            "Epoch 9/10\n",
            "40334/40334 - 2s - loss: 0.0575 - mean_squared_error: 0.0571 - val_loss: 0.0899 - val_mean_squared_error: 0.0894\n",
            "Epoch 10/10\n",
            "40334/40334 - 2s - loss: 0.0564 - mean_squared_error: 0.0559 - val_loss: 0.0917 - val_mean_squared_error: 0.0912\n",
            "Train on 40334 samples, validate on 10084 samples\n",
            "Epoch 1/10\n",
            "40334/40334 - 5s - loss: 0.0989 - mean_squared_error: 0.0988 - val_loss: 0.0784 - val_mean_squared_error: 0.0783\n",
            "Epoch 2/10\n",
            "40334/40334 - 2s - loss: 0.0758 - mean_squared_error: 0.0757 - val_loss: 0.0754 - val_mean_squared_error: 0.0751\n",
            "Epoch 3/10\n",
            "40334/40334 - 2s - loss: 0.0706 - mean_squared_error: 0.0701 - val_loss: 0.0739 - val_mean_squared_error: 0.0732\n",
            "Epoch 4/10\n",
            "40334/40334 - 2s - loss: 0.0668 - mean_squared_error: 0.0660 - val_loss: 0.0755 - val_mean_squared_error: 0.0745\n",
            "Epoch 5/10\n",
            "40334/40334 - 2s - loss: 0.0641 - mean_squared_error: 0.0630 - val_loss: 0.0800 - val_mean_squared_error: 0.0788\n",
            "Epoch 6/10\n",
            "40334/40334 - 2s - loss: 0.0622 - mean_squared_error: 0.0609 - val_loss: 0.0798 - val_mean_squared_error: 0.0785\n",
            "Epoch 7/10\n",
            "40334/40334 - 2s - loss: 0.0605 - mean_squared_error: 0.0591 - val_loss: 0.0825 - val_mean_squared_error: 0.0810\n",
            "Epoch 8/10\n",
            "40334/40334 - 2s - loss: 0.0591 - mean_squared_error: 0.0576 - val_loss: 0.0842 - val_mean_squared_error: 0.0827\n",
            "Epoch 9/10\n",
            "40334/40334 - 2s - loss: 0.0581 - mean_squared_error: 0.0565 - val_loss: 0.0885 - val_mean_squared_error: 0.0869\n",
            "Epoch 10/10\n",
            "40334/40334 - 2s - loss: 0.0574 - mean_squared_error: 0.0558 - val_loss: 0.0873 - val_mean_squared_error: 0.0857\n"
          ]
        }
      ]
    },
    {
      "cell_type": "code",
      "source": [
        "dnn_use_bn_dict"
      ],
      "metadata": {
        "colab": {
          "base_uri": "https://localhost:8080/"
        },
        "id": "nNT0wwhPWYu6",
        "outputId": "654a05df-d3df-4a9d-8bdc-fc0e5f937196"
      },
      "execution_count": 51,
      "outputs": [
        {
          "output_type": "execute_result",
          "data": {
            "text/plain": [
              "{False: {'AUC': 0.753, 'MAE': 0.15, 'MSE': 0.09, 'RMSE': 0.29},\n",
              " True: {'AUC': 0.733, 'MAE': 0.17, 'MSE': 0.09, 'RMSE': 0.3}}"
            ]
          },
          "metadata": {},
          "execution_count": 51
        }
      ]
    },
    {
      "cell_type": "code",
      "source": [
        "dnn_use_bn_dict[False]"
      ],
      "metadata": {
        "colab": {
          "base_uri": "https://localhost:8080/"
        },
        "id": "ggbvbQikW1bE",
        "outputId": "47b9aeef-12ca-44b8-8162-57c5f40105a2"
      },
      "execution_count": 52,
      "outputs": [
        {
          "output_type": "execute_result",
          "data": {
            "text/plain": [
              "{'AUC': 0.753, 'MAE': 0.15, 'MSE': 0.09, 'RMSE': 0.29}"
            ]
          },
          "metadata": {},
          "execution_count": 52
        }
      ]
    },
    {
      "cell_type": "markdown",
      "source": [
        "### l2_reg_linear – float. L2 regularizer strength applied to linear part"
      ],
      "metadata": {
        "id": "Jm3ljugAW5ak"
      }
    },
    {
      "cell_type": "code",
      "source": [
        "\n",
        "l2_reg_linear_dict={}\n",
        "for x in param_grid['l2_reg_linear']:\n",
        "    model = DeepFM(linear_feature_columns, dnn_feature_columns, dnn_hidden_units=(4,4), l2_reg_linear=x,\n",
        "            fm_group=['default_group'], dnn_use_bn=False,\n",
        "                   seed=1024,task='binary')\n",
        "\n",
        "    model.compile(\"adam\", \"mse\", metrics=['mse'])\n",
        "\n",
        "    history = model.fit(train_model_input, train[target].values,\n",
        "                            batch_size=256, epochs=10, verbose=2, validation_split=0.2, )\n",
        "    pred_result = model.predict(test_model_input, batch_size=256)\n",
        "    \n",
        "    auc = roc_auc_score(test[target].values, pred_result)\n",
        "    \n",
        "    l2_reg_linear_dict[x]={\"RMSE\": np.round(math.sqrt(mean_squared_error(test[target].values, pred_result)),2),\n",
        "      \"MAE\" : np.round(mean_absolute_error(test[target].values, pred_result),2),\n",
        "      \"MSE\" : np.round(mean_squared_error(test[target].values, pred_result),2),\n",
        "      \"AUC\" : np.round(auc,2)}\n",
        "    \n",
        "result['l2_reg_linear']=l2_reg_linear_dict"
      ],
      "metadata": {
        "colab": {
          "base_uri": "https://localhost:8080/"
        },
        "id": "3pyJEWlgW3CN",
        "outputId": "774c9f00-7a00-4490-d47c-ff99047bcbb3"
      },
      "execution_count": 53,
      "outputs": [
        {
          "output_type": "stream",
          "name": "stdout",
          "text": [
            "Train on 40334 samples, validate on 10084 samples\n",
            "Epoch 1/10\n",
            "40334/40334 - 6s - loss: 0.0989 - mean_squared_error: 0.0988 - val_loss: 0.0783 - val_mean_squared_error: 0.0782\n",
            "Epoch 2/10\n",
            "40334/40334 - 2s - loss: 0.0752 - mean_squared_error: 0.0750 - val_loss: 0.0748 - val_mean_squared_error: 0.0744\n",
            "Epoch 3/10\n",
            "40334/40334 - 2s - loss: 0.0699 - mean_squared_error: 0.0694 - val_loss: 0.0743 - val_mean_squared_error: 0.0737\n",
            "Epoch 4/10\n",
            "40334/40334 - 2s - loss: 0.0661 - mean_squared_error: 0.0653 - val_loss: 0.0764 - val_mean_squared_error: 0.0754\n",
            "Epoch 5/10\n",
            "40334/40334 - 2s - loss: 0.0634 - mean_squared_error: 0.0623 - val_loss: 0.0784 - val_mean_squared_error: 0.0772\n",
            "Epoch 6/10\n",
            "40334/40334 - 2s - loss: 0.0613 - mean_squared_error: 0.0600 - val_loss: 0.0811 - val_mean_squared_error: 0.0798\n",
            "Epoch 7/10\n",
            "40334/40334 - 2s - loss: 0.0597 - mean_squared_error: 0.0584 - val_loss: 0.0852 - val_mean_squared_error: 0.0838\n",
            "Epoch 8/10\n",
            "40334/40334 - 2s - loss: 0.0586 - mean_squared_error: 0.0572 - val_loss: 0.0850 - val_mean_squared_error: 0.0835\n",
            "Epoch 9/10\n",
            "40334/40334 - 2s - loss: 0.0576 - mean_squared_error: 0.0561 - val_loss: 0.0866 - val_mean_squared_error: 0.0851\n",
            "Epoch 10/10\n",
            "40334/40334 - 2s - loss: 0.0570 - mean_squared_error: 0.0555 - val_loss: 0.0882 - val_mean_squared_error: 0.0867\n",
            "Train on 40334 samples, validate on 10084 samples\n",
            "Epoch 1/10\n",
            "40334/40334 - 6s - loss: 0.0993 - mean_squared_error: 0.0987 - val_loss: 0.0789 - val_mean_squared_error: 0.0783\n",
            "Epoch 2/10\n",
            "40334/40334 - 2s - loss: 0.0761 - mean_squared_error: 0.0755 - val_loss: 0.0751 - val_mean_squared_error: 0.0744\n",
            "Epoch 3/10\n",
            "40334/40334 - 2s - loss: 0.0705 - mean_squared_error: 0.0696 - val_loss: 0.0742 - val_mean_squared_error: 0.0732\n",
            "Epoch 4/10\n",
            "40334/40334 - 2s - loss: 0.0666 - mean_squared_error: 0.0655 - val_loss: 0.0755 - val_mean_squared_error: 0.0743\n",
            "Epoch 5/10\n",
            "40334/40334 - 2s - loss: 0.0642 - mean_squared_error: 0.0629 - val_loss: 0.0785 - val_mean_squared_error: 0.0772\n",
            "Epoch 6/10\n",
            "40334/40334 - 2s - loss: 0.0619 - mean_squared_error: 0.0605 - val_loss: 0.0813 - val_mean_squared_error: 0.0798\n",
            "Epoch 7/10\n",
            "40334/40334 - 2s - loss: 0.0604 - mean_squared_error: 0.0589 - val_loss: 0.0816 - val_mean_squared_error: 0.0800\n",
            "Epoch 8/10\n",
            "40334/40334 - 2s - loss: 0.0592 - mean_squared_error: 0.0576 - val_loss: 0.0853 - val_mean_squared_error: 0.0836\n",
            "Epoch 9/10\n",
            "40334/40334 - 2s - loss: 0.0581 - mean_squared_error: 0.0565 - val_loss: 0.0864 - val_mean_squared_error: 0.0847\n",
            "Epoch 10/10\n",
            "40334/40334 - 2s - loss: 0.0572 - mean_squared_error: 0.0555 - val_loss: 0.0878 - val_mean_squared_error: 0.0861\n",
            "Train on 40334 samples, validate on 10084 samples\n",
            "Epoch 1/10\n",
            "40334/40334 - 7s - loss: 0.1053 - mean_squared_error: 0.0999 - val_loss: 0.0811 - val_mean_squared_error: 0.0786\n",
            "Epoch 2/10\n",
            "40334/40334 - 2s - loss: 0.0775 - mean_squared_error: 0.0761 - val_loss: 0.0759 - val_mean_squared_error: 0.0751\n",
            "Epoch 3/10\n",
            "40334/40334 - 2s - loss: 0.0711 - mean_squared_error: 0.0703 - val_loss: 0.0740 - val_mean_squared_error: 0.0731\n",
            "Epoch 4/10\n",
            "40334/40334 - 2s - loss: 0.0671 - mean_squared_error: 0.0661 - val_loss: 0.0754 - val_mean_squared_error: 0.0743\n",
            "Epoch 5/10\n",
            "40334/40334 - 2s - loss: 0.0643 - mean_squared_error: 0.0630 - val_loss: 0.0773 - val_mean_squared_error: 0.0759\n",
            "Epoch 6/10\n",
            "40334/40334 - 2s - loss: 0.0623 - mean_squared_error: 0.0609 - val_loss: 0.0802 - val_mean_squared_error: 0.0787\n",
            "Epoch 7/10\n",
            "40334/40334 - 2s - loss: 0.0607 - mean_squared_error: 0.0591 - val_loss: 0.0833 - val_mean_squared_error: 0.0817\n",
            "Epoch 8/10\n",
            "40334/40334 - 2s - loss: 0.0594 - mean_squared_error: 0.0578 - val_loss: 0.0849 - val_mean_squared_error: 0.0832\n",
            "Epoch 9/10\n",
            "40334/40334 - 2s - loss: 0.0584 - mean_squared_error: 0.0566 - val_loss: 0.0862 - val_mean_squared_error: 0.0844\n",
            "Epoch 10/10\n",
            "40334/40334 - 2s - loss: 0.0575 - mean_squared_error: 0.0557 - val_loss: 0.0869 - val_mean_squared_error: 0.0850\n",
            "Train on 40334 samples, validate on 10084 samples\n",
            "Epoch 1/10\n",
            "40334/40334 - 7s - loss: 0.1125 - mean_squared_error: 0.1046 - val_loss: 0.0786 - val_mean_squared_error: 0.0784\n",
            "Epoch 2/10\n",
            "40334/40334 - 2s - loss: 0.0756 - mean_squared_error: 0.0754 - val_loss: 0.0752 - val_mean_squared_error: 0.0748\n",
            "Epoch 3/10\n",
            "40334/40334 - 2s - loss: 0.0706 - mean_squared_error: 0.0700 - val_loss: 0.0746 - val_mean_squared_error: 0.0738\n",
            "Epoch 4/10\n",
            "40334/40334 - 2s - loss: 0.0667 - mean_squared_error: 0.0658 - val_loss: 0.0765 - val_mean_squared_error: 0.0755\n",
            "Epoch 5/10\n",
            "40334/40334 - 2s - loss: 0.0640 - mean_squared_error: 0.0628 - val_loss: 0.0777 - val_mean_squared_error: 0.0764\n",
            "Epoch 6/10\n",
            "40334/40334 - 2s - loss: 0.0621 - mean_squared_error: 0.0607 - val_loss: 0.0800 - val_mean_squared_error: 0.0786\n",
            "Epoch 7/10\n",
            "40334/40334 - 2s - loss: 0.0603 - mean_squared_error: 0.0587 - val_loss: 0.0818 - val_mean_squared_error: 0.0803\n",
            "Epoch 8/10\n",
            "40334/40334 - 2s - loss: 0.0591 - mean_squared_error: 0.0575 - val_loss: 0.0856 - val_mean_squared_error: 0.0840\n",
            "Epoch 9/10\n",
            "40334/40334 - 2s - loss: 0.0580 - mean_squared_error: 0.0564 - val_loss: 0.0865 - val_mean_squared_error: 0.0848\n",
            "Epoch 10/10\n",
            "40334/40334 - 2s - loss: 0.0574 - mean_squared_error: 0.0557 - val_loss: 0.0869 - val_mean_squared_error: 0.0852\n",
            "Train on 40334 samples, validate on 10084 samples\n",
            "Epoch 1/10\n",
            "40334/40334 - 7s - loss: 0.1182 - mean_squared_error: 0.1142 - val_loss: 0.0794 - val_mean_squared_error: 0.0786\n",
            "Epoch 2/10\n",
            "40334/40334 - 2s - loss: 0.0770 - mean_squared_error: 0.0767 - val_loss: 0.0765 - val_mean_squared_error: 0.0762\n",
            "Epoch 3/10\n",
            "40334/40334 - 2s - loss: 0.0721 - mean_squared_error: 0.0716 - val_loss: 0.0741 - val_mean_squared_error: 0.0734\n",
            "Epoch 4/10\n",
            "40334/40334 - 2s - loss: 0.0680 - mean_squared_error: 0.0671 - val_loss: 0.0755 - val_mean_squared_error: 0.0745\n",
            "Epoch 5/10\n",
            "40334/40334 - 2s - loss: 0.0651 - mean_squared_error: 0.0639 - val_loss: 0.0770 - val_mean_squared_error: 0.0758\n",
            "Epoch 6/10\n",
            "40334/40334 - 2s - loss: 0.0630 - mean_squared_error: 0.0616 - val_loss: 0.0790 - val_mean_squared_error: 0.0775\n",
            "Epoch 7/10\n",
            "40334/40334 - 2s - loss: 0.0614 - mean_squared_error: 0.0598 - val_loss: 0.0810 - val_mean_squared_error: 0.0794\n",
            "Epoch 8/10\n",
            "40334/40334 - 2s - loss: 0.0601 - mean_squared_error: 0.0584 - val_loss: 0.0827 - val_mean_squared_error: 0.0809\n",
            "Epoch 9/10\n",
            "40334/40334 - 2s - loss: 0.0590 - mean_squared_error: 0.0573 - val_loss: 0.0849 - val_mean_squared_error: 0.0830\n",
            "Epoch 10/10\n",
            "40334/40334 - 2s - loss: 0.0581 - mean_squared_error: 0.0562 - val_loss: 0.0853 - val_mean_squared_error: 0.0834\n"
          ]
        }
      ]
    },
    {
      "cell_type": "code",
      "source": [
        "l2_reg_linear_dict"
      ],
      "metadata": {
        "colab": {
          "base_uri": "https://localhost:8080/"
        },
        "id": "18p_PauqW8pX",
        "outputId": "62c494bb-43ab-4fb2-a856-143917e58520"
      },
      "execution_count": 54,
      "outputs": [
        {
          "output_type": "execute_result",
          "data": {
            "text/plain": [
              "{1e-05: {'AUC': 0.75, 'MAE': 0.15, 'MSE': 0.09, 'RMSE': 0.29},\n",
              " 0.001: {'AUC': 0.75, 'MAE': 0.15, 'MSE': 0.09, 'RMSE': 0.29},\n",
              " 0.1: {'AUC': 0.75, 'MAE': 0.15, 'MSE': 0.08, 'RMSE': 0.29},\n",
              " 1: {'AUC': 0.75, 'MAE': 0.14, 'MSE': 0.08, 'RMSE': 0.29},\n",
              " 10: {'AUC': 0.76, 'MAE': 0.14, 'MSE': 0.08, 'RMSE': 0.29}}"
            ]
          },
          "metadata": {},
          "execution_count": 54
        }
      ]
    },
    {
      "cell_type": "code",
      "source": [
        "l2_reg_linear_dict[1e-05]"
      ],
      "metadata": {
        "colab": {
          "base_uri": "https://localhost:8080/"
        },
        "id": "zgRrZjM7XytZ",
        "outputId": "383848af-173b-4531-cb71-727adcb6bee1"
      },
      "execution_count": 55,
      "outputs": [
        {
          "output_type": "execute_result",
          "data": {
            "text/plain": [
              "{'AUC': 0.75, 'MAE': 0.15, 'MSE': 0.09, 'RMSE': 0.29}"
            ]
          },
          "metadata": {},
          "execution_count": 55
        }
      ]
    },
    {
      "cell_type": "markdown",
      "source": [
        "### l2_reg_embedding – float. L2 regularizer strength applied to embedding vector"
      ],
      "metadata": {
        "id": "ubdAe9gDX2wr"
      }
    },
    {
      "cell_type": "code",
      "source": [
        "l2_reg_embedding_layer={}\n",
        "for x in param_grid['l2_reg_embedding']:\n",
        "    model = DeepFM(linear_feature_columns, dnn_feature_columns, dnn_hidden_units=(4,4), l2_reg_linear=1e-05,l2_reg_embedding=x, seed=1024, task='binary',\n",
        "               dnn_use_bn=False,fm_group=['default_group'])\n",
        "\n",
        "    model.compile(\"adam\", \"mse\", metrics=['mse'])\n",
        "\n",
        "    history = model.fit(train_model_input, train[target].values,\n",
        "                            batch_size=256, epochs=10, verbose=2, validation_split=0.2, )\n",
        "    pred_result = model.predict(test_model_input, batch_size=256)\n",
        "    \n",
        "    auc = roc_auc_score(test[target].values, pred_result)\n",
        "    l2_reg_embedding_layer[x]={\"RMSE\": np.round(math.sqrt(mean_squared_error(test[target].values, pred_result)),2),\n",
        "      \"MAE\" : np.round(mean_absolute_error(test[target].values, pred_result),2),\n",
        "      \"MSE\" : np.round(mean_squared_error(test[target].values, pred_result),2),\n",
        "      \"AUC\" : np.round(auc,2)}\n",
        "result['l2_reg_embedding']=l2_reg_embedding_layer"
      ],
      "metadata": {
        "colab": {
          "base_uri": "https://localhost:8080/"
        },
        "id": "pQ4QxGweX0VL",
        "outputId": "1b2414cb-1354-4d6d-cc40-906ee725bc51"
      },
      "execution_count": 56,
      "outputs": [
        {
          "output_type": "stream",
          "name": "stdout",
          "text": [
            "Train on 40334 samples, validate on 10084 samples\n",
            "Epoch 1/10\n",
            "40334/40334 - 8s - loss: 0.0984 - mean_squared_error: 0.0984 - val_loss: 0.0783 - val_mean_squared_error: 0.0783\n",
            "Epoch 2/10\n",
            "40334/40334 - 2s - loss: 0.0757 - mean_squared_error: 0.0756 - val_loss: 0.0750 - val_mean_squared_error: 0.0750\n",
            "Epoch 3/10\n",
            "40334/40334 - 2s - loss: 0.0691 - mean_squared_error: 0.0690 - val_loss: 0.0742 - val_mean_squared_error: 0.0741\n",
            "Epoch 4/10\n",
            "40334/40334 - 2s - loss: 0.0641 - mean_squared_error: 0.0640 - val_loss: 0.0762 - val_mean_squared_error: 0.0761\n",
            "Epoch 5/10\n",
            "40334/40334 - 2s - loss: 0.0609 - mean_squared_error: 0.0608 - val_loss: 0.0800 - val_mean_squared_error: 0.0799\n",
            "Epoch 6/10\n",
            "40334/40334 - 2s - loss: 0.0587 - mean_squared_error: 0.0586 - val_loss: 0.0819 - val_mean_squared_error: 0.0818\n",
            "Epoch 7/10\n",
            "40334/40334 - 2s - loss: 0.0572 - mean_squared_error: 0.0571 - val_loss: 0.0845 - val_mean_squared_error: 0.0844\n",
            "Epoch 8/10\n",
            "40334/40334 - 2s - loss: 0.0559 - mean_squared_error: 0.0558 - val_loss: 0.0846 - val_mean_squared_error: 0.0845\n",
            "Epoch 9/10\n",
            "40334/40334 - 2s - loss: 0.0551 - mean_squared_error: 0.0550 - val_loss: 0.0868 - val_mean_squared_error: 0.0867\n",
            "Epoch 10/10\n",
            "40334/40334 - 2s - loss: 0.0544 - mean_squared_error: 0.0542 - val_loss: 0.0867 - val_mean_squared_error: 0.0866\n",
            "Train on 40334 samples, validate on 10084 samples\n",
            "Epoch 1/10\n",
            "40334/40334 - 8s - loss: 0.0986 - mean_squared_error: 0.0985 - val_loss: 0.0783 - val_mean_squared_error: 0.0782\n",
            "Epoch 2/10\n",
            "40334/40334 - 2s - loss: 0.0750 - mean_squared_error: 0.0748 - val_loss: 0.0747 - val_mean_squared_error: 0.0743\n",
            "Epoch 3/10\n",
            "40334/40334 - 2s - loss: 0.0697 - mean_squared_error: 0.0691 - val_loss: 0.0746 - val_mean_squared_error: 0.0739\n",
            "Epoch 4/10\n",
            "40334/40334 - 2s - loss: 0.0659 - mean_squared_error: 0.0650 - val_loss: 0.0769 - val_mean_squared_error: 0.0759\n",
            "Epoch 5/10\n",
            "40334/40334 - 2s - loss: 0.0632 - mean_squared_error: 0.0621 - val_loss: 0.0795 - val_mean_squared_error: 0.0783\n",
            "Epoch 6/10\n",
            "40334/40334 - 2s - loss: 0.0613 - mean_squared_error: 0.0601 - val_loss: 0.0816 - val_mean_squared_error: 0.0803\n",
            "Epoch 7/10\n",
            "40334/40334 - 2s - loss: 0.0597 - mean_squared_error: 0.0583 - val_loss: 0.0847 - val_mean_squared_error: 0.0832\n",
            "Epoch 8/10\n",
            "40334/40334 - 2s - loss: 0.0587 - mean_squared_error: 0.0572 - val_loss: 0.0847 - val_mean_squared_error: 0.0832\n",
            "Epoch 9/10\n",
            "40334/40334 - 2s - loss: 0.0577 - mean_squared_error: 0.0561 - val_loss: 0.0852 - val_mean_squared_error: 0.0836\n",
            "Epoch 10/10\n",
            "40334/40334 - 2s - loss: 0.0570 - mean_squared_error: 0.0554 - val_loss: 0.0911 - val_mean_squared_error: 0.0896\n",
            "Train on 40334 samples, validate on 10084 samples\n",
            "Epoch 1/10\n",
            "40334/40334 - 8s - loss: 0.1004 - mean_squared_error: 0.0994 - val_loss: 0.0796 - val_mean_squared_error: 0.0787\n",
            "Epoch 2/10\n",
            "40334/40334 - 2s - loss: 0.0780 - mean_squared_error: 0.0771 - val_loss: 0.0777 - val_mean_squared_error: 0.0766\n",
            "Epoch 3/10\n",
            "40334/40334 - 3s - loss: 0.0759 - mean_squared_error: 0.0745 - val_loss: 0.0764 - val_mean_squared_error: 0.0749\n",
            "Epoch 4/10\n",
            "40334/40334 - 3s - loss: 0.0747 - mean_squared_error: 0.0730 - val_loss: 0.0758 - val_mean_squared_error: 0.0743\n",
            "Epoch 5/10\n",
            "40334/40334 - 2s - loss: 0.0739 - mean_squared_error: 0.0722 - val_loss: 0.0755 - val_mean_squared_error: 0.0737\n",
            "Epoch 6/10\n",
            "40334/40334 - 2s - loss: 0.0733 - mean_squared_error: 0.0712 - val_loss: 0.0755 - val_mean_squared_error: 0.0736\n",
            "Epoch 7/10\n",
            "40334/40334 - 2s - loss: 0.0727 - mean_squared_error: 0.0705 - val_loss: 0.0756 - val_mean_squared_error: 0.0734\n",
            "Epoch 8/10\n",
            "40334/40334 - 2s - loss: 0.0722 - mean_squared_error: 0.0698 - val_loss: 0.0756 - val_mean_squared_error: 0.0732\n",
            "Epoch 9/10\n",
            "40334/40334 - 2s - loss: 0.0719 - mean_squared_error: 0.0691 - val_loss: 0.0758 - val_mean_squared_error: 0.0731\n",
            "Epoch 10/10\n",
            "40334/40334 - 2s - loss: 0.0714 - mean_squared_error: 0.0685 - val_loss: 0.0761 - val_mean_squared_error: 0.0732\n",
            "Train on 40334 samples, validate on 10084 samples\n",
            "Epoch 1/10\n",
            "40334/40334 - 9s - loss: 0.1063 - mean_squared_error: 0.1027 - val_loss: 0.0814 - val_mean_squared_error: 0.0802\n",
            "Epoch 2/10\n",
            "40334/40334 - 2s - loss: 0.0788 - mean_squared_error: 0.0783 - val_loss: 0.0786 - val_mean_squared_error: 0.0784\n",
            "Epoch 3/10\n",
            "40334/40334 - 2s - loss: 0.0772 - mean_squared_error: 0.0770 - val_loss: 0.0779 - val_mean_squared_error: 0.0777\n",
            "Epoch 4/10\n",
            "40334/40334 - 2s - loss: 0.0762 - mean_squared_error: 0.0760 - val_loss: 0.0773 - val_mean_squared_error: 0.0771\n",
            "Epoch 5/10\n",
            "40334/40334 - 2s - loss: 0.0754 - mean_squared_error: 0.0751 - val_loss: 0.0768 - val_mean_squared_error: 0.0765\n",
            "Epoch 6/10\n",
            "40334/40334 - 2s - loss: 0.0745 - mean_squared_error: 0.0741 - val_loss: 0.0763 - val_mean_squared_error: 0.0759\n",
            "Epoch 7/10\n",
            "40334/40334 - 2s - loss: 0.0737 - mean_squared_error: 0.0731 - val_loss: 0.0759 - val_mean_squared_error: 0.0753\n",
            "Epoch 8/10\n",
            "40334/40334 - 2s - loss: 0.0729 - mean_squared_error: 0.0722 - val_loss: 0.0756 - val_mean_squared_error: 0.0748\n",
            "Epoch 9/10\n",
            "40334/40334 - 3s - loss: 0.0723 - mean_squared_error: 0.0714 - val_loss: 0.0753 - val_mean_squared_error: 0.0743\n",
            "Epoch 10/10\n",
            "40334/40334 - 3s - loss: 0.0717 - mean_squared_error: 0.0707 - val_loss: 0.0752 - val_mean_squared_error: 0.0740\n",
            "Train on 40334 samples, validate on 10084 samples\n",
            "Epoch 1/10\n",
            "40334/40334 - 9s - loss: 0.1090 - mean_squared_error: 0.1072 - val_loss: 0.0802 - val_mean_squared_error: 0.0801\n",
            "Epoch 2/10\n",
            "40334/40334 - 3s - loss: 0.0783 - mean_squared_error: 0.0782 - val_loss: 0.0785 - val_mean_squared_error: 0.0784\n",
            "Epoch 3/10\n",
            "40334/40334 - 3s - loss: 0.0772 - mean_squared_error: 0.0771 - val_loss: 0.0779 - val_mean_squared_error: 0.0778\n",
            "Epoch 4/10\n",
            "40334/40334 - 3s - loss: 0.0763 - mean_squared_error: 0.0762 - val_loss: 0.0773 - val_mean_squared_error: 0.0772\n",
            "Epoch 5/10\n",
            "40334/40334 - 3s - loss: 0.0755 - mean_squared_error: 0.0753 - val_loss: 0.0768 - val_mean_squared_error: 0.0766\n",
            "Epoch 6/10\n",
            "40334/40334 - 3s - loss: 0.0746 - mean_squared_error: 0.0743 - val_loss: 0.0764 - val_mean_squared_error: 0.0761\n",
            "Epoch 7/10\n",
            "40334/40334 - 3s - loss: 0.0738 - mean_squared_error: 0.0734 - val_loss: 0.0759 - val_mean_squared_error: 0.0755\n",
            "Epoch 8/10\n",
            "40334/40334 - 3s - loss: 0.0731 - mean_squared_error: 0.0726 - val_loss: 0.0756 - val_mean_squared_error: 0.0751\n",
            "Epoch 9/10\n",
            "40334/40334 - 2s - loss: 0.0725 - mean_squared_error: 0.0719 - val_loss: 0.0754 - val_mean_squared_error: 0.0748\n",
            "Epoch 10/10\n",
            "40334/40334 - 2s - loss: 0.0719 - mean_squared_error: 0.0712 - val_loss: 0.0753 - val_mean_squared_error: 0.0746\n"
          ]
        }
      ]
    },
    {
      "cell_type": "code",
      "source": [
        "l2_reg_embedding_layer"
      ],
      "metadata": {
        "colab": {
          "base_uri": "https://localhost:8080/"
        },
        "id": "0PSPqZ7-X6R2",
        "outputId": "ee36c903-717e-410b-b4b6-26b1adcb850a"
      },
      "execution_count": 57,
      "outputs": [
        {
          "output_type": "execute_result",
          "data": {
            "text/plain": [
              "{1e-07: {'AUC': 0.73, 'MAE': 0.14, 'MSE': 0.09, 'RMSE': 0.29},\n",
              " 1e-05: {'AUC': 0.75, 'MAE': 0.16, 'MSE': 0.09, 'RMSE': 0.3},\n",
              " 0.001: {'AUC': 0.78, 'MAE': 0.15, 'MSE': 0.07, 'RMSE': 0.27},\n",
              " 0.1: {'AUC': 0.77, 'MAE': 0.17, 'MSE': 0.07, 'RMSE': 0.27},\n",
              " 1: {'AUC': 0.76, 'MAE': 0.17, 'MSE': 0.07, 'RMSE': 0.27}}"
            ]
          },
          "metadata": {},
          "execution_count": 57
        }
      ]
    },
    {
      "cell_type": "code",
      "source": [
        "l2_reg_embedding_layer[.001]"
      ],
      "metadata": {
        "colab": {
          "base_uri": "https://localhost:8080/"
        },
        "id": "gwb1BqVjZQaL",
        "outputId": "ed364054-bb53-4385-9961-3a1736097911"
      },
      "execution_count": 58,
      "outputs": [
        {
          "output_type": "execute_result",
          "data": {
            "text/plain": [
              "{'AUC': 0.78, 'MAE': 0.15, 'MSE': 0.07, 'RMSE': 0.27}"
            ]
          },
          "metadata": {},
          "execution_count": 58
        }
      ]
    },
    {
      "cell_type": "markdown",
      "source": [
        "### l2_reg_dnn: float. L2 regularizer strength applied to DNN"
      ],
      "metadata": {
        "id": "W6KRH0C5ZS_A"
      }
    },
    {
      "cell_type": "code",
      "source": [
        "l2_reg_dnn_dict={}\n",
        "for x in param_grid['l2_reg_dnn']:\n",
        "    model = DeepFM(linear_feature_columns, dnn_feature_columns, dnn_hidden_units=(4, 4), l2_reg_linear=1e-05,\n",
        "            l2_reg_embedding=0.001, l2_reg_dnn=x, seed=1024,task='binary',dnn_use_bn=False,fm_group=['default_group'])\n",
        "\n",
        "    model.compile(\"adam\", \"mse\", metrics=['mse'])\n",
        "\n",
        "    history = model.fit(train_model_input, train[target].values,\n",
        "                            batch_size=256, epochs=10, verbose=2, validation_split=0.2, )\n",
        "    pred_result = model.predict(test_model_input, batch_size=256)\n",
        "    \n",
        "    auc = roc_auc_score(test[target].values, pred_result)\n",
        "    \n",
        "    l2_reg_dnn_dict[x]={\"RMSE\": np.round(math.sqrt(mean_squared_error(test[target].values, pred_result)),2),\n",
        "      \"MAE\" : np.round(mean_absolute_error(test[target].values, pred_result),2),\n",
        "      \"MSE\" : np.round(mean_squared_error(test[target].values, pred_result),2),\n",
        "      \"AUC\" : np.round(auc,2)}\n",
        "result['l2_reg_dnn']=l2_reg_dnn_dict"
      ],
      "metadata": {
        "colab": {
          "base_uri": "https://localhost:8080/"
        },
        "id": "d0oiUZOgZWXU",
        "outputId": "67c536d4-a79c-4f7d-f630-caac1dadd2b0"
      },
      "execution_count": 59,
      "outputs": [
        {
          "output_type": "stream",
          "name": "stdout",
          "text": [
            "Train on 40334 samples, validate on 10084 samples\n",
            "Epoch 1/10\n",
            "40334/40334 - 11s - loss: 0.0998 - mean_squared_error: 0.0988 - val_loss: 0.0796 - val_mean_squared_error: 0.0787\n",
            "Epoch 2/10\n",
            "40334/40334 - 3s - loss: 0.0779 - mean_squared_error: 0.0769 - val_loss: 0.0777 - val_mean_squared_error: 0.0765\n",
            "Epoch 3/10\n",
            "40334/40334 - 3s - loss: 0.0759 - mean_squared_error: 0.0744 - val_loss: 0.0763 - val_mean_squared_error: 0.0748\n",
            "Epoch 4/10\n",
            "40334/40334 - 3s - loss: 0.0747 - mean_squared_error: 0.0730 - val_loss: 0.0760 - val_mean_squared_error: 0.0743\n",
            "Epoch 5/10\n",
            "40334/40334 - 3s - loss: 0.0739 - mean_squared_error: 0.0721 - val_loss: 0.0755 - val_mean_squared_error: 0.0738\n",
            "Epoch 6/10\n",
            "40334/40334 - 3s - loss: 0.0732 - mean_squared_error: 0.0713 - val_loss: 0.0755 - val_mean_squared_error: 0.0735\n",
            "Epoch 7/10\n",
            "40334/40334 - 3s - loss: 0.0727 - mean_squared_error: 0.0706 - val_loss: 0.0753 - val_mean_squared_error: 0.0733\n",
            "Epoch 8/10\n",
            "40334/40334 - 3s - loss: 0.0722 - mean_squared_error: 0.0700 - val_loss: 0.0754 - val_mean_squared_error: 0.0732\n",
            "Epoch 9/10\n",
            "40334/40334 - 3s - loss: 0.0717 - mean_squared_error: 0.0693 - val_loss: 0.0753 - val_mean_squared_error: 0.0729\n",
            "Epoch 10/10\n",
            "40334/40334 - 3s - loss: 0.0714 - mean_squared_error: 0.0688 - val_loss: 0.0753 - val_mean_squared_error: 0.0729\n",
            "Train on 40334 samples, validate on 10084 samples\n",
            "Epoch 1/10\n",
            "40334/40334 - 10s - loss: 1.2873 - mean_squared_error: 0.1039 - val_loss: 0.6777 - val_mean_squared_error: 0.0799\n",
            "Epoch 2/10\n",
            "40334/40334 - 3s - loss: 0.4681 - mean_squared_error: 0.0781 - val_loss: 0.3293 - val_mean_squared_error: 0.0780\n",
            "Epoch 3/10\n",
            "40334/40334 - 3s - loss: 0.2593 - mean_squared_error: 0.0758 - val_loss: 0.2065 - val_mean_squared_error: 0.0761\n",
            "Epoch 4/10\n",
            "40334/40334 - 3s - loss: 0.1714 - mean_squared_error: 0.0742 - val_loss: 0.1448 - val_mean_squared_error: 0.0753\n",
            "Epoch 5/10\n",
            "40334/40334 - 3s - loss: 0.1245 - mean_squared_error: 0.0732 - val_loss: 0.1107 - val_mean_squared_error: 0.0747\n",
            "Epoch 6/10\n",
            "40334/40334 - 3s - loss: 0.0985 - mean_squared_error: 0.0724 - val_loss: 0.0924 - val_mean_squared_error: 0.0744\n",
            "Epoch 7/10\n",
            "40334/40334 - 3s - loss: 0.0847 - mean_squared_error: 0.0717 - val_loss: 0.0829 - val_mean_squared_error: 0.0741\n",
            "Epoch 8/10\n",
            "40334/40334 - 3s - loss: 0.0775 - mean_squared_error: 0.0711 - val_loss: 0.0787 - val_mean_squared_error: 0.0741\n",
            "Epoch 9/10\n",
            "40334/40334 - 3s - loss: 0.0741 - mean_squared_error: 0.0706 - val_loss: 0.0764 - val_mean_squared_error: 0.0737\n",
            "Epoch 10/10\n",
            "40334/40334 - 3s - loss: 0.0724 - mean_squared_error: 0.0701 - val_loss: 0.0757 - val_mean_squared_error: 0.0737\n",
            "Train on 40334 samples, validate on 10084 samples\n",
            "Epoch 1/10\n",
            "40334/40334 - 10s - loss: 11.9274 - mean_squared_error: 0.1038 - val_loss: 6.0512 - val_mean_squared_error: 0.0799\n",
            "Epoch 2/10\n",
            "40334/40334 - 3s - loss: 3.9753 - mean_squared_error: 0.0780 - val_loss: 2.5889 - val_mean_squared_error: 0.0778\n",
            "Epoch 3/10\n",
            "40334/40334 - 3s - loss: 1.9064 - mean_squared_error: 0.0757 - val_loss: 1.3747 - val_mean_squared_error: 0.0760\n",
            "Epoch 4/10\n",
            "40334/40334 - 3s - loss: 1.0396 - mean_squared_error: 0.0741 - val_loss: 0.7632 - val_mean_squared_error: 0.0751\n",
            "Epoch 5/10\n",
            "40334/40334 - 3s - loss: 0.5776 - mean_squared_error: 0.0731 - val_loss: 0.4258 - val_mean_squared_error: 0.0746\n",
            "Epoch 6/10\n",
            "40334/40334 - 3s - loss: 0.3238 - mean_squared_error: 0.0723 - val_loss: 0.2439 - val_mean_squared_error: 0.0743\n",
            "Epoch 7/10\n",
            "40334/40334 - 3s - loss: 0.1899 - mean_squared_error: 0.0717 - val_loss: 0.1509 - val_mean_squared_error: 0.0741\n",
            "Epoch 8/10\n",
            "40334/40334 - 3s - loss: 0.1231 - mean_squared_error: 0.0711 - val_loss: 0.1065 - val_mean_squared_error: 0.0740\n",
            "Epoch 9/10\n",
            "40334/40334 - 3s - loss: 0.0923 - mean_squared_error: 0.0706 - val_loss: 0.0870 - val_mean_squared_error: 0.0737\n",
            "Epoch 10/10\n",
            "40334/40334 - 3s - loss: 0.0791 - mean_squared_error: 0.0701 - val_loss: 0.0792 - val_mean_squared_error: 0.0736\n",
            "Train on 40334 samples, validate on 10084 samples\n",
            "Epoch 1/10\n",
            "40334/40334 - 12s - loss: 23.7493 - mean_squared_error: 0.1034 - val_loss: 12.0217 - val_mean_squared_error: 0.0799\n",
            "Epoch 2/10\n",
            "40334/40334 - 3s - loss: 7.8722 - mean_squared_error: 0.0780 - val_loss: 5.0996 - val_mean_squared_error: 0.0779\n",
            "Epoch 3/10\n",
            "40334/40334 - 3s - loss: 3.7367 - mean_squared_error: 0.0757 - val_loss: 2.6727 - val_mean_squared_error: 0.0761\n",
            "Epoch 4/10\n",
            "40334/40334 - 3s - loss: 2.0043 - mean_squared_error: 0.0741 - val_loss: 1.4503 - val_mean_squared_error: 0.0753\n",
            "Epoch 5/10\n",
            "40334/40334 - 3s - loss: 1.0810 - mean_squared_error: 0.0732 - val_loss: 0.7761 - val_mean_squared_error: 0.0747\n",
            "Epoch 6/10\n",
            "40334/40334 - 3s - loss: 0.5742 - mean_squared_error: 0.0723 - val_loss: 0.4121 - val_mean_squared_error: 0.0743\n",
            "Epoch 7/10\n",
            "40334/40334 - 3s - loss: 0.3066 - mean_squared_error: 0.0717 - val_loss: 0.2262 - val_mean_squared_error: 0.0740\n",
            "Epoch 8/10\n",
            "40334/40334 - 3s - loss: 0.1737 - mean_squared_error: 0.0711 - val_loss: 0.1376 - val_mean_squared_error: 0.0739\n",
            "Epoch 9/10\n",
            "40334/40334 - 3s - loss: 0.1123 - mean_squared_error: 0.0706 - val_loss: 0.0987 - val_mean_squared_error: 0.0737\n",
            "Epoch 10/10\n",
            "40334/40334 - 3s - loss: 0.0863 - mean_squared_error: 0.0702 - val_loss: 0.0832 - val_mean_squared_error: 0.0737\n"
          ]
        }
      ]
    },
    {
      "cell_type": "code",
      "source": [
        "l2_reg_dnn_dict"
      ],
      "metadata": {
        "colab": {
          "base_uri": "https://localhost:8080/"
        },
        "id": "DTUz0ykbZYdi",
        "outputId": "440901b3-5e83-43aa-9375-74cd55e3f38f"
      },
      "execution_count": 60,
      "outputs": [
        {
          "output_type": "execute_result",
          "data": {
            "text/plain": [
              "{0: {'AUC': 0.78, 'MAE': 0.15, 'MSE': 0.07, 'RMSE': 0.27},\n",
              " 0.2: {'AUC': 0.77, 'MAE': 0.16, 'MSE': 0.07, 'RMSE': 0.27},\n",
              " 2: {'AUC': 0.77, 'MAE': 0.16, 'MSE': 0.07, 'RMSE': 0.27},\n",
              " 4: {'AUC': 0.77, 'MAE': 0.16, 'MSE': 0.07, 'RMSE': 0.27}}"
            ]
          },
          "metadata": {},
          "execution_count": 60
        }
      ]
    },
    {
      "cell_type": "code",
      "source": [
        "l2_reg_dnn_dict[0]"
      ],
      "metadata": {
        "colab": {
          "base_uri": "https://localhost:8080/"
        },
        "id": "WV8zN-hKZbks",
        "outputId": "98858701-24e6-488a-a4ba-d89e642f10d3"
      },
      "execution_count": 61,
      "outputs": [
        {
          "output_type": "execute_result",
          "data": {
            "text/plain": [
              "{'AUC': 0.78, 'MAE': 0.15, 'MSE': 0.07, 'RMSE': 0.27}"
            ]
          },
          "metadata": {},
          "execution_count": 61
        }
      ]
    },
    {
      "cell_type": "markdown",
      "source": [
        "### dnn_dropout – float in [0,1), the probability we will drop out a given DNN coordinate."
      ],
      "metadata": {
        "id": "symbXoZ4aZyq"
      }
    },
    {
      "cell_type": "code",
      "source": [
        "dnn_dropout_dict={}\n",
        "for x in param_grid['dnn_dropout']:\n",
        "    model = DeepFM(linear_feature_columns, dnn_feature_columns, dnn_hidden_units=(4,4),seed=1024, dnn_dropout=x, dnn_activation='relu',task='binary',\n",
        "                   fm_group=['default_group'],dnn_use_bn=False)\n",
        "\n",
        "    model.compile(\"adam\", \"mse\", metrics=['mse'])\n",
        "\n",
        "    history = model.fit(train_model_input, train[target].values,\n",
        "                            batch_size=256, epochs=10, verbose=2, validation_split=0.2, )\n",
        "    pred_result = model.predict(test_model_input, batch_size=256)\n",
        "    \n",
        "    auc = roc_auc_score(test[target].values, pred_result)\n",
        "    \n",
        "    dnn_dropout_dict[x]={\"RMSE\": np.round(math.sqrt(mean_squared_error(test[target].values, pred_result)),2),\n",
        "      \"MAE\" : np.round(mean_absolute_error(test[target].values, pred_result),2),\n",
        "      \"MSE\" : np.round(mean_squared_error(test[target].values, pred_result),2),\n",
        "      \"AUC\" : np.round(auc,3)}\n",
        "result['dnn_dropout']=dnn_dropout_dict"
      ],
      "metadata": {
        "colab": {
          "base_uri": "https://localhost:8080/"
        },
        "id": "qRNd1hPPZdIB",
        "outputId": "a0be544f-3ecd-4f1d-a9fa-787f1a98906f"
      },
      "execution_count": 62,
      "outputs": [
        {
          "output_type": "stream",
          "name": "stdout",
          "text": [
            "Train on 40334 samples, validate on 10084 samples\n",
            "Epoch 1/10\n",
            "40334/40334 - 16s - loss: 0.0992 - mean_squared_error: 0.0991 - val_loss: 0.0784 - val_mean_squared_error: 0.0783\n",
            "Epoch 2/10\n",
            "40334/40334 - 3s - loss: 0.0760 - mean_squared_error: 0.0758 - val_loss: 0.0754 - val_mean_squared_error: 0.0751\n",
            "Epoch 3/10\n",
            "40334/40334 - 3s - loss: 0.0707 - mean_squared_error: 0.0702 - val_loss: 0.0741 - val_mean_squared_error: 0.0735\n",
            "Epoch 4/10\n",
            "40334/40334 - 3s - loss: 0.0667 - mean_squared_error: 0.0659 - val_loss: 0.0753 - val_mean_squared_error: 0.0743\n",
            "Epoch 5/10\n",
            "40334/40334 - 3s - loss: 0.0639 - mean_squared_error: 0.0628 - val_loss: 0.0777 - val_mean_squared_error: 0.0764\n",
            "Epoch 6/10\n",
            "40334/40334 - 5s - loss: 0.0619 - mean_squared_error: 0.0606 - val_loss: 0.0806 - val_mean_squared_error: 0.0792\n",
            "Epoch 7/10\n",
            "40334/40334 - 5s - loss: 0.0603 - mean_squared_error: 0.0589 - val_loss: 0.0820 - val_mean_squared_error: 0.0805\n",
            "Epoch 8/10\n",
            "40334/40334 - 4s - loss: 0.0590 - mean_squared_error: 0.0575 - val_loss: 0.0845 - val_mean_squared_error: 0.0829\n",
            "Epoch 9/10\n",
            "40334/40334 - 4s - loss: 0.0581 - mean_squared_error: 0.0565 - val_loss: 0.0838 - val_mean_squared_error: 0.0822\n",
            "Epoch 10/10\n",
            "40334/40334 - 4s - loss: 0.0574 - mean_squared_error: 0.0557 - val_loss: 0.0861 - val_mean_squared_error: 0.0844\n",
            "Train on 40334 samples, validate on 10084 samples\n",
            "Epoch 1/10\n",
            "40334/40334 - 14s - loss: 0.1003 - mean_squared_error: 0.1002 - val_loss: 0.0785 - val_mean_squared_error: 0.0784\n",
            "Epoch 2/10\n",
            "40334/40334 - 3s - loss: 0.0779 - mean_squared_error: 0.0778 - val_loss: 0.0760 - val_mean_squared_error: 0.0758\n",
            "Epoch 3/10\n",
            "40334/40334 - 3s - loss: 0.0732 - mean_squared_error: 0.0729 - val_loss: 0.0737 - val_mean_squared_error: 0.0732\n",
            "Epoch 4/10\n",
            "40334/40334 - 3s - loss: 0.0694 - mean_squared_error: 0.0688 - val_loss: 0.0741 - val_mean_squared_error: 0.0733\n",
            "Epoch 5/10\n",
            "40334/40334 - 3s - loss: 0.0669 - mean_squared_error: 0.0659 - val_loss: 0.0752 - val_mean_squared_error: 0.0742\n",
            "Epoch 6/10\n",
            "40334/40334 - 3s - loss: 0.0649 - mean_squared_error: 0.0638 - val_loss: 0.0762 - val_mean_squared_error: 0.0750\n",
            "Epoch 7/10\n",
            "40334/40334 - 3s - loss: 0.0632 - mean_squared_error: 0.0619 - val_loss: 0.0786 - val_mean_squared_error: 0.0772\n",
            "Epoch 8/10\n",
            "40334/40334 - 3s - loss: 0.0621 - mean_squared_error: 0.0606 - val_loss: 0.0797 - val_mean_squared_error: 0.0781\n",
            "Epoch 9/10\n",
            "40334/40334 - 3s - loss: 0.0608 - mean_squared_error: 0.0592 - val_loss: 0.0808 - val_mean_squared_error: 0.0792\n",
            "Epoch 10/10\n",
            "40334/40334 - 3s - loss: 0.0599 - mean_squared_error: 0.0581 - val_loss: 0.0836 - val_mean_squared_error: 0.0818\n",
            "Train on 40334 samples, validate on 10084 samples\n",
            "Epoch 1/10\n",
            "40334/40334 - 12s - loss: 0.1037 - mean_squared_error: 0.1037 - val_loss: 0.0786 - val_mean_squared_error: 0.0785\n",
            "Epoch 2/10\n",
            "40334/40334 - 3s - loss: 0.0785 - mean_squared_error: 0.0784 - val_loss: 0.0769 - val_mean_squared_error: 0.0767\n",
            "Epoch 3/10\n",
            "40334/40334 - 3s - loss: 0.0741 - mean_squared_error: 0.0739 - val_loss: 0.0746 - val_mean_squared_error: 0.0742\n",
            "Epoch 4/10\n",
            "40334/40334 - 3s - loss: 0.0704 - mean_squared_error: 0.0699 - val_loss: 0.0741 - val_mean_squared_error: 0.0734\n",
            "Epoch 5/10\n",
            "40334/40334 - 3s - loss: 0.0676 - mean_squared_error: 0.0668 - val_loss: 0.0751 - val_mean_squared_error: 0.0741\n",
            "Epoch 6/10\n",
            "40334/40334 - 3s - loss: 0.0653 - mean_squared_error: 0.0642 - val_loss: 0.0767 - val_mean_squared_error: 0.0754\n",
            "Epoch 7/10\n",
            "40334/40334 - 3s - loss: 0.0635 - mean_squared_error: 0.0621 - val_loss: 0.0777 - val_mean_squared_error: 0.0763\n",
            "Epoch 8/10\n",
            "40334/40334 - 3s - loss: 0.0619 - mean_squared_error: 0.0603 - val_loss: 0.0811 - val_mean_squared_error: 0.0795\n",
            "Epoch 9/10\n",
            "40334/40334 - 3s - loss: 0.0610 - mean_squared_error: 0.0593 - val_loss: 0.0817 - val_mean_squared_error: 0.0799\n",
            "Epoch 10/10\n",
            "40334/40334 - 3s - loss: 0.0600 - mean_squared_error: 0.0582 - val_loss: 0.0830 - val_mean_squared_error: 0.0811\n",
            "WARNING:tensorflow:Large dropout rate: 0.7 (>0.5). In TensorFlow 2.x, dropout() uses dropout rate instead of keep_prob. Please ensure that this is intended.\n",
            "WARNING:tensorflow:Large dropout rate: 0.7 (>0.5). In TensorFlow 2.x, dropout() uses dropout rate instead of keep_prob. Please ensure that this is intended.\n",
            "Train on 40334 samples, validate on 10084 samples\n",
            "Epoch 1/10\n",
            "40334/40334 - 12s - loss: 0.1083 - mean_squared_error: 0.1083 - val_loss: 0.0794 - val_mean_squared_error: 0.0793\n",
            "Epoch 2/10\n",
            "40334/40334 - 3s - loss: 0.0781 - mean_squared_error: 0.0780 - val_loss: 0.0773 - val_mean_squared_error: 0.0772\n",
            "Epoch 3/10\n",
            "40334/40334 - 3s - loss: 0.0745 - mean_squared_error: 0.0743 - val_loss: 0.0749 - val_mean_squared_error: 0.0746\n",
            "Epoch 4/10\n",
            "40334/40334 - 3s - loss: 0.0713 - mean_squared_error: 0.0708 - val_loss: 0.0748 - val_mean_squared_error: 0.0742\n",
            "Epoch 5/10\n",
            "40334/40334 - 3s - loss: 0.0688 - mean_squared_error: 0.0681 - val_loss: 0.0745 - val_mean_squared_error: 0.0736\n",
            "Epoch 6/10\n",
            "40334/40334 - 4s - loss: 0.0670 - mean_squared_error: 0.0660 - val_loss: 0.0757 - val_mean_squared_error: 0.0745\n",
            "Epoch 7/10\n",
            "40334/40334 - 3s - loss: 0.0654 - mean_squared_error: 0.0641 - val_loss: 0.0776 - val_mean_squared_error: 0.0762\n",
            "Epoch 8/10\n",
            "40334/40334 - 3s - loss: 0.0643 - mean_squared_error: 0.0627 - val_loss: 0.0783 - val_mean_squared_error: 0.0766\n",
            "Epoch 9/10\n",
            "40334/40334 - 3s - loss: 0.0633 - mean_squared_error: 0.0615 - val_loss: 0.0792 - val_mean_squared_error: 0.0773\n",
            "Epoch 10/10\n",
            "40334/40334 - 3s - loss: 0.0626 - mean_squared_error: 0.0605 - val_loss: 0.0796 - val_mean_squared_error: 0.0775\n",
            "WARNING:tensorflow:Large dropout rate: 0.9 (>0.5). In TensorFlow 2.x, dropout() uses dropout rate instead of keep_prob. Please ensure that this is intended.\n",
            "WARNING:tensorflow:Large dropout rate: 0.9 (>0.5). In TensorFlow 2.x, dropout() uses dropout rate instead of keep_prob. Please ensure that this is intended.\n",
            "Train on 40334 samples, validate on 10084 samples\n",
            "Epoch 1/10\n",
            "40334/40334 - 13s - loss: 0.1091 - mean_squared_error: 0.1091 - val_loss: 0.0789 - val_mean_squared_error: 0.0788\n",
            "Epoch 2/10\n",
            "40334/40334 - 3s - loss: 0.0754 - mean_squared_error: 0.0752 - val_loss: 0.0753 - val_mean_squared_error: 0.0749\n",
            "Epoch 3/10\n",
            "40334/40334 - 3s - loss: 0.0714 - mean_squared_error: 0.0708 - val_loss: 0.0744 - val_mean_squared_error: 0.0737\n",
            "Epoch 4/10\n",
            "40334/40334 - 3s - loss: 0.0687 - mean_squared_error: 0.0679 - val_loss: 0.0750 - val_mean_squared_error: 0.0740\n",
            "Epoch 5/10\n",
            "40334/40334 - 3s - loss: 0.0669 - mean_squared_error: 0.0657 - val_loss: 0.0757 - val_mean_squared_error: 0.0743\n",
            "Epoch 6/10\n",
            "40334/40334 - 3s - loss: 0.0654 - mean_squared_error: 0.0639 - val_loss: 0.0764 - val_mean_squared_error: 0.0747\n",
            "Epoch 7/10\n",
            "40334/40334 - 3s - loss: 0.0641 - mean_squared_error: 0.0624 - val_loss: 0.0777 - val_mean_squared_error: 0.0758\n",
            "Epoch 8/10\n",
            "40334/40334 - 3s - loss: 0.0633 - mean_squared_error: 0.0613 - val_loss: 0.0794 - val_mean_squared_error: 0.0773\n",
            "Epoch 9/10\n",
            "40334/40334 - 3s - loss: 0.0624 - mean_squared_error: 0.0602 - val_loss: 0.0795 - val_mean_squared_error: 0.0772\n",
            "Epoch 10/10\n",
            "40334/40334 - 3s - loss: 0.0616 - mean_squared_error: 0.0592 - val_loss: 0.0814 - val_mean_squared_error: 0.0789\n",
            "Train on 40334 samples, validate on 10084 samples\n",
            "Epoch 1/10\n",
            "40334/40334 - 13s - loss: 0.1007 - mean_squared_error: 0.1006 - val_loss: 0.0784 - val_mean_squared_error: 0.0783\n",
            "Epoch 2/10\n",
            "40334/40334 - 3s - loss: 0.0775 - mean_squared_error: 0.0773 - val_loss: 0.0752 - val_mean_squared_error: 0.0750\n",
            "Epoch 3/10\n",
            "40334/40334 - 3s - loss: 0.0719 - mean_squared_error: 0.0714 - val_loss: 0.0739 - val_mean_squared_error: 0.0733\n",
            "Epoch 4/10\n",
            "40334/40334 - 3s - loss: 0.0677 - mean_squared_error: 0.0669 - val_loss: 0.0745 - val_mean_squared_error: 0.0736\n",
            "Epoch 5/10\n",
            "40334/40334 - 3s - loss: 0.0652 - mean_squared_error: 0.0641 - val_loss: 0.0765 - val_mean_squared_error: 0.0753\n",
            "Epoch 6/10\n",
            "40334/40334 - 3s - loss: 0.0635 - mean_squared_error: 0.0622 - val_loss: 0.0777 - val_mean_squared_error: 0.0763\n",
            "Epoch 7/10\n",
            "40334/40334 - 3s - loss: 0.0620 - mean_squared_error: 0.0605 - val_loss: 0.0796 - val_mean_squared_error: 0.0780\n",
            "Epoch 8/10\n",
            "40334/40334 - 3s - loss: 0.0609 - mean_squared_error: 0.0593 - val_loss: 0.0809 - val_mean_squared_error: 0.0792\n",
            "Epoch 9/10\n",
            "40334/40334 - 3s - loss: 0.0601 - mean_squared_error: 0.0584 - val_loss: 0.0816 - val_mean_squared_error: 0.0799\n",
            "Epoch 10/10\n",
            "40334/40334 - 3s - loss: 0.0590 - mean_squared_error: 0.0572 - val_loss: 0.0832 - val_mean_squared_error: 0.0814\n"
          ]
        }
      ]
    },
    {
      "cell_type": "code",
      "source": [
        "dnn_dropout_dict"
      ],
      "metadata": {
        "colab": {
          "base_uri": "https://localhost:8080/"
        },
        "id": "SODEt1Ihac3C",
        "outputId": "f4eba2a3-5833-4aaf-8a76-a3f068af9ec7"
      },
      "execution_count": 63,
      "outputs": [
        {
          "output_type": "execute_result",
          "data": {
            "text/plain": [
              "{0: {'AUC': 0.753, 'MAE': 0.14, 'MSE': 0.08, 'RMSE': 0.29},\n",
              " 0.1: {'AUC': 0.761, 'MAE': 0.15, 'MSE': 0.08, 'RMSE': 0.28},\n",
              " 0.11: {'AUC': 0.754, 'MAE': 0.13, 'MSE': 0.08, 'RMSE': 0.28},\n",
              " 0.3: {'AUC': 0.755, 'MAE': 0.14, 'MSE': 0.08, 'RMSE': 0.28},\n",
              " 0.7: {'AUC': 0.769, 'MAE': 0.15, 'MSE': 0.08, 'RMSE': 0.28},\n",
              " 0.9: {'AUC': 0.769, 'MAE': 0.16, 'MSE': 0.08, 'RMSE': 0.28}}"
            ]
          },
          "metadata": {},
          "execution_count": 63
        }
      ]
    },
    {
      "cell_type": "code",
      "source": [
        "dnn_dropout_dict[.7]"
      ],
      "metadata": {
        "colab": {
          "base_uri": "https://localhost:8080/"
        },
        "id": "whGxjUhragb-",
        "outputId": "79405652-c6ce-4990-ab8c-3ee202e703bd"
      },
      "execution_count": 64,
      "outputs": [
        {
          "output_type": "execute_result",
          "data": {
            "text/plain": [
              "{'AUC': 0.769, 'MAE': 0.15, 'MSE': 0.08, 'RMSE': 0.28}"
            ]
          },
          "metadata": {},
          "execution_count": 64
        }
      ]
    },
    {
      "cell_type": "markdown",
      "source": [
        "### Final model after Hyperparameter tuning"
      ],
      "metadata": {
        "id": "23rFZLfaajUA"
      }
    },
    {
      "cell_type": "code",
      "source": [
        "model = DeepFM(linear_feature_columns, dnn_feature_columns, dnn_hidden_units=(4,4)\n",
        "            ,  l2_reg_linear=1e-05, l2_reg_embedding=0.001,seed=1024, dnn_dropout=0.7, dnn_activation='relu',task='binary',\n",
        "               fm_group=['default_group'],l2_reg_dnn=0, dnn_use_bn=False)\n",
        "\n",
        "model.compile(\"adam\", \"mse\", metrics=['mse'])"
      ],
      "metadata": {
        "colab": {
          "base_uri": "https://localhost:8080/"
        },
        "id": "WOff28sgaiV7",
        "outputId": "07ce57bb-b3b7-4fb9-a750-55ea38022d76"
      },
      "execution_count": 65,
      "outputs": [
        {
          "output_type": "stream",
          "name": "stdout",
          "text": [
            "WARNING:tensorflow:Large dropout rate: 0.7 (>0.5). In TensorFlow 2.x, dropout() uses dropout rate instead of keep_prob. Please ensure that this is intended.\n"
          ]
        }
      ]
    },
    {
      "cell_type": "code",
      "source": [
        "history = model.fit(train_model_input, train[target].values,\n",
        "                        batch_size=256, epochs=10, verbose=2, validation_split=0.2, )"
      ],
      "metadata": {
        "colab": {
          "base_uri": "https://localhost:8080/"
        },
        "id": "bUGdsI8ZasOJ",
        "outputId": "9e79078f-61a4-4202-a4c0-137330b55a9d"
      },
      "execution_count": 66,
      "outputs": [
        {
          "output_type": "stream",
          "name": "stdout",
          "text": [
            "Train on 40334 samples, validate on 10084 samples\n",
            "Epoch 1/10\n",
            "40334/40334 - 14s - loss: 0.1089 - mean_squared_error: 0.1086 - val_loss: 0.0798 - val_mean_squared_error: 0.0795\n",
            "Epoch 2/10\n",
            "40334/40334 - 3s - loss: 0.0788 - mean_squared_error: 0.0784 - val_loss: 0.0784 - val_mean_squared_error: 0.0779\n",
            "Epoch 3/10\n",
            "40334/40334 - 3s - loss: 0.0767 - mean_squared_error: 0.0759 - val_loss: 0.0769 - val_mean_squared_error: 0.0759\n",
            "Epoch 4/10\n",
            "40334/40334 - 4s - loss: 0.0753 - mean_squared_error: 0.0742 - val_loss: 0.0761 - val_mean_squared_error: 0.0749\n",
            "Epoch 5/10\n",
            "40334/40334 - 3s - loss: 0.0744 - mean_squared_error: 0.0731 - val_loss: 0.0757 - val_mean_squared_error: 0.0745\n",
            "Epoch 6/10\n",
            "40334/40334 - 3s - loss: 0.0738 - mean_squared_error: 0.0725 - val_loss: 0.0754 - val_mean_squared_error: 0.0741\n",
            "Epoch 7/10\n",
            "40334/40334 - 3s - loss: 0.0731 - mean_squared_error: 0.0718 - val_loss: 0.0754 - val_mean_squared_error: 0.0740\n",
            "Epoch 8/10\n",
            "40334/40334 - 3s - loss: 0.0727 - mean_squared_error: 0.0712 - val_loss: 0.0752 - val_mean_squared_error: 0.0738\n",
            "Epoch 9/10\n",
            "40334/40334 - 3s - loss: 0.0723 - mean_squared_error: 0.0708 - val_loss: 0.0752 - val_mean_squared_error: 0.0737\n",
            "Epoch 10/10\n",
            "40334/40334 - 3s - loss: 0.0719 - mean_squared_error: 0.0702 - val_loss: 0.0748 - val_mean_squared_error: 0.0733\n"
          ]
        }
      ]
    },
    {
      "cell_type": "code",
      "source": [
        "pred_result = model.predict(test_model_input, batch_size=256)\n",
        "    \n",
        "auc = roc_auc_score(test[target].values, pred_result)"
      ],
      "metadata": {
        "id": "HS8mIhJ1auWC"
      },
      "execution_count": 67,
      "outputs": []
    },
    {
      "cell_type": "code",
      "source": [
        "print(\"RMSE:\\t%f\" % np.round(math.sqrt(mean_squared_error(test[target].values, pred_result)),2),\"MAE:\\t%f\" % np.round(mean_absolute_error(test[target].values, pred_result),2),\n",
        "      \"MSE:\\t%f\" % np.round(mean_squared_error(test[target].values, pred_result),2),\"AUC score:\\t%f\" % np.round(auc,2), sep='\\n')"
      ],
      "metadata": {
        "colab": {
          "base_uri": "https://localhost:8080/"
        },
        "id": "-xpDOo4naw52",
        "outputId": "eacfcfc8-bdb1-4721-a62f-1b5c2241807e"
      },
      "execution_count": 68,
      "outputs": [
        {
          "output_type": "stream",
          "name": "stdout",
          "text": [
            "RMSE:\t0.270000\n",
            "MAE:\t0.160000\n",
            "MSE:\t0.070000\n",
            "AUC score:\t0.770000\n"
          ]
        }
      ]
    },
    {
      "cell_type": "markdown",
      "source": [
        "### ROC Curves and AUC"
      ],
      "metadata": {
        "id": "jz6lNXogcb8k"
      }
    },
    {
      "cell_type": "code",
      "source": [
        "from sklearn import metrics\n",
        "fpr, tpr, thresholds = metrics.roc_curve(test[target].values, pred_result, pos_label=2)"
      ],
      "metadata": {
        "id": "qRDWOo-fay9W"
      },
      "execution_count": 70,
      "outputs": []
    },
    {
      "cell_type": "code",
      "source": [
        "print(\"fpr : \", fpr)\n",
        "print(\"tpr : \",  tpr)\n",
        "print(\"thresholds\" , thresholds) "
      ],
      "metadata": {
        "colab": {
          "base_uri": "https://localhost:8080/"
        },
        "id": "s2SmKR1jcfXQ",
        "outputId": "b05b54fd-5e12-49bc-90dd-031103d60bcb"
      },
      "execution_count": 71,
      "outputs": [
        {
          "output_type": "stream",
          "name": "stdout",
          "text": [
            "fpr :  [0.00000000e+00 7.93335978e-05 7.14002380e-04 ... 9.99365331e-01\n",
            " 9.99523998e-01 1.00000000e+00]\n",
            "tpr :  [nan nan nan ... nan nan nan]\n",
            "thresholds [1.5221395  0.5221395  0.46191075 ... 0.00961894 0.00946987 0.00787127]\n"
          ]
        }
      ]
    },
    {
      "cell_type": "code",
      "source": [
        "# generate a no skill prediction (majority class)\n",
        "ns_probs = [0 for _ in range(len(pred_result))]\n",
        "\n",
        "# predict probabilities\n",
        "lr_probs = pred_result\n",
        "\n",
        "# keep probabilities for the positive outcome only\n",
        "#lr_probs = lr_probs[:, 1]\n",
        "# calculate scores\n",
        "ns_auc = roc_auc_score(test[target].values, ns_probs)\n",
        "lr_auc = roc_auc_score(test[target].values, lr_probs)\n",
        "\n",
        "# summarize scores\n",
        "print('No Skill: ROC AUC=%.2f' % (ns_auc))\n",
        "print('Logistic: ROC AUC=%.2f' % (lr_auc))\n",
        "\n",
        "# calculate roc curves\n",
        "ns_fpr, ns_tpr, _ = roc_curve(test[target].values, ns_probs)\n",
        "lr_fpr, lr_tpr, _ = roc_curve(test[target].values, lr_probs)\n",
        "\n",
        "# plot the roc curve for the model\n",
        "plt.plot(ns_fpr, ns_tpr, linestyle='--', label='No Skill')\n",
        "plt.plot(lr_fpr, lr_tpr, marker='.', label='Logistic')\n",
        "# axis labels\n",
        "plt.xlabel('False Positive Rate')\n",
        "plt.ylabel('True Positive Rate')\n",
        "# show the legend\n",
        "plt.legend()\n",
        "# show the plot\n",
        "plt.show()"
      ],
      "metadata": {
        "colab": {
          "base_uri": "https://localhost:8080/",
          "height": 314
        },
        "id": "fzP9cYm7cp9K",
        "outputId": "5896ef23-4a6a-40aa-cfdb-1d2f2296aa17"
      },
      "execution_count": 72,
      "outputs": [
        {
          "output_type": "stream",
          "name": "stdout",
          "text": [
            "No Skill: ROC AUC=0.50\n",
            "Logistic: ROC AUC=0.77\n"
          ]
        },
        {
          "output_type": "display_data",
          "data": {
            "text/plain": [
              "<Figure size 432x288 with 1 Axes>"
            ],
            "image/png": "[encoded data removed]"
          },
          "metadata": {
            "needs_background": "light"
          }
        }
      ]
    },
    {
      "cell_type": "markdown",
      "source": [
        "### Recommend Hotel for a user"
      ],
      "metadata": {
        "id": "uvCXRLFPcway"
      }
    },
    {
      "cell_type": "code",
      "source": [
        "rows = []\n",
        "hotel = list(train_data_copy.drop_duplicates(subset='item_id', keep='first').item_id)\n",
        "names = list(train_data_copy.drop_duplicates(subset='item_id', keep='first').item_id)\n",
        "\n",
        "for i in range(len(hotel)):\n",
        "    rows.append( dict({'name': names[i], 'item_id' : hotel[i], 'user_id' : 1048}))\n",
        "test_data = pd.DataFrame(rows)"
      ],
      "metadata": {
        "id": "Ayhp1yu_cslD"
      },
      "execution_count": 74,
      "outputs": []
    },
    {
      "cell_type": "code",
      "source": [
        "for idx, (score, name) in enumerate(sorted(zip(pred_result, names), reverse=True)):\n",
        "    if idx >= 5:\n",
        "        break\n",
        " \n",
        "    print(\"Score: \", round(float(score), 2), \" for hotel cluster: \", name)"
      ],
      "metadata": {
        "colab": {
          "base_uri": "https://localhost:8080/"
        },
        "id": "sEwG0uWWczHu",
        "outputId": "ba00c776-0d90-4e0a-b42e-756e2e8ae662"
      },
      "execution_count": 75,
      "outputs": [
        {
          "output_type": "stream",
          "name": "stdout",
          "text": [
            "Score:  0.36  for hotel cluster:  19\n",
            "Score:  0.31  for hotel cluster:  45\n",
            "Score:  0.3  for hotel cluster:  24\n",
            "Score:  0.26  for hotel cluster:  11\n",
            "Score:  0.2  for hotel cluster:  23\n"
          ]
        }
      ]
    }
  ],
  "metadata": {
    "kernelspec": {
      "display_name": "Python 3 (ipykernel)",
      "language": "python",
      "name": "python3"
    },
    "language_info": {
      "codemirror_mode": {
        "name": "ipython",
        "version": 3
      },
      "file_extension": ".py",
      "mimetype": "text/x-python",
      "name": "python",
      "nbconvert_exporter": "python",
      "pygments_lexer": "ipython3",
      "version": "3.9.7"
    },
    "colab": {
      "name": "DeepFM.ipynb",
      "provenance": [],
      "collapsed_sections": [
        "l7Ba2G4ojHLs",
        "FN2stxoKjHLs",
        "Fkw6zWRpjHLs",
        "2KrFWWFQjHLt"
      ]
    }
  },
  "nbformat": 4,
  "nbformat_minor": 0
}