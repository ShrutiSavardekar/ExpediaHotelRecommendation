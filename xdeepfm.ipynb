{
 "cells": [
  {
   "cell_type": "code",
   "execution_count": 36,
   "id": "59895b2b",
   "metadata": {},
   "outputs": [],
   "source": [
    "import numpy as np\n",
    "import pandas as pd\n",
    "import matplotlib.pyplot as plt\n",
    "import seaborn as sns\n",
    "%matplotlib inline\n",
    "import tensorflow as tf\n",
    "import warnings\n",
    "import math\n",
    "import sys\n",
    "import holidays\n",
    "from tensorflow.python.keras.models import Model\n",
    "from tensorflow.python.keras.layers import Dense\n",
    "from sklearn.metrics import mean_squared_error\n",
    "from sklearn.model_selection import train_test_split\n",
    "from sklearn.preprocessing import LabelEncoder\n",
    "from deepctr.models import WDL,xDeepFM\n",
    "from deepctr.feature_column import SparseFeat, DenseFeat,get_feature_names\n",
    "\n",
    "from sklearn.metrics import roc_curve, auc\n",
    "from sklearn.metrics import roc_auc_score\n",
    "\n",
    "from sklearn import metrics\n",
    "\n",
    "from sklearn.metrics import mean_squared_error,r2_score\n",
    "from sklearn.metrics import mean_absolute_error\n",
    "from sklearn.preprocessing import LabelEncoder, MinMaxScaler\n",
    "from math import sqrt\n",
    "\n",
    "\n",
    "\n",
    "\n"
   ]
  },
  {
   "cell_type": "code",
   "execution_count": 8,
   "id": "51f1e3b7",
   "metadata": {},
   "outputs": [
    {
     "data": {
      "text/plain": [
       "(100000, 24)"
      ]
     },
     "execution_count": 8,
     "metadata": {},
     "output_type": "execute_result"
    }
   ],
   "source": [
    "#Reading the data from train and destination csv\n",
    "dataframe = pd.read_csv('../train.csv', sep=',', nrows=100000)\n",
    "destinations = pd.read_csv('../destinations.csv', sep=',')\n",
    "dataframe.shape"
   ]
  },
  {
   "cell_type": "code",
   "execution_count": 9,
   "id": "69f0b1bb",
   "metadata": {},
   "outputs": [],
   "source": [
    "#Renaming columns hotel_cluster to item id and isbooking to rating\n",
    "dataframe = dataframe.rename(columns={'hotel_cluster': 'item_id', 'is_booking': 'rating'})"
   ]
  },
  {
   "cell_type": "code",
   "execution_count": 16,
   "id": "1dea2b16",
   "metadata": {},
   "outputs": [
    {
     "name": "stdout",
     "output_type": "stream",
     "text": [
      "<class 'pandas.core.frame.DataFrame'>\n",
      "RangeIndex: 100000 entries, 0 to 99999\n",
      "Data columns (total 24 columns):\n",
      " #   Column                     Non-Null Count   Dtype  \n",
      "---  ------                     --------------   -----  \n",
      " 0   date_time                  100000 non-null  object \n",
      " 1   site_name                  100000 non-null  int64  \n",
      " 2   posa_continent             100000 non-null  int64  \n",
      " 3   user_location_country      100000 non-null  int64  \n",
      " 4   user_location_region       100000 non-null  int64  \n",
      " 5   user_location_city         100000 non-null  int64  \n",
      " 6   orig_destination_distance  63078 non-null   float64\n",
      " 7   user_id                    100000 non-null  int64  \n",
      " 8   is_mobile                  100000 non-null  int64  \n",
      " 9   is_package                 100000 non-null  int64  \n",
      " 10  channel                    100000 non-null  int64  \n",
      " 11  srch_ci                    99929 non-null   object \n",
      " 12  srch_co                    99929 non-null   object \n",
      " 13  srch_adults_cnt            100000 non-null  int64  \n",
      " 14  srch_children_cnt          100000 non-null  int64  \n",
      " 15  srch_rm_cnt                100000 non-null  int64  \n",
      " 16  srch_destination_id        100000 non-null  int64  \n",
      " 17  srch_destination_type_id   100000 non-null  int64  \n",
      " 18  rating                     100000 non-null  int64  \n",
      " 19  cnt                        100000 non-null  int64  \n",
      " 20  hotel_continent            100000 non-null  int64  \n",
      " 21  hotel_country              100000 non-null  int64  \n",
      " 22  hotel_market               100000 non-null  int64  \n",
      " 23  item_id                    100000 non-null  int64  \n",
      "dtypes: float64(1), int64(20), object(3)\n",
      "memory usage: 18.3+ MB\n"
     ]
    }
   ],
   "source": [
    "#describing the data\n",
    "dataframe.head()"
   ]
  },
  {
   "cell_type": "markdown",
   "id": "65ac225f",
   "metadata": {},
   "source": [
    "# Feature Engineering\n"
   ]
  },
  {
   "cell_type": "code",
   "execution_count": 17,
   "id": "8efd945e",
   "metadata": {},
   "outputs": [],
   "source": [
    "dataframe= dataframe.drop(['orig_destination_distance'],axis=1)\n",
    "dataframe = dataframe.dropna()"
   ]
  },
  {
   "cell_type": "code",
   "execution_count": 19,
   "id": "8a51f9e9",
   "metadata": {},
   "outputs": [],
   "source": [
    "#Getting USA holidays and Canada holidays\n",
    "ca_holidays = holidays.Canada()\n",
    "us_holidays = holidays.UnitedStates()\n",
    "\n",
    "uk_holidays = holidays.UnitedKingdom()\n",
    "gr_holidays = holidays.Germany()"
   ]
  },
  {
   "cell_type": "code",
   "execution_count": 20,
   "id": "3f56c398",
   "metadata": {},
   "outputs": [],
   "source": [
    "# checking if check-in data or checkout date is a holiday in different countries\n",
    "#Adding a column north_am_ci giving it a value of 1 if the check in date is a holiday\n",
    "dataframe['north_am_ci'] = dataframe['srch_ci'].apply(lambda x: 1 if x in (us_holidays or ca_holidays)  else 0)\n",
    "#Adding a column north_am_co giving it a value of 1 if the check in date is a holiday\n",
    "dataframe['north_am_co'] = dataframe['srch_co'].apply(lambda x: 1 if x in (us_holidays or ca_holidays)  else 0)\n",
    "#Adding a column europe_ci giving it a value of 1 if the check in date is a holiday\n",
    "dataframe['europe_ci'] = dataframe['srch_ci'].apply(lambda x: 1 if x in (uk_holidays or gr_holidays)  else 0)\n",
    "#Adding a europe_co giving it a value of 1 if the check in date is a holiday\n",
    "dataframe['europe_co'] = dataframe['srch_co'].apply(lambda x: 1 if x in (uk_holidays or gr_holidays)  else 0)"
   ]
  },
  {
   "cell_type": "code",
   "execution_count": 1,
   "id": "84081508",
   "metadata": {},
   "outputs": [
    {
     "ename": "NameError",
     "evalue": "name 'dataframe' is not defined",
     "output_type": "error",
     "traceback": [
      "\u001b[1;31m---------------------------------------------------------------------------\u001b[0m",
      "\u001b[1;31mNameError\u001b[0m                                 Traceback (most recent call last)",
      "\u001b[1;32m<ipython-input-1-ca474e2f9e58>\u001b[0m in \u001b[0;36m<module>\u001b[1;34m\u001b[0m\n\u001b[1;32m----> 1\u001b[1;33m \u001b[0mdataframe\u001b[0m\u001b[1;33m.\u001b[0m\u001b[0mhead\u001b[0m\u001b[1;33m(\u001b[0m\u001b[0mn\u001b[0m\u001b[1;33m=\u001b[0m\u001b[1;36m2\u001b[0m\u001b[1;33m)\u001b[0m\u001b[1;33m\u001b[0m\u001b[1;33m\u001b[0m\u001b[0m\n\u001b[0m",
      "\u001b[1;31mNameError\u001b[0m: name 'dataframe' is not defined"
     ]
    }
   ],
   "source": [
    "dataframe.head(n=2)"
   ]
  },
  {
   "cell_type": "code",
   "execution_count": 24,
   "id": "fcbca691",
   "metadata": {},
   "outputs": [],
   "source": [
    "# extracting month from date_time\n",
    "dataframe['click_month'] = pd.DatetimeIndex(dataframe['date_time']).month\n",
    "dataframe['checkin_month'] = pd.DatetimeIndex(dataframe['srch_ci']).month\n",
    "dataframe['checkout_month'] = pd.DatetimeIndex(dataframe['srch_co']).month"
   ]
  },
  {
   "cell_type": "code",
   "execution_count": 25,
   "id": "6b0e4045",
   "metadata": {},
   "outputs": [],
   "source": [
    "#Removing date-time and checkin and check out columns from datafram\n",
    "dataframe= dataframe.drop(['date_time'],axis=1)\n",
    "dataframe= dataframe.drop(['srch_ci'],axis=1)\n",
    "dataframe= dataframe.drop(['srch_co'],axis=1)"
   ]
  },
  {
   "cell_type": "code",
   "execution_count": 26,
   "id": "20a80ecb",
   "metadata": {},
   "outputs": [
    {
     "data": {
      "text/plain": [
       "(99929, 27)"
      ]
     },
     "execution_count": 26,
     "metadata": {},
     "output_type": "execute_result"
    }
   ],
   "source": [
    "dataframe.shape"
   ]
  },
  {
   "cell_type": "code",
   "execution_count": 27,
   "id": "7f6c4142",
   "metadata": {},
   "outputs": [
    {
     "data": {
      "text/plain": [
       "Index(['site_name', 'posa_continent', 'user_location_country',\n",
       "       'user_location_region', 'user_location_city', 'user_id', 'is_mobile',\n",
       "       'is_package', 'channel', 'srch_adults_cnt', 'srch_children_cnt',\n",
       "       'srch_rm_cnt', 'srch_destination_id', 'srch_destination_type_id',\n",
       "       'rating', 'cnt', 'hotel_continent', 'hotel_country', 'hotel_market',\n",
       "       'item_id', 'north_am_ci', 'north_am_co', 'europe_ci', 'europe_co',\n",
       "       'click_month', 'checkin_month', 'checkout_month'],\n",
       "      dtype='object')"
      ]
     },
     "execution_count": 27,
     "metadata": {},
     "output_type": "execute_result"
    }
   ],
   "source": [
    "dataframe.columns"
   ]
  },
  {
   "cell_type": "code",
   "execution_count": 28,
   "id": "f59261e2",
   "metadata": {},
   "outputs": [],
   "source": [
    "# categ_sparse / conti_dense\n",
    "sparse_features = ['site_name','posa_continent','user_location_country','user_location_region','user_location_city',\n",
    "             'user_id','is_mobile','is_package','channel','click_month','checkin_month','checkout_month',\n",
    "            'srch_adults_cnt','srch_children_cnt','srch_rm_cnt','srch_destination_id','hotel_continent',\n",
    "               'hotel_country','cnt','north_am_ci', 'north_am_co', 'europe_ci', 'europe_co','click_month',\n",
    "                   'checkin_month','checkout_month']\n",
    "\n",
    "dense_features = ['hotel_market']\n",
    "target = ['rating']"
   ]
  },
  {
   "cell_type": "markdown",
   "id": "7500100f",
   "metadata": {},
   "source": [
    "## Label Encoding for Sparse Features and Normalization For Dense Features\n"
   ]
  },
  {
   "cell_type": "code",
   "execution_count": 29,
   "id": "46dc4954",
   "metadata": {},
   "outputs": [],
   "source": [
    "# Performing Label encoding for the sparse features\n",
    "for feature in sparse_features:\n",
    "    lbe = LabelEncoder()\n",
    "    dataframe[feature] = lbe.fit_transform(dataframe[feature])"
   ]
  },
  {
   "cell_type": "code",
   "execution_count": 30,
   "id": "9311afa6",
   "metadata": {},
   "outputs": [],
   "source": [
    "# Performing min-max scaling for the dense features\n",
    "mms = MinMaxScaler(feature_range=(0,1))\n",
    "dataframe[dense_features] = mms.fit_transform(dataframe[dense_features])"
   ]
  },
  {
   "cell_type": "markdown",
   "id": "bd3f1c46",
   "metadata": {},
   "source": [
    "### Generate feature columns\n",
    "For sparse features, we transform them into dense vectors by embedding techniques. For dense numerical features, we concatenate them to the input tensors of fully connected layer."
   ]
  },
  {
   "cell_type": "code",
   "execution_count": 31,
   "id": "6b3adae5",
   "metadata": {},
   "outputs": [
    {
     "name": "stdout",
     "output_type": "stream",
     "text": [
      "WARNING:tensorflow:From C:\\Users\\chskr\\anaconda3\\envs\\deepxm\\lib\\site-packages\\tensorflow_core\\python\\keras\\initializers.py:143: calling RandomNormal.__init__ (from tensorflow.python.ops.init_ops) with dtype is deprecated and will be removed in a future version.\n",
      "Instructions for updating:\n",
      "Call initializer instance with the dtype argument instead of passing it to the constructor\n"
     ]
    }
   ],
   "source": [
    "# count #unique features for each sparse field\n",
    "fixlen_feature_columns = [SparseFeat(feat, dataframe[feat].nunique(),embedding_dim=4)\n",
    "                          for feat in sparse_features]\n",
    "linear_feature_columns = fixlen_feature_columns\n",
    "dnn_feature_columns = fixlen_feature_columns\n",
    "feature_names = get_feature_names(linear_feature_columns + dnn_feature_columns)"
   ]
  },
  {
   "cell_type": "code",
   "execution_count": 32,
   "id": "18d0e839",
   "metadata": {},
   "outputs": [],
   "source": [
    "#Split the model into train and test dataset\n",
    "train, test = train_test_split(dataframe, test_size=0.2)\n",
    "train_model_input = {name:train[name].values for name in feature_names}\n",
    "test_model_input = {name:test[name].values for name in feature_names}"
   ]
  },
  {
   "cell_type": "markdown",
   "id": "1240d805",
   "metadata": {},
   "source": [
    "### MOdel before Hyper paramter Tuning"
   ]
  },
  {
   "cell_type": "code",
   "execution_count": 37,
   "id": "2120a9c8",
   "metadata": {},
   "outputs": [
    {
     "name": "stdout",
     "output_type": "stream",
     "text": [
      "WARNING:tensorflow:From C:\\Users\\chskr\\anaconda3\\envs\\deepxm\\lib\\site-packages\\tensorflow_core\\python\\ops\\resource_variable_ops.py:1630: calling BaseResourceVariable.__init__ (from tensorflow.python.ops.resource_variable_ops) with constraint is deprecated and will be removed in a future version.\n",
      "Instructions for updating:\n",
      "If using Keras pass *_constraint arguments to layers.\n",
      "WARNING:tensorflow:From C:\\Users\\chskr\\anaconda3\\envs\\deepxm\\lib\\site-packages\\deepctr\\layers\\utils.py:214: calling reduce_sum_v1 (from tensorflow.python.ops.math_ops) with keep_dims is deprecated and will be removed in a future version.\n",
      "Instructions for updating:\n",
      "keep_dims is deprecated, use keepdims instead\n",
      "WARNING:tensorflow:From C:\\Users\\chskr\\anaconda3\\envs\\deepxm\\lib\\site-packages\\tensorflow_core\\python\\ops\\math_grad.py:1424: where (from tensorflow.python.ops.array_ops) is deprecated and will be removed in a future version.\n",
      "Instructions for updating:\n",
      "Use tf.where in 2.0, which has the same broadcast rule as np.where\n",
      "Train on 63954 samples, validate on 15989 samples\n",
      "Epoch 1/10\n",
      "63954/63954 - 22s - loss: 0.2733 - binary_crossentropy: 0.2731 - val_loss: 0.2487 - val_binary_crossentropy: 0.2483\n",
      "Epoch 2/10\n",
      "63954/63954 - 18s - loss: 0.2229 - binary_crossentropy: 0.2221 - val_loss: 0.2652 - val_binary_crossentropy: 0.2641\n",
      "Epoch 3/10\n",
      "63954/63954 - 19s - loss: 0.2078 - binary_crossentropy: 0.2065 - val_loss: 0.2876 - val_binary_crossentropy: 0.2859\n",
      "Epoch 4/10\n",
      "63954/63954 - 19s - loss: 0.1993 - binary_crossentropy: 0.1975 - val_loss: 0.2982 - val_binary_crossentropy: 0.2961\n",
      "Epoch 5/10\n",
      "63954/63954 - 18s - loss: 0.1927 - binary_crossentropy: 0.1905 - val_loss: 0.3111 - val_binary_crossentropy: 0.3086\n",
      "Epoch 6/10\n",
      "63954/63954 - 19s - loss: 0.1885 - binary_crossentropy: 0.1860 - val_loss: 0.3289 - val_binary_crossentropy: 0.3261\n",
      "Epoch 7/10\n",
      "63954/63954 - 19s - loss: 0.1848 - binary_crossentropy: 0.1819 - val_loss: 0.3190 - val_binary_crossentropy: 0.3160\n",
      "Epoch 8/10\n",
      "63954/63954 - 19s - loss: 0.1802 - binary_crossentropy: 0.1771 - val_loss: 0.3483 - val_binary_crossentropy: 0.3451\n",
      "Epoch 9/10\n",
      "63954/63954 - 18s - loss: 0.1763 - binary_crossentropy: 0.1730 - val_loss: 0.3822 - val_binary_crossentropy: 0.3788\n",
      "Epoch 10/10\n",
      "63954/63954 - 18s - loss: 0.1726 - binary_crossentropy: 0.1692 - val_loss: 0.3989 - val_binary_crossentropy: 0.3955\n"
     ]
    }
   ],
   "source": [
    "model = xDeepFM(linear_feature_columns,dnn_feature_columns,task='binary')\n",
    "model.compile(\"adam\", \"binary_crossentropy\",metrics=['binary_crossentropy'])\n",
    "\n",
    "history = model.fit(train_model_input, train[target].values,\n",
    "                    batch_size=256, epochs=10, verbose=2, validation_split=0.2, )\n",
    "pred_ans = model.predict(test_model_input, batch_size=256)"
   ]
  },
  {
   "cell_type": "code",
   "execution_count": 38,
   "id": "ae502f62",
   "metadata": {},
   "outputs": [
    {
     "name": "stdout",
     "output_type": "stream",
     "text": [
      "RMSE:\t0.294000\n",
      "MAE:\t0.146000\n",
      "MSE:\t0.087000\n",
      "AUC:\t0.705000\n"
     ]
    }
   ],
   "source": [
    "auc = roc_auc_score(test[target].values, pred_ans)\n",
    "\n",
    "print(\"Root-mean-square:\\t%f\" % np.round(math.sqrt(mean_squared_error(test[target].values, pred_ans)),3))"
   ]
  },
  {
   "cell_type": "markdown",
   "id": "11581531",
   "metadata": {},
   "source": [
    "### To get best parameters \n"
   ]
  },
  {
   "cell_type": "code",
   "execution_count": 39,
   "id": "f73ab6b3",
   "metadata": {},
   "outputs": [],
   "source": [
    "#Assume certain parameters in a dictionary to perform hyper parameter tuning to get the best parameters\n",
    "param_rand = {'dnn_hidden_units' : [(1,1),(2,2),(4,4),(8,8),(29,29),(128,128),(256,256)],\n",
    "              'cin_layer_size':[(1,1),(2,2),(4,4),(8,8),(32,32),(128,128)],\n",
    "              'cin_split_half':[True,False],\n",
    "              'dnn_use_bn':[True,False],\n",
    "              'l2_reg_cin':[1e-7,1e-5,1e-3,1e-1,1],\n",
    "              'l2_reg_linear':[1e-5,1e-3,1e-1,1,10],\n",
    "              'l2_reg_embedding':[1e-7,1e-5,1e-3,1e-1,1],\n",
    "              'l2_reg_dnn':[0,0.2,2,4],\n",
    "              'dnn_dropout':[0, 0.3, 0.5, 0.7, 0.9]\n",
    "             }\n",
    "result = {}"
   ]
  },
  {
   "cell_type": "markdown",
   "id": "7efbf9de",
   "metadata": {},
   "source": [
    "### To find the best parameter for DNN_Hidden_Unit"
   ]
  },
  {
   "cell_type": "code",
   "execution_count": 41,
   "id": "fd1acce4",
   "metadata": {},
   "outputs": [
    {
     "name": "stdout",
     "output_type": "stream",
     "text": [
      "Train on 63954 samples, validate on 15989 samples\n",
      "Epoch 1/10\n",
      "63954/63954 - 22s - loss: 0.0813 - mean_squared_error: 0.0811 - val_loss: 0.0709 - val_mean_squared_error: 0.0705\n",
      "Epoch 2/10\n",
      "63954/63954 - 19s - loss: 0.0666 - mean_squared_error: 0.0660 - val_loss: 0.0725 - val_mean_squared_error: 0.0717\n",
      "Epoch 3/10\n",
      "63954/63954 - 19s - loss: 0.0633 - mean_squared_error: 0.0624 - val_loss: 0.0771 - val_mean_squared_error: 0.0761\n",
      "Epoch 4/10\n",
      "63954/63954 - 19s - loss: 0.0611 - mean_squared_error: 0.0599 - val_loss: 0.0790 - val_mean_squared_error: 0.0778\n",
      "Epoch 5/10\n",
      "63954/63954 - 19s - loss: 0.0594 - mean_squared_error: 0.0581 - val_loss: 0.0814 - val_mean_squared_error: 0.0801\n",
      "Epoch 6/10\n",
      "63954/63954 - 20s - loss: 0.0579 - mean_squared_error: 0.0565 - val_loss: 0.0808 - val_mean_squared_error: 0.0794\n",
      "Epoch 7/10\n",
      "63954/63954 - 20s - loss: 0.0567 - mean_squared_error: 0.0553 - val_loss: 0.0835 - val_mean_squared_error: 0.0821\n",
      "Epoch 8/10\n",
      "63954/63954 - 20s - loss: 0.0557 - mean_squared_error: 0.0543 - val_loss: 0.0847 - val_mean_squared_error: 0.0832\n",
      "Epoch 9/10\n",
      "63954/63954 - 20s - loss: 0.0548 - mean_squared_error: 0.0533 - val_loss: 0.0883 - val_mean_squared_error: 0.0868\n",
      "Epoch 10/10\n",
      "63954/63954 - 20s - loss: 0.0541 - mean_squared_error: 0.0526 - val_loss: 0.0870 - val_mean_squared_error: 0.0854\n",
      "Train on 63954 samples, validate on 15989 samples\n",
      "Epoch 1/10\n",
      "63954/63954 - 25s - loss: 0.0811 - mean_squared_error: 0.0810 - val_loss: 0.0709 - val_mean_squared_error: 0.0705\n",
      "Epoch 2/10\n",
      "63954/63954 - 19s - loss: 0.0669 - mean_squared_error: 0.0663 - val_loss: 0.0725 - val_mean_squared_error: 0.0717\n",
      "Epoch 3/10\n",
      "63954/63954 - 19s - loss: 0.0635 - mean_squared_error: 0.0627 - val_loss: 0.0742 - val_mean_squared_error: 0.0732\n",
      "Epoch 4/10\n",
      "63954/63954 - 19s - loss: 0.0611 - mean_squared_error: 0.0601 - val_loss: 0.0770 - val_mean_squared_error: 0.0759\n",
      "Epoch 5/10\n",
      "63954/63954 - 20s - loss: 0.0594 - mean_squared_error: 0.0582 - val_loss: 0.0814 - val_mean_squared_error: 0.0801\n",
      "Epoch 6/10\n",
      "63954/63954 - 20s - loss: 0.0577 - mean_squared_error: 0.0564 - val_loss: 0.0817 - val_mean_squared_error: 0.0803\n",
      "Epoch 7/10\n",
      "63954/63954 - 20s - loss: 0.0563 - mean_squared_error: 0.0548 - val_loss: 0.0845 - val_mean_squared_error: 0.0831\n",
      "Epoch 8/10\n",
      "63954/63954 - 20s - loss: 0.0548 - mean_squared_error: 0.0534 - val_loss: 0.0862 - val_mean_squared_error: 0.0847\n",
      "Epoch 9/10\n",
      "63954/63954 - 19s - loss: 0.0538 - mean_squared_error: 0.0523 - val_loss: 0.0870 - val_mean_squared_error: 0.0855\n",
      "Epoch 10/10\n",
      "63954/63954 - 18s - loss: 0.0528 - mean_squared_error: 0.0512 - val_loss: 0.0877 - val_mean_squared_error: 0.0862\n",
      "Train on 63954 samples, validate on 15989 samples\n",
      "Epoch 1/10\n",
      "63954/63954 - 24s - loss: 0.0816 - mean_squared_error: 0.0815 - val_loss: 0.0713 - val_mean_squared_error: 0.0710\n",
      "Epoch 2/10\n",
      "63954/63954 - 19s - loss: 0.0670 - mean_squared_error: 0.0665 - val_loss: 0.0728 - val_mean_squared_error: 0.0721\n",
      "Epoch 3/10\n",
      "63954/63954 - 20s - loss: 0.0631 - mean_squared_error: 0.0623 - val_loss: 0.0752 - val_mean_squared_error: 0.0743\n",
      "Epoch 4/10\n",
      "63954/63954 - 19s - loss: 0.0604 - mean_squared_error: 0.0593 - val_loss: 0.0778 - val_mean_squared_error: 0.0767\n",
      "Epoch 5/10\n",
      "63954/63954 - 20s - loss: 0.0583 - mean_squared_error: 0.0571 - val_loss: 0.0811 - val_mean_squared_error: 0.0798\n",
      "Epoch 6/10\n",
      "63954/63954 - 20s - loss: 0.0565 - mean_squared_error: 0.0553 - val_loss: 0.0833 - val_mean_squared_error: 0.0820\n",
      "Epoch 7/10\n",
      "63954/63954 - 20s - loss: 0.0551 - mean_squared_error: 0.0537 - val_loss: 0.0850 - val_mean_squared_error: 0.0837\n",
      "Epoch 8/10\n",
      "63954/63954 - 20s - loss: 0.0537 - mean_squared_error: 0.0523 - val_loss: 0.0872 - val_mean_squared_error: 0.0858\n",
      "Epoch 9/10\n",
      "63954/63954 - 20s - loss: 0.0526 - mean_squared_error: 0.0512 - val_loss: 0.0883 - val_mean_squared_error: 0.0868\n",
      "Epoch 10/10\n",
      "63954/63954 - 20s - loss: 0.0515 - mean_squared_error: 0.0500 - val_loss: 0.0900 - val_mean_squared_error: 0.0885\n",
      "Train on 63954 samples, validate on 15989 samples\n",
      "Epoch 1/10\n",
      "63954/63954 - 26s - loss: 0.0813 - mean_squared_error: 0.0812 - val_loss: 0.0710 - val_mean_squared_error: 0.0706\n",
      "Epoch 2/10\n",
      "63954/63954 - 21s - loss: 0.0669 - mean_squared_error: 0.0663 - val_loss: 0.0723 - val_mean_squared_error: 0.0716\n",
      "Epoch 3/10\n",
      "63954/63954 - 21s - loss: 0.0632 - mean_squared_error: 0.0623 - val_loss: 0.0754 - val_mean_squared_error: 0.0744\n",
      "Epoch 4/10\n",
      "63954/63954 - 19s - loss: 0.0606 - mean_squared_error: 0.0595 - val_loss: 0.0782 - val_mean_squared_error: 0.0771\n",
      "Epoch 5/10\n",
      "63954/63954 - 21s - loss: 0.0587 - mean_squared_error: 0.0575 - val_loss: 0.0801 - val_mean_squared_error: 0.0788\n",
      "Epoch 6/10\n",
      "63954/63954 - 21s - loss: 0.0570 - mean_squared_error: 0.0557 - val_loss: 0.0818 - val_mean_squared_error: 0.0804\n",
      "Epoch 7/10\n",
      "63954/63954 - 21s - loss: 0.0555 - mean_squared_error: 0.0542 - val_loss: 0.0848 - val_mean_squared_error: 0.0834\n",
      "Epoch 8/10\n",
      "63954/63954 - 20s - loss: 0.0544 - mean_squared_error: 0.0530 - val_loss: 0.0868 - val_mean_squared_error: 0.0854\n",
      "Epoch 9/10\n",
      "63954/63954 - 20s - loss: 0.0532 - mean_squared_error: 0.0517 - val_loss: 0.0864 - val_mean_squared_error: 0.0849\n",
      "Epoch 10/10\n",
      "63954/63954 - 21s - loss: 0.0524 - mean_squared_error: 0.0509 - val_loss: 0.0893 - val_mean_squared_error: 0.0878\n",
      "Train on 63954 samples, validate on 15989 samples\n",
      "Epoch 1/10\n",
      "63954/63954 - 27s - loss: 0.0806 - mean_squared_error: 0.0805 - val_loss: 0.0715 - val_mean_squared_error: 0.0711\n",
      "Epoch 2/10\n",
      "63954/63954 - 22s - loss: 0.0665 - mean_squared_error: 0.0659 - val_loss: 0.0728 - val_mean_squared_error: 0.0722\n",
      "Epoch 3/10\n",
      "63954/63954 - 23s - loss: 0.0630 - mean_squared_error: 0.0622 - val_loss: 0.0756 - val_mean_squared_error: 0.0747\n",
      "Epoch 4/10\n",
      "63954/63954 - 22s - loss: 0.0604 - mean_squared_error: 0.0594 - val_loss: 0.0769 - val_mean_squared_error: 0.0759\n",
      "Epoch 5/10\n",
      "63954/63954 - 22s - loss: 0.0586 - mean_squared_error: 0.0575 - val_loss: 0.0808 - val_mean_squared_error: 0.0796\n",
      "Epoch 6/10\n",
      "63954/63954 - 22s - loss: 0.0569 - mean_squared_error: 0.0556 - val_loss: 0.0830 - val_mean_squared_error: 0.0817\n",
      "Epoch 7/10\n",
      "63954/63954 - 22s - loss: 0.0553 - mean_squared_error: 0.0540 - val_loss: 0.0848 - val_mean_squared_error: 0.0835\n",
      "Epoch 8/10\n",
      "63954/63954 - 22s - loss: 0.0541 - mean_squared_error: 0.0527 - val_loss: 0.0875 - val_mean_squared_error: 0.0860\n",
      "Epoch 9/10\n",
      "63954/63954 - 22s - loss: 0.0530 - mean_squared_error: 0.0515 - val_loss: 0.0885 - val_mean_squared_error: 0.0870\n",
      "Epoch 10/10\n",
      "63954/63954 - 22s - loss: 0.0519 - mean_squared_error: 0.0504 - val_loss: 0.0912 - val_mean_squared_error: 0.0897\n",
      "Train on 63954 samples, validate on 15989 samples\n",
      "Epoch 1/10\n",
      "63954/63954 - 29s - loss: 0.0795 - mean_squared_error: 0.0793 - val_loss: 0.0712 - val_mean_squared_error: 0.0708\n",
      "Epoch 2/10\n",
      "63954/63954 - 24s - loss: 0.0663 - mean_squared_error: 0.0658 - val_loss: 0.0727 - val_mean_squared_error: 0.0720\n",
      "Epoch 3/10\n",
      "63954/63954 - 23s - loss: 0.0629 - mean_squared_error: 0.0621 - val_loss: 0.0750 - val_mean_squared_error: 0.0741\n",
      "Epoch 4/10\n",
      "63954/63954 - 24s - loss: 0.0609 - mean_squared_error: 0.0599 - val_loss: 0.0775 - val_mean_squared_error: 0.0764\n",
      "Epoch 5/10\n",
      "63954/63954 - 23s - loss: 0.0592 - mean_squared_error: 0.0581 - val_loss: 0.0794 - val_mean_squared_error: 0.0782\n",
      "Epoch 6/10\n",
      "63954/63954 - 24s - loss: 0.0579 - mean_squared_error: 0.0567 - val_loss: 0.0815 - val_mean_squared_error: 0.0802\n",
      "Epoch 7/10\n",
      "63954/63954 - 23s - loss: 0.0572 - mean_squared_error: 0.0559 - val_loss: 0.0850 - val_mean_squared_error: 0.0837\n",
      "Epoch 8/10\n",
      "63954/63954 - 24s - loss: 0.0564 - mean_squared_error: 0.0550 - val_loss: 0.0854 - val_mean_squared_error: 0.0840\n",
      "Epoch 9/10\n",
      "63954/63954 - 23s - loss: 0.0555 - mean_squared_error: 0.0541 - val_loss: 0.0864 - val_mean_squared_error: 0.0850\n",
      "Epoch 10/10\n",
      "63954/63954 - 23s - loss: 0.0550 - mean_squared_error: 0.0535 - val_loss: 0.0838 - val_mean_squared_error: 0.0823\n",
      "Train on 63954 samples, validate on 15989 samples\n",
      "Epoch 1/10\n",
      "63954/63954 - 33s - loss: 0.0783 - mean_squared_error: 0.0782 - val_loss: 0.0710 - val_mean_squared_error: 0.0707\n",
      "Epoch 2/10\n",
      "63954/63954 - 25s - loss: 0.0662 - mean_squared_error: 0.0658 - val_loss: 0.0725 - val_mean_squared_error: 0.0718\n",
      "Epoch 3/10\n",
      "63954/63954 - 26s - loss: 0.0628 - mean_squared_error: 0.0621 - val_loss: 0.0750 - val_mean_squared_error: 0.0742\n"
     ]
    },
    {
     "name": "stdout",
     "output_type": "stream",
     "text": [
      "Epoch 4/10\n",
      "63954/63954 - 26s - loss: 0.0607 - mean_squared_error: 0.0597 - val_loss: 0.0773 - val_mean_squared_error: 0.0763\n",
      "Epoch 5/10\n",
      "63954/63954 - 26s - loss: 0.0591 - mean_squared_error: 0.0580 - val_loss: 0.0792 - val_mean_squared_error: 0.0781\n",
      "Epoch 6/10\n",
      "63954/63954 - 26s - loss: 0.0579 - mean_squared_error: 0.0567 - val_loss: 0.0838 - val_mean_squared_error: 0.0826\n",
      "Epoch 7/10\n",
      "63954/63954 - 25s - loss: 0.0569 - mean_squared_error: 0.0556 - val_loss: 0.0837 - val_mean_squared_error: 0.0824\n",
      "Epoch 8/10\n",
      "63954/63954 - 26s - loss: 0.0559 - mean_squared_error: 0.0545 - val_loss: 0.0863 - val_mean_squared_error: 0.0849\n",
      "Epoch 9/10\n",
      "63954/63954 - 26s - loss: 0.0548 - mean_squared_error: 0.0534 - val_loss: 0.0881 - val_mean_squared_error: 0.0867\n",
      "Epoch 10/10\n",
      "63954/63954 - 25s - loss: 0.0542 - mean_squared_error: 0.0528 - val_loss: 0.0912 - val_mean_squared_error: 0.0898\n"
     ]
    }
   ],
   "source": [
    "dnn_hidden_units_dict = {}\n",
    "for i in param_rand['dnn_hidden_units']:\n",
    "    model = xDeepFM(linear_feature_columns,dnn_feature_columns, dnn_hidden_units=i, \n",
    "              seed=1024,task='binary')\n",
    "    model.compile(\"adam\", \"mse\", metrics=['mse'])\n",
    "\n",
    "    history = model.fit(train_model_input, train[target].values,\n",
    "                            batch_size=256, epochs=10, verbose=2, validation_split=0.2, )\n",
    "    pred_ans = model.predict(test_model_input, batch_size=256)\n",
    "    \n",
    "    auc = roc_auc_score(test[target].values, pred_ans)\n",
    "    dnn_hidden_units_dict[i]={\"RMSE\": np.round(math.sqrt(mean_squared_error(test[target].values, pred_ans)),3)}\n",
    "result['dnn_hidden_units']=dnn_hidden_units_dict"
   ]
  },
  {
   "cell_type": "code",
   "execution_count": 42,
   "id": "211da0b1",
   "metadata": {},
   "outputs": [
    {
     "data": {
      "text/plain": [
       "{(1, 1): {'RMSE': 0.284, 'MAE': 0.13, 'MSE': 0.081, 'AUC': 0.743},\n",
       " (2, 2): {'RMSE': 0.285, 'MAE': 0.127, 'MSE': 0.081, 'AUC': 0.736},\n",
       " (4, 4): {'RMSE': 0.288, 'MAE': 0.13, 'MSE': 0.083, 'AUC': 0.743},\n",
       " (8, 8): {'RMSE': 0.287, 'MAE': 0.139, 'MSE': 0.083, 'AUC': 0.746},\n",
       " (29, 29): {'RMSE': 0.292, 'MAE': 0.143, 'MSE': 0.085, 'AUC': 0.742},\n",
       " (128, 128): {'RMSE': 0.278, 'MAE': 0.123, 'MSE': 0.077, 'AUC': 0.751},\n",
       " (256, 256): {'RMSE': 0.292, 'MAE': 0.141, 'MSE': 0.085, 'AUC': 0.748}}"
      ]
     },
     "execution_count": 42,
     "metadata": {},
     "output_type": "execute_result"
    }
   ],
   "source": [
    "dnn_hidden_units_dict"
   ]
  },
  {
   "cell_type": "markdown",
   "id": "2e67e49b",
   "metadata": {},
   "source": [
    "### To get best parameter cin_layer_size"
   ]
  },
  {
   "cell_type": "code",
   "execution_count": 44,
   "id": "8171d70e",
   "metadata": {},
   "outputs": [
    {
     "name": "stdout",
     "output_type": "stream",
     "text": [
      "Train on 63954 samples, validate on 15989 samples\n",
      "Epoch 1/10\n",
      "63954/63954 - 17s - loss: 0.0801 - mean_squared_error: 0.0800 - val_loss: 0.0710 - val_mean_squared_error: 0.0707\n",
      "Epoch 2/10\n",
      "63954/63954 - 12s - loss: 0.0662 - mean_squared_error: 0.0657 - val_loss: 0.0728 - val_mean_squared_error: 0.0722\n",
      "Epoch 3/10\n",
      "63954/63954 - 12s - loss: 0.0629 - mean_squared_error: 0.0622 - val_loss: 0.0746 - val_mean_squared_error: 0.0738\n",
      "Epoch 4/10\n",
      "63954/63954 - 12s - loss: 0.0607 - mean_squared_error: 0.0598 - val_loss: 0.0783 - val_mean_squared_error: 0.0772\n",
      "Epoch 5/10\n",
      "63954/63954 - 12s - loss: 0.0592 - mean_squared_error: 0.0582 - val_loss: 0.0812 - val_mean_squared_error: 0.0801\n",
      "Epoch 6/10\n",
      "63954/63954 - 12s - loss: 0.0582 - mean_squared_error: 0.0570 - val_loss: 0.0801 - val_mean_squared_error: 0.0789\n",
      "Epoch 7/10\n",
      "63954/63954 - 12s - loss: 0.0571 - mean_squared_error: 0.0559 - val_loss: 0.0829 - val_mean_squared_error: 0.0815\n",
      "Epoch 8/10\n",
      "63954/63954 - 12s - loss: 0.0563 - mean_squared_error: 0.0549 - val_loss: 0.0849 - val_mean_squared_error: 0.0835\n",
      "Epoch 9/10\n",
      "63954/63954 - 12s - loss: 0.0554 - mean_squared_error: 0.0540 - val_loss: 0.0870 - val_mean_squared_error: 0.0855\n",
      "Epoch 10/10\n",
      "63954/63954 - 12s - loss: 0.0546 - mean_squared_error: 0.0531 - val_loss: 0.0880 - val_mean_squared_error: 0.0865\n",
      "Train on 63954 samples, validate on 15989 samples\n",
      "Epoch 1/10\n",
      "63954/63954 - 21s - loss: 0.0803 - mean_squared_error: 0.0802 - val_loss: 0.0709 - val_mean_squared_error: 0.0706\n",
      "Epoch 2/10\n",
      "63954/63954 - 14s - loss: 0.0660 - mean_squared_error: 0.0656 - val_loss: 0.0729 - val_mean_squared_error: 0.0723\n",
      "Epoch 3/10\n",
      "63954/63954 - 14s - loss: 0.0628 - mean_squared_error: 0.0620 - val_loss: 0.0757 - val_mean_squared_error: 0.0749\n",
      "Epoch 4/10\n",
      "63954/63954 - 14s - loss: 0.0606 - mean_squared_error: 0.0597 - val_loss: 0.0775 - val_mean_squared_error: 0.0765\n",
      "Epoch 5/10\n",
      "63954/63954 - 14s - loss: 0.0593 - mean_squared_error: 0.0582 - val_loss: 0.0802 - val_mean_squared_error: 0.0790\n",
      "Epoch 6/10\n",
      "63954/63954 - 14s - loss: 0.0580 - mean_squared_error: 0.0569 - val_loss: 0.0811 - val_mean_squared_error: 0.0799\n",
      "Epoch 7/10\n",
      "63954/63954 - 14s - loss: 0.0572 - mean_squared_error: 0.0560 - val_loss: 0.0851 - val_mean_squared_error: 0.0838\n",
      "Epoch 8/10\n",
      "63954/63954 - 14s - loss: 0.0562 - mean_squared_error: 0.0549 - val_loss: 0.0837 - val_mean_squared_error: 0.0823\n",
      "Epoch 9/10\n",
      "63954/63954 - 14s - loss: 0.0553 - mean_squared_error: 0.0539 - val_loss: 0.0872 - val_mean_squared_error: 0.0858\n",
      "Epoch 10/10\n",
      "63954/63954 - 14s - loss: 0.0545 - mean_squared_error: 0.0531 - val_loss: 0.0869 - val_mean_squared_error: 0.0855\n",
      "Train on 63954 samples, validate on 15989 samples\n",
      "Epoch 1/10\n",
      "63954/63954 - 23s - loss: 0.0799 - mean_squared_error: 0.0798 - val_loss: 0.0716 - val_mean_squared_error: 0.0713\n",
      "Epoch 2/10\n",
      "63954/63954 - 15s - loss: 0.0660 - mean_squared_error: 0.0655 - val_loss: 0.0733 - val_mean_squared_error: 0.0727\n",
      "Epoch 3/10\n",
      "63954/63954 - 15s - loss: 0.0627 - mean_squared_error: 0.0619 - val_loss: 0.0749 - val_mean_squared_error: 0.0740\n",
      "Epoch 4/10\n",
      "63954/63954 - 16s - loss: 0.0607 - mean_squared_error: 0.0597 - val_loss: 0.0766 - val_mean_squared_error: 0.0756\n",
      "Epoch 5/10\n",
      "63954/63954 - 15s - loss: 0.0591 - mean_squared_error: 0.0581 - val_loss: 0.0798 - val_mean_squared_error: 0.0787\n",
      "Epoch 6/10\n",
      "63954/63954 - 16s - loss: 0.0581 - mean_squared_error: 0.0569 - val_loss: 0.0818 - val_mean_squared_error: 0.0806\n",
      "Epoch 7/10\n",
      "63954/63954 - 16s - loss: 0.0572 - mean_squared_error: 0.0559 - val_loss: 0.0847 - val_mean_squared_error: 0.0834\n",
      "Epoch 8/10\n",
      "63954/63954 - 16s - loss: 0.0564 - mean_squared_error: 0.0551 - val_loss: 0.0845 - val_mean_squared_error: 0.0831\n",
      "Epoch 9/10\n",
      "63954/63954 - 16s - loss: 0.0556 - mean_squared_error: 0.0542 - val_loss: 0.0861 - val_mean_squared_error: 0.0847\n",
      "Epoch 10/10\n",
      "63954/63954 - 16s - loss: 0.0550 - mean_squared_error: 0.0535 - val_loss: 0.0865 - val_mean_squared_error: 0.0850\n",
      "Train on 63954 samples, validate on 15989 samples\n",
      "Epoch 1/10\n",
      "63954/63954 - 28s - loss: 0.0797 - mean_squared_error: 0.0796 - val_loss: 0.0711 - val_mean_squared_error: 0.0708\n",
      "Epoch 2/10\n",
      "63954/63954 - 18s - loss: 0.0660 - mean_squared_error: 0.0655 - val_loss: 0.0728 - val_mean_squared_error: 0.0722\n",
      "Epoch 3/10\n",
      "63954/63954 - 18s - loss: 0.0628 - mean_squared_error: 0.0621 - val_loss: 0.0755 - val_mean_squared_error: 0.0746\n",
      "Epoch 4/10\n",
      "63954/63954 - 18s - loss: 0.0606 - mean_squared_error: 0.0597 - val_loss: 0.0782 - val_mean_squared_error: 0.0772\n",
      "Epoch 5/10\n",
      "63954/63954 - 18s - loss: 0.0592 - mean_squared_error: 0.0582 - val_loss: 0.0809 - val_mean_squared_error: 0.0797\n",
      "Epoch 6/10\n",
      "63954/63954 - 18s - loss: 0.0581 - mean_squared_error: 0.0570 - val_loss: 0.0806 - val_mean_squared_error: 0.0793\n",
      "Epoch 7/10\n",
      "63954/63954 - 18s - loss: 0.0571 - mean_squared_error: 0.0559 - val_loss: 0.0821 - val_mean_squared_error: 0.0808\n",
      "Epoch 8/10\n",
      "63954/63954 - 18s - loss: 0.0563 - mean_squared_error: 0.0550 - val_loss: 0.0832 - val_mean_squared_error: 0.0818\n",
      "Epoch 9/10\n",
      "63954/63954 - 19s - loss: 0.0556 - mean_squared_error: 0.0542 - val_loss: 0.0873 - val_mean_squared_error: 0.0859\n",
      "Epoch 10/10\n",
      "63954/63954 - 18s - loss: 0.0549 - mean_squared_error: 0.0534 - val_loss: 0.0857 - val_mean_squared_error: 0.0842\n",
      "Train on 63954 samples, validate on 15989 samples\n",
      "Epoch 1/10\n",
      "63954/63954 - 37s - loss: 0.0792 - mean_squared_error: 0.0790 - val_loss: 0.0709 - val_mean_squared_error: 0.0705\n",
      "Epoch 2/10\n",
      "63954/63954 - 26s - loss: 0.0660 - mean_squared_error: 0.0655 - val_loss: 0.0726 - val_mean_squared_error: 0.0720\n",
      "Epoch 3/10\n",
      "63954/63954 - 26s - loss: 0.0627 - mean_squared_error: 0.0620 - val_loss: 0.0755 - val_mean_squared_error: 0.0746\n",
      "Epoch 4/10\n",
      "63954/63954 - 26s - loss: 0.0606 - mean_squared_error: 0.0597 - val_loss: 0.0777 - val_mean_squared_error: 0.0767\n",
      "Epoch 5/10\n",
      "63954/63954 - 26s - loss: 0.0592 - mean_squared_error: 0.0582 - val_loss: 0.0798 - val_mean_squared_error: 0.0787\n",
      "Epoch 6/10\n",
      "63954/63954 - 26s - loss: 0.0581 - mean_squared_error: 0.0570 - val_loss: 0.0813 - val_mean_squared_error: 0.0800\n",
      "Epoch 7/10\n",
      "63954/63954 - 26s - loss: 0.0573 - mean_squared_error: 0.0560 - val_loss: 0.0819 - val_mean_squared_error: 0.0806\n",
      "Epoch 8/10\n",
      "63954/63954 - 26s - loss: 0.0564 - mean_squared_error: 0.0550 - val_loss: 0.0851 - val_mean_squared_error: 0.0837\n",
      "Epoch 9/10\n",
      "63954/63954 - 26s - loss: 0.0555 - mean_squared_error: 0.0541 - val_loss: 0.0863 - val_mean_squared_error: 0.0848\n",
      "Epoch 10/10\n",
      "63954/63954 - 25s - loss: 0.0547 - mean_squared_error: 0.0533 - val_loss: 0.0880 - val_mean_squared_error: 0.0865\n",
      "Train on 63954 samples, validate on 15989 samples\n",
      "Epoch 1/10\n",
      "63954/63954 - 77s - loss: 0.0780 - mean_squared_error: 0.0779 - val_loss: 0.0712 - val_mean_squared_error: 0.0709\n",
      "Epoch 2/10\n",
      "63954/63954 - 41s - loss: 0.0662 - mean_squared_error: 0.0657 - val_loss: 0.0729 - val_mean_squared_error: 0.0722\n",
      "Epoch 3/10\n",
      "63954/63954 - 30s - loss: 0.0629 - mean_squared_error: 0.0622 - val_loss: 0.0762 - val_mean_squared_error: 0.0754\n",
      "Epoch 4/10\n",
      "63954/63954 - 31s - loss: 0.0608 - mean_squared_error: 0.0599 - val_loss: 0.0777 - val_mean_squared_error: 0.0767\n",
      "Epoch 5/10\n",
      "63954/63954 - 31s - loss: 0.0591 - mean_squared_error: 0.0581 - val_loss: 0.0801 - val_mean_squared_error: 0.0790\n",
      "Epoch 6/10\n",
      "63954/63954 - 31s - loss: 0.0578 - mean_squared_error: 0.0567 - val_loss: 0.0825 - val_mean_squared_error: 0.0813\n",
      "Epoch 7/10\n",
      "63954/63954 - 31s - loss: 0.0565 - mean_squared_error: 0.0553 - val_loss: 0.0833 - val_mean_squared_error: 0.0820\n",
      "Epoch 8/10\n",
      "63954/63954 - 31s - loss: 0.0555 - mean_squared_error: 0.0542 - val_loss: 0.0835 - val_mean_squared_error: 0.0822\n",
      "Epoch 9/10\n",
      "63954/63954 - 31s - loss: 0.0546 - mean_squared_error: 0.0532 - val_loss: 0.0911 - val_mean_squared_error: 0.0896\n",
      "Epoch 10/10\n",
      "63954/63954 - 31s - loss: 0.0541 - mean_squared_error: 0.0526 - val_loss: 0.0866 - val_mean_squared_error: 0.0852\n"
     ]
    }
   ],
   "source": [
    "cin_layer_size_dict = {}\n",
    "for i in param_rand['cin_layer_size']:\n",
    "    model= xDeepFM(linear_feature_columns,dnn_feature_columns,cin_layer_size=i,dnn_hidden_units=(256, 256),\n",
    "                   cin_activation='relu', seed=1024,task='binary',cin_split_half=False)\n",
    "\n",
    "    model.compile(\"adam\", \"mse\", metrics=['mse'])\n",
    "\n",
    "    history = model.fit(train_model_input, train[target].values,\n",
    "                            batch_size=256, epochs=10, verbose=2, validation_split=0.2, )\n",
    "    pred_ans = model.predict(test_model_input, batch_size=256)\n",
    "    \n",
    "    auc = roc_auc_score(test[target].values, pred_ans)\n",
    "    cin_layer_size_dict[i]={\"RMSE\": np.round(math.sqrt(mean_squared_error(test[target].values, pred_ans)),3)}\n",
    "result['cin_layer_size']=cin_layer_size_dict"
   ]
  },
  {
   "cell_type": "code",
   "execution_count": 45,
   "id": "53c2475b",
   "metadata": {},
   "outputs": [
    {
     "data": {
      "text/plain": [
       "{(1, 1): {'RMSE': 0.286, 'MAE': 0.125, 'MSE': 0.082, 'AUC': 0.749},\n",
       " (2, 2): {'RMSE': 0.284, 'MAE': 0.132, 'MSE': 0.081, 'AUC': 0.748},\n",
       " (4, 4): {'RMSE': 0.284, 'MAE': 0.125, 'MSE': 0.081, 'AUC': 0.748},\n",
       " (8, 8): {'RMSE': 0.281, 'MAE': 0.127, 'MSE': 0.079, 'AUC': 0.75},\n",
       " (32, 32): {'RMSE': 0.286, 'MAE': 0.126, 'MSE': 0.082, 'AUC': 0.746},\n",
       " (128, 128): {'RMSE': 0.283, 'MAE': 0.126, 'MSE': 0.08, 'AUC': 0.747}}"
      ]
     },
     "execution_count": 45,
     "metadata": {},
     "output_type": "execute_result"
    }
   ],
   "source": [
    "cin_layer_size_dict"
   ]
  },
  {
   "cell_type": "markdown",
   "id": "5c9dd132",
   "metadata": {},
   "source": [
    "### To get Best CIN_split half\n"
   ]
  },
  {
   "cell_type": "code",
   "execution_count": 46,
   "id": "86c13364",
   "metadata": {},
   "outputs": [
    {
     "name": "stdout",
     "output_type": "stream",
     "text": [
      "Train on 63954 samples, validate on 15989 samples\n",
      "Epoch 1/10\n",
      "63954/63954 - 33s - loss: 0.0784 - mean_squared_error: 0.0782 - val_loss: 0.0722 - val_mean_squared_error: 0.0719\n",
      "Epoch 2/10\n",
      "63954/63954 - 28s - loss: 0.0661 - mean_squared_error: 0.0656 - val_loss: 0.0729 - val_mean_squared_error: 0.0722\n",
      "Epoch 3/10\n",
      "63954/63954 - 28s - loss: 0.0629 - mean_squared_error: 0.0621 - val_loss: 0.0751 - val_mean_squared_error: 0.0742\n",
      "Epoch 4/10\n",
      "63954/63954 - 29s - loss: 0.0605 - mean_squared_error: 0.0596 - val_loss: 0.0777 - val_mean_squared_error: 0.0767\n",
      "Epoch 5/10\n",
      "63954/63954 - 28s - loss: 0.0590 - mean_squared_error: 0.0580 - val_loss: 0.0797 - val_mean_squared_error: 0.0786\n",
      "Epoch 6/10\n",
      "63954/63954 - 31s - loss: 0.0579 - mean_squared_error: 0.0567 - val_loss: 0.0826 - val_mean_squared_error: 0.0814\n",
      "Epoch 7/10\n",
      "63954/63954 - 29s - loss: 0.0569 - mean_squared_error: 0.0557 - val_loss: 0.0846 - val_mean_squared_error: 0.0833\n",
      "Epoch 8/10\n",
      "63954/63954 - 28s - loss: 0.0559 - mean_squared_error: 0.0546 - val_loss: 0.0857 - val_mean_squared_error: 0.0843\n",
      "Epoch 9/10\n",
      "63954/63954 - 28s - loss: 0.0550 - mean_squared_error: 0.0536 - val_loss: 0.0870 - val_mean_squared_error: 0.0856\n",
      "Epoch 10/10\n",
      "63954/63954 - 28s - loss: 0.0543 - mean_squared_error: 0.0529 - val_loss: 0.0878 - val_mean_squared_error: 0.0863\n",
      "Train on 63954 samples, validate on 15989 samples\n",
      "Epoch 1/10\n",
      "63954/63954 - 41s - loss: 0.0784 - mean_squared_error: 0.0783 - val_loss: 0.0710 - val_mean_squared_error: 0.0706\n",
      "Epoch 2/10\n",
      "63954/63954 - 39s - loss: 0.0662 - mean_squared_error: 0.0657 - val_loss: 0.0728 - val_mean_squared_error: 0.0722\n",
      "Epoch 3/10\n",
      "63954/63954 - 41s - loss: 0.0627 - mean_squared_error: 0.0620 - val_loss: 0.0749 - val_mean_squared_error: 0.0740\n",
      "Epoch 4/10\n",
      "63954/63954 - 40s - loss: 0.0607 - mean_squared_error: 0.0598 - val_loss: 0.0781 - val_mean_squared_error: 0.0771\n",
      "Epoch 5/10\n",
      "63954/63954 - 37s - loss: 0.0591 - mean_squared_error: 0.0581 - val_loss: 0.0784 - val_mean_squared_error: 0.0773\n",
      "Epoch 6/10\n",
      "63954/63954 - 37s - loss: 0.0579 - mean_squared_error: 0.0567 - val_loss: 0.0813 - val_mean_squared_error: 0.0801\n",
      "Epoch 7/10\n",
      "63954/63954 - 37s - loss: 0.0570 - mean_squared_error: 0.0558 - val_loss: 0.0834 - val_mean_squared_error: 0.0822\n",
      "Epoch 8/10\n",
      "63954/63954 - 37s - loss: 0.0561 - mean_squared_error: 0.0548 - val_loss: 0.0860 - val_mean_squared_error: 0.0846\n",
      "Epoch 9/10\n",
      "63954/63954 - 37s - loss: 0.0552 - mean_squared_error: 0.0538 - val_loss: 0.0881 - val_mean_squared_error: 0.0867\n",
      "Epoch 10/10\n",
      "63954/63954 - 37s - loss: 0.0545 - mean_squared_error: 0.0530 - val_loss: 0.0899 - val_mean_squared_error: 0.0885\n"
     ]
    }
   ],
   "source": [
    "cin_split_half_dict = {}\n",
    "for i in param_rand['cin_split_half']:\n",
    "    model= xDeepFM(linear_feature_columns,dnn_feature_columns,dnn_hidden_units=(256, 256),\n",
    "                    cin_layer_size=(128, 128),cin_activation='relu',cin_split_half=i,\n",
    "                    seed=1024,task='binary')\n",
    "\n",
    "    model.compile(\"adam\", \"mse\", metrics=['mse'])\n",
    "\n",
    "    history = model.fit(train_model_input, train[target].values,\n",
    "                            batch_size=256, epochs=10, verbose=2, validation_split=0.2, )\n",
    "    pred_ans = model.predict(test_model_input, batch_size=256)\n",
    "    \n",
    "    auc = roc_auc_score(test[target].values, pred_ans)\n",
    "    cin_split_half_dict[i]={\"RMSE\": np.round(math.sqrt(mean_squared_error(test[target].values, pred_ans)),3)}\n",
    "result['cin_split_half']=cin_split_half_dict"
   ]
  },
  {
   "cell_type": "code",
   "execution_count": 47,
   "id": "d5a75013",
   "metadata": {},
   "outputs": [
    {
     "data": {
      "text/plain": [
       "{True: {'RMSE': 0.285, 'MAE': 0.119, 'MSE': 0.082, 'AUC': 0.75},\n",
       " False: {'RMSE': 0.289, 'MAE': 0.135, 'MSE': 0.083, 'AUC': 0.746}}"
      ]
     },
     "execution_count": 47,
     "metadata": {},
     "output_type": "execute_result"
    }
   ],
   "source": [
    "cin_split_half_dict"
   ]
  },
  {
   "cell_type": "markdown",
   "id": "2bc8080c",
   "metadata": {},
   "source": [
    "### TO get best paramter l2_reg_CIN"
   ]
  },
  {
   "cell_type": "code",
   "execution_count": 49,
   "id": "53051799",
   "metadata": {},
   "outputs": [
    {
     "name": "stdout",
     "output_type": "stream",
     "text": [
      "Train on 63954 samples, validate on 15989 samples\n",
      "Epoch 1/10\n",
      "63954/63954 - 40s - loss: 0.0786 - mean_squared_error: 0.0784 - val_loss: 0.0708 - val_mean_squared_error: 0.0705\n",
      "Epoch 2/10\n",
      "63954/63954 - 31s - loss: 0.0663 - mean_squared_error: 0.0658 - val_loss: 0.0730 - val_mean_squared_error: 0.0724\n",
      "Epoch 3/10\n",
      "63954/63954 - 30s - loss: 0.0629 - mean_squared_error: 0.0621 - val_loss: 0.0763 - val_mean_squared_error: 0.0755\n",
      "Epoch 4/10\n",
      "63954/63954 - 29s - loss: 0.0607 - mean_squared_error: 0.0597 - val_loss: 0.0775 - val_mean_squared_error: 0.0765\n",
      "Epoch 5/10\n",
      "63954/63954 - 29s - loss: 0.0591 - mean_squared_error: 0.0580 - val_loss: 0.0801 - val_mean_squared_error: 0.0790\n",
      "Epoch 6/10\n",
      "63954/63954 - 29s - loss: 0.0580 - mean_squared_error: 0.0568 - val_loss: 0.0813 - val_mean_squared_error: 0.0800\n",
      "Epoch 7/10\n",
      "63954/63954 - 29s - loss: 0.0571 - mean_squared_error: 0.0558 - val_loss: 0.0814 - val_mean_squared_error: 0.0800\n",
      "Epoch 8/10\n",
      "63954/63954 - 29s - loss: 0.0561 - mean_squared_error: 0.0548 - val_loss: 0.0838 - val_mean_squared_error: 0.0824\n",
      "Epoch 9/10\n",
      "63954/63954 - 29s - loss: 0.0554 - mean_squared_error: 0.0539 - val_loss: 0.0891 - val_mean_squared_error: 0.0876\n",
      "Epoch 10/10\n",
      "63954/63954 - 29s - loss: 0.0547 - mean_squared_error: 0.0532 - val_loss: 0.0878 - val_mean_squared_error: 0.0863\n",
      "Train on 63954 samples, validate on 15989 samples\n",
      "Epoch 1/10\n",
      "63954/63954 - 39s - loss: 0.0792 - mean_squared_error: 0.0784 - val_loss: 0.0713 - val_mean_squared_error: 0.0710\n",
      "Epoch 2/10\n",
      "63954/63954 - 31s - loss: 0.0662 - mean_squared_error: 0.0657 - val_loss: 0.0732 - val_mean_squared_error: 0.0725\n",
      "Epoch 3/10\n",
      "63954/63954 - 31s - loss: 0.0629 - mean_squared_error: 0.0621 - val_loss: 0.0752 - val_mean_squared_error: 0.0744\n",
      "Epoch 4/10\n",
      "63954/63954 - 31s - loss: 0.0607 - mean_squared_error: 0.0598 - val_loss: 0.0769 - val_mean_squared_error: 0.0759\n",
      "Epoch 5/10\n",
      "63954/63954 - 31s - loss: 0.0591 - mean_squared_error: 0.0581 - val_loss: 0.0812 - val_mean_squared_error: 0.0801\n",
      "Epoch 6/10\n",
      "63954/63954 - 31s - loss: 0.0581 - mean_squared_error: 0.0569 - val_loss: 0.0812 - val_mean_squared_error: 0.0800\n",
      "Epoch 7/10\n",
      "63954/63954 - 33s - loss: 0.0570 - mean_squared_error: 0.0557 - val_loss: 0.0843 - val_mean_squared_error: 0.0830\n",
      "Epoch 8/10\n",
      "63954/63954 - 31s - loss: 0.0562 - mean_squared_error: 0.0548 - val_loss: 0.0858 - val_mean_squared_error: 0.0844\n",
      "Epoch 9/10\n",
      "63954/63954 - 34s - loss: 0.0554 - mean_squared_error: 0.0540 - val_loss: 0.0857 - val_mean_squared_error: 0.0842\n",
      "Epoch 10/10\n",
      "63954/63954 - 33s - loss: 0.0546 - mean_squared_error: 0.0531 - val_loss: 0.0838 - val_mean_squared_error: 0.0824\n",
      "Train on 63954 samples, validate on 15989 samples\n",
      "Epoch 1/10\n",
      "63954/63954 - 41s - loss: 0.1152 - mean_squared_error: 0.0781 - val_loss: 0.0710 - val_mean_squared_error: 0.0707\n",
      "Epoch 2/10\n",
      "63954/63954 - 33s - loss: 0.0661 - mean_squared_error: 0.0656 - val_loss: 0.0727 - val_mean_squared_error: 0.0721\n",
      "Epoch 3/10\n",
      "63954/63954 - 33s - loss: 0.0628 - mean_squared_error: 0.0621 - val_loss: 0.0755 - val_mean_squared_error: 0.0747\n",
      "Epoch 4/10\n",
      "63954/63954 - 33s - loss: 0.0607 - mean_squared_error: 0.0598 - val_loss: 0.0785 - val_mean_squared_error: 0.0775\n",
      "Epoch 5/10\n",
      "63954/63954 - 33s - loss: 0.0591 - mean_squared_error: 0.0581 - val_loss: 0.0792 - val_mean_squared_error: 0.0781\n",
      "Epoch 6/10\n",
      "63954/63954 - 33s - loss: 0.0580 - mean_squared_error: 0.0569 - val_loss: 0.0807 - val_mean_squared_error: 0.0795\n",
      "Epoch 7/10\n",
      "63954/63954 - 33s - loss: 0.0571 - mean_squared_error: 0.0559 - val_loss: 0.0824 - val_mean_squared_error: 0.0811\n",
      "Epoch 8/10\n",
      "63954/63954 - 33s - loss: 0.0562 - mean_squared_error: 0.0549 - val_loss: 0.0851 - val_mean_squared_error: 0.0837\n",
      "Epoch 9/10\n",
      "63954/63954 - 33s - loss: 0.0552 - mean_squared_error: 0.0539 - val_loss: 0.0867 - val_mean_squared_error: 0.0853\n",
      "Epoch 10/10\n",
      "63954/63954 - 33s - loss: 0.0547 - mean_squared_error: 0.0533 - val_loss: 0.0903 - val_mean_squared_error: 0.0888\n",
      "Train on 63954 samples, validate on 15989 samples\n",
      "Epoch 1/10\n",
      "63954/63954 - 42s - loss: 3.7296 - mean_squared_error: 0.0778 - val_loss: 0.0710 - val_mean_squared_error: 0.0707\n",
      "Epoch 2/10\n",
      "63954/63954 - 34s - loss: 0.0661 - mean_squared_error: 0.0656 - val_loss: 0.0732 - val_mean_squared_error: 0.0726\n",
      "Epoch 3/10\n",
      "63954/63954 - 34s - loss: 0.0629 - mean_squared_error: 0.0622 - val_loss: 0.0759 - val_mean_squared_error: 0.0751\n",
      "Epoch 4/10\n",
      "63954/63954 - 34s - loss: 0.0607 - mean_squared_error: 0.0598 - val_loss: 0.0787 - val_mean_squared_error: 0.0777\n",
      "Epoch 5/10\n",
      "63954/63954 - 34s - loss: 0.0592 - mean_squared_error: 0.0581 - val_loss: 0.0784 - val_mean_squared_error: 0.0773\n",
      "Epoch 6/10\n",
      "63954/63954 - 34s - loss: 0.0579 - mean_squared_error: 0.0568 - val_loss: 0.0835 - val_mean_squared_error: 0.0823\n",
      "Epoch 7/10\n",
      "63954/63954 - 35s - loss: 0.0570 - mean_squared_error: 0.0558 - val_loss: 0.0834 - val_mean_squared_error: 0.0821\n",
      "Epoch 8/10\n",
      "63954/63954 - 35s - loss: 0.0558 - mean_squared_error: 0.0545 - val_loss: 0.0837 - val_mean_squared_error: 0.0823\n",
      "Epoch 9/10\n",
      "63954/63954 - 34s - loss: 0.0550 - mean_squared_error: 0.0536 - val_loss: 0.0893 - val_mean_squared_error: 0.0879\n",
      "Epoch 10/10\n",
      "63954/63954 - 34s - loss: 0.0543 - mean_squared_error: 0.0529 - val_loss: 0.0887 - val_mean_squared_error: 0.0872\n",
      "Train on 63954 samples, validate on 15989 samples\n",
      "Epoch 1/10\n",
      "63954/63954 - 44s - loss: 36.5900 - mean_squared_error: 0.0780 - val_loss: 0.0711 - val_mean_squared_error: 0.0708\n",
      "Epoch 2/10\n",
      "63954/63954 - 35s - loss: 0.0661 - mean_squared_error: 0.0656 - val_loss: 0.0726 - val_mean_squared_error: 0.0720\n",
      "Epoch 3/10\n",
      "63954/63954 - 35s - loss: 0.0628 - mean_squared_error: 0.0621 - val_loss: 0.0751 - val_mean_squared_error: 0.0743\n",
      "Epoch 4/10\n",
      "63954/63954 - 34s - loss: 0.0607 - mean_squared_error: 0.0597 - val_loss: 0.0776 - val_mean_squared_error: 0.0766\n",
      "Epoch 5/10\n",
      "63954/63954 - 34s - loss: 0.0592 - mean_squared_error: 0.0581 - val_loss: 0.0791 - val_mean_squared_error: 0.0779\n",
      "Epoch 6/10\n",
      "63954/63954 - 35s - loss: 0.0581 - mean_squared_error: 0.0569 - val_loss: 0.0812 - val_mean_squared_error: 0.0800\n",
      "Epoch 7/10\n",
      "63954/63954 - 35s - loss: 0.0570 - mean_squared_error: 0.0557 - val_loss: 0.0829 - val_mean_squared_error: 0.0816\n",
      "Epoch 8/10\n",
      "63954/63954 - 35s - loss: 0.0561 - mean_squared_error: 0.0548 - val_loss: 0.0870 - val_mean_squared_error: 0.0856\n",
      "Epoch 9/10\n",
      "63954/63954 - 35s - loss: 0.0554 - mean_squared_error: 0.0540 - val_loss: 0.0863 - val_mean_squared_error: 0.0849\n",
      "Epoch 10/10\n",
      "63954/63954 - 35s - loss: 0.0545 - mean_squared_error: 0.0530 - val_loss: 0.0878 - val_mean_squared_error: 0.0863\n"
     ]
    }
   ],
   "source": [
    "l2_reg_cin_dict={}\n",
    "for i in param_rand['l2_reg_cin']:\n",
    "    model = xDeepFM(linear_feature_columns,dnn_feature_columns,dnn_hidden_units=(256, 256),\n",
    "                    cin_layer_size=(128, 128),cin_activation='relu',cin_split_half=True,l2_reg_cin=i,\n",
    "                    seed=1024,task='binary')\n",
    "\n",
    "    model.compile(\"adam\", \"mse\", metrics=['mse'])\n",
    "\n",
    "    history = model.fit(train_model_input, train[target].values,\n",
    "                            batch_size=256, epochs=10, verbose=2, validation_split=0.2, )\n",
    "    pred_ans = model.predict(test_model_input, batch_size=256)\n",
    "    \n",
    "    auc = roc_auc_score(test[target].values, pred_ans)\n",
    "    \n",
    "    l2_reg_cin_dict[i]={\"RMSE\": np.round(math.sqrt(mean_squared_error(test[target].values, pred_ans)),3)}\n",
    "    \n",
    "result['l2_reg_cin']=l2_reg_cin_dict"
   ]
  },
  {
   "cell_type": "code",
   "execution_count": 50,
   "id": "b4bc9493",
   "metadata": {},
   "outputs": [
    {
     "data": {
      "text/plain": [
       "{1e-07: {'RMSE': 0.285, 'MAE': 0.13, 'MSE': 0.081, 'AUC': 0.748},\n",
       " 1e-05: {'RMSE': 0.279, 'MAE': 0.13, 'MSE': 0.078, 'AUC': 0.75},\n",
       " 0.001: {'RMSE': 0.29, 'MAE': 0.142, 'MSE': 0.084, 'AUC': 0.746},\n",
       " 0.1: {'RMSE': 0.286, 'MAE': 0.128, 'MSE': 0.082, 'AUC': 0.745},\n",
       " 1: {'RMSE': 0.285, 'MAE': 0.129, 'MSE': 0.081, 'AUC': 0.748}}"
      ]
     },
     "execution_count": 50,
     "metadata": {},
     "output_type": "execute_result"
    }
   ],
   "source": [
    "l2_reg_cin_dict"
   ]
  },
  {
   "cell_type": "markdown",
   "id": "afaf9aba",
   "metadata": {},
   "source": [
    "### To get best paramter l2_reg_linear"
   ]
  },
  {
   "cell_type": "code",
   "execution_count": 51,
   "id": "5532993e",
   "metadata": {},
   "outputs": [
    {
     "name": "stdout",
     "output_type": "stream",
     "text": [
      "Train on 63954 samples, validate on 15989 samples\n",
      "Epoch 1/10\n",
      "63954/63954 - 48s - loss: 0.0784 - mean_squared_error: 0.0782 - val_loss: 0.0709 - val_mean_squared_error: 0.0705\n",
      "Epoch 2/10\n",
      "63954/63954 - 50s - loss: 0.0661 - mean_squared_error: 0.0655 - val_loss: 0.0729 - val_mean_squared_error: 0.0723\n",
      "Epoch 3/10\n",
      "63954/63954 - 77s - loss: 0.0627 - mean_squared_error: 0.0619 - val_loss: 0.0761 - val_mean_squared_error: 0.0752\n",
      "Epoch 4/10\n",
      "63954/63954 - 77s - loss: 0.0607 - mean_squared_error: 0.0597 - val_loss: 0.0770 - val_mean_squared_error: 0.0760\n",
      "Epoch 5/10\n",
      "63954/63954 - 77s - loss: 0.0592 - mean_squared_error: 0.0582 - val_loss: 0.0794 - val_mean_squared_error: 0.0783\n",
      "Epoch 6/10\n",
      "63954/63954 - 77s - loss: 0.0580 - mean_squared_error: 0.0568 - val_loss: 0.0814 - val_mean_squared_error: 0.0802\n",
      "Epoch 7/10\n",
      "63954/63954 - 77s - loss: 0.0570 - mean_squared_error: 0.0558 - val_loss: 0.0855 - val_mean_squared_error: 0.0841\n",
      "Epoch 8/10\n",
      "63954/63954 - 76s - loss: 0.0563 - mean_squared_error: 0.0550 - val_loss: 0.0860 - val_mean_squared_error: 0.0846\n",
      "Epoch 9/10\n",
      "63954/63954 - 77s - loss: 0.0553 - mean_squared_error: 0.0539 - val_loss: 0.0866 - val_mean_squared_error: 0.0852\n",
      "Epoch 10/10\n",
      "63954/63954 - 78s - loss: 0.0545 - mean_squared_error: 0.0530 - val_loss: 0.0889 - val_mean_squared_error: 0.0875\n",
      "Train on 63954 samples, validate on 15989 samples\n",
      "Epoch 1/10\n",
      "63954/63954 - 49s - loss: 0.0788 - mean_squared_error: 0.0785 - val_loss: 0.0712 - val_mean_squared_error: 0.0707\n",
      "Epoch 2/10\n",
      "63954/63954 - 37s - loss: 0.0664 - mean_squared_error: 0.0657 - val_loss: 0.0725 - val_mean_squared_error: 0.0717\n",
      "Epoch 3/10\n",
      "63954/63954 - 37s - loss: 0.0631 - mean_squared_error: 0.0623 - val_loss: 0.0748 - val_mean_squared_error: 0.0738\n",
      "Epoch 4/10\n",
      "63954/63954 - 37s - loss: 0.0608 - mean_squared_error: 0.0597 - val_loss: 0.0762 - val_mean_squared_error: 0.0751\n",
      "Epoch 5/10\n",
      "63954/63954 - 37s - loss: 0.0594 - mean_squared_error: 0.0582 - val_loss: 0.0783 - val_mean_squared_error: 0.0771\n",
      "Epoch 6/10\n",
      "63954/63954 - 37s - loss: 0.0582 - mean_squared_error: 0.0570 - val_loss: 0.0827 - val_mean_squared_error: 0.0814\n",
      "Epoch 7/10\n",
      "63954/63954 - 37s - loss: 0.0571 - mean_squared_error: 0.0558 - val_loss: 0.0829 - val_mean_squared_error: 0.0815\n",
      "Epoch 8/10\n",
      "63954/63954 - 37s - loss: 0.0562 - mean_squared_error: 0.0548 - val_loss: 0.0856 - val_mean_squared_error: 0.0842\n",
      "Epoch 9/10\n",
      "63954/63954 - 37s - loss: 0.0553 - mean_squared_error: 0.0539 - val_loss: 0.0846 - val_mean_squared_error: 0.0832\n",
      "Epoch 10/10\n",
      "63954/63954 - 40s - loss: 0.0545 - mean_squared_error: 0.0530 - val_loss: 0.0899 - val_mean_squared_error: 0.0884\n",
      "Train on 63954 samples, validate on 15989 samples\n",
      "Epoch 1/10\n",
      "63954/63954 - 51s - loss: 0.0795 - mean_squared_error: 0.0785 - val_loss: 0.0712 - val_mean_squared_error: 0.0707\n",
      "Epoch 2/10\n",
      "63954/63954 - 37s - loss: 0.0663 - mean_squared_error: 0.0656 - val_loss: 0.0730 - val_mean_squared_error: 0.0722\n",
      "Epoch 3/10\n",
      "63954/63954 - 38s - loss: 0.0630 - mean_squared_error: 0.0622 - val_loss: 0.0755 - val_mean_squared_error: 0.0745\n",
      "Epoch 4/10\n",
      "63954/63954 - 38s - loss: 0.0609 - mean_squared_error: 0.0599 - val_loss: 0.0778 - val_mean_squared_error: 0.0767\n",
      "Epoch 5/10\n",
      "63954/63954 - 37s - loss: 0.0594 - mean_squared_error: 0.0582 - val_loss: 0.0790 - val_mean_squared_error: 0.0777\n",
      "Epoch 6/10\n",
      "63954/63954 - 37s - loss: 0.0581 - mean_squared_error: 0.0569 - val_loss: 0.0811 - val_mean_squared_error: 0.0798\n",
      "Epoch 7/10\n",
      "63954/63954 - 37s - loss: 0.0572 - mean_squared_error: 0.0559 - val_loss: 0.0842 - val_mean_squared_error: 0.0828\n",
      "Epoch 8/10\n",
      "63954/63954 - 37s - loss: 0.0564 - mean_squared_error: 0.0550 - val_loss: 0.0843 - val_mean_squared_error: 0.0828\n",
      "Epoch 9/10\n",
      "63954/63954 - 39s - loss: 0.0555 - mean_squared_error: 0.0540 - val_loss: 0.0875 - val_mean_squared_error: 0.0860\n",
      "Epoch 10/10\n",
      "63954/63954 - 38s - loss: 0.0548 - mean_squared_error: 0.0533 - val_loss: 0.0888 - val_mean_squared_error: 0.0872\n",
      "Train on 63954 samples, validate on 15989 samples\n",
      "Epoch 1/10\n",
      "63954/63954 - 52s - loss: 0.0796 - mean_squared_error: 0.0782 - val_loss: 0.0711 - val_mean_squared_error: 0.0706\n",
      "Epoch 2/10\n",
      "63954/63954 - 40s - loss: 0.0661 - mean_squared_error: 0.0655 - val_loss: 0.0727 - val_mean_squared_error: 0.0720\n",
      "Epoch 3/10\n",
      "63954/63954 - 40s - loss: 0.0630 - mean_squared_error: 0.0621 - val_loss: 0.0743 - val_mean_squared_error: 0.0734\n",
      "Epoch 4/10\n",
      "63954/63954 - 39s - loss: 0.0608 - mean_squared_error: 0.0598 - val_loss: 0.0776 - val_mean_squared_error: 0.0765\n",
      "Epoch 5/10\n",
      "63954/63954 - 40s - loss: 0.0594 - mean_squared_error: 0.0582 - val_loss: 0.0794 - val_mean_squared_error: 0.0782\n",
      "Epoch 6/10\n",
      "63954/63954 - 39s - loss: 0.0582 - mean_squared_error: 0.0570 - val_loss: 0.0826 - val_mean_squared_error: 0.0813\n",
      "Epoch 7/10\n",
      "63954/63954 - 41s - loss: 0.0572 - mean_squared_error: 0.0558 - val_loss: 0.0830 - val_mean_squared_error: 0.0816\n",
      "Epoch 8/10\n",
      "63954/63954 - 40s - loss: 0.0564 - mean_squared_error: 0.0550 - val_loss: 0.0835 - val_mean_squared_error: 0.0821\n",
      "Epoch 9/10\n",
      "63954/63954 - 41s - loss: 0.0556 - mean_squared_error: 0.0541 - val_loss: 0.0855 - val_mean_squared_error: 0.0840\n",
      "Epoch 10/10\n",
      "63954/63954 - 41s - loss: 0.0549 - mean_squared_error: 0.0534 - val_loss: 0.0890 - val_mean_squared_error: 0.0875\n",
      "Train on 63954 samples, validate on 15989 samples\n",
      "Epoch 1/10\n",
      "63954/63954 - 54s - loss: 0.0811 - mean_squared_error: 0.0788 - val_loss: 0.0720 - val_mean_squared_error: 0.0706\n",
      "Epoch 2/10\n",
      "63954/63954 - 41s - loss: 0.0662 - mean_squared_error: 0.0657 - val_loss: 0.0726 - val_mean_squared_error: 0.0719\n",
      "Epoch 3/10\n",
      "63954/63954 - 42s - loss: 0.0628 - mean_squared_error: 0.0620 - val_loss: 0.0750 - val_mean_squared_error: 0.0741\n",
      "Epoch 4/10\n",
      "63954/63954 - 40s - loss: 0.0609 - mean_squared_error: 0.0599 - val_loss: 0.0773 - val_mean_squared_error: 0.0763\n",
      "Epoch 5/10\n",
      "63954/63954 - 41s - loss: 0.0594 - mean_squared_error: 0.0583 - val_loss: 0.0788 - val_mean_squared_error: 0.0776\n",
      "Epoch 6/10\n",
      "63954/63954 - 41s - loss: 0.0582 - mean_squared_error: 0.0570 - val_loss: 0.0812 - val_mean_squared_error: 0.0799\n",
      "Epoch 7/10\n",
      "63954/63954 - 41s - loss: 0.0573 - mean_squared_error: 0.0560 - val_loss: 0.0832 - val_mean_squared_error: 0.0818\n",
      "Epoch 8/10\n",
      "63954/63954 - 40s - loss: 0.0565 - mean_squared_error: 0.0550 - val_loss: 0.0848 - val_mean_squared_error: 0.0833\n",
      "Epoch 9/10\n",
      "63954/63954 - 41s - loss: 0.0557 - mean_squared_error: 0.0542 - val_loss: 0.0856 - val_mean_squared_error: 0.0840\n",
      "Epoch 10/10\n",
      "63954/63954 - 40s - loss: 0.0550 - mean_squared_error: 0.0534 - val_loss: 0.0875 - val_mean_squared_error: 0.0859\n"
     ]
    }
   ],
   "source": [
    "l2_reg_linear_dict={}\n",
    "for i in param_rand['l2_reg_linear']:\n",
    "    model = xDeepFM(linear_feature_columns, dnn_feature_columns, dnn_hidden_units=(256, 256), l2_reg_linear=i,\n",
    "                    cin_layer_size=(128, 128), cin_split_half=True, cin_activation='relu', l2_reg_cin=1e-07,\n",
    "                    dnn_use_bn=False,seed=1024,task='binary')\n",
    "\n",
    "    model.compile(\"adam\", \"mse\", metrics=['mse'])\n",
    "\n",
    "    history = model.fit(train_model_input, train[target].values,\n",
    "                            batch_size=256, epochs=10, verbose=2, validation_split=0.2, )\n",
    "    pred_ans = model.predict(test_model_input, batch_size=256)\n",
    "    \n",
    "    auc = roc_auc_score(test[target].values, pred_ans)\n",
    "    \n",
    "    l2_reg_linear_dict[i]={\"RMSE\": np.round(math.sqrt(mean_squared_error(test[target].values, pred_ans)),3)}\n",
    "    \n",
    "result['l2_reg_linear']=l2_reg_linear_dict"
   ]
  },
  {
   "cell_type": "code",
   "execution_count": 52,
   "id": "5105b197",
   "metadata": {},
   "outputs": [
    {
     "data": {
      "text/plain": [
       "{1e-05: {'RMSE': 0.287, 'MAE': 0.134, 'MSE': 0.082, 'AUC': 0.748},\n",
       " 0.001: {'RMSE': 0.288, 'MAE': 0.137, 'MSE': 0.083, 'AUC': 0.75},\n",
       " 0.1: {'RMSE': 0.287, 'MAE': 0.128, 'MSE': 0.082, 'AUC': 0.75},\n",
       " 1: {'RMSE': 0.287, 'MAE': 0.137, 'MSE': 0.082, 'AUC': 0.749},\n",
       " 10: {'RMSE': 0.284, 'MAE': 0.128, 'MSE': 0.081, 'AUC': 0.751}}"
      ]
     },
     "execution_count": 52,
     "metadata": {},
     "output_type": "execute_result"
    }
   ],
   "source": [
    "l2_reg_linear_dict"
   ]
  },
  {
   "cell_type": "markdown",
   "id": "17f17c62",
   "metadata": {},
   "source": [
    "### To get best paramter of l2_reg_embedding\n"
   ]
  },
  {
   "cell_type": "code",
   "execution_count": 53,
   "id": "d552b6da",
   "metadata": {},
   "outputs": [
    {
     "name": "stdout",
     "output_type": "stream",
     "text": [
      "Train on 63954 samples, validate on 15989 samples\n",
      "Epoch 1/10\n",
      "63954/63954 - 57s - loss: 0.0795 - mean_squared_error: 0.0786 - val_loss: 0.0709 - val_mean_squared_error: 0.0707\n",
      "Epoch 2/10\n",
      "63954/63954 - 43s - loss: 0.0654 - mean_squared_error: 0.0652 - val_loss: 0.0727 - val_mean_squared_error: 0.0725\n",
      "Epoch 3/10\n",
      "63954/63954 - 43s - loss: 0.0617 - mean_squared_error: 0.0615 - val_loss: 0.0754 - val_mean_squared_error: 0.0752\n",
      "Epoch 4/10\n",
      "63954/63954 - 42s - loss: 0.0594 - mean_squared_error: 0.0592 - val_loss: 0.0764 - val_mean_squared_error: 0.0762\n",
      "Epoch 5/10\n",
      "63954/63954 - 45s - loss: 0.0577 - mean_squared_error: 0.0575 - val_loss: 0.0792 - val_mean_squared_error: 0.0790\n",
      "Epoch 6/10\n",
      "63954/63954 - 45s - loss: 0.0564 - mean_squared_error: 0.0562 - val_loss: 0.0805 - val_mean_squared_error: 0.0803\n",
      "Epoch 7/10\n",
      "63954/63954 - 46s - loss: 0.0550 - mean_squared_error: 0.0548 - val_loss: 0.0814 - val_mean_squared_error: 0.0812\n",
      "Epoch 8/10\n",
      "63954/63954 - 45s - loss: 0.0541 - mean_squared_error: 0.0539 - val_loss: 0.0863 - val_mean_squared_error: 0.0861\n",
      "Epoch 9/10\n",
      "63954/63954 - 45s - loss: 0.0533 - mean_squared_error: 0.0531 - val_loss: 0.0866 - val_mean_squared_error: 0.0864\n",
      "Epoch 10/10\n",
      "63954/63954 - 43s - loss: 0.0526 - mean_squared_error: 0.0524 - val_loss: 0.0860 - val_mean_squared_error: 0.0858\n",
      "Train on 63954 samples, validate on 15989 samples\n",
      "Epoch 1/10\n",
      "63954/63954 - 56s - loss: 0.0795 - mean_squared_error: 0.0785 - val_loss: 0.0711 - val_mean_squared_error: 0.0706\n",
      "Epoch 2/10\n",
      "63954/63954 - 43s - loss: 0.0663 - mean_squared_error: 0.0656 - val_loss: 0.0731 - val_mean_squared_error: 0.0723\n",
      "Epoch 3/10\n",
      "63954/63954 - 59s - loss: 0.0630 - mean_squared_error: 0.0621 - val_loss: 0.0756 - val_mean_squared_error: 0.0746\n",
      "Epoch 4/10\n",
      "63954/63954 - 42s - loss: 0.0608 - mean_squared_error: 0.0597 - val_loss: 0.0777 - val_mean_squared_error: 0.0766\n",
      "Epoch 5/10\n",
      "63954/63954 - 42s - loss: 0.0593 - mean_squared_error: 0.0582 - val_loss: 0.0808 - val_mean_squared_error: 0.0796\n",
      "Epoch 6/10\n",
      "63954/63954 - 42s - loss: 0.0583 - mean_squared_error: 0.0570 - val_loss: 0.0796 - val_mean_squared_error: 0.0782\n",
      "Epoch 7/10\n",
      "63954/63954 - 42s - loss: 0.0573 - mean_squared_error: 0.0560 - val_loss: 0.0838 - val_mean_squared_error: 0.0824\n",
      "Epoch 8/10\n",
      "63954/63954 - 43s - loss: 0.0564 - mean_squared_error: 0.0550 - val_loss: 0.0841 - val_mean_squared_error: 0.0827\n",
      "Epoch 9/10\n",
      "63954/63954 - 42s - loss: 0.0556 - mean_squared_error: 0.0541 - val_loss: 0.0858 - val_mean_squared_error: 0.0842\n",
      "Epoch 10/10\n",
      "63954/63954 - 42s - loss: 0.0548 - mean_squared_error: 0.0533 - val_loss: 0.0870 - val_mean_squared_error: 0.0854\n",
      "Train on 63954 samples, validate on 15989 samples\n",
      "Epoch 1/10\n",
      "63954/63954 - 58s - loss: 0.0813 - mean_squared_error: 0.0791 - val_loss: 0.0738 - val_mean_squared_error: 0.0710\n",
      "Epoch 2/10\n",
      "63954/63954 - 43s - loss: 0.0721 - mean_squared_error: 0.0690 - val_loss: 0.0738 - val_mean_squared_error: 0.0709\n",
      "Epoch 3/10\n",
      "63954/63954 - 44s - loss: 0.0713 - mean_squared_error: 0.0680 - val_loss: 0.0742 - val_mean_squared_error: 0.0713\n",
      "Epoch 4/10\n",
      "63954/63954 - 44s - loss: 0.0709 - mean_squared_error: 0.0675 - val_loss: 0.0745 - val_mean_squared_error: 0.0713\n",
      "Epoch 5/10\n",
      "63954/63954 - 43s - loss: 0.0706 - mean_squared_error: 0.0669 - val_loss: 0.0749 - val_mean_squared_error: 0.0714\n",
      "Epoch 6/10\n",
      "63954/63954 - 43s - loss: 0.0701 - mean_squared_error: 0.0663 - val_loss: 0.0749 - val_mean_squared_error: 0.0714\n",
      "Epoch 7/10\n",
      "63954/63954 - 45s - loss: 0.0695 - mean_squared_error: 0.0657 - val_loss: 0.0761 - val_mean_squared_error: 0.0724\n",
      "Epoch 8/10\n",
      "63954/63954 - 48s - loss: 0.0689 - mean_squared_error: 0.0650 - val_loss: 0.0762 - val_mean_squared_error: 0.0724\n",
      "Epoch 9/10\n",
      "63954/63954 - 47s - loss: 0.0684 - mean_squared_error: 0.0644 - val_loss: 0.0765 - val_mean_squared_error: 0.0727\n",
      "Epoch 10/10\n",
      "63954/63954 - 45s - loss: 0.0678 - mean_squared_error: 0.0638 - val_loss: 0.0776 - val_mean_squared_error: 0.0735\n",
      "Train on 63954 samples, validate on 15989 samples\n",
      "Epoch 1/10\n",
      "63954/63954 - 60s - loss: 0.0831 - mean_squared_error: 0.0805 - val_loss: 0.0794 - val_mean_squared_error: 0.0751\n",
      "Epoch 2/10\n",
      "63954/63954 - 46s - loss: 0.0790 - mean_squared_error: 0.0730 - val_loss: 0.0829 - val_mean_squared_error: 0.0743\n",
      "Epoch 3/10\n",
      "63954/63954 - 47s - loss: 0.0806 - mean_squared_error: 0.0724 - val_loss: 0.0808 - val_mean_squared_error: 0.0734\n",
      "Epoch 4/10\n",
      "63954/63954 - 49s - loss: 0.0794 - mean_squared_error: 0.0721 - val_loss: 0.0793 - val_mean_squared_error: 0.0724\n",
      "Epoch 5/10\n",
      "63954/63954 - 45s - loss: 0.0784 - mean_squared_error: 0.0720 - val_loss: 0.0806 - val_mean_squared_error: 0.0728\n",
      "Epoch 6/10\n",
      "63954/63954 - 46s - loss: 0.0782 - mean_squared_error: 0.0719 - val_loss: 0.0795 - val_mean_squared_error: 0.0728\n",
      "Epoch 7/10\n",
      "63954/63954 - 46s - loss: 0.0777 - mean_squared_error: 0.0715 - val_loss: 0.0790 - val_mean_squared_error: 0.0725\n",
      "Epoch 8/10\n",
      "63954/63954 - 47s - loss: 0.0776 - mean_squared_error: 0.0716 - val_loss: 0.0776 - val_mean_squared_error: 0.0721\n",
      "Epoch 9/10\n",
      "63954/63954 - 48s - loss: 0.0777 - mean_squared_error: 0.0715 - val_loss: 0.0794 - val_mean_squared_error: 0.0723\n",
      "Epoch 10/10\n",
      "63954/63954 - 46s - loss: 0.0779 - mean_squared_error: 0.0714 - val_loss: 0.0775 - val_mean_squared_error: 0.0718\n",
      "Train on 63954 samples, validate on 15989 samples\n",
      "Epoch 1/10\n",
      "63954/63954 - 62s - loss: 0.0843 - mean_squared_error: 0.0821 - val_loss: 0.0768 - val_mean_squared_error: 0.0754\n",
      "Epoch 2/10\n",
      "63954/63954 - 48s - loss: 0.0763 - mean_squared_error: 0.0742 - val_loss: 0.0797 - val_mean_squared_error: 0.0756\n",
      "Epoch 3/10\n",
      "63954/63954 - 46s - loss: 0.0784 - mean_squared_error: 0.0737 - val_loss: 0.0802 - val_mean_squared_error: 0.0744\n",
      "Epoch 4/10\n",
      "63954/63954 - 49s - loss: 0.0814 - mean_squared_error: 0.0736 - val_loss: 0.0861 - val_mean_squared_error: 0.0735\n",
      "Epoch 5/10\n",
      "63954/63954 - 47s - loss: 0.0825 - mean_squared_error: 0.0734 - val_loss: 0.0858 - val_mean_squared_error: 0.0739\n",
      "Epoch 6/10\n",
      "63954/63954 - 47s - loss: 0.0841 - mean_squared_error: 0.0733 - val_loss: 0.0852 - val_mean_squared_error: 0.0737\n",
      "Epoch 7/10\n",
      "63954/63954 - 48s - loss: 0.0835 - mean_squared_error: 0.0733 - val_loss: 0.0822 - val_mean_squared_error: 0.0740\n",
      "Epoch 8/10\n",
      "63954/63954 - 49s - loss: 0.0826 - mean_squared_error: 0.0733 - val_loss: 0.0852 - val_mean_squared_error: 0.0744\n",
      "Epoch 9/10\n",
      "63954/63954 - 52s - loss: 0.0831 - mean_squared_error: 0.0733 - val_loss: 0.0817 - val_mean_squared_error: 0.0733\n",
      "Epoch 10/10\n",
      "63954/63954 - 54s - loss: 0.0828 - mean_squared_error: 0.0732 - val_loss: 0.0841 - val_mean_squared_error: 0.0734\n"
     ]
    }
   ],
   "source": [
    "l2_reg_embedding_dict={}\n",
    "for i in param_rand['l2_reg_embedding']:\n",
    "    model = xDeepFM(linear_feature_columns, dnn_feature_columns,dnn_hidden_units=(256, 256), l2_reg_linear=0.1,\n",
    "            l2_reg_embedding=i,cin_layer_size=(128, 128), cin_split_half=True, cin_activation='relu', \n",
    "            l2_reg_cin=1e-07, seed=1024, task='binary',dnn_use_bn=False)\n",
    "\n",
    "    model.compile(\"adam\", \"mse\", metrics=['mse'])\n",
    "\n",
    "    history = model.fit(train_model_input, train[target].values,\n",
    "                            batch_size=256, epochs=10, verbose=2, validation_split=0.2, )\n",
    "    pred_ans = model.predict(test_model_input, batch_size=256)\n",
    "    \n",
    "    auc = roc_auc_score(test[target].values, pred_ans)\n",
    "    l2_reg_embedding_dict[i]={\"RMSE\": np.round(math.sqrt(mean_squared_error(test[target].values, pred_ans)),3)}\n",
    "result['l2_reg_embedding']=l2_reg_embedding_dict"
   ]
  },
  {
   "cell_type": "code",
   "execution_count": 54,
   "id": "fe9a5279",
   "metadata": {},
   "outputs": [
    {
     "data": {
      "text/plain": [
       "{1e-07: {'RMSE': 0.285, 'MAE': 0.134, 'MSE': 0.081, 'AUC': 0.739},\n",
       " 1e-05: {'RMSE': 0.283, 'MAE': 0.134, 'MSE': 0.08, 'AUC': 0.75},\n",
       " 0.001: {'RMSE': 0.264, 'MAE': 0.124, 'MSE': 0.069, 'AUC': 0.772},\n",
       " 0.1: {'RMSE': 0.262, 'MAE': 0.141, 'MSE': 0.068, 'AUC': 0.752},\n",
       " 1: {'RMSE': 0.265, 'MAE': 0.145, 'MSE': 0.07, 'AUC': 0.72}}"
      ]
     },
     "execution_count": 54,
     "metadata": {},
     "output_type": "execute_result"
    }
   ],
   "source": [
    "l2_reg_embedding_dict"
   ]
  },
  {
   "cell_type": "markdown",
   "id": "f82cca9a",
   "metadata": {},
   "source": [
    "### To get best parameter l2-reg-dnn"
   ]
  },
  {
   "cell_type": "code",
   "execution_count": null,
   "id": "7c429bbd",
   "metadata": {},
   "outputs": [],
   "source": [
    "l2_reg_dnn_dict={}\n",
    "for i in param_rand['l2_reg_dnn']:\n",
    "    model = xDeepFM(linear_feature_columns, dnn_feature_columns, dnn_hidden_units=(256, 256), l2_reg_linear=0.1,\n",
    "            cin_layer_size=(128, 128), cin_split_half=True, cin_activation='relu', l2_reg_cin=1e-07,\n",
    "            l2_reg_embedding=1e-05, l2_reg_dnn=i,seed=1024,task='binary',dnn_use_bn=False)\n",
    "\n",
    "    model.compile(\"adam\", \"mse\", metrics=['mse'])\n",
    "\n",
    "    history = model.fit(train_model_input, train[target].values,\n",
    "                            batch_size=256, epochs=10, verbose=2, validation_split=0.2, )\n",
    "    pred_ans = model.predict(test_model_input, batch_size=256)\n",
    "    \n",
    "    auc = roc_auc_score(test[target].values, pred_ans)\n",
    "    \n",
    "    l2_reg_dnn_dict[i]={\"RMSE\": np.round(math.sqrt(mean_squared_error(test[target].values, pred_ans)),3)}\n",
    "result['l2_reg_dnn']=l2_reg_dnn_dict"
   ]
  },
  {
   "cell_type": "markdown",
   "id": "e18911bc",
   "metadata": {},
   "source": [
    "### To get Best parameter dnn\n"
   ]
  },
  {
   "cell_type": "code",
   "execution_count": null,
   "id": "b7ee3a10",
   "metadata": {},
   "outputs": [],
   "source": [
    "dnn_dropout_dict={}\n",
    "for i in param_rand['dnn_dropout']:\n",
    "    model = xDeepFM(linear_feature_columns, dnn_feature_columns, dnn_hidden_units=(256, 256),\n",
    "                   cin_layer_size=(128, 128), cin_split_half=True, cin_activation='relu', l2_reg_cin=1e-07,\n",
    "                   seed=1024, dnn_dropout=i, dnn_activation='relu',task='binary',dnn_use_bn=False)\n",
    "\n",
    "    model.compile(\"adam\", \"mse\", metrics=['mse'])\n",
    "\n",
    "    history = model.fit(train_model_input, train[target].values,\n",
    "                            batch_size=256, epochs=10, verbose=2, validation_split=0.2, )\n",
    "    pred_ans = model.predict(test_model_input, batch_size=256)\n",
    "    \n",
    "    auc = roc_auc_score(test[target].values, pred_ans)\n",
    "    \n",
    "    dnn_dropout_dict[i]={\"RMSE\": np.round(math.sqrt(mean_squared_error(test[target].values, pred_ans)),3)}\n",
    "result['dnn_dropout']=dnn_dropout_dict"
   ]
  },
  {
   "cell_type": "markdown",
   "id": "c904c2ba",
   "metadata": {},
   "source": [
    "### To train the model with best hyperparamter\n"
   ]
  },
  {
   "cell_type": "code",
   "execution_count": null,
   "id": "1c9ff957",
   "metadata": {},
   "outputs": [],
   "source": [
    "model = xDeepFM(linear_feature_columns,dnn_feature_columns, dnn_hidden_units=(128,128), \n",
    "             init_std=0.0001, seed=1024,task='binary')\n",
    "\n",
    "model.compile(\"adam\", \"mse\", metrics=['mse'])"
   ]
  },
  {
   "cell_type": "code",
   "execution_count": null,
   "id": "ce977914",
   "metadata": {},
   "outputs": [],
   "source": [
    "history = model.fit(train_model_input, train[target].values,\n",
    "                        batch_size=256, epochs=10, verbose=2, validation_split=0.2, )"
   ]
  },
  {
   "cell_type": "code",
   "execution_count": null,
   "id": "595922a5",
   "metadata": {},
   "outputs": [],
   "source": [
    "pred_ans = model.predict(test_model_input, batch_size=256)\n",
    "\n",
    "auc = roc_auc_score(test[target].values, pred_ans)"
   ]
  },
  {
   "cell_type": "code",
   "execution_count": null,
   "id": "ee48538e",
   "metadata": {},
   "outputs": [],
   "source": [
    "print(\"RMSE:\\t%f\" % np.round(math.sqrt(mean_squared_error(test[target].values, pred_ans)),3))"
   ]
  }
 ],
 "metadata": {
  "kernelspec": {
   "display_name": "Python 3",
   "language": "python",
   "name": "python3"
  },
  "language_info": {
   "codemirror_mode": {
    "name": "ipython",
    "version": 3
   },
   "file_extension": ".py",
   "mimetype": "text/x-python",
   "name": "python",
   "nbconvert_exporter": "python",
   "pygments_lexer": "ipython3",
   "version": "3.6.10"
  }
 },
 "nbformat": 4,
 "nbformat_minor": 5
}
