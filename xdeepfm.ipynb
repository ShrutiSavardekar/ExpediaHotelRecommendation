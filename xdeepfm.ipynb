{
 "cells": [
  {
   "cell_type": "code",
   "execution_count": 36,
   "id": "59895b2b",
   "metadata": {},
   "outputs": [],
   "source": [
    "import numpy as np\n",
    "import pandas as pd\n",
    "import matplotlib.pyplot as plt\n",
    "import seaborn as sns\n",
    "%matplotlib inline\n",
    "import tensorflow as tf\n",
    "import warnings\n",
    "import math\n",
    "import sys\n",
    "import holidays\n",
    "\n",
    "from sklearn.metrics import roc_curve, auc\n",
    "from sklearn.metrics import roc_auc_score\n",
    "\n",
    "from sklearn import metrics\n",
    "\n",
    "from sklearn.metrics import mean_squared_error,r2_score\n",
    "from sklearn.metrics import mean_absolute_error\n",
    "from sklearn.preprocessing import LabelEncoder, MinMaxScaler\n",
    "from math import sqrt\n",
    "\n",
    "\n",
    "from tensorflow.python.keras.models import Model\n",
    "from tensorflow.python.keras.layers import Dense\n",
    "from sklearn.metrics import mean_squared_error\n",
    "from sklearn.model_selection import train_test_split\n",
    "from sklearn.preprocessing import LabelEncoder\n",
    "from deepctr.models import WDL,xDeepFM\n",
    "from deepctr.feature_column import SparseFeat, DenseFeat,get_feature_names\n",
    "\n"
   ]
  },
  {
   "cell_type": "code",
   "execution_count": 8,
   "id": "c9bdc974",
   "metadata": {},
   "outputs": [
    {
     "data": {
      "text/plain": [
       "(100000, 24)"
      ]
     },
     "execution_count": 8,
     "metadata": {},
     "output_type": "execute_result"
    }
   ],
   "source": [
    "dataframe = pd.read_csv('../train.csv', sep=',', nrows=100000)\n",
    "destinations = pd.read_csv('../destinations.csv', sep=',')\n",
    "dataframe.shape"
   ]
  },
  {
   "cell_type": "code",
   "execution_count": 9,
   "id": "f8863e34",
   "metadata": {},
   "outputs": [],
   "source": [
    "dataframe = dataframe.rename(columns={'hotel_cluster': 'item_id', 'is_booking': 'rating'})"
   ]
  },
  {
   "cell_type": "code",
   "execution_count": 11,
   "id": "6d3a3ee6",
   "metadata": {},
   "outputs": [
    {
     "data": {
      "text/plain": [
       "123"
      ]
     },
     "execution_count": 11,
     "metadata": {},
     "output_type": "execute_result"
    }
   ],
   "source": [
    "len(dataframe['user_location_country'].unique())"
   ]
  },
  {
   "cell_type": "code",
   "execution_count": 14,
   "id": "1e197f4c",
   "metadata": {},
   "outputs": [],
   "source": [
    "info_dic = {'date_time':'Timestamp',\n",
    "'site_name':'ID of the Expedia point of sale (i.e. Expedia.com, Expedia.co.uk, Expedia.co.jp, …)',\n",
    "'posa_continent':'ID of continent associated with site_name',\n",
    "'user_location_country':'The ID of the country the customer is located',\n",
    "'user_location_region':'The ID of the region the customer is located',\n",
    "'user_location_city':'The ID of the city the customer is located',\n",
    "'orig_destination_distance':'Physical distance between a hotel and a customer at the time of search. A null means the distance could not be calculated',\n",
    "'user_id':'ID of user','is_mobile':'1 when a user connected from a mobile device, 0 otherwise',\n",
    "'is_package':'1 if the click/booking was generated as a part of a package (i.e. combined with a flight), 0 otherwise',\n",
    "'channel':'ID of a marketing channel',\n",
    "'srch_ci':'Checkin date','srch_co':'Checkout date',\n",
    "'srch_adults_cnt':'The number of adults specified in the hotel room',\n",
    "'srch_children_cnt':'The number of (extra occupancy) children specified in the hotel room',\n",
    "'srch_rm_cnt':'The number of hotel rooms specified in the search',\n",
    "'srch_destination_id':'ID of the destination where the hotel search was performed',\n",
    "'srch_destination_type_id':'Type of destination',\n",
    "'hotel_continent':'Hotel continent',\n",
    "'hotel_country':'Hotel country',\n",
    "'hotel_market':'Hotel market','rating':'(is_booking)1 if a booking, 0 if a click',\n",
    "'cnt':'Numer of similar events in the context of the same user session','item_id':'(hotel_cluster)ID of a hotel cluster'}"
   ]
  },
  {
   "cell_type": "code",
   "execution_count": 15,
   "id": "2141a0b4",
   "metadata": {},
   "outputs": [
    {
     "data": {
      "text/plain": [
       "('Checkin date', 'Checkout date')"
      ]
     },
     "execution_count": 15,
     "metadata": {},
     "output_type": "execute_result"
    }
   ],
   "source": [
    "info_dic['srch_ci'],info_dic['srch_co']"
   ]
  },
  {
   "cell_type": "code",
   "execution_count": 16,
   "id": "1a3ed46c",
   "metadata": {},
   "outputs": [
    {
     "name": "stdout",
     "output_type": "stream",
     "text": [
      "<class 'pandas.core.frame.DataFrame'>\n",
      "RangeIndex: 100000 entries, 0 to 99999\n",
      "Data columns (total 24 columns):\n",
      " #   Column                     Non-Null Count   Dtype  \n",
      "---  ------                     --------------   -----  \n",
      " 0   date_time                  100000 non-null  object \n",
      " 1   site_name                  100000 non-null  int64  \n",
      " 2   posa_continent             100000 non-null  int64  \n",
      " 3   user_location_country      100000 non-null  int64  \n",
      " 4   user_location_region       100000 non-null  int64  \n",
      " 5   user_location_city         100000 non-null  int64  \n",
      " 6   orig_destination_distance  63078 non-null   float64\n",
      " 7   user_id                    100000 non-null  int64  \n",
      " 8   is_mobile                  100000 non-null  int64  \n",
      " 9   is_package                 100000 non-null  int64  \n",
      " 10  channel                    100000 non-null  int64  \n",
      " 11  srch_ci                    99929 non-null   object \n",
      " 12  srch_co                    99929 non-null   object \n",
      " 13  srch_adults_cnt            100000 non-null  int64  \n",
      " 14  srch_children_cnt          100000 non-null  int64  \n",
      " 15  srch_rm_cnt                100000 non-null  int64  \n",
      " 16  srch_destination_id        100000 non-null  int64  \n",
      " 17  srch_destination_type_id   100000 non-null  int64  \n",
      " 18  rating                     100000 non-null  int64  \n",
      " 19  cnt                        100000 non-null  int64  \n",
      " 20  hotel_continent            100000 non-null  int64  \n",
      " 21  hotel_country              100000 non-null  int64  \n",
      " 22  hotel_market               100000 non-null  int64  \n",
      " 23  item_id                    100000 non-null  int64  \n",
      "dtypes: float64(1), int64(20), object(3)\n",
      "memory usage: 18.3+ MB\n"
     ]
    }
   ],
   "source": [
    "dataframe.info()"
   ]
  },
  {
   "cell_type": "markdown",
   "id": "c230fb59",
   "metadata": {},
   "source": [
    "# Feature Engineering\n"
   ]
  },
  {
   "cell_type": "code",
   "execution_count": 17,
   "id": "1c30b24c",
   "metadata": {},
   "outputs": [],
   "source": [
    "dataframe= dataframe.drop(['orig_destination_distance'],axis=1)\n",
    "dataframe = dataframe.dropna()"
   ]
  },
  {
   "cell_type": "code",
   "execution_count": 18,
   "id": "74554126",
   "metadata": {},
   "outputs": [
    {
     "name": "stdout",
     "output_type": "stream",
     "text": [
      "<class 'pandas.core.frame.DataFrame'>\n",
      "Int64Index: 99929 entries, 0 to 99999\n",
      "Data columns (total 23 columns):\n",
      " #   Column                    Non-Null Count  Dtype \n",
      "---  ------                    --------------  ----- \n",
      " 0   date_time                 99929 non-null  object\n",
      " 1   site_name                 99929 non-null  int64 \n",
      " 2   posa_continent            99929 non-null  int64 \n",
      " 3   user_location_country     99929 non-null  int64 \n",
      " 4   user_location_region      99929 non-null  int64 \n",
      " 5   user_location_city        99929 non-null  int64 \n",
      " 6   user_id                   99929 non-null  int64 \n",
      " 7   is_mobile                 99929 non-null  int64 \n",
      " 8   is_package                99929 non-null  int64 \n",
      " 9   channel                   99929 non-null  int64 \n",
      " 10  srch_ci                   99929 non-null  object\n",
      " 11  srch_co                   99929 non-null  object\n",
      " 12  srch_adults_cnt           99929 non-null  int64 \n",
      " 13  srch_children_cnt         99929 non-null  int64 \n",
      " 14  srch_rm_cnt               99929 non-null  int64 \n",
      " 15  srch_destination_id       99929 non-null  int64 \n",
      " 16  srch_destination_type_id  99929 non-null  int64 \n",
      " 17  rating                    99929 non-null  int64 \n",
      " 18  cnt                       99929 non-null  int64 \n",
      " 19  hotel_continent           99929 non-null  int64 \n",
      " 20  hotel_country             99929 non-null  int64 \n",
      " 21  hotel_market              99929 non-null  int64 \n",
      " 22  item_id                   99929 non-null  int64 \n",
      "dtypes: int64(20), object(3)\n",
      "memory usage: 18.3+ MB\n"
     ]
    }
   ],
   "source": [
    "dataframe.info()"
   ]
  },
  {
   "cell_type": "code",
   "execution_count": 19,
   "id": "d4839611",
   "metadata": {},
   "outputs": [],
   "source": [
    "ca_holidays = holidays.Canada()\n",
    "us_holidays = holidays.UnitedStates()\n",
    "\n",
    "uk_holidays = holidays.UnitedKingdom()\n",
    "gr_holidays = holidays.Germany()"
   ]
  },
  {
   "cell_type": "code",
   "execution_count": 20,
   "id": "553f0491",
   "metadata": {},
   "outputs": [],
   "source": [
    "# check if checkin or checkout date is in holiday of different countries\n",
    "dataframe['north_am_ci'] = dataframe['srch_ci'].apply(lambda x: 1 if x in (us_holidays or ca_holidays)  else 0)\n",
    "dataframe['north_am_co'] = dataframe['srch_co'].apply(lambda x: 1 if x in (us_holidays or ca_holidays)  else 0)\n",
    "\n",
    "dataframe['europe_ci'] = dataframe['srch_ci'].apply(lambda x: 1 if x in (uk_holidays or gr_holidays)  else 0)\n",
    "dataframe['europe_co'] = dataframe['srch_co'].apply(lambda x: 1 if x in (uk_holidays or gr_holidays)  else 0)"
   ]
  },
  {
   "cell_type": "code",
   "execution_count": 22,
   "id": "6ed8dcd0",
   "metadata": {},
   "outputs": [
    {
     "data": {
      "text/html": [
       "<div>\n",
       "<style scoped>\n",
       "    .dataframe tbody tr th:only-of-type {\n",
       "        vertical-align: middle;\n",
       "    }\n",
       "\n",
       "    .dataframe tbody tr th {\n",
       "        vertical-align: top;\n",
       "    }\n",
       "\n",
       "    .dataframe thead th {\n",
       "        text-align: right;\n",
       "    }\n",
       "</style>\n",
       "<table border=\"1\" class=\"dataframe\">\n",
       "  <thead>\n",
       "    <tr style=\"text-align: right;\">\n",
       "      <th></th>\n",
       "      <th>date_time</th>\n",
       "      <th>site_name</th>\n",
       "      <th>posa_continent</th>\n",
       "      <th>user_location_country</th>\n",
       "      <th>user_location_region</th>\n",
       "      <th>user_location_city</th>\n",
       "      <th>user_id</th>\n",
       "      <th>is_mobile</th>\n",
       "      <th>is_package</th>\n",
       "      <th>channel</th>\n",
       "      <th>...</th>\n",
       "      <th>rating</th>\n",
       "      <th>cnt</th>\n",
       "      <th>hotel_continent</th>\n",
       "      <th>hotel_country</th>\n",
       "      <th>hotel_market</th>\n",
       "      <th>item_id</th>\n",
       "      <th>north_am_ci</th>\n",
       "      <th>north_am_co</th>\n",
       "      <th>europe_ci</th>\n",
       "      <th>europe_co</th>\n",
       "    </tr>\n",
       "  </thead>\n",
       "  <tbody>\n",
       "    <tr>\n",
       "      <th>0</th>\n",
       "      <td>2014-08-11 07:46:59</td>\n",
       "      <td>2</td>\n",
       "      <td>3</td>\n",
       "      <td>66</td>\n",
       "      <td>348</td>\n",
       "      <td>48862</td>\n",
       "      <td>12</td>\n",
       "      <td>0</td>\n",
       "      <td>1</td>\n",
       "      <td>9</td>\n",
       "      <td>...</td>\n",
       "      <td>0</td>\n",
       "      <td>3</td>\n",
       "      <td>2</td>\n",
       "      <td>50</td>\n",
       "      <td>628</td>\n",
       "      <td>1</td>\n",
       "      <td>0</td>\n",
       "      <td>0</td>\n",
       "      <td>0</td>\n",
       "      <td>0</td>\n",
       "    </tr>\n",
       "    <tr>\n",
       "      <th>1</th>\n",
       "      <td>2014-08-11 08:22:12</td>\n",
       "      <td>2</td>\n",
       "      <td>3</td>\n",
       "      <td>66</td>\n",
       "      <td>348</td>\n",
       "      <td>48862</td>\n",
       "      <td>12</td>\n",
       "      <td>0</td>\n",
       "      <td>1</td>\n",
       "      <td>9</td>\n",
       "      <td>...</td>\n",
       "      <td>1</td>\n",
       "      <td>1</td>\n",
       "      <td>2</td>\n",
       "      <td>50</td>\n",
       "      <td>628</td>\n",
       "      <td>1</td>\n",
       "      <td>0</td>\n",
       "      <td>0</td>\n",
       "      <td>0</td>\n",
       "      <td>0</td>\n",
       "    </tr>\n",
       "  </tbody>\n",
       "</table>\n",
       "<p>2 rows × 27 columns</p>\n",
       "</div>"
      ],
      "text/plain": [
       "             date_time  site_name  posa_continent  user_location_country  \\\n",
       "0  2014-08-11 07:46:59          2               3                     66   \n",
       "1  2014-08-11 08:22:12          2               3                     66   \n",
       "\n",
       "   user_location_region  user_location_city  user_id  is_mobile  is_package  \\\n",
       "0                   348               48862       12          0           1   \n",
       "1                   348               48862       12          0           1   \n",
       "\n",
       "   channel  ... rating cnt  hotel_continent  hotel_country  hotel_market  \\\n",
       "0        9  ...      0   3                2             50           628   \n",
       "1        9  ...      1   1                2             50           628   \n",
       "\n",
       "   item_id  north_am_ci  north_am_co  europe_ci  europe_co  \n",
       "0        1            0            0          0          0  \n",
       "1        1            0            0          0          0  \n",
       "\n",
       "[2 rows x 27 columns]"
      ]
     },
     "execution_count": 22,
     "metadata": {},
     "output_type": "execute_result"
    }
   ],
   "source": [
    "dataframe.head(n=2)"
   ]
  },
  {
   "cell_type": "code",
   "execution_count": 24,
   "id": "3d005092",
   "metadata": {},
   "outputs": [],
   "source": [
    "# extract month from date_time\n",
    "dataframe['click_month'] = pd.DatetimeIndex(dataframe['date_time']).month\n",
    "dataframe['checkin_month'] = pd.DatetimeIndex(dataframe['srch_ci']).month\n",
    "dataframe['checkout_month'] = pd.DatetimeIndex(dataframe['srch_co']).month"
   ]
  },
  {
   "cell_type": "code",
   "execution_count": 25,
   "id": "25f33cbd",
   "metadata": {},
   "outputs": [],
   "source": [
    "dataframe= dataframe.drop(['date_time'],axis=1)\n",
    "dataframe= dataframe.drop(['srch_ci'],axis=1)\n",
    "dataframe= dataframe.drop(['srch_co'],axis=1)"
   ]
  },
  {
   "cell_type": "code",
   "execution_count": 26,
   "id": "33add55d",
   "metadata": {},
   "outputs": [
    {
     "data": {
      "text/plain": [
       "(99929, 27)"
      ]
     },
     "execution_count": 26,
     "metadata": {},
     "output_type": "execute_result"
    }
   ],
   "source": [
    "dataframe.shape"
   ]
  },
  {
   "cell_type": "code",
   "execution_count": 27,
   "id": "5e56e0cb",
   "metadata": {},
   "outputs": [
    {
     "data": {
      "text/plain": [
       "Index(['site_name', 'posa_continent', 'user_location_country',\n",
       "       'user_location_region', 'user_location_city', 'user_id', 'is_mobile',\n",
       "       'is_package', 'channel', 'srch_adults_cnt', 'srch_children_cnt',\n",
       "       'srch_rm_cnt', 'srch_destination_id', 'srch_destination_type_id',\n",
       "       'rating', 'cnt', 'hotel_continent', 'hotel_country', 'hotel_market',\n",
       "       'item_id', 'north_am_ci', 'north_am_co', 'europe_ci', 'europe_co',\n",
       "       'click_month', 'checkin_month', 'checkout_month'],\n",
       "      dtype='object')"
      ]
     },
     "execution_count": 27,
     "metadata": {},
     "output_type": "execute_result"
    }
   ],
   "source": [
    "dataframe.columns"
   ]
  },
  {
   "cell_type": "code",
   "execution_count": 28,
   "id": "bd9267bd",
   "metadata": {},
   "outputs": [],
   "source": [
    "# categ_sparse / conti_dense\n",
    "sparse_features = ['site_name','posa_continent','user_location_country','user_location_region','user_location_city',\n",
    "             'user_id','is_mobile','is_package','channel','click_month','checkin_month','checkout_month',\n",
    "            'srch_adults_cnt','srch_children_cnt','srch_rm_cnt','srch_destination_id','hotel_continent',\n",
    "               'hotel_country','cnt','north_am_ci', 'north_am_co', 'europe_ci', 'europe_co','click_month',\n",
    "                   'checkin_month','checkout_month']\n",
    "\n",
    "dense_features = ['hotel_market']\n",
    "target = ['rating']"
   ]
  },
  {
   "cell_type": "markdown",
   "id": "7800e953",
   "metadata": {},
   "source": [
    "## Label Encoding for Sparse Features and Normalization For Dense Features\n"
   ]
  },
  {
   "cell_type": "code",
   "execution_count": 29,
   "id": "20713651",
   "metadata": {},
   "outputs": [],
   "source": [
    "# Label Encoding for sparse features,and normalization for dense numerical features\n",
    "for feat in sparse_features:\n",
    "    lbe = LabelEncoder()\n",
    "    dataframe[feat] = lbe.fit_transform(dataframe[feat])"
   ]
  },
  {
   "cell_type": "code",
   "execution_count": 30,
   "id": "173c8e08",
   "metadata": {},
   "outputs": [],
   "source": [
    "mms = MinMaxScaler(feature_range=(0,1))\n",
    "dataframe[dense_features] = mms.fit_transform(dataframe[dense_features])"
   ]
  },
  {
   "cell_type": "markdown",
   "id": "7255da40",
   "metadata": {},
   "source": [
    "### Generate feature columns\n",
    "For sparse features, we transform them into dense vectors by embedding techniques. For dense numerical features, we concatenate them to the input tensors of fully connected layer."
   ]
  },
  {
   "cell_type": "code",
   "execution_count": 31,
   "id": "64f699ba",
   "metadata": {},
   "outputs": [
    {
     "name": "stdout",
     "output_type": "stream",
     "text": [
      "WARNING:tensorflow:From C:\\Users\\chskr\\anaconda3\\envs\\deepxm\\lib\\site-packages\\tensorflow_core\\python\\keras\\initializers.py:143: calling RandomNormal.__init__ (from tensorflow.python.ops.init_ops) with dtype is deprecated and will be removed in a future version.\n",
      "Instructions for updating:\n",
      "Call initializer instance with the dtype argument instead of passing it to the constructor\n"
     ]
    }
   ],
   "source": [
    "# count #unique features for each sparse field\n",
    "fixlen_feature_columns = [SparseFeat(feat, dataframe[feat].nunique(),embedding_dim=4)\n",
    "                          for feat in sparse_features]\n",
    "linear_feature_columns = fixlen_feature_columns\n",
    "dnn_feature_columns = fixlen_feature_columns\n",
    "feature_names = get_feature_names(linear_feature_columns + dnn_feature_columns)"
   ]
  },
  {
   "cell_type": "code",
   "execution_count": 32,
   "id": "829f5cb8",
   "metadata": {},
   "outputs": [],
   "source": [
    "# generate input data for model\n",
    "train, test = train_test_split(dataframe, test_size=0.2)\n",
    "train_model_input = {name:train[name].values for name in feature_names}\n",
    "test_model_input = {name:test[name].values for name in feature_names}"
   ]
  },
  {
   "cell_type": "markdown",
   "id": "9625958a",
   "metadata": {},
   "source": [
    "### MOdel before Hyper paramter Tuning"
   ]
  },
  {
   "cell_type": "code",
   "execution_count": 37,
   "id": "0c719ae3",
   "metadata": {},
   "outputs": [
    {
     "name": "stdout",
     "output_type": "stream",
     "text": [
      "WARNING:tensorflow:From C:\\Users\\chskr\\anaconda3\\envs\\deepxm\\lib\\site-packages\\tensorflow_core\\python\\ops\\resource_variable_ops.py:1630: calling BaseResourceVariable.__init__ (from tensorflow.python.ops.resource_variable_ops) with constraint is deprecated and will be removed in a future version.\n",
      "Instructions for updating:\n",
      "If using Keras pass *_constraint arguments to layers.\n",
      "WARNING:tensorflow:From C:\\Users\\chskr\\anaconda3\\envs\\deepxm\\lib\\site-packages\\deepctr\\layers\\utils.py:214: calling reduce_sum_v1 (from tensorflow.python.ops.math_ops) with keep_dims is deprecated and will be removed in a future version.\n",
      "Instructions for updating:\n",
      "keep_dims is deprecated, use keepdims instead\n",
      "WARNING:tensorflow:From C:\\Users\\chskr\\anaconda3\\envs\\deepxm\\lib\\site-packages\\tensorflow_core\\python\\ops\\math_grad.py:1424: where (from tensorflow.python.ops.array_ops) is deprecated and will be removed in a future version.\n",
      "Instructions for updating:\n",
      "Use tf.where in 2.0, which has the same broadcast rule as np.where\n",
      "Train on 63954 samples, validate on 15989 samples\n",
      "Epoch 1/10\n",
      "63954/63954 - 22s - loss: 0.2733 - binary_crossentropy: 0.2731 - val_loss: 0.2487 - val_binary_crossentropy: 0.2483\n",
      "Epoch 2/10\n",
      "63954/63954 - 18s - loss: 0.2229 - binary_crossentropy: 0.2221 - val_loss: 0.2652 - val_binary_crossentropy: 0.2641\n",
      "Epoch 3/10\n",
      "63954/63954 - 19s - loss: 0.2078 - binary_crossentropy: 0.2065 - val_loss: 0.2876 - val_binary_crossentropy: 0.2859\n",
      "Epoch 4/10\n",
      "63954/63954 - 19s - loss: 0.1993 - binary_crossentropy: 0.1975 - val_loss: 0.2982 - val_binary_crossentropy: 0.2961\n",
      "Epoch 5/10\n",
      "63954/63954 - 18s - loss: 0.1927 - binary_crossentropy: 0.1905 - val_loss: 0.3111 - val_binary_crossentropy: 0.3086\n",
      "Epoch 6/10\n",
      "63954/63954 - 19s - loss: 0.1885 - binary_crossentropy: 0.1860 - val_loss: 0.3289 - val_binary_crossentropy: 0.3261\n",
      "Epoch 7/10\n",
      "63954/63954 - 19s - loss: 0.1848 - binary_crossentropy: 0.1819 - val_loss: 0.3190 - val_binary_crossentropy: 0.3160\n",
      "Epoch 8/10\n",
      "63954/63954 - 19s - loss: 0.1802 - binary_crossentropy: 0.1771 - val_loss: 0.3483 - val_binary_crossentropy: 0.3451\n",
      "Epoch 9/10\n",
      "63954/63954 - 18s - loss: 0.1763 - binary_crossentropy: 0.1730 - val_loss: 0.3822 - val_binary_crossentropy: 0.3788\n",
      "Epoch 10/10\n",
      "63954/63954 - 18s - loss: 0.1726 - binary_crossentropy: 0.1692 - val_loss: 0.3989 - val_binary_crossentropy: 0.3955\n"
     ]
    }
   ],
   "source": [
    "model = xDeepFM(linear_feature_columns,dnn_feature_columns,task='binary')\n",
    "model.compile(\"adam\", \"binary_crossentropy\",metrics=['binary_crossentropy'])\n",
    "\n",
    "history = model.fit(train_model_input, train[target].values,\n",
    "                    batch_size=256, epochs=10, verbose=2, validation_split=0.2, )\n",
    "pred_ans = model.predict(test_model_input, batch_size=256)"
   ]
  },
  {
   "cell_type": "code",
   "execution_count": 38,
   "id": "5dee1dc5",
   "metadata": {},
   "outputs": [
    {
     "name": "stdout",
     "output_type": "stream",
     "text": [
      "RMSE:\t0.294000\n",
      "MAE:\t0.146000\n",
      "MSE:\t0.087000\n",
      "AUC:\t0.705000\n"
     ]
    }
   ],
   "source": [
    "auc = roc_auc_score(test[target].values, pred_ans)\n",
    "\n",
    "print(\"RMSE:\\t%f\" % np.round(math.sqrt(mean_squared_error(test[target].values, pred_ans)),3),\n",
    "      \"MAE:\\t%f\" % np.round(mean_absolute_error(test[target].values, pred_ans),3),\n",
    "      \"MSE:\\t%f\" % np.round(mean_squared_error(test[target].values, pred_ans),3),\n",
    "      \"AUC:\\t%f\" % np.round(auc,3),\n",
    "      sep='\\n')"
   ]
  },
  {
   "cell_type": "markdown",
   "id": "c28f78f3",
   "metadata": {},
   "source": [
    "### To get best parameters \n"
   ]
  },
  {
   "cell_type": "code",
   "execution_count": 39,
   "id": "a37e7d3d",
   "metadata": {},
   "outputs": [],
   "source": [
    "param_rand = {'dnn_hidden_units' : [(1,1),(2,2),(4,4),(8,8),(29,29),(128,128),(256,256)],\n",
    "              'cin_layer_size':[(1,1),(2,2),(4,4),(8,8),(32,32),(128,128)],\n",
    "              'cin_split_half':[True,False],\n",
    "              'dnn_use_bn':[True,False],\n",
    "              'l2_reg_cin':[1e-7,1e-5,1e-3,1e-1,1],\n",
    "              'l2_reg_linear':[1e-5,1e-3,1e-1,1,10],\n",
    "              'l2_reg_embedding':[1e-7,1e-5,1e-3,1e-1,1],\n",
    "              'l2_reg_dnn':[0,0.2,2,4],\n",
    "              'dnn_dropout':[0, 0.3, 0.5, 0.7, 0.9]\n",
    "             }\n",
    "result = {}"
   ]
  },
  {
   "cell_type": "markdown",
   "id": "0e1e8826",
   "metadata": {},
   "source": [
    "### To find the best parameter for DNN_Hidden_Unit"
   ]
  },
  {
   "cell_type": "code",
   "execution_count": null,
   "id": "c349782f",
   "metadata": {},
   "outputs": [
    {
     "name": "stdout",
     "output_type": "stream",
     "text": [
      "Train on 63954 samples, validate on 15989 samples\n",
      "Epoch 1/10\n",
      "63954/63954 - 22s - loss: 0.0813 - mean_squared_error: 0.0811 - val_loss: 0.0709 - val_mean_squared_error: 0.0705\n",
      "Epoch 2/10\n",
      "63954/63954 - 19s - loss: 0.0666 - mean_squared_error: 0.0660 - val_loss: 0.0725 - val_mean_squared_error: 0.0717\n",
      "Epoch 3/10\n",
      "63954/63954 - 19s - loss: 0.0633 - mean_squared_error: 0.0624 - val_loss: 0.0771 - val_mean_squared_error: 0.0761\n",
      "Epoch 4/10\n",
      "63954/63954 - 19s - loss: 0.0611 - mean_squared_error: 0.0599 - val_loss: 0.0790 - val_mean_squared_error: 0.0778\n",
      "Epoch 5/10\n",
      "63954/63954 - 19s - loss: 0.0594 - mean_squared_error: 0.0581 - val_loss: 0.0814 - val_mean_squared_error: 0.0801\n",
      "Epoch 6/10\n",
      "63954/63954 - 20s - loss: 0.0579 - mean_squared_error: 0.0565 - val_loss: 0.0808 - val_mean_squared_error: 0.0794\n",
      "Epoch 7/10\n",
      "63954/63954 - 20s - loss: 0.0567 - mean_squared_error: 0.0553 - val_loss: 0.0835 - val_mean_squared_error: 0.0821\n",
      "Epoch 8/10\n",
      "63954/63954 - 20s - loss: 0.0557 - mean_squared_error: 0.0543 - val_loss: 0.0847 - val_mean_squared_error: 0.0832\n",
      "Epoch 9/10\n",
      "63954/63954 - 20s - loss: 0.0548 - mean_squared_error: 0.0533 - val_loss: 0.0883 - val_mean_squared_error: 0.0868\n",
      "Epoch 10/10\n",
      "63954/63954 - 20s - loss: 0.0541 - mean_squared_error: 0.0526 - val_loss: 0.0870 - val_mean_squared_error: 0.0854\n",
      "Train on 63954 samples, validate on 15989 samples\n",
      "Epoch 1/10\n",
      "63954/63954 - 25s - loss: 0.0811 - mean_squared_error: 0.0810 - val_loss: 0.0709 - val_mean_squared_error: 0.0705\n",
      "Epoch 2/10\n",
      "63954/63954 - 19s - loss: 0.0669 - mean_squared_error: 0.0663 - val_loss: 0.0725 - val_mean_squared_error: 0.0717\n",
      "Epoch 3/10\n",
      "63954/63954 - 19s - loss: 0.0635 - mean_squared_error: 0.0627 - val_loss: 0.0742 - val_mean_squared_error: 0.0732\n",
      "Epoch 4/10\n",
      "63954/63954 - 19s - loss: 0.0611 - mean_squared_error: 0.0601 - val_loss: 0.0770 - val_mean_squared_error: 0.0759\n",
      "Epoch 5/10\n",
      "63954/63954 - 20s - loss: 0.0594 - mean_squared_error: 0.0582 - val_loss: 0.0814 - val_mean_squared_error: 0.0801\n",
      "Epoch 6/10\n",
      "63954/63954 - 20s - loss: 0.0577 - mean_squared_error: 0.0564 - val_loss: 0.0817 - val_mean_squared_error: 0.0803\n",
      "Epoch 7/10\n",
      "63954/63954 - 20s - loss: 0.0563 - mean_squared_error: 0.0548 - val_loss: 0.0845 - val_mean_squared_error: 0.0831\n",
      "Epoch 8/10\n",
      "63954/63954 - 20s - loss: 0.0548 - mean_squared_error: 0.0534 - val_loss: 0.0862 - val_mean_squared_error: 0.0847\n",
      "Epoch 9/10\n",
      "63954/63954 - 19s - loss: 0.0538 - mean_squared_error: 0.0523 - val_loss: 0.0870 - val_mean_squared_error: 0.0855\n",
      "Epoch 10/10\n",
      "63954/63954 - 18s - loss: 0.0528 - mean_squared_error: 0.0512 - val_loss: 0.0877 - val_mean_squared_error: 0.0862\n",
      "Train on 63954 samples, validate on 15989 samples\n",
      "Epoch 1/10\n",
      "63954/63954 - 24s - loss: 0.0816 - mean_squared_error: 0.0815 - val_loss: 0.0713 - val_mean_squared_error: 0.0710\n",
      "Epoch 2/10\n",
      "63954/63954 - 19s - loss: 0.0670 - mean_squared_error: 0.0665 - val_loss: 0.0728 - val_mean_squared_error: 0.0721\n",
      "Epoch 3/10\n",
      "63954/63954 - 20s - loss: 0.0631 - mean_squared_error: 0.0623 - val_loss: 0.0752 - val_mean_squared_error: 0.0743\n",
      "Epoch 4/10\n",
      "63954/63954 - 19s - loss: 0.0604 - mean_squared_error: 0.0593 - val_loss: 0.0778 - val_mean_squared_error: 0.0767\n",
      "Epoch 5/10\n",
      "63954/63954 - 20s - loss: 0.0583 - mean_squared_error: 0.0571 - val_loss: 0.0811 - val_mean_squared_error: 0.0798\n",
      "Epoch 6/10\n",
      "63954/63954 - 20s - loss: 0.0565 - mean_squared_error: 0.0553 - val_loss: 0.0833 - val_mean_squared_error: 0.0820\n",
      "Epoch 7/10\n"
     ]
    }
   ],
   "source": [
    "dnn_hidden_units_dict = {}\n",
    "for i in param_rand['dnn_hidden_units']:\n",
    "    model = xDeepFM(linear_feature_columns,dnn_feature_columns, dnn_hidden_units=i, \n",
    "              seed=1024,task='binary')\n",
    "    model.compile(\"adam\", \"mse\", metrics=['mse'])\n",
    "\n",
    "    history = model.fit(train_model_input, train[target].values,\n",
    "                            batch_size=256, epochs=10, verbose=2, validation_split=0.2, )\n",
    "    pred_ans = model.predict(test_model_input, batch_size=256)\n",
    "    \n",
    "    auc = roc_auc_score(test[target].values, pred_ans)\n",
    "    dnn_hidden_units_dict[i]={\"RMSE\": np.round(math.sqrt(mean_squared_error(test[target].values, pred_ans)),3),\n",
    "      \"MAE\" : np.round(mean_absolute_error(test[target].values, pred_ans),3),\n",
    "      \"MSE\" : np.round(mean_squared_error(test[target].values, pred_ans),3),\n",
    "      \"AUC\" : np.round(auc,3)}\n",
    "result['dnn_hidden_units']=dnn_hidden_units_dict"
   ]
  }
 ],
 "metadata": {
  "kernelspec": {
   "display_name": "Python 3",
   "language": "python",
   "name": "python3"
  },
  "language_info": {
   "codemirror_mode": {
    "name": "ipython",
    "version": 3
   },
   "file_extension": ".py",
   "mimetype": "text/x-python",
   "name": "python",
   "nbconvert_exporter": "python",
   "pygments_lexer": "ipython3",
   "version": "3.6.13"
  }
 },
 "nbformat": 4,
 "nbformat_minor": 5
}
